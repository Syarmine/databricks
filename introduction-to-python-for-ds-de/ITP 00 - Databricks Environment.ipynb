{
 "cells": [
  {
   "cell_type": "markdown",
   "metadata": {
    "application/vnd.databricks.v1+cell": {
     "cellMetadata": {},
     "inputWidgets": {},
     "nuid": "8e680fef-80c9-4bf9-a8d4-d2f2eb94debc",
     "showTitle": false,
     "title": ""
    }
   },
   "source": [
    "\n",
    "<div style=\"text-align: center; line-height: 0; padding-top: 9px;\">\n",
    "  <img src=\"https://databricks.com/wp-content/uploads/2018/03/db-academy-rgb-1200px.png\" alt=\"Databricks Learning\" style=\"width: 600px\">\n",
    "</div>"
   ]
  },
  {
   "cell_type": "markdown",
   "metadata": {
    "application/vnd.databricks.v1+cell": {
     "cellMetadata": {},
     "inputWidgets": {},
     "nuid": "60db1dd8-312c-4490-8efe-7581f4b11ea0",
     "showTitle": false,
     "title": "--i18n-7eb653c9-12ee-4cf3-b03a-aed5f21fbdf9"
    }
   },
   "source": [
    "\n",
    "\n",
    "# The Databricks Environment\n",
    "\n",
    "## ![Spark Logo Tiny](https://files.training.databricks.com/images/105/logo_spark_tiny.png) In this lesson you:<br>\n",
    "* Use Databricks to: \n",
    "  * Create a cluster\n",
    "  * Run code in a notebook\n",
    "  * Export notebooks\n",
    "\n",
    "  \n",
    "References:\n",
    "* Databricks documentation on <a href=\"https://docs.databricks.com/\" target=\"_blank\">AWS</a>, <a href=\"https://docs.microsoft.com/en-us/azure/databricks/\" target=\"_blank\">Azure</a>, and <a href=\"https://docs.gcp.databricks.com/\" target=\"_blank\">GCP</a>"
   ]
  },
  {
   "cell_type": "markdown",
   "metadata": {
    "application/vnd.databricks.v1+cell": {
     "cellMetadata": {},
     "inputWidgets": {},
     "nuid": "d8d99300-bb2c-4886-899c-3dba804bb873",
     "showTitle": false,
     "title": "--i18n-0bcfecf1-eb62-41a9-b095-6afa1cc6f92b"
    }
   },
   "source": [
    "\n",
    "\n",
    "## Create a Cluster\n",
    "\n",
    "Before we can run any code, we have to set up a cluster (a cluster is what will execute the code). \n",
    "\n",
    "1. Click the **Compute** Tab in the lef sidebar.\n",
    "1. Click the **Create compute** button.\n",
    "1. *(optional)* Edit the name of the cluster.\n",
    "1. Configure the following settings:\n",
    "   * Select **Single node**.\n",
    "   * Set **Access mode** to **Single user**. Leave **Single user access** as the default (your user id).\n",
    "   * Set **Databricks runtime version** to **13.3 LTS**.\n",
    "1. Click **Create compute**.\n",
    "\n",
    "Now we can return to the notebook and attach it to the cluster we just created."
   ]
  },
  {
   "cell_type": "markdown",
   "metadata": {
    "application/vnd.databricks.v1+cell": {
     "cellMetadata": {},
     "inputWidgets": {},
     "nuid": "34191a54-d968-4c0f-86f8-9687880c5aed",
     "showTitle": false,
     "title": "--i18n-fee29257-b1d9-49e6-a74f-53e1afc5bf29"
    }
   },
   "source": [
    "\n",
    "\n",
    "## Run code\n",
    "\n",
    "* Each notebook specifies a default language, in this case **Python**.\n",
    "* Run the cell below using one of the following options:\n",
    "  * **CTRL+ENTER** or **CMD+RETURN**\n",
    "  * **SHIFT+ENTER** or **SHIFT+RETURN** to run the cell and move to the next one\n",
    "  * Using **Run Cell**, **Run All Above** or **Run All Below** as seen here<br/><img style=\"box-shadow: 5px 5px 5px 0px rgba(0,0,0,0.25); border: 1px solid rgba(0,0,0,0.25);\" src=\"https://files.training.databricks.com/images/notebook-cell-run-cmd.png\"/>\n",
    "\n",
    "Feel free to tweak the code below if you like:"
   ]
  },
  {
   "cell_type": "code",
   "execution_count": 0,
   "metadata": {
    "application/vnd.databricks.v1+cell": {
     "cellMetadata": {},
     "inputWidgets": {},
     "nuid": "21fc3160-ca50-4440-9a5c-a26b1010b4fb",
     "showTitle": false,
     "title": ""
    }
   },
   "outputs": [],
   "source": [
    "print(\"I'm running Python!\")"
   ]
  },
  {
   "cell_type": "markdown",
   "metadata": {
    "application/vnd.databricks.v1+cell": {
     "cellMetadata": {},
     "inputWidgets": {},
     "nuid": "6d23f994-3693-4029-ad2b-648bfe9d7458",
     "showTitle": false,
     "title": "--i18n-0341b4d6-fc23-4ef9-a846-5aab78d85112"
    }
   },
   "source": [
    "\n",
    "\n",
    "### Magic Command: &percnt;md\n",
    "\n",
    "Our favorite Magic Command **&percnt;md** allows us to render Markdown in a cell:\n",
    "* Double click this cell to begin editing it\n",
    "* Then press the **`Esc`** key to stop editing\n",
    "\n",
    "# Title One\n",
    "## Title Two\n",
    "### Title Three\n",
    "\n",
    "This is a test of the emergency broadcast system. This is only a test.\n",
    "\n",
    "This is text with a **bold** word in it.\n",
    "\n",
    "This is text with an *italicized* word in it.\n",
    "\n",
    "This is an ordered list\n",
    "\n",
    "0. once\n",
    "0. two\n",
    "0. three\n",
    "\n",
    "This is an unordered list\n",
    "\n",
    "* apples\n",
    "* peaches\n",
    "* bananas\n",
    "\n",
    "Links/Embedded HTML: <a href=\"http://bfy.tw/19zq\" target=\"_blank\">What is Markdown?</a>\n",
    "\n",
    "Images:  \n",
    "![Spark Engines](https://files.training.databricks.com/images/Apache-Spark-Logo_TM_200px.png)\n",
    "\n",
    "And of course, tables:\n",
    "\n",
    "| Name  | Age | Breed    |\n",
    "|-------|-----|--------|\n",
    "| Buddy   | 2  | Golden Retriever   |\n",
    "| Bingo  | 10  | Border Collie |\n",
    "| Momo  | 3  | Lab   |"
   ]
  },
  {
   "cell_type": "markdown",
   "metadata": {
    "application/vnd.databricks.v1+cell": {
     "cellMetadata": {},
     "inputWidgets": {},
     "nuid": "63a72dbe-12b6-4575-a9cc-bd08f0ec4621",
     "showTitle": false,
     "title": "--i18n-58b85c79-1640-47a8-90c2-325a2bd2e265"
    }
   },
   "source": [
    "\n",
    "\n",
    "## Learning More\n",
    "\n",
    "We like to encourage you to explore the documentation to learn more about the various features of the Databricks Data Intelligence platform and notebooks.\n",
    "* <a href=\"https://docs.databricks.com/user-guide/index.html\" target=\"_blank\">User Guide</a>\n",
    "* <a href=\"https://docs.databricks.com/user-guide/notebooks/index.html\" target=\"_blank\">User Guide / Notebooks</a>\n",
    "* <a href=\"https://docs.databricks.com/administration-guide/index.html\" target=\"_blank\">Administration Guide</a>\n",
    "* <a href=\"https://docs.databricks.com/release-notes/index.html\" target=\"_blank\">Release Notes</a>\n",
    "* <a href=\"https://docs.databricks.com/\" target=\"_blank\">And much more!</a>"
   ]
  },
  {
   "cell_type": "markdown",
   "metadata": {
    "application/vnd.databricks.v1+cell": {
     "cellMetadata": {},
     "inputWidgets": {},
     "nuid": "3dbd0677-0e2f-4300-bcb8-8ab094280a1d",
     "showTitle": false,
     "title": ""
    }
   },
   "source": [
    "&copy; 2023 Databricks, Inc. All rights reserved.<br/>\n",
    "Apache, Apache Spark, Spark and the Spark logo are trademarks of the <a href=\"https://www.apache.org/\">Apache Software Foundation</a>.<br/>\n",
    "<br/>\n",
    "<a href=\"https://databricks.com/privacy-policy\">Privacy Policy</a> | <a href=\"https://databricks.com/terms-of-use\">Terms of Use</a> | <a href=\"https://help.databricks.com/\">Support</a>"
   ]
  }
 ],
 "metadata": {
  "application/vnd.databricks.v1+notebook": {
   "dashboards": [],
   "environmentMetadata": null,
   "language": "python",
   "notebookMetadata": {
    "pythonIndentUnit": 2
   },
   "notebookName": "ITP 00 - Databricks Environment",
   "widgets": {}
  }
 },
 "nbformat": 4,
 "nbformat_minor": 0
}

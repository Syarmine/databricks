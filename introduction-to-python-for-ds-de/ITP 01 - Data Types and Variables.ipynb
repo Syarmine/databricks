{
 "cells": [
  {
   "cell_type": "markdown",
   "metadata": {
    "application/vnd.databricks.v1+cell": {
     "cellMetadata": {},
     "inputWidgets": {},
     "nuid": "fac76eef-3ce9-4236-86aa-01ea3078fdf8",
     "showTitle": false,
     "title": ""
    }
   },
   "source": [
    "\n",
    "<div style=\"text-align: center; line-height: 0; padding-top: 9px;\">\n",
    "  <img src=\"https://databricks.com/wp-content/uploads/2018/03/db-academy-rgb-1200px.png\" alt=\"Databricks Learning\" style=\"width: 600px\">\n",
    "</div>"
   ]
  },
  {
   "cell_type": "markdown",
   "metadata": {
    "application/vnd.databricks.v1+cell": {
     "cellMetadata": {},
     "inputWidgets": {},
     "nuid": "5cc3dd01-f3e0-4322-9cca-0f0f241e2b7d",
     "showTitle": false,
     "title": "--i18n-266e48b3-da9c-4871-bff6-de6a20af9379"
    }
   },
   "source": [
    "\n",
    "\n",
    "# Data Types and Variables\n",
    "\n",
    "## ![Spark Logo Tiny](https://files.training.databricks.com/images/105/logo_spark_tiny.png) In this lesson you:<br>\n",
    "\n",
    "- Explore fundamental concepts in Python, such as: \n",
    "    * Data types\n",
    "    * Variables\n",
    "    * Print values\n",
    "   \n",
    "Recommended Resources:\n",
    "* <a href=\"https://www.amazon.com/gp/product/1491957662/ref=as_li_qf_asin_il_tl?ie=UTF8&tag=quantpytho-20&creative=9325&linkCode=as2&creativeASIN=1491957662&linkId=ea8de4253cce96046e8ab0383ac71b33\" target=\"_blank\">Python for Data Analysis by Wes McKinney</a>\n",
    "* <a href=\"https://www.pythoncheatsheet.org/\" target=\"_blank\">Python reference sheet</a>\n",
    "* <a href=\"https://docs.python.org/3/tutorial/\" target=\"_blank\">Python official tutorial</a>\n",
    "\n",
    "Documentation to help with <a href=\"https://forums.databricks.com/static/markdown/help.html\" target=\"_blank\">markdown cells</a>."
   ]
  },
  {
   "cell_type": "markdown",
   "metadata": {
    "application/vnd.databricks.v1+cell": {
     "cellMetadata": {},
     "inputWidgets": {},
     "nuid": "8ddb714b-fcc2-484c-933d-f24512aa9a38",
     "showTitle": false,
     "title": "--i18n-ea37c4fe-4a41-4348-95b7-356b6516ab19"
    }
   },
   "source": [
    "\n",
    "\n",
    "### Calculation\n",
    "\n",
    "To get started, let's use Python to calculate some mathematical expressions. Can you guess what this will evaluate to?"
   ]
  },
  {
   "cell_type": "code",
   "execution_count": 0,
   "metadata": {
    "application/vnd.databricks.v1+cell": {
     "cellMetadata": {},
     "inputWidgets": {},
     "nuid": "0a17f4bd-4946-40b2-ae99-6ca6772740ae",
     "showTitle": false,
     "title": ""
    }
   },
   "outputs": [],
   "source": [
    "1+1 "
   ]
  },
  {
   "cell_type": "markdown",
   "metadata": {
    "application/vnd.databricks.v1+cell": {
     "cellMetadata": {},
     "inputWidgets": {},
     "nuid": "1091de09-4dd5-440d-ba6f-9813a54ba6bc",
     "showTitle": false,
     "title": "--i18n-ffaf9e58-9e73-4788-9ee9-bc72b7947bef"
    }
   },
   "source": [
    "\n",
    "\n",
    "### Comments\n",
    "\n",
    "In addition to markdown cells, we can annotate our code through [comments](https://www.w3schools.com/python/python_comments.asp). Comments are optional, but can help explain a line of code in context. They are not executed.\n",
    "\n",
    "In Python, **`#`** is a reserved keyword to represent a comment. Any characters following it on the line are treated as part of the comment.\n",
    "\n",
    "<img src=\"https://files.training.databricks.com/images/icon_hint_24.png\" alt=\"Hint:\"> If you have lines of code selected in a notebook cell, you can press `ctrl + /` you to comment or uncomment that block of code. Try adding your own comments below."
   ]
  },
  {
   "cell_type": "code",
   "execution_count": 0,
   "metadata": {
    "application/vnd.databricks.v1+cell": {
     "cellMetadata": {},
     "inputWidgets": {},
     "nuid": "694a72d7-622d-433d-abdc-d801b0164ee3",
     "showTitle": false,
     "title": ""
    }
   },
   "outputs": [],
   "source": [
    "# This is our first line of Python code!\n",
    "1+1 "
   ]
  },
  {
   "cell_type": "markdown",
   "metadata": {
    "application/vnd.databricks.v1+cell": {
     "cellMetadata": {},
     "inputWidgets": {},
     "nuid": "de8c84f9-ee65-447c-a989-6353617699f1",
     "showTitle": false,
     "title": "--i18n-320b8d41-2b38-4158-ab74-ab765b41fc3a"
    }
   },
   "source": [
    "\n",
    "\n",
    "## Data Types\n",
    "\n",
    "Python provides basic [**Data Types**](https://www.w3schools.com/python/python_datatypes.asp), each with their own operations. \n",
    "\n",
    "Let's look at a few of them and the operations we can apply to each of them."
   ]
  },
  {
   "cell_type": "code",
   "execution_count": 0,
   "metadata": {
    "application/vnd.databricks.v1+cell": {
     "cellMetadata": {},
     "inputWidgets": {},
     "nuid": "d0fa97ff-cee4-458b-931d-471b62077f16",
     "showTitle": false,
     "title": ""
    }
   },
   "outputs": [],
   "source": []
  },
  {
   "cell_type": "markdown",
   "metadata": {
    "application/vnd.databricks.v1+cell": {
     "cellMetadata": {},
     "inputWidgets": {},
     "nuid": "007a6771-b729-435c-a0fa-0926af290373",
     "showTitle": false,
     "title": "--i18n-6ccd9a87-0eeb-48c5-a88b-8b2e7d5c3a04"
    }
   },
   "source": [
    "\n",
    "\n",
    "### Type 1: Integers\n",
    "\n",
    "Integers (or int) are non-decimal whole numbers. \n",
    "\n",
    "**Data**: Integer values (e.g. -2, -1, 0, 1, 2 ...)\n",
    "\n",
    "**Example Operations**: +, -, *, /"
   ]
  },
  {
   "cell_type": "code",
   "execution_count": 0,
   "metadata": {
    "application/vnd.databricks.v1+cell": {
     "cellMetadata": {},
     "inputWidgets": {},
     "nuid": "48d68278-8268-4393-a829-5b0718b2d67a",
     "showTitle": false,
     "title": ""
    }
   },
   "outputs": [],
   "source": [
    "# Integer expression\n",
    "2 * 3 + 5 - 1 "
   ]
  },
  {
   "cell_type": "markdown",
   "metadata": {
    "application/vnd.databricks.v1+cell": {
     "cellMetadata": {},
     "inputWidgets": {},
     "nuid": "7cb0c601-c788-4a65-bf2a-aee1c5ec4dd0",
     "showTitle": false,
     "title": "--i18n-2761447d-8388-4c05-a989-c33fb441f19d"
    }
   },
   "source": [
    "\n",
    "\n",
    "### Type 2: Float\n",
    "\n",
    "Float (or floating point) is a number containing a decimal. \n",
    "\n",
    "**Data**: Decimal Values (e.g. -2.342, -1.3, 0.45, 1.1, 2.2 ...)\n",
    "\n",
    "**Example Operations**: +, -, *, /"
   ]
  },
  {
   "cell_type": "code",
   "execution_count": 0,
   "metadata": {
    "application/vnd.databricks.v1+cell": {
     "cellMetadata": {
      "byteLimit": 2048000,
      "rowLimit": 10000
     },
     "inputWidgets": {},
     "nuid": "a191a4ef-4c6a-4a9e-a38d-95365c0b4566",
     "showTitle": false,
     "title": ""
    }
   },
   "outputs": [
    {
     "output_type": "stream",
     "name": "stdout",
     "output_type": "stream",
     "text": [
      "Out[1]: 8.26"
     ]
    }
   ],
   "source": [
    "1.2 * 2.3 + 5.5"
   ]
  },
  {
   "cell_type": "markdown",
   "metadata": {
    "application/vnd.databricks.v1+cell": {
     "cellMetadata": {},
     "inputWidgets": {},
     "nuid": "9221d1ff-7116-45fc-a21e-e3c79cf78826",
     "showTitle": false,
     "title": "--i18n-e0e8ddc7-7b39-43fc-b3d0-0f0ca04fba86"
    }
   },
   "source": [
    "\n",
    "\n",
    "If you are unsure what type something is, you can pass it into **`type()`**."
   ]
  },
  {
   "cell_type": "code",
   "execution_count": 0,
   "metadata": {
    "application/vnd.databricks.v1+cell": {
     "cellMetadata": {
      "byteLimit": 2048000,
      "rowLimit": 10000
     },
     "inputWidgets": {},
     "nuid": "55ad1e7e-30d3-4f6e-a25a-1cb8e7e680d4",
     "showTitle": false,
     "title": ""
    }
   },
   "outputs": [
    {
     "output_type": "stream",
     "name": "stdout",
     "output_type": "stream",
     "text": [
      "Out[2]: float"
     ]
    }
   ],
   "source": [
    "  type(1.2)"
   ]
  },
  {
   "cell_type": "markdown",
   "metadata": {
    "application/vnd.databricks.v1+cell": {
     "cellMetadata": {},
     "inputWidgets": {},
     "nuid": "f5ba3a91-dba7-4877-a549-36154d5b37de",
     "showTitle": false,
     "title": "--i18n-cb9195f7-0b63-4fae-8591-cf11bbd126f1"
    }
   },
   "source": [
    "\n",
    "\n",
    "Question: Is `1.` a float or an int? Let's test it by checking its type."
   ]
  },
  {
   "cell_type": "code",
   "execution_count": 0,
   "metadata": {
    "application/vnd.databricks.v1+cell": {
     "cellMetadata": {
      "byteLimit": 2048000,
      "rowLimit": 10000
     },
     "inputWidgets": {},
     "nuid": "a173beb0-4397-4796-87a4-d7624092470d",
     "showTitle": false,
     "title": ""
    }
   },
   "outputs": [
    {
     "output_type": "stream",
     "name": "stdout",
     "output_type": "stream",
     "text": [
      "Out[3]: float"
     ]
    }
   ],
   "source": [
    "type(1.)"
   ]
  },
  {
   "cell_type": "markdown",
   "metadata": {
    "application/vnd.databricks.v1+cell": {
     "cellMetadata": {},
     "inputWidgets": {},
     "nuid": "a518cde3-1d78-4685-af7b-3e02e3dad95f",
     "showTitle": false,
     "title": "--i18n-41028e0f-a35d-4e6c-b2c1-241587bb1611"
    }
   },
   "source": [
    "\n",
    "### An Aside on Numeric Precision\n",
    "\n",
    "Unlike most programming languages, Python numeric precision is theoretically infinite."
   ]
  },
  {
   "cell_type": "code",
   "execution_count": 0,
   "metadata": {
    "application/vnd.databricks.v1+cell": {
     "cellMetadata": {
      "byteLimit": 2048000,
      "rowLimit": 10000
     },
     "inputWidgets": {},
     "nuid": "2cf9af10-843e-4af5-a588-90db53de32d2",
     "showTitle": false,
     "title": ""
    }
   },
   "outputs": [
    {
     "output_type": "stream",
     "name": "stdout",
     "output_type": "stream",
     "text": [
      "Out[4]: 100000000000000000000000000000000000000000000000000000000000000000000000000000000000000000000000000000000000000000000000000000000000000000000000000000000000000000000000000000000000000000000000000000000"
     ]
    }
   ],
   "source": [
    "99999999999999999999999999999999999999999999999999999999999999999999999999999999999999999999999999999999999999999999999999999999999999999999999999999999999999999999999999999999999999999999999999999999 + 1"
   ]
  },
  {
   "cell_type": "code",
   "execution_count": 0,
   "metadata": {
    "application/vnd.databricks.v1+cell": {
     "cellMetadata": {
      "byteLimit": 2048000,
      "rowLimit": 10000
     },
     "inputWidgets": {},
     "nuid": "1e973b7b-002b-4e47-b516-31f865f3e8ab",
     "showTitle": false,
     "title": ""
    }
   },
   "outputs": [
    {
     "output_type": "stream",
     "name": "stdout",
     "output_type": "stream",
     "text": [
      "Out[5]: 1.0"
     ]
    }
   ],
   "source": [
    ".9999999999999999999999999999999999999999999999999999999999999999999999999999999999999999999999999999 + .0000000000000000000000000000000000000000000000000000000000000000000000000000000000000000000000000001"
   ]
  },
  {
   "cell_type": "markdown",
   "metadata": {
    "application/vnd.databricks.v1+cell": {
     "cellMetadata": {},
     "inputWidgets": {},
     "nuid": "f92502e7-29b8-4127-b781-7758bc79e8c7",
     "showTitle": false,
     "title": "--i18n-91074620-9816-473f-b513-0fe927585dd7"
    }
   },
   "source": [
    "\n",
    "\n",
    "### Type 3: Strings\n",
    "\n",
    "Strings (or str) are a sequence of characters surrounded by quotation marks (i.e. **`\"\"`** or **`''`**). They are just text, but can contain numbers, punctuation, etc.\n",
    "\n",
    "For example, `\"Hello World!\"` or `'Hello World!'`.\n",
    "\n",
    "**Data**: Text (e.g. \"Hello\", \"I love Python\", \"3.14abc\")\n",
    "\n",
    "**Example Operations**: Concatenation (+)\n",
    "\n",
    "Note that when you use the `+` operator on an integer or float it adds the values, but for strings it concatenates them. The operations differ between types."
   ]
  },
  {
   "cell_type": "code",
   "execution_count": 0,
   "metadata": {
    "application/vnd.databricks.v1+cell": {
     "cellMetadata": {
      "byteLimit": 2048000,
      "rowLimit": 10000
     },
     "inputWidgets": {},
     "nuid": "ff97aaef-0a7b-4892-869a-62f01c075272",
     "showTitle": false,
     "title": ""
    }
   },
   "outputs": [
    {
     "output_type": "stream",
     "name": "stdout",
     "output_type": "stream",
     "text": [
      "Out[6]: 'Hello123'"
     ]
    }
   ],
   "source": [
    "# String expression\n",
    "\"Hello\" + \"123\""
   ]
  },
  {
   "cell_type": "markdown",
   "metadata": {
    "application/vnd.databricks.v1+cell": {
     "cellMetadata": {},
     "inputWidgets": {},
     "nuid": "d73fe6ce-3825-4946-984e-9d9926769874",
     "showTitle": false,
     "title": "--i18n-d71e6c1e-14c6-4d5e-9e33-2ef510c3780a"
    }
   },
   "source": [
    "\n",
    "\n",
    "Notice that the concatenation operation does **not** insert a space. If we wanted \"Hello 123\", we would have to add a space in the string."
   ]
  },
  {
   "cell_type": "code",
   "execution_count": 0,
   "metadata": {
    "application/vnd.databricks.v1+cell": {
     "cellMetadata": {
      "byteLimit": 2048000,
      "rowLimit": 10000
     },
     "inputWidgets": {},
     "nuid": "35bdc367-0bfc-44ca-b185-de778d75a99d",
     "showTitle": false,
     "title": ""
    }
   },
   "outputs": [
    {
     "output_type": "stream",
     "name": "stdout",
     "output_type": "stream",
     "text": [
      "Out[7]: 'Hello 123'"
     ]
    }
   ],
   "source": [
    "# String expression with a space\n",
    "\"Hello\" + \" \" + \"123\""
   ]
  },
  {
   "cell_type": "markdown",
   "metadata": {
    "application/vnd.databricks.v1+cell": {
     "cellMetadata": {},
     "inputWidgets": {},
     "nuid": "1fc64cb4-c5d8-4558-8566-32dd75f22b8d",
     "showTitle": false,
     "title": "--i18n-d00a31cd-6762-4c37-b09d-fd626f20a36a"
    }
   },
   "source": [
    "\n",
    "\n",
    "Question: If you add a float and string together, what is the result? Uncomment then execute the code below to find out."
   ]
  },
  {
   "cell_type": "code",
   "execution_count": 0,
   "metadata": {
    "application/vnd.databricks.v1+cell": {
     "cellMetadata": {
      "byteLimit": 2048000,
      "rowLimit": 10000
     },
     "inputWidgets": {},
     "nuid": "5ac92a37-d804-4bc5-bd7b-5bd8da450560",
     "showTitle": false,
     "title": ""
    }
   },
   "outputs": [
    {
     "output_type": "display_data",
     "data": {
      "text/plain": [
       "\u001B[0;31m---------------------------------------------------------------------------\u001B[0m\n",
       "\u001B[0;31mTypeError\u001B[0m                                 Traceback (most recent call last)\n",
       "File \u001B[0;32m<command-806331027784313>:1\u001B[0m\n",
       "\u001B[0;32m----> 1\u001B[0m \u001B[38;5;124;43m\"\u001B[39;49m\u001B[38;5;124;43mHello\u001B[39;49m\u001B[38;5;124;43m\"\u001B[39;49m\u001B[43m \u001B[49m\u001B[38;5;241;43m+\u001B[39;49m\u001B[43m \u001B[49m\u001B[38;5;241;43m123\u001B[39;49m\n",
       "\n",
       "\u001B[0;31mTypeError\u001B[0m: can only concatenate str (not \"int\") to str"
      ]
     },
     "metadata": {
      "application/vnd.databricks.v1+output": {
       "arguments": {},
       "data": "\u001B[0;31m---------------------------------------------------------------------------\u001B[0m\n\u001B[0;31mTypeError\u001B[0m                                 Traceback (most recent call last)\nFile \u001B[0;32m<command-806331027784313>:1\u001B[0m\n\u001B[0;32m----> 1\u001B[0m \u001B[38;5;124;43m\"\u001B[39;49m\u001B[38;5;124;43mHello\u001B[39;49m\u001B[38;5;124;43m\"\u001B[39;49m\u001B[43m \u001B[49m\u001B[38;5;241;43m+\u001B[39;49m\u001B[43m \u001B[49m\u001B[38;5;241;43m123\u001B[39;49m\n\n\u001B[0;31mTypeError\u001B[0m: can only concatenate str (not \"int\") to str",
       "errorSummary": "<span class='ansi-red-fg'>TypeError</span>: can only concatenate str (not \"int\") to str",
       "errorTraceType": "ansi",
       "metadata": {},
       "type": "ipynbError"
      }
     },
     "output_type": "display_data"
    }
   ],
   "source": [
    "\"Hello\" + 123"
   ]
  },
  {
   "cell_type": "markdown",
   "metadata": {
    "application/vnd.databricks.v1+cell": {
     "cellMetadata": {},
     "inputWidgets": {},
     "nuid": "3f4bac06-c6f1-432d-8b83-1f543e26eec6",
     "showTitle": false,
     "title": "--i18n-921f7bd9-9558-4664-8b9d-41211d5a788e"
    }
   },
   "source": [
    "\n",
    "#### Multi-line strings\n",
    "\n",
    "A [multiline string](https://www.w3schools.com/python/gloss_python_multi_line_strings.asp) is like a container for text that spans across multiple lines of code.\n",
    "\n",
    "It allows us to represent text with line breaks, such as paragraphs of text, code blocks, or any content where preserving the line breaks and formatting is important. \n",
    "\n",
    "To create a multi-line string, simply enclose your text within triple quotes (either  **`\"\"\"`** or **`'''`**). The triple quotes indicate to Python that the text can span multiple lines without the need for [escape characters](https://www.w3schools.com/python/gloss_python_escape_characters.asp) like **`\\n`**.\n",
    "\n",
    "Here's an example."
   ]
  },
  {
   "cell_type": "code",
   "execution_count": 0,
   "metadata": {
    "application/vnd.databricks.v1+cell": {
     "cellMetadata": {
      "byteLimit": 2048000,
      "rowLimit": 10000
     },
     "inputWidgets": {},
     "nuid": "600000ca-0c7d-40c4-8e9e-22324ece7e21",
     "showTitle": false,
     "title": ""
    }
   },
   "outputs": [
    {
     "output_type": "stream",
     "name": "stdout",
     "output_type": "stream",
     "text": [
      "\nThis text can go on and on.\nYou can have as many lines as you need.\nPerfect for large paragraphs, code, or anything that's just too long.\n\n"
     ]
    }
   ],
   "source": [
    "print('''\n",
    "This text can go on and on.\n",
    "You can have as many lines as you need.\n",
    "Perfect for large paragraphs, code, or anything that's just too long.\n",
    "''')"
   ]
  },
  {
   "cell_type": "markdown",
   "metadata": {
    "application/vnd.databricks.v1+cell": {
     "cellMetadata": {},
     "inputWidgets": {},
     "nuid": "7e946903-a19d-47eb-9ae7-124f03f4b556",
     "showTitle": false,
     "title": "--i18n-6f69c9be-49dc-44f7-abbf-52ea2e8de36e"
    }
   },
   "source": [
    "\n",
    "\n",
    "### Type 4: Boolean\n",
    "\n",
    "Boolean (or bool) is a binary data type. There are only two boolean values: **`True`** and **`False`**.\n",
    "\n",
    "<img src=\"https://files.training.databricks.com/images/icon_warn_24.png\" alt=\"Caution\"> Python is **case-sensitive**, and these boolean values must be title-case. You will get a Python error if you try to use variants like **`true`** or **`FALSE`**.\n",
    "\n",
    "**Data**: True, False\n",
    "\n",
    "**Example Operations**: logical operators (i.e. or, and, not)"
   ]
  },
  {
   "cell_type": "code",
   "execution_count": 0,
   "metadata": {
    "application/vnd.databricks.v1+cell": {
     "cellMetadata": {
      "byteLimit": 2048000,
      "rowLimit": 10000
     },
     "inputWidgets": {},
     "nuid": "b72d58a1-826d-46a5-b429-1c9671b76e6e",
     "showTitle": false,
     "title": ""
    }
   },
   "outputs": [
    {
     "output_type": "stream",
     "name": "stdout",
     "output_type": "stream",
     "text": [
      "Out[11]: True"
     ]
    }
   ],
   "source": [
    "True or False"
   ]
  },
  {
   "cell_type": "code",
   "execution_count": 0,
   "metadata": {
    "application/vnd.databricks.v1+cell": {
     "cellMetadata": {
      "byteLimit": 2048000,
      "rowLimit": 10000
     },
     "inputWidgets": {},
     "nuid": "0f67160c-0f07-435c-954f-4a9c20f35dfc",
     "showTitle": false,
     "title": ""
    }
   },
   "outputs": [
    {
     "output_type": "stream",
     "name": "stdout",
     "output_type": "stream",
     "text": [
      "Out[12]: False"
     ]
    }
   ],
   "source": [
    "True and False"
   ]
  },
  {
   "cell_type": "code",
   "execution_count": 0,
   "metadata": {
    "application/vnd.databricks.v1+cell": {
     "cellMetadata": {
      "byteLimit": 2048000,
      "rowLimit": 10000
     },
     "inputWidgets": {},
     "nuid": "bb7845b2-6409-4d93-9825-6f223dd76212",
     "showTitle": false,
     "title": ""
    }
   },
   "outputs": [
    {
     "output_type": "stream",
     "name": "stdout",
     "output_type": "stream",
     "text": [
      "Out[13]: True"
     ]
    }
   ],
   "source": [
    "not False"
   ]
  },
  {
   "cell_type": "markdown",
   "metadata": {
    "application/vnd.databricks.v1+cell": {
     "cellMetadata": {},
     "inputWidgets": {},
     "nuid": "ef8a7fa8-336a-4fef-8b13-9ed3e9caa05a",
     "showTitle": false,
     "title": "--i18n-d9f7c5fe-f1e6-408a-be83-4b6b33936f5f"
    }
   },
   "source": [
    "\n",
    "\n",
    "## Variables\n",
    "\n",
    "We can store the result of an expression in a [variable](https://www.w3schools.com/python/python_variables.asp), which we can then use to refer to the result of that expression. It's very helpful if you plan to re-use the same value multiple times. There should be only one variable assignment per line.\n",
    "\n",
    "**`variable_name = expression`**\n",
    "\n",
    "A few things to note on Python variable names from <a href=\"https://www.w3schools.com/python/gloss_python_variable_names.asp#:~:text=Rules%20for%20Python%20variables%3A,0%2D9%2C%20and%20_%20\" target=\"_blank\">W3 Schools</a>:\n",
    "* A variable name must start with a letter or the underscore character\n",
    "* A variable name cannot start with a number\n",
    "* A variable name can contain only alpha-numeric characters and underscores (A-z, 0-9, and _ )\n",
    "* Variable names are case-sensitive (**`age`**, **`Age`** and **`AGE`** are three different variables)"
   ]
  },
  {
   "cell_type": "code",
   "execution_count": 0,
   "metadata": {
    "application/vnd.databricks.v1+cell": {
     "cellMetadata": {
      "byteLimit": 2048000,
      "rowLimit": 10000
     },
     "inputWidgets": {},
     "nuid": "7118e1d3-9f63-482a-ae9b-83e97c7cac46",
     "showTitle": false,
     "title": ""
    }
   },
   "outputs": [
    {
     "output_type": "stream",
     "name": "stdout",
     "output_type": "stream",
     "text": [
      "Out[14]: 6"
     ]
    }
   ],
   "source": [
    "a = 3\n",
    "b = 2\n",
    "c = a*b\n",
    "\n",
    "c"
   ]
  },
  {
   "cell_type": "markdown",
   "metadata": {
    "application/vnd.databricks.v1+cell": {
     "cellMetadata": {},
     "inputWidgets": {},
     "nuid": "b6016766-e10b-426c-8fb1-7cafae240af6",
     "showTitle": false,
     "title": "--i18n-53daff57-613e-41eb-b552-847085596e94"
    }
   },
   "source": [
    "\n",
    "\n",
    "Question: If we update the value of **`b`**, what happens to **`c`**?"
   ]
  },
  {
   "cell_type": "code",
   "execution_count": 0,
   "metadata": {
    "application/vnd.databricks.v1+cell": {
     "cellMetadata": {
      "byteLimit": 2048000,
      "rowLimit": 10000
     },
     "inputWidgets": {},
     "nuid": "c69beb1d-2aae-4880-9930-1500d007ae92",
     "showTitle": false,
     "title": ""
    }
   },
   "outputs": [
    {
     "output_type": "stream",
     "name": "stdout",
     "output_type": "stream",
     "text": [
      "Out[15]: 6"
     ]
    }
   ],
   "source": [
    "b = 4\n",
    "c"
   ]
  },
  {
   "cell_type": "markdown",
   "metadata": {
    "application/vnd.databricks.v1+cell": {
     "cellMetadata": {},
     "inputWidgets": {},
     "nuid": "01019424-35af-4371-8c8b-61aa6c7cd4da",
     "showTitle": false,
     "title": "--i18n-ca3ddabd-7b46-4e00-8abc-21633d3f6e6a"
    }
   },
   "source": [
    "\n",
    "\n",
    "### Variable State\n",
    "\n",
    "Variables are accessible across cells in the same notebook. If you restart your cluster or detach your notebook from your cluster, you will not lose your code, but you will lose the state of the variables. \n",
    "\n",
    "**Exercise**: Try detaching and reattaching this notebook. Are you still able to run the command above successfully?"
   ]
  },
  {
   "cell_type": "markdown",
   "metadata": {
    "application/vnd.databricks.v1+cell": {
     "cellMetadata": {},
     "inputWidgets": {},
     "nuid": "f9846d68-0bd2-45b2-aea4-4278dc75feaf",
     "showTitle": false,
     "title": "--i18n-a95f37de-1376-49d8-bd9a-a434561608f3"
    }
   },
   "source": [
    "\n",
    "\n",
    "### Weakly Typed Languages\n",
    "\n",
    "\n",
    "Python is a *weakly typed* language. That means any variable can hold any type of value, and you can overwrite a variable to have any type of value. In other words, you can assign a new value to a variable that is of a different type than its original value.\n",
    "\n",
    "In contrast, *strongly typed* languages &mdash; such as C and Java &mdash; do not allow this."
   ]
  },
  {
   "cell_type": "code",
   "execution_count": 0,
   "metadata": {
    "application/vnd.databricks.v1+cell": {
     "cellMetadata": {
      "byteLimit": 2048000,
      "rowLimit": 10000
     },
     "inputWidgets": {},
     "nuid": "a0ee20d1-7d92-421e-aa21-c7d5037a2dfa",
     "showTitle": false,
     "title": ""
    }
   },
   "outputs": [
    {
     "output_type": "stream",
     "name": "stdout",
     "output_type": "stream",
     "text": [
      "<class 'str'>\n<class 'int'>\n"
     ]
    }
   ],
   "source": [
    "b = \"Hello World\"\n",
    "print(type(b))\n",
    "b = 10\n",
    "print(type(b))"
   ]
  },
  {
   "cell_type": "markdown",
   "metadata": {
    "application/vnd.databricks.v1+cell": {
     "cellMetadata": {},
     "inputWidgets": {},
     "nuid": "1b36c762-8617-4efe-baf3-aba88389f257",
     "showTitle": false,
     "title": "--i18n-79b5dfd2-134e-419f-8086-72d76d0bdd80"
    }
   },
   "source": [
    "\n",
    "\n",
    "### Naming Conventions\n",
    "\n",
    "While you can name Python variables almost anything and it will work, the general convention in Python is to use **`snake_case`**. This means all of the characters should be lower case, and spaces are replaced with an `_` character.\n",
    "\n",
    "For example, **`my_first_variable`** is a better name than **`MyFirst_variable`**. \n",
    "\n",
    "Try to avoid variable re-use. For example, you would not want to use **`address`** as a variable name referring to a house address, then later use **`address`** again referring to an IP address. You would want to use something like **`house_address`** and **`ip_address`** instead.\n",
    "\n",
    "Also try to use variable names that describe their contents to make your Python code easier to read and understand.\n",
    "\n",
    "And don't use variable names that are too long. Would you really want to type **`first_appearance_of_the_word_in_this_file`** multiple times in your program?"
   ]
  },
  {
   "cell_type": "code",
   "execution_count": 0,
   "metadata": {
    "application/vnd.databricks.v1+cell": {
     "cellMetadata": {
      "byteLimit": 2048000,
      "rowLimit": 10000
     },
     "inputWidgets": {},
     "nuid": "75caa912-8c81-4a92-af5e-3b32b723bb13",
     "showTitle": false,
     "title": ""
    }
   },
   "outputs": [],
   "source": [
    "my_first_variable = 2"
   ]
  },
  {
   "cell_type": "markdown",
   "metadata": {
    "application/vnd.databricks.v1+cell": {
     "cellMetadata": {},
     "inputWidgets": {},
     "nuid": "10e02e6f-ec60-4961-abed-9b65252fbc18",
     "showTitle": false,
     "title": "--i18n-1fc8e260-5dd1-4b1f-87b5-23b1469eae3e"
    }
   },
   "source": [
    "\n",
    "\n",
    "## Print Statements\n",
    "\n",
    "In Databricks or Jupyter notebooks, the result of last line executed in a cell is printed automatically.\n",
    "\n",
    "If you want to see more than just the evaluation of the last line, you need to use a **`print`** statement.\n",
    "\n",
    "To use it, write **`print(expression)`** to see the value of the expression displayed."
   ]
  },
  {
   "cell_type": "code",
   "execution_count": 0,
   "metadata": {
    "application/vnd.databricks.v1+cell": {
     "cellMetadata": {
      "byteLimit": 2048000,
      "rowLimit": 10000
     },
     "inputWidgets": {},
     "nuid": "e33b428b-fa6b-4e29-83dd-a27f44b7b5e8",
     "showTitle": false,
     "title": ""
    }
   },
   "outputs": [
    {
     "output_type": "stream",
     "name": "stdout",
     "output_type": "stream",
     "text": [
      "Out[18]: 2"
     ]
    }
   ],
   "source": [
    "a = 1\n",
    "b = 2\n",
    "\n",
    "a # This line isn't printed because it's not the last line of code\n",
    "b"
   ]
  },
  {
   "cell_type": "code",
   "execution_count": 0,
   "metadata": {
    "application/vnd.databricks.v1+cell": {
     "cellMetadata": {
      "byteLimit": 2048000,
      "rowLimit": 10000
     },
     "inputWidgets": {},
     "nuid": "34e9284c-f72f-4ee0-80ee-1b14ff11ad03",
     "showTitle": false,
     "title": ""
    }
   },
   "outputs": [
    {
     "output_type": "stream",
     "name": "stdout",
     "output_type": "stream",
     "text": [
      "1\n2\n"
     ]
    }
   ],
   "source": [
    "print(a)\n",
    "print(b)"
   ]
  },
  {
   "cell_type": "markdown",
   "metadata": {
    "application/vnd.databricks.v1+cell": {
     "cellMetadata": {},
     "inputWidgets": {},
     "nuid": "cfeb78ff-4212-4c8f-b7d6-e0c07ac29591",
     "showTitle": false,
     "title": "--i18n-7219854c-0e16-4b77-81b5-d1240b86c2da"
    }
   },
   "source": [
    "\n",
    "In addition to printing variable values, you can also print strings."
   ]
  },
  {
   "cell_type": "code",
   "execution_count": 0,
   "metadata": {
    "application/vnd.databricks.v1+cell": {
     "cellMetadata": {
      "byteLimit": 2048000,
      "rowLimit": 10000
     },
     "inputWidgets": {},
     "nuid": "382015c8-a97e-46f8-a8ae-a4809c3cc160",
     "showTitle": false,
     "title": ""
    }
   },
   "outputs": [
    {
     "output_type": "stream",
     "name": "stdout",
     "output_type": "stream",
     "text": [
      "10\nHello world\nTrue\n"
     ]
    }
   ],
   "source": [
    "print(10)\n",
    "print(\"Hello world\")\n",
    "print(True)"
   ]
  },
  {
   "cell_type": "markdown",
   "metadata": {
    "application/vnd.databricks.v1+cell": {
     "cellMetadata": {},
     "inputWidgets": {},
     "nuid": "c5c4cd0e-58d2-4965-9e56-81e2ac330480",
     "showTitle": false,
     "title": "--i18n-82520a5b-4c2d-44cd-9447-90033f1d51fd"
    }
   },
   "source": [
    "\n",
    "You can also inject the value of a variable or expression into the output of a print statement\n",
    "\n",
    "In Python 3.5, you would print it like this:"
   ]
  },
  {
   "cell_type": "code",
   "execution_count": 0,
   "metadata": {
    "application/vnd.databricks.v1+cell": {
     "cellMetadata": {
      "byteLimit": 2048000,
      "rowLimit": 10000
     },
     "inputWidgets": {},
     "nuid": "bc5bbd71-fc36-41b1-9580-c90b08be0839",
     "showTitle": false,
     "title": ""
    }
   },
   "outputs": [
    {
     "output_type": "stream",
     "name": "stdout",
     "output_type": "stream",
     "text": [
      "The sum of 1 + 2 is 3\n"
     ]
    }
   ],
   "source": [
    "a = 1\n",
    "b = 2\n",
    "print(\"The sum of {} + {} is {}\".format(a, b, a + b))"
   ]
  },
  {
   "cell_type": "markdown",
   "metadata": {
    "application/vnd.databricks.v1+cell": {
     "cellMetadata": {},
     "inputWidgets": {},
     "nuid": "af9a8460-f614-4e11-91a7-bf6c58fd555a",
     "showTitle": false,
     "title": "--i18n-2a0dc9a0-7906-4609-aa86-06443572c4dd"
    }
   },
   "source": [
    "\n",
    "#### f-string Formatting\n",
    "\n",
    "In Python 3.6 a new style for injecting the value of a variable or expression into a string was introduced, called [f-string](https://www.w3schools.com/python/python_string_formatting.asp) formatting. (The __f__ in __f-string__ is short for __formatted__. Put an **`f`** at the beginning of the quotes, and place the variable inside of curly braces. The syntax looks like **`f\"optional text {insert_variable_here} optional text\"`**.\n",
    "\n",
    "In Python 3.6, you would print it like this:"
   ]
  },
  {
   "cell_type": "code",
   "execution_count": 0,
   "metadata": {
    "application/vnd.databricks.v1+cell": {
     "cellMetadata": {
      "byteLimit": 2048000,
      "rowLimit": 10000
     },
     "inputWidgets": {},
     "nuid": "4de6aaea-baee-4204-aad5-f794a624ead3",
     "showTitle": false,
     "title": ""
    }
   },
   "outputs": [
    {
     "output_type": "stream",
     "name": "stdout",
     "output_type": "stream",
     "text": [
      "The sum of 1 + 2 is 3\n"
     ]
    }
   ],
   "source": [
    "a = 1\n",
    "b = 2\n",
    "print(f\"The sum of {a} + {b} is {a + b}\")"
   ]
  },
  {
   "cell_type": "markdown",
   "metadata": {
    "application/vnd.databricks.v1+cell": {
     "cellMetadata": {},
     "inputWidgets": {},
     "nuid": "b61ffef0-11d0-4a23-ac7d-cd6904740dc3",
     "showTitle": false,
     "title": "--i18n-ab1b422e-a50c-4b2b-b303-62688a3f94ea"
    }
   },
   "source": [
    "\n",
    "You can even use f-string formatting to generate simple columnar output\n",
    "- The f-string {} placeholder can optionally include a column width following the value being rendered to generate simple, aligned output\n",
    "  - Numeric values are right justified\n",
    "  - String values are left justified\n",
    "- For the record, there are much <a href=\"https://docs.python.org/3/tutorial/inputoutput.html\" target=\"_blank\">better</a>, more powerful ways of doing this in Python"
   ]
  },
  {
   "cell_type": "code",
   "execution_count": 0,
   "metadata": {
    "application/vnd.databricks.v1+cell": {
     "cellMetadata": {
      "byteLimit": 2048000,
      "rowLimit": 10000
     },
     "inputWidgets": {},
     "nuid": "241d48c9-5b54-43e8-8f95-c1c97743edfc",
     "showTitle": false,
     "title": ""
    }
   },
   "outputs": [
    {
     "output_type": "stream",
     "name": "stdout",
     "output_type": "stream",
     "text": [
      "City            Temperature     Humidity       \nSan Francisco            58         0.85\nParis                    75         0.50\nMumbai                   81         0.88\n"
     ]
    }
   ],
   "source": [
    "city1 = \"San Francisco\"\n",
    "city2 = \"Paris\"\n",
    "city3 = \"Mumbai\"\n",
    "\n",
    "temperature1 = 58\n",
    "temperature2 = 75\n",
    "temperature3 = 81\n",
    "\n",
    "humidity1 = .85\n",
    "humidity2 = .5\n",
    "humidity3 = .88 \n",
    "\n",
    "print(f\"{'City':15} {'Temperature':15} {'Humidity':15}\")\n",
    "print(f\"{city1:15} {temperature1:11} {humidity1:12.2f}\")\n",
    "print(f\"{city2:15} {temperature2:11} {humidity2:12.2f}\")\n",
    "print(f\"{city3:15} {temperature3:11} {humidity3:12.2f}\")"
   ]
  },
  {
   "cell_type": "markdown",
   "metadata": {
    "application/vnd.databricks.v1+cell": {
     "cellMetadata": {},
     "inputWidgets": {},
     "nuid": "91c2e89f-9733-447a-9408-d55b5f792025",
     "showTitle": false,
     "title": "--i18n-cab12ce0-f03c-4620-a0b4-38e67cf4ab9d"
    }
   },
   "source": [
    "\n",
    "By default, the print function separates the output for each argument from the next by a space, terminating the entire output with a newline, as illustrated below"
   ]
  },
  {
   "cell_type": "code",
   "execution_count": 0,
   "metadata": {
    "application/vnd.databricks.v1+cell": {
     "cellMetadata": {
      "byteLimit": 2048000,
      "rowLimit": 10000
     },
     "inputWidgets": {},
     "nuid": "645b016b-3b36-4b1f-a859-d2de65559a6b",
     "showTitle": false,
     "title": ""
    }
   },
   "outputs": [
    {
     "output_type": "stream",
     "name": "stdout",
     "output_type": "stream",
     "text": [
      "1 2 3\n4 5 6\n"
     ]
    }
   ],
   "source": [
    "print(1,2,3)\n",
    "print(4,5,6)"
   ]
  },
  {
   "cell_type": "markdown",
   "metadata": {
    "application/vnd.databricks.v1+cell": {
     "cellMetadata": {},
     "inputWidgets": {},
     "nuid": "4d5c2d43-463c-4cd0-a2a3-764f18b6f12b",
     "showTitle": false,
     "title": "--i18n-510d9858-a0f6-48d9-a337-215ad91db31e"
    }
   },
   "source": [
    "\n",
    "However, you can override this behavior by specifying custom delimiters as illustrated below"
   ]
  },
  {
   "cell_type": "code",
   "execution_count": 0,
   "metadata": {
    "application/vnd.databricks.v1+cell": {
     "cellMetadata": {
      "byteLimit": 2048000,
      "rowLimit": 10000
     },
     "inputWidgets": {},
     "nuid": "7db9e078-c230-4617-b239-f8dc7dfa8b87",
     "showTitle": false,
     "title": ""
    }
   },
   "outputs": [
    {
     "output_type": "stream",
     "name": "stdout",
     "output_type": "stream",
     "text": [
      "1--2--3. 4###5###6END\n123$4\t5\t6Done"
     ]
    }
   ],
   "source": [
    "# Separator: '--' instead of ' '. Terminator: '. ' instead of a newline.\n",
    "print(1,2,3, sep='--', end='. ') \n",
    "\n",
    "# Separator: '###' instead of ' '. Terminator: 'END' instead of a newline. \n",
    "# Because the previous output is no longer terminated by a newline, it is printed on the same line as the output produced by line 2.\n",
    "print(4,5,6, sep='###', end='END') \n",
    "\n",
    "# Print a blank line.  This will just be a new line\n",
    "print(\"\") \n",
    "\n",
    "# Separator: '' (none) instead of ' '. Terminator: '$' instead of a newline.\n",
    "print(1, 2, 3, sep='', end='$')\n",
    "\n",
    "# Separator: '\\t' instead of ' '. Terminator: 'Done' instead of a newline. \n",
    "# Because the previous output is no longer terminated by a newline, it is printed on the same line as the output produced by line 11.\n",
    "print(4, 5, 6, sep='\\t', end='Done')"
   ]
  },
  {
   "cell_type": "markdown",
   "metadata": {
    "application/vnd.databricks.v1+cell": {
     "cellMetadata": {},
     "inputWidgets": {},
     "nuid": "04198246-493c-43e9-9ce6-80710adcad7b",
     "showTitle": false,
     "title": "--i18n-c618bc6a-4419-4f9d-93ee-d95de672c63b"
    }
   },
   "source": [
    "\n",
    "### Ternary Operator\n",
    "\n",
    "Ternary operators (also known as conditional expressions) provide a concise way to assign values to variables based on a condition.\n",
    "\n",
    "It checks whether a given condition is **`True`** or **`False`** and returns one of two values in a single line of code.\n",
    "\n",
    "The syntax of a ternary operator is as follows: **`value_if_true if condition else value_if_false`**\n",
    "\n",
    "Let's look at an example.\n",
    "\n",
    "In this context, we are going to use **`if`** and **`else`** statements, which are part of Python's control flow. They allow us to make conditional decisions and execute different code blocks based on specific conditions. We will cover them in more detail in another discussion."
   ]
  },
  {
   "cell_type": "code",
   "execution_count": 0,
   "metadata": {
    "application/vnd.databricks.v1+cell": {
     "cellMetadata": {
      "byteLimit": 2048000,
      "rowLimit": 10000
     },
     "inputWidgets": {},
     "nuid": "a83dbc6d-3e89-4c08-8daf-f72821348ec0",
     "showTitle": false,
     "title": ""
    }
   },
   "outputs": [],
   "source": [
    "is_tasty = True\n",
    "food = \"Delicious\" if is_tasty else \"Not Delicious\"\n",
    "print(food)"
   ]
  },
  {
   "cell_type": "markdown",
   "metadata": {
    "application/vnd.databricks.v1+cell": {
     "cellMetadata": {},
     "inputWidgets": {},
     "nuid": "2354f69f-e2b7-4c68-8ff3-5d9a39ab0a1e",
     "showTitle": false,
     "title": "--i18n-f4105cfb-5031-4822-9c00-f58580b861f2"
    }
   },
   "source": [
    "\n",
    "As you can see, the **`food`** variable is assigned the value \"Delicious\" because the condition (**`is_tasty`**) is **`True`**. If **`is_tasty`** were **`False`**, the variable **`food`** would be assigned the value \"Not Delicious.\""
   ]
  },
  {
   "cell_type": "markdown",
   "metadata": {
    "application/vnd.databricks.v1+cell": {
     "cellMetadata": {},
     "inputWidgets": {},
     "nuid": "dbbe8af3-e214-4600-964e-e69aae7090e6",
     "showTitle": false,
     "title": "--i18n-ddc22fc8-902d-49e5-baa9-62e61cc2f6d8"
    }
   },
   "source": [
    "\n",
    "**Congratulations! You have finished your first lesson on Python!**"
   ]
  },
  {
   "cell_type": "markdown",
   "metadata": {
    "application/vnd.databricks.v1+cell": {
     "cellMetadata": {},
     "inputWidgets": {},
     "nuid": "244b6a36-3ffc-47e3-aa18-019103bb41c5",
     "showTitle": false,
     "title": ""
    }
   },
   "source": [
    "&copy; 2023 Databricks, Inc. All rights reserved.<br/>\n",
    "Apache, Apache Spark, Spark and the Spark logo are trademarks of the <a href=\"https://www.apache.org/\">Apache Software Foundation</a>.<br/>\n",
    "<br/>\n",
    "<a href=\"https://databricks.com/privacy-policy\">Privacy Policy</a> | <a href=\"https://databricks.com/terms-of-use\">Terms of Use</a> | <a href=\"https://help.databricks.com/\">Support</a>"
   ]
  }
 ],
 "metadata": {
  "application/vnd.databricks.v1+notebook": {
   "dashboards": [],
   "environmentMetadata": null,
   "language": "python",
   "notebookMetadata": {
    "pythonIndentUnit": 2
   },
   "notebookName": "ITP 01 - Data Types and Variables",
   "widgets": {}
  }
 },
 "nbformat": 4,
 "nbformat_minor": 0
}

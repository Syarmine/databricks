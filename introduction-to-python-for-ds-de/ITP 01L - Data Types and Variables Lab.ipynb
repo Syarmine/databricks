{
 "cells": [
  {
   "cell_type": "markdown",
   "metadata": {
    "application/vnd.databricks.v1+cell": {
     "cellMetadata": {},
     "inputWidgets": {},
     "nuid": "38b1e74c-f732-4215-ba95-c776dc14ce2a",
     "showTitle": false,
     "title": ""
    }
   },
   "source": [
    "\n",
    "<div style=\"text-align: center; line-height: 0; padding-top: 9px;\">\n",
    "  <img src=\"https://databricks.com/wp-content/uploads/2018/03/db-academy-rgb-1200px.png\" alt=\"Databricks Learning\" style=\"width: 600px\">\n",
    "</div>"
   ]
  },
  {
   "cell_type": "markdown",
   "metadata": {
    "application/vnd.databricks.v1+cell": {
     "cellMetadata": {},
     "inputWidgets": {},
     "nuid": "f572244d-2aaa-4e46-a7c1-92b3e5c69ca4",
     "showTitle": false,
     "title": "--i18n-1818ed45-df1d-4a39-8074-e2841494477c"
    }
   },
   "source": [
    "\n",
    "\n",
    "# Data Types and Variables Lab\n",
    "\n",
    "## Exercise:\n",
    "* Define a variable **`num_chocolate`** and set it equal to the number of chocolate bars you would like to eat. These should be whole numbers (e.g. integer).\n",
    "* Define a variable **`name`** and set it equal to your name.\n",
    "* Define the string **`chocolate_string`** as follows: \"**`name`** would like to eat **`num_chocolate`** bars of chocolate\" using f-string formatting\n",
    "* Print the string  **`chocolate_string`**"
   ]
  },
  {
   "cell_type": "code",
   "execution_count": 0,
   "metadata": {
    "application/vnd.databricks.v1+cell": {
     "cellMetadata": {},
     "inputWidgets": {},
     "nuid": "310016ec-9816-4c2f-aca9-306bc6c96cfe",
     "showTitle": false,
     "title": ""
    }
   },
   "outputs": [],
   "source": [
    "# ANSWER\n",
    "name = \"James\"\n",
    "num_chocolate = 10\n",
    "chocolate_string = f\"{name} would like to eat {num_chocolate} bars of chocolate\"\n",
    "\n",
    "print(chocolate_string)"
   ]
  },
  {
   "cell_type": "markdown",
   "metadata": {
    "application/vnd.databricks.v1+cell": {
     "cellMetadata": {},
     "inputWidgets": {},
     "nuid": "cf0b7fb7-3411-4f9e-ad9a-6e3222527bf6",
     "showTitle": false,
     "title": "--i18n-d156910a-4562-4a24-bc6e-2d3ed9826f24"
    }
   },
   "source": [
    "\n",
    "\n",
    "**Check your work:**\n",
    "\n",
    "For labs, we will have **Check your work** cells like the following after most questions. After you complete a question, run the cell to make sure you did it correctly. \n",
    "\n",
    "You do not have to know how to use the **assert** statements we use below. \n",
    "\n",
    "If you are curious, if the boolean expression after the assert statement does not evaluate to True, then the code stops and raises an error."
   ]
  },
  {
   "cell_type": "code",
   "execution_count": 0,
   "metadata": {
    "application/vnd.databricks.v1+cell": {
     "cellMetadata": {},
     "inputWidgets": {},
     "nuid": "6cdd74ca-95cc-4c49-a19a-d459e47d6ca9",
     "showTitle": false,
     "title": ""
    }
   },
   "outputs": [],
   "source": [
    "assert type(name) == str, \"Name should be a string\"\n",
    "assert type(num_chocolate) == int, \"You have to eat the entire chocolate bar! No floats allowed\"\n",
    "assert chocolate_string == f\"{name} would like to eat {num_chocolate} bars of chocolate\", \"Did you mistype something?\"\n",
    "print(\"Test passed!\")"
   ]
  },
  {
   "cell_type": "markdown",
   "metadata": {
    "application/vnd.databricks.v1+cell": {
     "cellMetadata": {},
     "inputWidgets": {},
     "nuid": "aa1dd98d-fae0-4ff9-bea4-7dd2e6f7da54",
     "showTitle": false,
     "title": "--i18n-TBD"
    }
   },
   "source": [
    "\n",
    "## Bonus Exercise:\n",
    "* Define a variable **`num_students`** and set it equal to the number of students in the class.\n",
    "* Define a variable **`num_days`** and set it equal to the number of class days.\n",
    "* Define a variable **`class_name`** and set it equal to the name of this class.\n",
    "\n",
    "* Define the string **`class_information`**  as follows: \"There are **`num_students`** * **`num_days`** student days in the **`class_name`**\" using f-string formatting.  Make sure to print the product of students and days.\n",
    "* Print the string  **`class_information`**"
   ]
  },
  {
   "cell_type": "code",
   "execution_count": 0,
   "metadata": {
    "application/vnd.databricks.v1+cell": {
     "cellMetadata": {},
     "inputWidgets": {},
     "nuid": "722ba492-c860-46ec-952a-0f021e0ab8a1",
     "showTitle": false,
     "title": ""
    }
   },
   "outputs": [],
   "source": [
    "# ANSWER\n",
    "num_students = 16\n",
    "num_days = 2\n",
    "class_name = \"introduction-to-python-for-data-science-and-data-engineering\"\n",
    "course_information = f\"There are {num_students * num_days} student days in the {class_name}\"\n",
    "\n",
    "print(course_information)"
   ]
  },
  {
   "cell_type": "code",
   "execution_count": 0,
   "metadata": {
    "application/vnd.databricks.v1+cell": {
     "cellMetadata": {},
     "inputWidgets": {},
     "nuid": "9d9a7d2c-3ee9-4b6d-8d42-04550aaea4f9",
     "showTitle": false,
     "title": ""
    }
   },
   "outputs": [],
   "source": [
    "assert type(class_name) == str, \"Name should be a string\"\n",
    "assert type(num_students) == int, \"Use an integer\"\n",
    "assert course_information == f\"There are {num_students * num_days} student days in the {class_name}\"\n",
    "\n",
    "print(\"Test passed!\")"
   ]
  },
  {
   "cell_type": "markdown",
   "metadata": {
    "application/vnd.databricks.v1+cell": {
     "cellMetadata": {},
     "inputWidgets": {},
     "nuid": "35bf2e3f-b790-499c-90cf-50f420e83a7f",
     "showTitle": false,
     "title": ""
    }
   },
   "source": [
    "&copy; 2023 Databricks, Inc. All rights reserved.<br/>\n",
    "Apache, Apache Spark, Spark and the Spark logo are trademarks of the <a href=\"https://www.apache.org/\">Apache Software Foundation</a>.<br/>\n",
    "<br/>\n",
    "<a href=\"https://databricks.com/privacy-policy\">Privacy Policy</a> | <a href=\"https://databricks.com/terms-of-use\">Terms of Use</a> | <a href=\"https://help.databricks.com/\">Support</a>"
   ]
  }
 ],
 "metadata": {
  "application/vnd.databricks.v1+notebook": {
   "dashboards": [],
   "environmentMetadata": null,
   "language": "python",
   "notebookMetadata": {
    "pythonIndentUnit": 2
   },
   "notebookName": "ITP 01L - Data Types and Variables Lab",
   "widgets": {}
  }
 },
 "nbformat": 4,
 "nbformat_minor": 0
}

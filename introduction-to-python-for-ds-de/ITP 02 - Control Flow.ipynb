{
 "cells": [
  {
   "cell_type": "markdown",
   "metadata": {
    "application/vnd.databricks.v1+cell": {
     "cellMetadata": {},
     "inputWidgets": {},
     "nuid": "a89a09ff-af53-4219-9033-2ddacf203bc6",
     "showTitle": false,
     "title": ""
    }
   },
   "source": [
    "\n",
    "<div style=\"text-align: center; line-height: 0; padding-top: 9px;\">\n",
    "  <img src=\"https://databricks.com/wp-content/uploads/2018/03/db-academy-rgb-1200px.png\" alt=\"Databricks Learning\" style=\"width: 600px\">\n",
    "</div>"
   ]
  },
  {
   "cell_type": "markdown",
   "metadata": {
    "application/vnd.databricks.v1+cell": {
     "cellMetadata": {},
     "inputWidgets": {},
     "nuid": "ef173512-0faf-423e-9f76-4a86a877b0a4",
     "showTitle": false,
     "title": "--i18n-5e2b0b7f-f62f-49f4-9178-aa14bf84b5b7"
    }
   },
   "source": [
    "\n",
    "\n",
    "# Control Flow\n",
    "\n",
    "## ![Spark Logo Tiny](https://files.training.databricks.com/images/105/logo_spark_tiny.png) In this lesson you:<br>\n",
    "\n",
    " - Alter the control flow of a Python program\n",
    " - Combine boolean expressions with conditional statements"
   ]
  },
  {
   "cell_type": "markdown",
   "metadata": {
    "application/vnd.databricks.v1+cell": {
     "cellMetadata": {},
     "inputWidgets": {},
     "nuid": "c004444b-9a55-49d9-bbf4-fc8a15143cd2",
     "showTitle": false,
     "title": "--i18n-adcf81b0-d6b9-4d96-8952-8535f6b05741"
    }
   },
   "source": [
    "\n",
    "\n",
    "## if-statement\n",
    "\n",
    "Python by default evaluates every line of code from top to bottom, sequentially. But what if we want to define conditional logic to control which code should be executed? \n",
    "\n",
    "The order in which Python runs our code is called **control flow**, and Python provides functionality we can use to change the control flow. \n",
    "\n",
    "The first tool Python provides for us is the **if-statement**. \n",
    "\n",
    "We write an [**if-statement**](https://www.w3schools.com/python/gloss_python_if_statement.asp) like this:\n",
    "\n",
    "\n",
    "    if bool:\n",
    "        code_1\n",
    "    else:\n",
    "        code_2\n",
    "      \n",
    "`bool` here is a boolean expression, evaluating to either **`True`** or **`False`**\n",
    "\n",
    "Think of this as a fork in the road. Python will read the boolean at the top, then if it is **`True`**, it will execute **`code_1`** not **`code_2`**\n",
    "\n",
    "If it is **`False`**, it will skip **`code_1`** and only execute **`code_2`**\n",
    "\n",
    "Let's look at some examples"
   ]
  },
  {
   "cell_type": "code",
   "execution_count": 0,
   "metadata": {
    "application/vnd.databricks.v1+cell": {
     "cellMetadata": {
      "byteLimit": 2048000,
      "rowLimit": 10000
     },
     "inputWidgets": {},
     "nuid": "3c2943cf-5270-4075-88f6-b7816ff87d95",
     "showTitle": false,
     "title": ""
    }
   },
   "outputs": [
    {
     "output_type": "stream",
     "name": "stdout",
     "output_type": "stream",
     "text": [
      "True\n"
     ]
    }
   ],
   "source": [
    "if True:\n",
    "    print(\"True\")\n",
    "else:\n",
    "    print(\"False\")"
   ]
  },
  {
   "cell_type": "code",
   "execution_count": 0,
   "metadata": {
    "application/vnd.databricks.v1+cell": {
     "cellMetadata": {
      "byteLimit": 2048000,
      "rowLimit": 10000
     },
     "inputWidgets": {},
     "nuid": "97d5db54-cfc7-4d8b-a498-81abf34c9991",
     "showTitle": false,
     "title": ""
    }
   },
   "outputs": [],
   "source": [
    "# A more practical example\n",
    "# Enter a number (at the top of the display)\n",
    "dbutils.widgets.text(\"input\", \"1\", \"Enter a number from 1 - 10\")  #We're setting 1 as the default value\n",
    "input = dbutils.widgets.get(\"input\")"
   ]
  },
  {
   "cell_type": "code",
   "execution_count": 0,
   "metadata": {
    "application/vnd.databricks.v1+cell": {
     "cellMetadata": {
      "byteLimit": 2048000,
      "rowLimit": 10000
     },
     "inputWidgets": {},
     "nuid": "85235162-d2f6-47b5-91cd-a41c936e894f",
     "showTitle": false,
     "title": ""
    }
   },
   "outputs": [
    {
     "output_type": "stream",
     "name": "stdout",
     "output_type": "stream",
     "text": [
      "Valid Input\n"
     ]
    }
   ],
   "source": [
    "# Evaluate the input\n",
    "\n",
    "input_as_number = int(input)\n",
    "if input_as_number >= 1 and input_as_number <= 10:\n",
    "    print(\"Valid Input\")\n",
    "else:\n",
    "    print(\"Invalid Input\")\n",
    "    \n",
    "# Remove the widget\n",
    "dbutils.widgets.remove(\"input\")"
   ]
  },
  {
   "cell_type": "markdown",
   "metadata": {
    "application/vnd.databricks.v1+cell": {
     "cellMetadata": {},
     "inputWidgets": {},
     "nuid": "90ac0c64-ebc9-4cb2-986b-fc90ab4f1777",
     "showTitle": false,
     "title": "--i18n-d521ae49-84e2-42e1-88e2-ec13549e726d"
    }
   },
   "source": [
    "\n",
    "\n",
    "### Indentation\n",
    "\n",
    "Notice the [indentation](https://www.w3schools.com/python/gloss_python_if_indentation.asp) in the **if-statement**. While this does make the code more legible, **this is actually necessary for the code to run**.\n",
    "\n",
    "Python reads the indentations to understand what code is inside the **if** and **else** blocks. \n",
    "\n",
    "According to Python standards, indentation should be 4 spaces, but the **`Tab`** key is a short cut."
   ]
  },
  {
   "cell_type": "markdown",
   "metadata": {
    "application/vnd.databricks.v1+cell": {
     "cellMetadata": {},
     "inputWidgets": {},
     "nuid": "f5f9ae5f-8607-424d-bf84-bb7b83643e23",
     "showTitle": false,
     "title": "--i18n-694f3cf9-552d-4daa-ab39-8f68e0d28514"
    }
   },
   "source": [
    "\n",
    "\n",
    "## Operators\n",
    "\n",
    "Now that we can use **if-statements**, let's take a look at some boolean expressions we can use with them. \n",
    "\n",
    "Recall the boolean operators **`and`**, **`or`**, and **`not`**.\n",
    "\n",
    "Python will evaluate the boolean expression of an **if-statement** to **`True`** or **`False`**, and then act accordingly. \n",
    "\n",
    "So far we have only seen expressions composed of one type that evaluate to the same type.\n",
    "\n",
    "For example:\n",
    "\n",
    "**`True or False -> True`**\n",
    "\n",
    "**`1 + 2 -> 3`**\n",
    "\n",
    "We can also have expressions composed of one type that evaluate to a different type. \n",
    "\n",
    "We'll look at the **`<`**, **`>`**, **`<=`**, **`>=`**, **`==`**, and **`!=`** operators, which are defined for multiple other types but evaluate to booleans. \n",
    "\n",
    "\n",
    "| <    | > | <= | >= | == | != |\n",
    "| ----------- | ----------- | ----------- | ----------- | ----------- | ----------- |\n",
    "| Less than   | Greater than    | Less than or equal to     | Greater than or equal to    | Equal to     | Not equal to      |\n",
    "| **`a < b -> bool`**    | **`a > b -> bool`**        |**`a <= b -> bool`**   | **`a >= b -> bool`**       |**`a == b -> bool`**   | **`a != b -> bool`**      |\n",
    "\n",
    "**Note:** **`=`** is used for variable assignment, **`==`** is used for equality comparison"
   ]
  },
  {
   "cell_type": "code",
   "execution_count": 0,
   "metadata": {
    "application/vnd.databricks.v1+cell": {
     "cellMetadata": {
      "byteLimit": 2048000,
      "rowLimit": 10000
     },
     "inputWidgets": {},
     "nuid": "92344c44-77d7-4394-9152-9b3dd02009c1",
     "showTitle": false,
     "title": ""
    }
   },
   "outputs": [
    {
     "output_type": "stream",
     "name": "stdout",
     "output_type": "stream",
     "text": [
      "True\nTrue\nFalse\nTrue\n"
     ]
    }
   ],
   "source": [
    "print(1 == 1)\n",
    "print(1.5 != 2.5)\n",
    "print(\"abc\" == \"xyz\")\n",
    "print(True == True)"
   ]
  },
  {
   "cell_type": "markdown",
   "metadata": {
    "application/vnd.databricks.v1+cell": {
     "cellMetadata": {},
     "inputWidgets": {},
     "nuid": "353cc6dc-3700-471c-89c5-4cf1bf151479",
     "showTitle": false,
     "title": "--i18n-12aa040d-a993-49d0-b3c8-a19fbc6b0a12"
    }
   },
   "source": [
    "\n",
    "\n",
    "Let's use these operators to see if we should buy lunch based on its price. We'll have a budget of 15 dollars for lunch, but might be willing to go a bit over that if the food is really good."
   ]
  },
  {
   "cell_type": "code",
   "execution_count": 0,
   "metadata": {
    "application/vnd.databricks.v1+cell": {
     "cellMetadata": {
      "byteLimit": 2048000,
      "rowLimit": 10000
     },
     "inputWidgets": {},
     "nuid": "36a37ab0-298c-45f4-9d15-e324d10dde45",
     "showTitle": false,
     "title": ""
    }
   },
   "outputs": [
    {
     "output_type": "stream",
     "name": "stdout",
     "output_type": "stream",
     "text": [
      "Too expensive\n"
     ]
    }
   ],
   "source": [
    "lunch_price = 20\n",
    "\n",
    "if lunch_price <= 15:\n",
    "    print(\"Buy it!\")\n",
    "else:\n",
    "    print(\"Too expensive\")\n",
    "    "
   ]
  },
  {
   "cell_type": "markdown",
   "metadata": {
    "application/vnd.databricks.v1+cell": {
     "cellMetadata": {},
     "inputWidgets": {},
     "nuid": "55f35357-58a6-4344-8d53-af39beb81670",
     "showTitle": false,
     "title": "--i18n-a634486b-b213-4e83-b920-288aa64c0dc8"
    }
   },
   "source": [
    "\n",
    "\n",
    "The code inside the **if** or **else** block can be anything, even another **if statement**."
   ]
  },
  {
   "cell_type": "code",
   "execution_count": 0,
   "metadata": {
    "application/vnd.databricks.v1+cell": {
     "cellMetadata": {
      "byteLimit": 2048000,
      "rowLimit": 10000
     },
     "inputWidgets": {},
     "nuid": "25ccad31-6209-46cc-804b-e183e9c3088f",
     "showTitle": false,
     "title": ""
    }
   },
   "outputs": [
    {
     "output_type": "stream",
     "name": "stdout",
     "output_type": "stream",
     "text": [
      "Is it really good?\n"
     ]
    }
   ],
   "source": [
    "if lunch_price <= 15:\n",
    "    print(\"Buy it!\")\n",
    "else:\n",
    "    if lunch_price < 25:\n",
    "        print(\"Is it really good?\")\n",
    "    else:\n",
    "        print(\"This better be the best food of all time\")"
   ]
  },
  {
   "cell_type": "markdown",
   "metadata": {
    "application/vnd.databricks.v1+cell": {
     "cellMetadata": {},
     "inputWidgets": {},
     "nuid": "eab8189a-eb4a-4e36-be48-5a9de975938d",
     "showTitle": false,
     "title": "--i18n-ae3c161b-53c5-4e87-99af-43ddf67ea92c"
    }
   },
   "source": [
    "\n",
    "\n",
    "## elif\n",
    "\n",
    "We can expand if-statements to consider multiple boolean expressions by adding **elif statements**.\n",
    "\n",
    "We write them as follows:\n",
    "\n",
    "\n",
    "    if bool:\n",
    "        code_1\n",
    "    elif bool:\n",
    "        code_2\n",
    "    elif bool:\n",
    "        code_3\n",
    "    .\n",
    "    .\n",
    "    .\n",
    "    else:\n",
    "        code_last\n",
    "      \n",
    "We can include multiple **elif statements**. \n",
    "\n",
    "Python evaluates the boolean expressions starting from the top. If a boolean expression evaluates to **`True`**, Python executes the commands in the following code block and then skips all subsequent **elif** and **else** clauses.\n",
    "\n",
    "If none of the boolean expressions evaluate to **`True`**, Python runs the **else** code block."
   ]
  },
  {
   "cell_type": "code",
   "execution_count": 0,
   "metadata": {
    "application/vnd.databricks.v1+cell": {
     "cellMetadata": {
      "byteLimit": 2048000,
      "rowLimit": 10000
     },
     "inputWidgets": {},
     "nuid": "99260fb4-591b-4743-8f12-775b64d2ef27",
     "showTitle": false,
     "title": ""
    }
   },
   "outputs": [
    {
     "output_type": "stream",
     "name": "stdout",
     "output_type": "stream",
     "text": [
      "Buy it!\n"
     ]
    }
   ],
   "source": [
    "lunch_price = 15\n",
    "\n",
    "if lunch_price == 10:\n",
    "    print(\"10 dollars exactly! Buy it!\")\n",
    "elif lunch_price <= 15:\n",
    "    print(\"Buy it!\")\n",
    "elif lunch_price < 25:\n",
    "    print(\"Is it really good?\")\n",
    "else:\n",
    "    print(\"This better be the best food of all time\")"
   ]
  },
  {
   "cell_type": "markdown",
   "metadata": {
    "application/vnd.databricks.v1+cell": {
     "cellMetadata": {},
     "inputWidgets": {},
     "nuid": "1e2df546-2cfa-4c3f-aac2-7d73aab681da",
     "showTitle": false,
     "title": "--i18n-476a176d-4416-4cb1-845b-bb9c6f3db3d0"
    }
   },
   "source": [
    "## The pass Statement\n",
    "Sometimes, when using **`if`** `statements or other control flow structures, you need a no-op or placeholder for code that you plan to implement later. In such cases, you can use the **`pass`** statement. \n",
    "\n",
    "[The **`pass`** statement](https://www.w3schools.com/python/ref_keyword_pass.asp) does nothing, allowing you to maintain the structure of your code without executing any specific actions.\n",
    "\n",
    "Let's look at an example of how the **`pass`** statement is used:"
   ]
  },
  {
   "cell_type": "code",
   "execution_count": 0,
   "metadata": {
    "application/vnd.databricks.v1+cell": {
     "cellMetadata": {
      "byteLimit": 2048000,
      "rowLimit": 10000
     },
     "inputWidgets": {},
     "nuid": "b092ada1-7869-425e-b3a9-32eb0932e7bd",
     "showTitle": false,
     "title": ""
    }
   },
   "outputs": [],
   "source": [
    "if True:\n",
    "    # Code to be added later or do nothing \n",
    "    pass\n",
    "else:\n",
    "    # Code to be added later or do nothing\n",
    "    pass"
   ]
  },
  {
   "cell_type": "markdown",
   "metadata": {
    "application/vnd.databricks.v1+cell": {
     "cellMetadata": {},
     "inputWidgets": {},
     "nuid": "a8b70279-7c60-49a4-ad73-736556ffbf4e",
     "showTitle": false,
     "title": "--i18n-fcb1cc15-25d3-419d-95a0-b4183c6674ff"
    }
   },
   "source": [
    "\n",
    "The **`pass`** statement serves as a placeholder, ensuring your code remains syntactically correct. It is often used when you're outlining your code and need to leave room for future development."
   ]
  },
  {
   "cell_type": "markdown",
   "metadata": {
    "application/vnd.databricks.v1+cell": {
     "cellMetadata": {},
     "inputWidgets": {},
     "nuid": "b1668404-8e11-40de-8e0c-6101c315cb86",
     "showTitle": false,
     "title": "--i18n-82b070bf-589d-4791-b85c-66f51b170b76"
    }
   },
   "source": [
    "\n",
    "\n",
    "## Dog Breed Recommendations\n",
    "\n",
    "Suppose we are helping people to pick a dog breed where users provide the following information:\n",
    "\n",
    "* **`dog_person`**: Boolean representing if they are a dog person or not\n",
    "* **`cat_person`**: Boolean representing if they are a cat person or not\n",
    "* **`age`**: The user's age\n",
    "\n",
    "Based on the user's input to these questions, we print out a recommendation. \n",
    "\n",
    "Our application works like this:\n",
    "\n",
    "* If the user is not an adult (under the age of 18), we tell them to ask their parents for permission. \n",
    "\n",
    "* Otherwise, \n",
    "\n",
    "  * If they are both a dog person and a cat person, we recommend Golden Retriever, since they get along well with cats.\n",
    "  * If they are a dog person, but not a cat person, we recommend Scottish Deerhound, since they are known to chase cats.\n",
    "  * If they are a cat person, but not a dog person, we tell them they're barking up the wrong tree.\n",
    "  * Finally, if they are neither a dog person or a cat person, we ask them to evaluate whether a pet is right for them."
   ]
  },
  {
   "cell_type": "code",
   "execution_count": 0,
   "metadata": {
    "application/vnd.databricks.v1+cell": {
     "cellMetadata": {
      "byteLimit": 2048000,
      "rowLimit": 10000
     },
     "inputWidgets": {},
     "nuid": "980eefd6-5af2-4846-97b3-4d841fa46f1a",
     "showTitle": false,
     "title": ""
    }
   },
   "outputs": [
    {
     "output_type": "stream",
     "name": "stdout",
     "output_type": "stream",
     "text": [
      "Golden Retriever\n"
     ]
    }
   ],
   "source": [
    "dog_person = True\n",
    "cat_person = True\n",
    "age = 30\n",
    "\n",
    "if age < 18:\n",
    "    print(\"Ask your parents for permission!\")\n",
    "else:\n",
    "    if dog_person and cat_person: # implicitly evaluates dog_person == True and cat_person == True, so can omit the == True\n",
    "        print(\"Golden Retriever\")\n",
    "    elif dog_person and not cat_person:\n",
    "        print(\"Scottish Deerhound\")\n",
    "    elif cat_person and not dog_person:\n",
    "        print(\"You're barking up the wrong tree!\")\n",
    "    else:\n",
    "        print(\"Are you sure a pet is right for you?\")"
   ]
  },
  {
   "cell_type": "markdown",
   "metadata": {
    "application/vnd.databricks.v1+cell": {
     "cellMetadata": {},
     "inputWidgets": {},
     "nuid": "67da8253-d981-40de-a352-e1c5ccdeae3a",
     "showTitle": false,
     "title": "--i18n-5ba1204e-82df-4060-8c87-a981b3843075"
    }
   },
   "source": [
    "\n",
    "\n",
    "We could also write it as shown below, making sure we are mindful of the order of boolean conditions. Remember that at the first **`True`** Python will stop."
   ]
  },
  {
   "cell_type": "code",
   "execution_count": 0,
   "metadata": {
    "application/vnd.databricks.v1+cell": {
     "cellMetadata": {
      "byteLimit": 2048000,
      "rowLimit": 10000
     },
     "inputWidgets": {},
     "nuid": "0effa3be-35a9-464c-9ad5-810b83bf9bae",
     "showTitle": false,
     "title": ""
    }
   },
   "outputs": [
    {
     "output_type": "stream",
     "name": "stdout",
     "output_type": "stream",
     "text": [
      "Golden Retriever\n"
     ]
    }
   ],
   "source": [
    "dog_person = True\n",
    "cat_person = True\n",
    "age = 30\n",
    "\n",
    "if age < 18:\n",
    "    print(\"Ask your parents for permission!\")\n",
    "elif dog_person and cat_person:\n",
    "    print(\"Golden Retriever\")\n",
    "elif dog_person and not cat_person:\n",
    "    print(\"Scottish Deerhound\")\n",
    "elif cat_person and not dog_person:\n",
    "    print(\"You're barking up the wrong tree!\")\n",
    "else:\n",
    "    print(\"Are you sure a pet is right for you?\")"
   ]
  },
  {
   "cell_type": "markdown",
   "metadata": {
    "application/vnd.databricks.v1+cell": {
     "cellMetadata": {},
     "inputWidgets": {},
     "nuid": "29e0035b-9bbd-499e-96e2-b117d091d584",
     "showTitle": false,
     "title": ""
    }
   },
   "source": [
    "&copy; 2023 Databricks, Inc. All rights reserved.<br/>\n",
    "Apache, Apache Spark, Spark and the Spark logo are trademarks of the <a href=\"https://www.apache.org/\">Apache Software Foundation</a>.<br/>\n",
    "<br/>\n",
    "<a href=\"https://databricks.com/privacy-policy\">Privacy Policy</a> | <a href=\"https://databricks.com/terms-of-use\">Terms of Use</a> | <a href=\"https://help.databricks.com/\">Support</a>"
   ]
  }
 ],
 "metadata": {
  "application/vnd.databricks.v1+notebook": {
   "dashboards": [],
   "environmentMetadata": null,
   "language": "python",
   "notebookMetadata": {
    "pythonIndentUnit": 2
   },
   "notebookName": "ITP 02 - Control Flow",
   "widgets": {}
  }
 },
 "nbformat": 4,
 "nbformat_minor": 0
}

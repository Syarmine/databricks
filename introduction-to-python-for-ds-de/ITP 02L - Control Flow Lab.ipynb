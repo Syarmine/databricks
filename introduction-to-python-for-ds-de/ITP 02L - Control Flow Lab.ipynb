{
 "cells": [
  {
   "cell_type": "markdown",
   "metadata": {
    "application/vnd.databricks.v1+cell": {
     "cellMetadata": {},
     "inputWidgets": {},
     "nuid": "29914dbf-ca47-4d67-ae05-a65fec624751",
     "showTitle": false,
     "title": ""
    }
   },
   "source": [
    "\n",
    "<div style=\"text-align: center; line-height: 0; padding-top: 9px;\">\n",
    "  <img src=\"https://databricks.com/wp-content/uploads/2018/03/db-academy-rgb-1200px.png\" alt=\"Databricks Learning\" style=\"width: 600px\">\n",
    "</div>"
   ]
  },
  {
   "cell_type": "markdown",
   "metadata": {
    "application/vnd.databricks.v1+cell": {
     "cellMetadata": {},
     "inputWidgets": {},
     "nuid": "71e3812b-0ec3-4b05-a962-8c793ccf995b",
     "showTitle": false,
     "title": "--i18n-4db476c9-19cb-4f89-ba8b-105c88ebcdea"
    }
   },
   "source": [
    "\n",
    "\n",
    "# Control Flow\n",
    "\n",
    "## ![Spark Logo Tiny](https://files.training.databricks.com/images/105/logo_spark_tiny.png) In this lab you:<br>\n",
    "\n",
    "Apply basic control flow concepts in Python we learned last lesson, including:\n",
    "\n",
    "* **`if`** and **`elif`** statements\n",
    "* More boolean operators\n",
    "* Type checking"
   ]
  },
  {
   "cell_type": "markdown",
   "metadata": {
    "application/vnd.databricks.v1+cell": {
     "cellMetadata": {},
     "inputWidgets": {},
     "nuid": "c47d751e-64f3-4020-b702-b955c5b31195",
     "showTitle": false,
     "title": "--i18n-4d276a26-f723-4ccc-bfe5-3ad2c0b14f90"
    }
   },
   "source": [
    "\n",
    "\n",
    "### Food Recommender\n",
    "\n",
    "For this lab, write the control flow logic for the following food recommender. Users provide the following input:\n",
    "\n",
    "*  **`temperature`**: A float representing the temperature outside (in Fahrenheit)\n",
    "*  **`sunny`**: A boolean set to **`True`** if it is sunny outside, **`False`** otherwise. \n",
    "\n",
    "Write the system to print the following recommendations:\n",
    "\n",
    "* If it is at least 60 degrees outside AND it is sunny, recommend `ice cream`.\n",
    "* If it is at least 60 degrees outside, but it is not sunny, recommend `dumplings`.\n",
    "* If it is less than 60 degrees, regardless of the weather, recommend `hot tea`."
   ]
  },
  {
   "cell_type": "code",
   "execution_count": 0,
   "metadata": {
    "application/vnd.databricks.v1+cell": {
     "cellMetadata": {
      "byteLimit": 2048000,
      "rowLimit": 10000
     },
     "inputWidgets": {},
     "nuid": "28bc2fa2-972f-41ce-983d-659b389a1bf5",
     "showTitle": false,
     "title": ""
    }
   },
   "outputs": [
    {
     "output_type": "stream",
     "name": "stdout",
     "output_type": "stream",
     "text": [
      "dumplings\n"
     ]
    }
   ],
   "source": [
    "# TODO\n",
    "temperature = 72.0\n",
    "sunny = False\n",
    "\n",
    "if temperature >= 60.0 and sunny:\n",
    "    print(\"ice cream\")\n",
    "elif temperature >= 60.0 and not sunny:\n",
    "    print(\"dumplings\")\n",
    "else:\n",
    "    print(\"hot tea\")"
   ]
  },
  {
   "cell_type": "markdown",
   "metadata": {
    "application/vnd.databricks.v1+cell": {
     "cellMetadata": {},
     "inputWidgets": {},
     "nuid": "bebd67ca-fad3-4d14-b309-0c11fcb700e1",
     "showTitle": false,
     "title": "--i18n-7f61fbe1-880d-450f-b1df-26c7450378cc"
    }
   },
   "source": [
    "\n",
    "\n",
    "Try changing the values of **`temperature`** and **`sunny`** and make sure it recommends the proper foods!"
   ]
  },
  {
   "cell_type": "markdown",
   "metadata": {
    "application/vnd.databricks.v1+cell": {
     "cellMetadata": {},
     "inputWidgets": {},
     "nuid": "7415f6b0-fbaf-440d-a3b2-ee8c0aa3b03e",
     "showTitle": false,
     "title": "--i18n-9ff5549b-cf14-4943-b89d-fd65ee6a260a"
    }
   },
   "source": [
    "\n",
    "\n",
    "## Bonus Exercise \n",
    "\n",
    "For this part of the lab, write the control flow logic for car maintenance. Users provide the following input:\n",
    "\n",
    "*  **`km_since_last_change`**: An integer representing the number of kilometers since the last oil change\n",
    "*  **`oil_change_light`**: A boolean set to **`True`** if the oil change light is on, **`False`** otherwise. \n",
    "\n",
    "Write the system to print the following recommendations:\n",
    "\n",
    "* If it is at least 15000 kilometers since last oil change AND the light is on, recommend `oil change`.\n",
    "* If it is at least 15000 kilometers since last oil change AND the light is off, recommend `wait`.\n",
    "* If it is less than 15000 kilometers since last oil change regardless of the light, recommend `wait`."
   ]
  },
  {
   "cell_type": "code",
   "execution_count": 0,
   "metadata": {
    "application/vnd.databricks.v1+cell": {
     "cellMetadata": {
      "byteLimit": 2048000,
      "rowLimit": 10000
     },
     "inputWidgets": {},
     "nuid": "6656bf5d-42d5-4e51-b1ce-b65363b62c71",
     "showTitle": false,
     "title": ""
    }
   },
   "outputs": [
    {
     "output_type": "stream",
     "name": "stdout",
     "output_type": "stream",
     "text": [
      "oil change\n"
     ]
    }
   ],
   "source": [
    "# TODO\n",
    "km_since_last_change = 15000\n",
    "oil_change_light = True\n",
    "\n",
    "if km_since_last_change >= 15000 and oil_change_light:\n",
    "    print(\"oil change\")\n",
    "elif km_since_last_change >= 15000 and not oil_change_light:\n",
    "    print(\"wait\")\n",
    "else:\n",
    "    print(\"wait longer\")"
   ]
  },
  {
   "cell_type": "markdown",
   "metadata": {
    "application/vnd.databricks.v1+cell": {
     "cellMetadata": {},
     "inputWidgets": {},
     "nuid": "f2e834f3-2938-49db-b38d-bff16f3bf508",
     "showTitle": false,
     "title": "--i18n-5cbae134-c726-4874-b416-a2b802236a6f"
    }
   },
   "source": [
    "\n",
    "### Bonus Exercise\n",
    "\n",
    "A year is considered a leap year if it.\n",
    "- Is evenly divisible by 4 AND ...\n",
    "  - Is either evenly divisible by 400 (e.g. 2000 was a leap year) OR not evenly divisible by 100 (e.g. 2100 will not be a leap year).\n",
    "- How do you know if a number is evenly divisible by another number?\n",
    "  - Modulo division\n",
    "    - 2000 % 4 == 0: True\n",
    "    - 1901 % 4 == 0: False\n",
    "  \n",
    "Write code to implement the logic described above.\n",
    "- Name the independent variable __year__.\n",
    "- Name the dependent variable named __is_leap_year__.\n",
    "- Test the code for the following years:\n",
    "  - 1900\n",
    "  - 1901\n",
    "  - 1904\n",
    "  - 2000\n",
    "\n",
    "**Hint**: The nested indentation in the instruction suggests that nested logic may be appropriate here."
   ]
  },
  {
   "cell_type": "code",
   "execution_count": 0,
   "metadata": {
    "application/vnd.databricks.v1+cell": {
     "cellMetadata": {
      "byteLimit": 2048000,
      "rowLimit": 10000
     },
     "inputWidgets": {},
     "nuid": "a08bd468-94f3-4557-ba9f-425b32ec77b0",
     "showTitle": false,
     "title": ""
    }
   },
   "outputs": [],
   "source": [
    "dbutils.widgets.text(\"year\", \"2022\", \"Enter Year Here\")"
   ]
  },
  {
   "cell_type": "code",
   "execution_count": 0,
   "metadata": {
    "application/vnd.databricks.v1+cell": {
     "cellMetadata": {
      "byteLimit": 2048000,
      "rowLimit": 10000
     },
     "inputWidgets": {},
     "nuid": "597150b7-5932-4ea5-a5e8-0b8a4849e00f",
     "showTitle": false,
     "title": ""
    }
   },
   "outputs": [],
   "source": [
    "year = int(dbutils.widgets.get(\"year\"))\n",
    "is_leap_year = False\n",
    "if year % 4 == 0:\n",
    "    if year % 400 == 0 or year % 100 != 0:\n",
    "        is_leap_year = True"
   ]
  },
  {
   "cell_type": "code",
   "execution_count": 0,
   "metadata": {
    "application/vnd.databricks.v1+cell": {
     "cellMetadata": {
      "byteLimit": 2048000,
      "rowLimit": 10000
     },
     "inputWidgets": {},
     "nuid": "9dfb881b-c56b-4235-98fb-677808aff241",
     "showTitle": false,
     "title": ""
    }
   },
   "outputs": [],
   "source": [
    "# Check your work\n",
    "\n",
    "if year == 1900:\n",
    "    assert year == 1900 and is_leap_year == False, \"Error: 1900 was not a leap year\"\n",
    "elif year == 1901:\n",
    "    assert year == 1901 and is_leap_year == False, \"Error: 1901 was not a leap year\"\n",
    "elif year == 1904:\n",
    "    assert year == 1904 and is_leap_year == True, \"Error: 1904 was a leap year\"\n",
    "elif year == 2000:\n",
    "    assert year == 2000 and is_leap_year == True, \"Error: 2000 was a leap year\""
   ]
  },
  {
   "cell_type": "code",
   "execution_count": 0,
   "metadata": {
    "application/vnd.databricks.v1+cell": {
     "cellMetadata": {
      "byteLimit": 2048000,
      "rowLimit": 10000
     },
     "inputWidgets": {},
     "nuid": "afbf8eaf-d1ec-4ed8-abba-bf2c4b30ee37",
     "showTitle": false,
     "title": ""
    }
   },
   "outputs": [],
   "source": [
    "dbutils.widgets.remove(\"year\")"
   ]
  },
  {
   "cell_type": "markdown",
   "metadata": {
    "application/vnd.databricks.v1+cell": {
     "cellMetadata": {},
     "inputWidgets": {},
     "nuid": "04c12084-54cb-4aa8-9a79-7ebf2ea0ae10",
     "showTitle": false,
     "title": ""
    }
   },
   "source": [
    "&copy; 2023 Databricks, Inc. All rights reserved.<br/>\n",
    "Apache, Apache Spark, Spark and the Spark logo are trademarks of the <a href=\"https://www.apache.org/\">Apache Software Foundation</a>.<br/>\n",
    "<br/>\n",
    "<a href=\"https://databricks.com/privacy-policy\">Privacy Policy</a> | <a href=\"https://databricks.com/terms-of-use\">Terms of Use</a> | <a href=\"https://help.databricks.com/\">Support</a>"
   ]
  }
 ],
 "metadata": {
  "application/vnd.databricks.v1+notebook": {
   "dashboards": [],
   "environmentMetadata": null,
   "language": "python",
   "notebookMetadata": {
    "pythonIndentUnit": 4
   },
   "notebookName": "ITP 02L - Control Flow Lab",
   "widgets": {}
  }
 },
 "nbformat": 4,
 "nbformat_minor": 0
}

{
 "cells": [
  {
   "cell_type": "markdown",
   "metadata": {
    "application/vnd.databricks.v1+cell": {
     "cellMetadata": {},
     "inputWidgets": {},
     "nuid": "043bdec6-03d7-4e44-bacc-37c4bffb2a71",
     "showTitle": false,
     "title": ""
    }
   },
   "source": [
    "\n",
    "<div style=\"text-align: center; line-height: 0; padding-top: 9px;\">\n",
    "  <img src=\"https://databricks.com/wp-content/uploads/2018/03/db-academy-rgb-1200px.png\" alt=\"Databricks Learning\" style=\"width: 600px\">\n",
    "</div>"
   ]
  },
  {
   "cell_type": "markdown",
   "metadata": {
    "application/vnd.databricks.v1+cell": {
     "cellMetadata": {},
     "inputWidgets": {},
     "nuid": "ed19e1d8-afaa-40e1-9e1a-050ce7322b6e",
     "showTitle": false,
     "title": "--i18n-65df298d-79ae-4ce6-9e3a-b736cde03178"
    }
   },
   "source": [
    "\n",
    "\n",
    "# Functions\n",
    "\n",
    "## ![Spark Logo Tiny](https://files.training.databricks.com/images/105/logo_spark_tiny.png) In this lesson you:<br>\n",
    "* Define and use functions to reuse code\n",
    "  * Arguments\n",
    "  * Type hints\n",
    "* Invoke the **`help()`** function "
   ]
  },
  {
   "cell_type": "markdown",
   "metadata": {
    "application/vnd.databricks.v1+cell": {
     "cellMetadata": {},
     "inputWidgets": {},
     "nuid": "08023d8e-9375-4664-90e7-1397da1af1dd",
     "showTitle": false,
     "title": "--i18n-568cdf5f-5b84-4bf8-8709-4b58765d2640"
    }
   },
   "source": [
    "\n",
    "\n",
    "## Functions\n",
    "\n",
    "In this lesson, we're going to see how we can use <a href=\"https://www.w3schools.com/python/python_functions.asp\" target=\"_blank\">functions</a> to make code reusable.\n",
    "\n",
    "We define a function like this:\n",
    "\n",
    "      def function_name(parameters):\n",
    "          function_code\n",
    "\n",
    "\n",
    "Notice the **`def`** keyword, followed by the name of the function, any parameters in parentheses, and a colon. \n",
    "\n",
    "We've actually already been using functions: **`print()`** is a function that is pre-defined in Python."
   ]
  },
  {
   "cell_type": "code",
   "execution_count": 0,
   "metadata": {
    "application/vnd.databricks.v1+cell": {
     "cellMetadata": {
      "byteLimit": 2048000,
      "rowLimit": 10000
     },
     "inputWidgets": {},
     "nuid": "d2358076-da3d-468e-9274-f7250192ee6c",
     "showTitle": false,
     "title": ""
    }
   },
   "outputs": [
    {
     "output_type": "stream",
     "name": "stdout",
     "output_type": "stream",
     "text": [
      "1\n"
     ]
    }
   ],
   "source": [
    "print(1)"
   ]
  },
  {
   "cell_type": "markdown",
   "metadata": {
    "application/vnd.databricks.v1+cell": {
     "cellMetadata": {},
     "inputWidgets": {},
     "nuid": "35b88eac-48f8-4b91-9f2a-94f1f7171b33",
     "showTitle": false,
     "title": "--i18n-d8d44355-44a5-40a3-b8aa-30931e08d346"
    }
   },
   "source": [
    "\n",
    "\n",
    "As Python executes code, when it sees a call to our function, it jumps to the code block inside the function definition, runs that code, and then jumps back to where the function was called and resumes where it left off. \n",
    "\n",
    "Let's write a simple example function without any parameters.\n",
    "\n",
    "Let's say we have 10 US Dollars and we want to calculate the conversion from our US Dollars to Euros. As of the writing of this lesson, one dollar is roughly **0.93** Euros."
   ]
  },
  {
   "cell_type": "code",
   "execution_count": 0,
   "metadata": {
    "application/vnd.databricks.v1+cell": {
     "cellMetadata": {
      "byteLimit": 2048000,
      "rowLimit": 10000
     },
     "inputWidgets": {},
     "nuid": "b6ffa548-06b3-4a92-b6fd-b990763dba67",
     "showTitle": false,
     "title": ""
    }
   },
   "outputs": [
    {
     "output_type": "stream",
     "name": "stdout",
     "output_type": "stream",
     "text": [
      "9.3\n"
     ]
    }
   ],
   "source": [
    "def ten_dollars_to_euros():\n",
    "    print(10.0 * 0.93)\n",
    "    \n",
    "ten_dollars_to_euros()"
   ]
  },
  {
   "cell_type": "markdown",
   "metadata": {
    "application/vnd.databricks.v1+cell": {
     "cellMetadata": {},
     "inputWidgets": {},
     "nuid": "9a7fbb8c-7328-4714-899f-44f1ed932626",
     "showTitle": false,
     "title": "--i18n-1a38c434-5f42-44fc-9338-b3d92a94548e"
    }
   },
   "source": [
    "\n",
    "\n",
    "Notice that we indent the code block that is inside the function. Just like with **if-statements**, we must tell Python what code belongs inside the function. Recall that we use **`Tab`** to create the indents.\n",
    "\n",
    "We can call our function as follows. Ignore **arguments** for now as we don't have any in this first example. \n",
    "\n",
    "```\n",
    "function_name(arguments)\n",
    "``` "
   ]
  },
  {
   "cell_type": "code",
   "execution_count": 0,
   "metadata": {
    "application/vnd.databricks.v1+cell": {
     "cellMetadata": {
      "byteLimit": 2048000,
      "rowLimit": 10000
     },
     "inputWidgets": {},
     "nuid": "2801ba38-1494-4b63-856c-78ca25bef279",
     "showTitle": false,
     "title": ""
    }
   },
   "outputs": [
    {
     "output_type": "stream",
     "name": "stdout",
     "output_type": "stream",
     "text": [
      "Python ran this line before the function body\n9.3\nPython ran this line after the function body\n"
     ]
    }
   ],
   "source": [
    "print(\"Python ran this line before the function body\")\n",
    "\n",
    "ten_dollars_to_euros()\n",
    "\n",
    "print(\"Python ran this line after the function body\")"
   ]
  },
  {
   "cell_type": "markdown",
   "metadata": {
    "application/vnd.databricks.v1+cell": {
     "cellMetadata": {},
     "inputWidgets": {},
     "nuid": "0bd188e0-8da4-4790-8fea-26bcc4c13354",
     "showTitle": false,
     "title": "--i18n-7511c94b-96a6-462c-89d6-af36b14548d7"
    }
   },
   "source": [
    "\n",
    "\n",
    "### Parameters\n",
    "\n",
    "Often, we will want our function to take in some kind of input. Parameters are variables — placeholders for the actual values the function needs. \n",
    "\n",
    "Let's consider our dollar to euro conversion example. Rather than having our function only convert 10 dollars to euros, it would be better if we could pass in any dollar amount and have that converted to euros. \n",
    "\n",
    "We can do that by having a parameter representing the **`dollar_amount`** we want the convert."
   ]
  },
  {
   "cell_type": "code",
   "execution_count": 0,
   "metadata": {
    "application/vnd.databricks.v1+cell": {
     "cellMetadata": {
      "byteLimit": 2048000,
      "rowLimit": 10000
     },
     "inputWidgets": {},
     "nuid": "b3617e75-b304-4c43-b8aa-4d22a3440bf5",
     "showTitle": false,
     "title": ""
    }
   },
   "outputs": [],
   "source": [
    "def dollars_to_euros(dollar_amount):\n",
    "    print(dollar_amount * 0.93)"
   ]
  },
  {
   "cell_type": "markdown",
   "metadata": {
    "application/vnd.databricks.v1+cell": {
     "cellMetadata": {},
     "inputWidgets": {},
     "nuid": "23898a20-f684-4b9a-bd14-d26bd5ef94e6",
     "showTitle": false,
     "title": "--i18n-4c927ca4-1ba3-4ee8-a691-9c4a421c99ee"
    }
   },
   "source": [
    "\n",
    "\n",
    "### Arguments\n",
    "\n",
    "If our function has parameters, we need to specify what values we want our parameters to have. In our example, we need to provide a value for the **`dollar_amount`** parameter. We do so by including the value within the parentheses when we call the function, just as we did when we provided a value for **`print()`** to display.\n",
    "\n",
    "The value that we pass to our function is called an [**argument**](https://www.w3schools.com/python/gloss_python_function_arguments.asp). In other words, executing **`dollars_to_euros(5)`** assigns the value **`5`** to the **`dollar_amount`** parameter and then runs the function's code."
   ]
  },
  {
   "cell_type": "code",
   "execution_count": 0,
   "metadata": {
    "application/vnd.databricks.v1+cell": {
     "cellMetadata": {
      "byteLimit": 2048000,
      "rowLimit": 10000
     },
     "inputWidgets": {},
     "nuid": "9ce0652a-39eb-4359-95ac-68c18a715a89",
     "showTitle": false,
     "title": ""
    }
   },
   "outputs": [
    {
     "output_type": "stream",
     "name": "stdout",
     "output_type": "stream",
     "text": [
      "4.65\n9.3\n18.6\n"
     ]
    }
   ],
   "source": [
    "dollars_to_euros(5.0)\n",
    "dollars_to_euros(10)\n",
    "dollars_to_euros(20.0)"
   ]
  },
  {
   "cell_type": "markdown",
   "metadata": {
    "application/vnd.databricks.v1+cell": {
     "cellMetadata": {},
     "inputWidgets": {},
     "nuid": "a7826666-4e63-4231-9b2f-9da8f6684f3f",
     "showTitle": false,
     "title": "--i18n-fddb317f-15f3-44ea-bd84-2a05d88b80f4"
    }
   },
   "source": [
    "\n",
    "\n",
    "### Multiple Parameters\n",
    "\n",
    "We can create a function with multiple parameters by defining multiple parameters separated by commas.\n",
    "\n",
    "For example, let's specify the **`conversion_rate`** in addition to the **`dollar_amount`** when we call the function, in case it changes in the future."
   ]
  },
  {
   "cell_type": "code",
   "execution_count": 0,
   "metadata": {
    "application/vnd.databricks.v1+cell": {
     "cellMetadata": {
      "byteLimit": 2048000,
      "rowLimit": 10000
     },
     "inputWidgets": {},
     "nuid": "1d713753-11a4-4ce4-acf8-23826fc26194",
     "showTitle": false,
     "title": ""
    }
   },
   "outputs": [],
   "source": [
    "def dollars_to_euros_with_rate(dollar_amount, conversion_rate):\n",
    "    print(dollar_amount * conversion_rate)"
   ]
  },
  {
   "cell_type": "markdown",
   "metadata": {
    "application/vnd.databricks.v1+cell": {
     "cellMetadata": {},
     "inputWidgets": {},
     "nuid": "9e255bb7-e977-4e47-9457-2a5548bc7bf3",
     "showTitle": false,
     "title": "--i18n-19d2ba46-1dd6-48f6-b538-103e590886c4"
    }
   },
   "source": [
    "\n",
    "\n",
    "When we invoke this new function we must provide a value for each of the function's parameters, separated by commas."
   ]
  },
  {
   "cell_type": "code",
   "execution_count": 0,
   "metadata": {
    "application/vnd.databricks.v1+cell": {
     "cellMetadata": {
      "byteLimit": 2048000,
      "rowLimit": 10000
     },
     "inputWidgets": {},
     "nuid": "4e7e3130-f130-430e-a851-fb412c0adae1",
     "showTitle": false,
     "title": ""
    }
   },
   "outputs": [
    {
     "output_type": "stream",
     "name": "stdout",
     "output_type": "stream",
     "text": [
      "9.3\n5.0\n"
     ]
    }
   ],
   "source": [
    "dollars_to_euros_with_rate(10.0, 0.93)\n",
    "dollars_to_euros_with_rate(5.0, 1.0)\n",
    "# dollars_to_euros_with_rate(5.0) # This will error"
   ]
  },
  {
   "cell_type": "markdown",
   "metadata": {
    "application/vnd.databricks.v1+cell": {
     "cellMetadata": {},
     "inputWidgets": {},
     "nuid": "3460d4b7-64e1-44fb-9b03-74024fa8ee09",
     "showTitle": false,
     "title": "--i18n-f7b40184-12b1-4076-81b0-409dec886b3b"
    }
   },
   "source": [
    "\n",
    "This pattern of function invocation illustrates **positional arguments**. We call them as such because we're relying on the position or ordering of the arguments to specify the function parameter values. This means that the first argument will be assigned to the first parameter, the second argument to the second parameter, and so on."
   ]
  },
  {
   "cell_type": "markdown",
   "metadata": {
    "application/vnd.databricks.v1+cell": {
     "cellMetadata": {},
     "inputWidgets": {},
     "nuid": "34d5417a-a74f-410d-92b5-7fcc15b553b8",
     "showTitle": false,
     "title": "--i18n-4e5652da-d220-4ca9-9e79-43913bcab298"
    }
   },
   "source": [
    "\n",
    "#### Named Invocation\n",
    "\n",
    "Most often, when we pass arguments into a function, we do it as we just did above. We provide a sequence of arguments and they are assigned to the function parameters in the same order.\n",
    "\n",
    "In the call **`dollars_to_euros_with_rate(10, 0.93)`**, **`dollar_amount`** is assigned **`10`** because **`dollar_amount`** is the first parameter and **`10`** is the first argument. Then **`conversion_rate = 0.93`** because they are the second parameter and argument.\n",
    "\n",
    "We can also pass arguments into a function as shown below, explicitly providing the names of the parameters. This is less common, but if done this way the order in which the arguments are passed does not matter."
   ]
  },
  {
   "cell_type": "code",
   "execution_count": 0,
   "metadata": {
    "application/vnd.databricks.v1+cell": {
     "cellMetadata": {
      "byteLimit": 2048000,
      "rowLimit": 10000
     },
     "inputWidgets": {},
     "nuid": "849a031e-6c77-438a-a2a8-f679e9b2509a",
     "showTitle": false,
     "title": ""
    }
   },
   "outputs": [
    {
     "output_type": "stream",
     "name": "stdout",
     "output_type": "stream",
     "text": [
      "9.3\n9.3\n"
     ]
    }
   ],
   "source": [
    "dollars_to_euros_with_rate(dollar_amount=10.0, conversion_rate=0.93)\n",
    "dollars_to_euros_with_rate(conversion_rate=0.93, dollar_amount=10.0)"
   ]
  },
  {
   "cell_type": "markdown",
   "metadata": {
    "application/vnd.databricks.v1+cell": {
     "cellMetadata": {},
     "inputWidgets": {},
     "nuid": "777d7927-d7b0-4708-a110-b35f54a8b844",
     "showTitle": false,
     "title": "--i18n-36e4e6b0-7826-11ee-b962-0242ac120002"
    }
   },
   "source": [
    "\n",
    "#### Mixed Invocation\n",
    "\n",
    "We can also invoke functions using positional and named arguments, however the **positional arguments must always be specified first**. Intuitively, this rule makes sense, since positioning becomes irrelevant once we're naming arguments.\n",
    "\n",
    "Here is an example of this hybrid usage. By virtue of its position, **`dollar_amount`** is assigned the value **`10.0`** (since it appears first in the function declaration), and **`conversion_rate`** is specified by name.\n",
    "\n",
    "Note that the second invocation would fail, because we'd be attempting to assign **`dollar_amount`** twice: once implicitly through a positional argument, and again by name."
   ]
  },
  {
   "cell_type": "code",
   "execution_count": 0,
   "metadata": {
    "application/vnd.databricks.v1+cell": {
     "cellMetadata": {
      "byteLimit": 2048000,
      "rowLimit": 10000
     },
     "inputWidgets": {},
     "nuid": "31149ea5-3695-4a83-8d76-92119888284a",
     "showTitle": false,
     "title": ""
    }
   },
   "outputs": [
    {
     "output_type": "stream",
     "name": "stdout",
     "output_type": "stream",
     "text": [
      "9.3\n"
     ]
    }
   ],
   "source": [
    "dollars_to_euros_with_rate(10.0, conversion_rate=0.93)\n",
    "# dollars_to_euros_with_rate(10.0, dollar_amount=0.93) # this would error"
   ]
  },
  {
   "cell_type": "markdown",
   "metadata": {
    "application/vnd.databricks.v1+cell": {
     "cellMetadata": {},
     "inputWidgets": {},
     "nuid": "b8341bbf-03b8-4832-b84d-8bf85c67b815",
     "showTitle": false,
     "title": "--i18n-6bdc03a2-ebb6-4b4d-b5dd-032a434d9694"
    }
   },
   "source": [
    "\n",
    "\n",
    "### Default Parameter Values\n",
    "\n",
    "Sometimes it is useful to have [default values](https://www.w3schools.com/python/gloss_python_function_default_parameter.asp) for parameters. \n",
    "\n",
    "In our dollar to euro conversion example, we might want **`conversion_rate`** to be **`0.93`**, the current conversion rate, unless otherwise specified. \n",
    "\n",
    "We can define default values for parameters like this: \n",
    "\n",
    "```\n",
    "def func(params, param=default_value):\n",
    "      code\n",
    "\n",
    "```"
   ]
  },
  {
   "cell_type": "code",
   "execution_count": 0,
   "metadata": {
    "application/vnd.databricks.v1+cell": {
     "cellMetadata": {
      "byteLimit": 2048000,
      "rowLimit": 10000
     },
     "inputWidgets": {},
     "nuid": "daf44a39-d226-438a-b5e7-ecabe0a9e8b9",
     "showTitle": false,
     "title": ""
    }
   },
   "outputs": [],
   "source": [
    "def dollar_to_euro_with_default(dollar_amount, conversion_rate=0.93):\n",
    "    print(dollar_amount * conversion_rate)"
   ]
  },
  {
   "cell_type": "markdown",
   "metadata": {
    "application/vnd.databricks.v1+cell": {
     "cellMetadata": {},
     "inputWidgets": {},
     "nuid": "c03078a4-a5b8-49b2-98a4-340322d51b5d",
     "showTitle": false,
     "title": "--i18n-58cec573-c5dd-48cb-8276-a92362f460f5"
    }
   },
   "source": [
    "\n",
    "\n",
    "Now when we call this function, if we do not specify an argument for **`conversion_rate`**, it is set to **`0.93`**"
   ]
  },
  {
   "cell_type": "code",
   "execution_count": 0,
   "metadata": {
    "application/vnd.databricks.v1+cell": {
     "cellMetadata": {
      "byteLimit": 2048000,
      "rowLimit": 10000
     },
     "inputWidgets": {},
     "nuid": "e888c0a0-65ed-4810-ba6e-8892a19c4780",
     "showTitle": false,
     "title": ""
    }
   },
   "outputs": [
    {
     "output_type": "stream",
     "name": "stdout",
     "output_type": "stream",
     "text": [
      "9.3\n5.0\n"
     ]
    }
   ],
   "source": [
    "dollar_to_euro_with_default(10.0)\n",
    "dollar_to_euro_with_default(10.0, 0.5)"
   ]
  },
  {
   "cell_type": "markdown",
   "metadata": {
    "application/vnd.databricks.v1+cell": {
     "cellMetadata": {},
     "inputWidgets": {},
     "nuid": "957aa793-7218-4b95-8535-2db3c040178b",
     "showTitle": false,
     "title": "--i18n-95f77560-18ee-44d0-8b8d-1f3648916c31"
    }
   },
   "source": [
    "\n",
    "\n",
    "### Function Output\n",
    "\n",
    "So far, all of the functions we have defined only print values. If we evaluate them as an expression, we can see that they don't produce a useful result."
   ]
  },
  {
   "cell_type": "code",
   "execution_count": 0,
   "metadata": {
    "application/vnd.databricks.v1+cell": {
     "cellMetadata": {
      "byteLimit": 2048000,
      "rowLimit": 10000
     },
     "inputWidgets": {},
     "nuid": "0a706a2d-38a9-41df-93fa-bde26760b869",
     "showTitle": false,
     "title": ""
    }
   },
   "outputs": [
    {
     "output_type": "stream",
     "name": "stdout",
     "output_type": "stream",
     "text": [
      "9.3\n"
     ]
    }
   ],
   "source": [
    "a = dollar_to_euro_with_default(10.0)\n",
    "print(a)"
   ]
  },
  {
   "cell_type": "markdown",
   "metadata": {
    "application/vnd.databricks.v1+cell": {
     "cellMetadata": {},
     "inputWidgets": {},
     "nuid": "fdef81ce-70a5-47ce-a9de-8b82ab00d1c4",
     "showTitle": false,
     "title": "--i18n-02f39e81-a952-4b78-a668-258e8e4b406f"
    }
   },
   "source": [
    "\n",
    "\n",
    "Our function runs and prints 9.3 while the function body is being executed, but when we try to have Python evaluate the function as an expression, it evaluates to **`None`**. **`None`** is a special data type that represents nothing. \n",
    "\n",
    "If we want Python to evaluate our function like an expression to the value we are currently printing, we need to use the [**return**](https://www.w3schools.com/python/ref_keyword_return.asp) keyword"
   ]
  },
  {
   "cell_type": "code",
   "execution_count": 0,
   "metadata": {
    "application/vnd.databricks.v1+cell": {
     "cellMetadata": {
      "byteLimit": 2048000,
      "rowLimit": 10000
     },
     "inputWidgets": {},
     "nuid": "a58378b9-aa54-4ec5-bdac-f43250f4b268",
     "showTitle": false,
     "title": ""
    }
   },
   "outputs": [],
   "source": [
    "def dollar_to_euro_with_default(dollar_amount, conversion_rate=0.93):\n",
    "    return dollar_amount * conversion_rate"
   ]
  },
  {
   "cell_type": "code",
   "execution_count": 0,
   "metadata": {
    "application/vnd.databricks.v1+cell": {
     "cellMetadata": {
      "byteLimit": 2048000,
      "rowLimit": 10000
     },
     "inputWidgets": {},
     "nuid": "86234799-cd65-43b9-b7dc-b6462923d446",
     "showTitle": false,
     "title": ""
    }
   },
   "outputs": [
    {
     "output_type": "stream",
     "name": "stdout",
     "output_type": "stream",
     "text": [
      "9.3\n"
     ]
    }
   ],
   "source": [
    "a = dollar_to_euro_with_default(10.0)\n",
    "print(a)"
   ]
  },
  {
   "cell_type": "markdown",
   "metadata": {
    "application/vnd.databricks.v1+cell": {
     "cellMetadata": {},
     "inputWidgets": {},
     "nuid": "6fb2b2ae-f1ff-4f3b-a59f-4742ac88e81c",
     "showTitle": false,
     "title": "--i18n-97416e6a-ea97-453c-b6a9-79d314c037d6"
    }
   },
   "source": [
    "\n",
    "\n",
    "Now, with the **`return`** keyword, Python evaluates **`dollar_to_euro_with_default(10.0)`** to **`0.93`** just like how it evaluates **`10.0 * 0.93`** to **`0.93`**. Anything we want a function to produce to use outside of the function needs to be put after **`return`**. Once Python reaches **`return`** in a function body, it exits the function and jumps back to where it left off."
   ]
  },
  {
   "cell_type": "markdown",
   "metadata": {
    "application/vnd.databricks.v1+cell": {
     "cellMetadata": {},
     "inputWidgets": {},
     "nuid": "3888ec68-11fc-4c49-929d-98272a7e8f6e",
     "showTitle": false,
     "title": "--i18n-aa8d0e9c-37c2-4664-a34d-f10b8d125887"
    }
   },
   "source": [
    "\n",
    "\n",
    "### Type Hints\n",
    "\n",
    "Notice that we can pass in any type we want as function arguments, even if the function written to work only with a certain type.\n",
    "\n",
    "For example, Python will let us call **`dollars_to_euros_with_default(True, \"abc\")`**, but it will then fail because multiplication isn't defined between bools and strings.\n",
    "\n",
    "We can add [type hints](https://docs.python.org/3/library/typing.html) to our functions to help with this.\n",
    "\n",
    "This is done by adding a colon, an optional space, and a data type to a parameter like below.\n",
    "**`dollar_amount: float`**\n",
    "The return type is indicated with a hyphen, a greater than sign, and data type before the colon at the end of the signature line.\n",
    "**`-> str:`**\n",
    "\n",
    "For example, if we want to indicate **`dollars_to_euros_with_default`** is only supposed to work with floats and return floats, we can write it as shown below."
   ]
  },
  {
   "cell_type": "code",
   "execution_count": 0,
   "metadata": {
    "application/vnd.databricks.v1+cell": {
     "cellMetadata": {
      "byteLimit": 2048000,
      "rowLimit": 10000
     },
     "inputWidgets": {},
     "nuid": "fc7c193d-e80e-4f31-b164-d69c73826523",
     "showTitle": false,
     "title": ""
    }
   },
   "outputs": [],
   "source": [
    "def dollar_to_euro_with_default(dollar_amount: float, conversion_rate: float = 0.93) -> float:\n",
    "    return dollar_amount * conversion_rate"
   ]
  },
  {
   "cell_type": "markdown",
   "metadata": {
    "application/vnd.databricks.v1+cell": {
     "cellMetadata": {},
     "inputWidgets": {},
     "nuid": "21a2b32a-1cd2-4708-a8ae-afba2104adbc",
     "showTitle": false,
     "title": "--i18n-39b419fb-8600-4ae3-8b0e-f8019137fde8"
    }
   },
   "source": [
    "\n",
    "\n",
    "It is important to note that these type hints are not enforced. They are hints showing that the types should be, but we can still pass the wrong type into the function and it will try to run it. \n",
    "\n",
    "Their main benefit is that they improve readability and some coding environments can use them to detect errors earlier."
   ]
  },
  {
   "cell_type": "markdown",
   "metadata": {
    "application/vnd.databricks.v1+cell": {
     "cellMetadata": {},
     "inputWidgets": {},
     "nuid": "061f45bd-9cad-48c8-9ff9-1e07fec1817c",
     "showTitle": false,
     "title": "--i18n-5c6b9dd2-f667-4272-a2c9-6ecce31df1de"
    }
   },
   "source": [
    "\n",
    "\n",
    "### Docstrings\n",
    "\n",
    "Documentation makes your code better organized and more easily understandable by others. A common way to document your code is with [**docstrings**](https://www.geeksforgeeks.org/help-function-in-python/). \n",
    "\n",
    "Docstrings are special comments that are placed between three quotation marks, as shown below. To use docstrings to document functions, place them in the function body before the function code."
   ]
  },
  {
   "cell_type": "code",
   "execution_count": 0,
   "metadata": {
    "application/vnd.databricks.v1+cell": {
     "cellMetadata": {
      "byteLimit": 2048000,
      "rowLimit": 10000
     },
     "inputWidgets": {},
     "nuid": "5b4df311-228c-417b-a1e6-dfd050e0dcaa",
     "showTitle": false,
     "title": ""
    }
   },
   "outputs": [],
   "source": [
    "def dollar_to_euro_with_default(dollar_amount: float, conversion_rate: float = 0.93) -> float:\n",
    "    \"\"\"\n",
    "    Returns Dollar amount to Euros based on a conversion rate\n",
    "    \n",
    "    Parameters:\n",
    "        dollar_amount (float): Dollar amount to be converted to euros\n",
    "        conversion_rate (float): Dollar to Euro conversion rate. Default:0.93\n",
    "    \n",
    "    Returns:\n",
    "         euro_amount (float): Euro equivalent of Dollar amount based on conversion rate\n",
    "         \"\"\"\n",
    "    euro_amount = dollar_amount * conversion_rate\n",
    "    return euro_amount"
   ]
  },
  {
   "cell_type": "markdown",
   "metadata": {
    "application/vnd.databricks.v1+cell": {
     "cellMetadata": {},
     "inputWidgets": {},
     "nuid": "4283f4be-3957-4097-b3a0-d995c7a3c5cc",
     "showTitle": false,
     "title": "--i18n-cd94ab20-f634-4dbf-812e-f885691db238"
    }
   },
   "source": [
    "\n",
    "\n",
    "Docstrings, unlike comments, are saved as a property in Python. The built-in **`help()`** function accesses the docstring and displays it."
   ]
  },
  {
   "cell_type": "code",
   "execution_count": 0,
   "metadata": {
    "application/vnd.databricks.v1+cell": {
     "cellMetadata": {
      "byteLimit": 2048000,
      "rowLimit": 10000
     },
     "inputWidgets": {},
     "nuid": "87b50c73-0576-460b-9b8e-0e738eb8ef89",
     "showTitle": false,
     "title": ""
    }
   },
   "outputs": [
    {
     "output_type": "stream",
     "name": "stdout",
     "output_type": "stream",
     "text": [
      "Help on function dollar_to_euro_with_default in module __main__:\n\ndollar_to_euro_with_default(dollar_amount: float, conversion_rate: float = 0.93) -> float\n    Returns Dollar amount to Euros based on a conversion rate\n    \n    Parameters:\n        dollar_amount (float): Dollar amount to be converted to euros\n        conversion_rate (float): Dollar to Euro conversion rate. Default:0.93\n    \n    Returns:\n         euro_amount (float): Euro equivalent of Dollar amount based on conversion rate\n\n"
     ]
    }
   ],
   "source": [
    "help(dollar_to_euro_with_default)"
   ]
  },
  {
   "cell_type": "markdown",
   "metadata": {
    "application/vnd.databricks.v1+cell": {
     "cellMetadata": {},
     "inputWidgets": {},
     "nuid": "6b4c1556-c2fe-48b4-86b2-233fa15a17aa",
     "showTitle": false,
     "title": "--i18n-d5f90617-6c63-4a02-b1c4-af90e815e4a0"
    }
   },
   "source": [
    "\n",
    "\n",
    "### Scope\n",
    "\n",
    "In Python, variables defined in certain regions of code are accessible only within the same region. This is referred to as [scope](https://www.w3schools.com/python/python_scope.asp). \n",
    "\n",
    "It is worth noting that any variable defined within a function is accessible within the function but not accessible outside of the function. In other words, the scope of the variable is limited to the function in which it is defined."
   ]
  },
  {
   "cell_type": "code",
   "execution_count": 0,
   "metadata": {
    "application/vnd.databricks.v1+cell": {
     "cellMetadata": {
      "byteLimit": 2048000,
      "rowLimit": 10000
     },
     "inputWidgets": {},
     "nuid": "48f3a721-4a9a-4d22-8a6d-389c3018b8ee",
     "showTitle": false,
     "title": ""
    }
   },
   "outputs": [],
   "source": [
    "def function():\n",
    "    func_variable = 1\n",
    "    return func_variable"
   ]
  },
  {
   "cell_type": "code",
   "execution_count": 0,
   "metadata": {
    "application/vnd.databricks.v1+cell": {
     "cellMetadata": {
      "byteLimit": 2048000,
      "rowLimit": 10000
     },
     "inputWidgets": {},
     "nuid": "21f96c3f-d6a8-44a6-81cd-39842f01ae1c",
     "showTitle": false,
     "title": ""
    }
   },
   "outputs": [
    {
     "output_type": "stream",
     "name": "stdout",
     "output_type": "stream",
     "text": [
      "Out[24]: 1"
     ]
    }
   ],
   "source": [
    "function()\n",
    "# func_variable # Uncomment and this will error"
   ]
  },
  {
   "cell_type": "markdown",
   "metadata": {
    "application/vnd.databricks.v1+cell": {
     "cellMetadata": {},
     "inputWidgets": {},
     "nuid": "556afd8f-e639-44ff-8879-1c97ce6d991f",
     "showTitle": false,
     "title": "--i18n-00c7e6a3-c466-4242-8d25-c60efacc9175"
    }
   },
   "source": [
    "\n",
    "\n",
    "### Built-in Functions\n",
    "\n",
    "Python provides some built-in <a href=\"https://docs.python.org/3/library/functions.html\" target=\"_blank\">functions</a> for common operations. \n",
    "\n",
    "Some notable ones include **`print()`**, which we have seen, **`max()`** which returns the maximum value of the input and **`len()`** which returns the length of the input."
   ]
  },
  {
   "cell_type": "code",
   "execution_count": 0,
   "metadata": {
    "application/vnd.databricks.v1+cell": {
     "cellMetadata": {
      "byteLimit": 2048000,
      "rowLimit": 10000
     },
     "inputWidgets": {},
     "nuid": "fbac4785-b253-4bcc-8a35-0002150ca67f",
     "showTitle": false,
     "title": ""
    }
   },
   "outputs": [
    {
     "output_type": "stream",
     "name": "stdout",
     "output_type": "stream",
     "text": [
      "2\n3\n"
     ]
    }
   ],
   "source": [
    "# 2 > 1\n",
    "print(max(1, 2))\n",
    "\n",
    "# \"abc\" is 3 characters long\n",
    "print(len(\"abc\"))"
   ]
  },
  {
   "cell_type": "markdown",
   "metadata": {
    "application/vnd.databricks.v1+cell": {
     "cellMetadata": {},
     "inputWidgets": {},
     "nuid": "04952fbe-b2a4-442d-9f19-5b8deb88ea05",
     "showTitle": false,
     "title": "--i18n-8dca298f-3225-4e6e-b8ad-e84c72c53f46"
    }
   },
   "source": [
    "\n",
    "\n",
    "We can call **`help()`** on built-in functions to see their documentation."
   ]
  },
  {
   "cell_type": "code",
   "execution_count": 0,
   "metadata": {
    "application/vnd.databricks.v1+cell": {
     "cellMetadata": {
      "byteLimit": 2048000,
      "rowLimit": 10000
     },
     "inputWidgets": {},
     "nuid": "57c2f003-760d-42bf-8997-39272186899f",
     "showTitle": false,
     "title": ""
    }
   },
   "outputs": [
    {
     "output_type": "stream",
     "name": "stdout",
     "output_type": "stream",
     "text": [
      "Help on built-in function max in module builtins:\n\nmax(...)\n    max(iterable, *[, default=obj, key=func]) -> value\n    max(arg1, arg2, *args, *[, key=func]) -> value\n    \n    With a single iterable argument, return its biggest item. The\n    default keyword-only argument specifies an object to return if\n    the provided iterable is empty.\n    With two or more arguments, return the largest argument.\n\n"
     ]
    }
   ],
   "source": [
    "help(max)"
   ]
  },
  {
   "cell_type": "markdown",
   "metadata": {
    "application/vnd.databricks.v1+cell": {
     "cellMetadata": {},
     "inputWidgets": {},
     "nuid": "e26cc69c-dd0d-4d84-aec1-0a9863b2e512",
     "showTitle": false,
     "title": ""
    }
   },
   "source": [
    "&copy; 2023 Databricks, Inc. All rights reserved.<br/>\n",
    "Apache, Apache Spark, Spark and the Spark logo are trademarks of the <a href=\"https://www.apache.org/\">Apache Software Foundation</a>.<br/>\n",
    "<br/>\n",
    "<a href=\"https://databricks.com/privacy-policy\">Privacy Policy</a> | <a href=\"https://databricks.com/terms-of-use\">Terms of Use</a> | <a href=\"https://help.databricks.com/\">Support</a>"
   ]
  }
 ],
 "metadata": {
  "application/vnd.databricks.v1+notebook": {
   "dashboards": [],
   "environmentMetadata": null,
   "language": "python",
   "notebookMetadata": {
    "pythonIndentUnit": 2
   },
   "notebookName": "ITP 03 - Functions",
   "widgets": {}
  }
 },
 "nbformat": 4,
 "nbformat_minor": 0
}

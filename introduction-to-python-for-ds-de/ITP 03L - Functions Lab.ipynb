{
 "cells": [
  {
   "cell_type": "markdown",
   "metadata": {
    "application/vnd.databricks.v1+cell": {
     "cellMetadata": {},
     "inputWidgets": {},
     "nuid": "705811e0-7a51-4da4-a9f2-be5ad9a0c9cf",
     "showTitle": false,
     "title": ""
    }
   },
   "source": [
    "\n",
    "<div style=\"text-align: center; line-height: 0; padding-top: 9px;\">\n",
    "  <img src=\"https://databricks.com/wp-content/uploads/2018/03/db-academy-rgb-1200px.png\" alt=\"Databricks Learning\" style=\"width: 600px\">\n",
    "</div>"
   ]
  },
  {
   "cell_type": "markdown",
   "metadata": {
    "application/vnd.databricks.v1+cell": {
     "cellMetadata": {},
     "inputWidgets": {},
     "nuid": "57dd1aa4-ec03-45da-a886-a4a8254f8730",
     "showTitle": false,
     "title": "--i18n-344e9b62-1ae2-43aa-99d2-c7c01d2da834"
    }
   },
   "source": [
    "\n",
    "\n",
    "# Functions Lab\n",
    "\n",
    "## ![Spark Logo Tiny](https://files.training.databricks.com/images/105/logo_spark_tiny.png) In this lab you:<br>\n",
    "\n",
    "Apply concepts learned in the last lesson, which include:\n",
    "* Defining and using functions to reuse code\n",
    "* Calling the **`help()`** function to learn about functions."
   ]
  },
  {
   "cell_type": "markdown",
   "metadata": {
    "application/vnd.databricks.v1+cell": {
     "cellMetadata": {},
     "inputWidgets": {},
     "nuid": "f814d0d6-ac1b-43c1-a2d3-9bd5f90ea418",
     "showTitle": false,
     "title": "--i18n-e2d725c2-2e5c-4f6f-b520-a4775b782efb"
    }
   },
   "source": [
    "\n",
    " \n",
    "#### Problem 1: Even vs. Odd\n",
    "\n",
    "One integer operator that's very useful we have not yet seen is [modulo](https://www.w3schools.com/python/python_operators.asp), which uses the symbol **`%`**. Modulo returns the remainder of the division of two integers.\n",
    "\n",
    "For example, **`12 % 7`** is **`5`**, because 12 divided by 7 is 1 with remainder 5. \n",
    "\n",
    "Using modulo, write a function called **`even_or_odd(num)`** that accepts an integer **`num`** and will return **`even`** if it is even, **`odd`** otherwise. Remember, all even numbers will have modulo 0 because they are divisible by 2.  \n",
    "\n",
    "**Hint:** Make sure to use **`return`** rather than **`print`** in the function, so it passes the test cases below."
   ]
  },
  {
   "cell_type": "code",
   "execution_count": 0,
   "metadata": {
    "application/vnd.databricks.v1+cell": {
     "cellMetadata": {
      "byteLimit": 2048000,
      "rowLimit": 10000
     },
     "inputWidgets": {},
     "nuid": "009a5358-68a0-424d-adfb-61408a08cd98",
     "showTitle": false,
     "title": ""
    }
   },
   "outputs": [
    {
     "output_type": "stream",
     "name": "stdout",
     "output_type": "stream",
     "text": [
      "Out[1]: 5"
     ]
    }
   ],
   "source": [
    "12 % 7"
   ]
  },
  {
   "cell_type": "code",
   "execution_count": 0,
   "metadata": {
    "application/vnd.databricks.v1+cell": {
     "cellMetadata": {
      "byteLimit": 2048000,
      "rowLimit": 10000
     },
     "inputWidgets": {},
     "nuid": "3282111d-e258-461d-8f3b-2a7c8af1911d",
     "showTitle": false,
     "title": ""
    }
   },
   "outputs": [],
   "source": [
    "# TODO\n",
    "def even_or_odd(num: int):\n",
    "    if num % 2 == 0:\n",
    "        return \"even\"\n",
    "    else:\n",
    "        return \"odd\""
   ]
  },
  {
   "cell_type": "markdown",
   "metadata": {
    "application/vnd.databricks.v1+cell": {
     "cellMetadata": {},
     "inputWidgets": {},
     "nuid": "caeba33d-665f-4d5d-b3d9-f70fbc52638f",
     "showTitle": false,
     "title": "--i18n-9bc17154-b90a-4197-a253-f217454795ba"
    }
   },
   "source": [
    "\n",
    "\n",
    "**Check your work:**"
   ]
  },
  {
   "cell_type": "code",
   "execution_count": 0,
   "metadata": {
    "application/vnd.databricks.v1+cell": {
     "cellMetadata": {
      "byteLimit": 2048000,
      "rowLimit": 10000
     },
     "inputWidgets": {},
     "nuid": "c37b53d0-ab06-46b7-ab2b-2e034305222c",
     "showTitle": false,
     "title": ""
    }
   },
   "outputs": [
    {
     "output_type": "stream",
     "name": "stdout",
     "output_type": "stream",
     "text": [
      "Test passed!\n"
     ]
    }
   ],
   "source": [
    "assert even_or_odd(2) == \"even\", \"2 is an even number\"\n",
    "assert even_or_odd(42) == \"even\", \"42 is an even number\"\n",
    "assert even_or_odd(1) == \"odd\", \"1 is an odd number\"\n",
    "assert even_or_odd(327) == \"odd\", \"327 is an odd number\"\n",
    "print(\"Test passed!\")"
   ]
  },
  {
   "cell_type": "markdown",
   "metadata": {
    "application/vnd.databricks.v1+cell": {
     "cellMetadata": {},
     "inputWidgets": {},
     "nuid": "6f1a39a9-43cd-495b-9a6d-114a9333c062",
     "showTitle": false,
     "title": "--i18n-0dfabbb0-d653-4330-9c4c-fb195bc54108"
    }
   },
   "source": [
    "\n",
    "\n",
    "#### Problem 2: Fizz Buzz\n",
    "\n",
    "Now that you've built the basic foundations of identifying even vs odd numbers, you're ready to extend that idea to tackle one of the most common programming interview questions: Fizz Buzz.\n",
    "\n",
    "Write a function  called **`fizz_buzz`** that takes in an integer and performs the following:\n",
    "\n",
    "* If the input is not an integer at all (remember we can pass in the wrong type, even when we shouldn't), return **`\"Wrong type\"`**\n",
    "* For a given integer input, if it is divisible by 5 but not 3 return **`\"Fizz\"`**.\n",
    "* If it is divisible by 3 but not 5 return **`\"Buzz\"`**.\n",
    "* If it is divisible by both 3 and 5 return **`\"FizzBuzz\"`**.\n",
    "* If it is divisible by neither 3 nor 5, return the number itself.\n",
    "\n",
    "\n",
    "**Hint:** You will want to use an **`elif`** statement and **`%`**. \n",
    "\n",
    "Be careful the order in which you check for each of these conditions. For example, you should check if the input is integer before you check if it is divisible by something."
   ]
  },
  {
   "cell_type": "code",
   "execution_count": 0,
   "metadata": {
    "application/vnd.databricks.v1+cell": {
     "cellMetadata": {
      "byteLimit": 2048000,
      "rowLimit": 10000
     },
     "inputWidgets": {},
     "nuid": "5c399952-9fd7-44df-b213-5d6b8f46c1f5",
     "showTitle": false,
     "title": ""
    }
   },
   "outputs": [],
   "source": [
    "# ANSWER\n",
    "def fizz_buzz(num):\n",
    "    if type(num) != int:\n",
    "        return \"Wrong type\"\n",
    "    elif num % 5 == 0 and num % 3 == 0:\n",
    "        return \"FizzBuzz\"\n",
    "    elif num % 5 == 0:\n",
    "        return \"Fizz\"\n",
    "    elif num % 3 == 0:\n",
    "        return \"Buzz\"\n",
    "    else:\n",
    "        return num"
   ]
  },
  {
   "cell_type": "markdown",
   "metadata": {
    "application/vnd.databricks.v1+cell": {
     "cellMetadata": {},
     "inputWidgets": {},
     "nuid": "0c7a2c86-c2b7-4b26-b261-6190ee40f19f",
     "showTitle": false,
     "title": "--i18n-83606571-52de-44d3-8552-b25632468989"
    }
   },
   "source": [
    "\n",
    "\n",
    "**Check your work:**"
   ]
  },
  {
   "cell_type": "code",
   "execution_count": 0,
   "metadata": {
    "application/vnd.databricks.v1+cell": {
     "cellMetadata": {
      "byteLimit": 2048000,
      "rowLimit": 10000
     },
     "inputWidgets": {},
     "nuid": "5a5d6f3d-8809-4101-9aa0-04a00e21cca6",
     "showTitle": false,
     "title": ""
    }
   },
   "outputs": [
    {
     "output_type": "stream",
     "name": "stdout",
     "output_type": "stream",
     "text": [
      "Test passed!\n"
     ]
    }
   ],
   "source": [
    "assert fizz_buzz(15) == \"FizzBuzz\", \"15 is divisible by both 5 and 3. Should return 'FizzBuzz'\"\n",
    "assert fizz_buzz(30) == \"FizzBuzz\", \"30 is divisible by both 5 and 3. Should return 'FizzBuzz'\"\n",
    "assert fizz_buzz(5) == \"Fizz\", \"5 is divisible by 5. Should return 'Fizz'\"\n",
    "assert fizz_buzz(25) == \"Fizz\", \"25 is divisible by 5. Should return 'Fizz'\"\n",
    "assert fizz_buzz(3) == \"Buzz\", \"3 is divisible by 3. Should return 'Buzz'\"\n",
    "assert fizz_buzz(81) == \"Buzz\", \"81 is divisible by 3. Should return 'Buzz'\"\n",
    "assert fizz_buzz(23) == 23, \"23 is not divisible by 3 or 5. Should return 23\"\n",
    "assert fizz_buzz(23.0) == \"Wrong type\", \"Input is not an integer. Should return `Wrong type'\"\n",
    "assert fizz_buzz(True) == \"Wrong type\", \"Input is not an integer. Should return `Wrong type'\"\n",
    "print(\"Test passed!\")"
   ]
  },
  {
   "cell_type": "markdown",
   "metadata": {
    "application/vnd.databricks.v1+cell": {
     "cellMetadata": {},
     "inputWidgets": {},
     "nuid": "41e84ea4-5df1-43d8-930a-5cbbe83d0811",
     "showTitle": false,
     "title": "--i18n-TBD"
    }
   },
   "source": [
    "\n",
    "### Bonus Exercise\n",
    "\n",
    "A year is considered a leap year if it.\n",
    "- Is evenly divisible by 4 AND ...\n",
    "  - Is either evenly divisible by 400 (e.g. 2000 was a leap year) OR not evenly divisible by 100 (e.g. 2100 will not be a leap year).\n",
    "- How do you know if a number is evenly divisible by another number?\n",
    "  - Modulo division\n",
    "    - 2000 % 4 == 0: True\n",
    "    - 1901 % 4 == 0: False\n",
    "  \n",
    "Write code to implement the logic described above as a function.\n",
    "- Name the function __is_leap_year__.\n",
    "- Define the function to receive a single parameter named __year__.\n",
    "- Define the function to return a boolean value:\n",
    "  - True if the value of the parameter __year__ is a leap year.\n",
    "  - False if the value of the parameter __year__ is a not leap year.\n",
    "- Test the code for the following years:\n",
    "  - 1900\n",
    "  - 1901\n",
    "  - 1904\n",
    "  - 2000\n",
    "\n",
    "**Hint**: The nested indentation in the instruction suggests that nested logic may be appropriate here."
   ]
  },
  {
   "cell_type": "code",
   "execution_count": 0,
   "metadata": {
    "application/vnd.databricks.v1+cell": {
     "cellMetadata": {
      "byteLimit": 2048000,
      "rowLimit": 10000
     },
     "inputWidgets": {},
     "nuid": "e8303114-ba53-491f-80e6-aced520cfeae",
     "showTitle": false,
     "title": ""
    }
   },
   "outputs": [],
   "source": [
    "def is_leap_year(year):\n",
    "    leap_year = False\n",
    "    if year % 4 == 0:\n",
    "        if year % 400 == 0 or year % 100 != 0:\n",
    "            leap_year = True\n",
    "    return leap_year"
   ]
  },
  {
   "cell_type": "code",
   "execution_count": 0,
   "metadata": {
    "application/vnd.databricks.v1+cell": {
     "cellMetadata": {
      "byteLimit": 2048000,
      "rowLimit": 10000
     },
     "inputWidgets": {},
     "nuid": "13fdad58-d2dc-44d4-8046-f20085ca3b9f",
     "showTitle": false,
     "title": ""
    }
   },
   "outputs": [
    {
     "output_type": "stream",
     "name": "stdout",
     "output_type": "stream",
     "text": [
      "All tests passed\n"
     ]
    }
   ],
   "source": [
    "assert is_leap_year(1900) == False, \"1900 was a leap year\"\n",
    "assert is_leap_year(1901) == False, \"1901 was not a leap year\"\n",
    "assert is_leap_year(1904) == True, \"1904 was a leap year\"\n",
    "assert is_leap_year(2000) == True, \"2000 was a leap year\"\n",
    "print(\"All tests passed\")"
   ]
  },
  {
   "cell_type": "markdown",
   "metadata": {
    "application/vnd.databricks.v1+cell": {
     "cellMetadata": {},
     "inputWidgets": {},
     "nuid": "f8ffc498-ff82-4515-8239-48e148e3f78b",
     "showTitle": false,
     "title": ""
    }
   },
   "source": [
    "&copy; 2023 Databricks, Inc. All rights reserved.<br/>\n",
    "Apache, Apache Spark, Spark and the Spark logo are trademarks of the <a href=\"https://www.apache.org/\">Apache Software Foundation</a>.<br/>\n",
    "<br/>\n",
    "<a href=\"https://databricks.com/privacy-policy\">Privacy Policy</a> | <a href=\"https://databricks.com/terms-of-use\">Terms of Use</a> | <a href=\"https://help.databricks.com/\">Support</a>"
   ]
  }
 ],
 "metadata": {
  "application/vnd.databricks.v1+notebook": {
   "dashboards": [],
   "environmentMetadata": null,
   "language": "python",
   "notebookMetadata": {
    "pythonIndentUnit": 4
   },
   "notebookName": "ITP 03L - Functions Lab",
   "widgets": {}
  }
 },
 "nbformat": 4,
 "nbformat_minor": 0
}

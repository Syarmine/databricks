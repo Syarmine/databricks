{
 "cells": [
  {
   "cell_type": "markdown",
   "metadata": {
    "application/vnd.databricks.v1+cell": {
     "cellMetadata": {},
     "inputWidgets": {},
     "nuid": "d62f0a16-3873-40b5-86b3-f18df1538068",
     "showTitle": false,
     "title": ""
    }
   },
   "source": [
    "\n",
    "<div style=\"text-align: center; line-height: 0; padding-top: 9px;\">\n",
    "  <img src=\"https://databricks.com/wp-content/uploads/2018/03/db-academy-rgb-1200px.png\" alt=\"Databricks Learning\" style=\"width: 600px\">\n",
    "</div>"
   ]
  },
  {
   "cell_type": "markdown",
   "metadata": {
    "application/vnd.databricks.v1+cell": {
     "cellMetadata": {},
     "inputWidgets": {},
     "nuid": "07c9b52b-7b09-4241-acdf-004ea96a2f40",
     "showTitle": false,
     "title": "--i18n-d845488d-8461-4ee9-8b24-9bdff213d1fb"
    }
   },
   "source": [
    "\n",
    "\n",
    "# Collection Types and Methods\n",
    "\n",
    "## ![Spark Logo Tiny](https://files.training.databricks.com/images/105/logo_spark_tiny.png) In this lesson you:<br>\n",
    "\n",
    "- Introduce objects and methods\n",
    "- Create lists\n",
    "- Use methods on new collection data types"
   ]
  },
  {
   "cell_type": "markdown",
   "metadata": {
    "application/vnd.databricks.v1+cell": {
     "cellMetadata": {},
     "inputWidgets": {},
     "nuid": "e4eb3c7f-74de-4981-891f-04d4449cb0c8",
     "showTitle": false,
     "title": "--i18n-2d0178c2-f2b4-4746-82eb-5b81eec6be0e"
    }
   },
   "source": [
    "\n",
    "\n",
    "## Objects\n",
    "\n",
    "In this lesson we are first going to look at some new functionality provided by data types, and then see how we can use that in some new data types. But before we do that, we need to look at some terminology.\n",
    "\n",
    "An [**object**](https://www.w3schools.com/python/python_classes.asp) is an instance of a specific data type. \n",
    "\n",
    "For example, **`1`** is an Integer, so we would call it an Integer object. **`\"Hello\"`** is a String, so we would call it a String object."
   ]
  },
  {
   "cell_type": "markdown",
   "metadata": {
    "application/vnd.databricks.v1+cell": {
     "cellMetadata": {},
     "inputWidgets": {},
     "nuid": "98fde6b5-dbcf-44f8-9e4c-22819ddfd9a6",
     "showTitle": false,
     "title": "--i18n-753edb8e-797e-4bf2-b6f4-4d4c952512a1"
    }
   },
   "source": [
    "\n",
    "\n",
    "## Methods: More Functionality\n",
    "\n",
    "As a reminder, data types provide **data** of some kind and **operations** we can do on that kind of data. So far, we have actually only looked at a small fraction of the operations provided by each type. \n",
    "\n",
    "Data types provide special functions called [**methods**](https://www.w3schools.com/python/gloss_python_object_methods.asp) which provide more functionality. Methods are exactly like normal functions except we call them on objects and they can edit the object they are called on. We invoke a method like this:\n",
    "\n",
    "**`object.method_name(arguments)`**\n",
    "\n",
    "This is a little tricky and we have a whole lesson on these coming up, but right now all you need to know is:\n",
    "\n",
    "**Methods are functions provided by a data type that we can call on objects of that type. They act on the object we call them with and allow us to use more functionality provided by that data type**"
   ]
  },
  {
   "cell_type": "markdown",
   "metadata": {
    "application/vnd.databricks.v1+cell": {
     "cellMetadata": {},
     "inputWidgets": {},
     "nuid": "164cf4ba-0bc3-4de0-b45e-2967d12edb7e",
     "showTitle": false,
     "title": "--i18n-2ca5b59c-4cb8-4e87-b648-166eee0aedad"
    }
   },
   "source": [
    "\n",
    "\n",
    "### String Methods\n",
    "\n",
    "Let's take a look at an example of a method on a type we already know well: Strings. Strings provide a method called [**upper()**](https://www.w3schools.com/python/ref_string_upper.asp) which capitalizes a String."
   ]
  },
  {
   "cell_type": "code",
   "execution_count": 0,
   "metadata": {
    "application/vnd.databricks.v1+cell": {
     "cellMetadata": {
      "byteLimit": 2048000,
      "rowLimit": 10000
     },
     "inputWidgets": {},
     "nuid": "50f61876-ae47-44c6-8f61-667bcff39fe2",
     "showTitle": false,
     "title": ""
    }
   },
   "outputs": [
    {
     "output_type": "stream",
     "name": "stdout",
     "output_type": "stream",
     "text": [
      "HELLO\nhello\n"
     ]
    }
   ],
   "source": [
    "greeting = \"hello\"\n",
    "print(greeting.upper())\n",
    "print(greeting)"
   ]
  },
  {
   "cell_type": "markdown",
   "metadata": {
    "application/vnd.databricks.v1+cell": {
     "cellMetadata": {},
     "inputWidgets": {},
     "nuid": "d5f213b1-b3ed-4688-b27d-cae5caea00b6",
     "showTitle": false,
     "title": "--i18n-b83c4e97-70e0-4104-90f1-12ede96a8515"
    }
   },
   "source": [
    "\n",
    "\n",
    "### In-place methods\n",
    "\n",
    "Methods are functions that act on objects, and can either perform operations in-place (modify the underlying object it was called upon) or return a new object.\n",
    "\n",
    "Notice that the method **`upper()`** was not a stateful, in-place method as it returned a new string and did not modify the **`greeting`** variable. Take a look <a href=\"https://www.w3schools.com/python/python_ref_string.asp\" target=\"_blank\">W3Schools</a> provides information on other string methods in Python."
   ]
  },
  {
   "cell_type": "markdown",
   "metadata": {
    "application/vnd.databricks.v1+cell": {
     "cellMetadata": {},
     "inputWidgets": {},
     "nuid": "aa26ced3-b0e6-4adc-aefa-8425f71a8c8e",
     "showTitle": false,
     "title": "--i18n-bc7aa58a-5ea7-4387-96b7-189b364d56c3"
    }
   },
   "source": [
    "\n",
    "\n",
    "### Tab Completion\n",
    "\n",
    "If you want to see a list of methods you can apply to an object, type **`.`** after the object, then hit tab key to see a drop down menu of available methods on that object.\n",
    "\n",
    "Try it below on the **`greeting`** string object. Type **`greeting.`** then hit the Tab key."
   ]
  },
  {
   "cell_type": "code",
   "execution_count": 0,
   "metadata": {
    "application/vnd.databricks.v1+cell": {
     "cellMetadata": {
      "byteLimit": 2048000,
      "rowLimit": 10000
     },
     "inputWidgets": {},
     "nuid": "2a9f3715-8844-4b7a-bc92-f466a9672f5c",
     "showTitle": false,
     "title": ""
    }
   },
   "outputs": [
    {
     "output_type": "stream",
     "name": "stdout",
     "output_type": "stream",
     "text": [
      "Out[8]: <function str.capitalize()>"
     ]
    }
   ],
   "source": [
    "# Type . and hit Tab\n",
    "greeting.capitalize"
   ]
  },
  {
   "cell_type": "markdown",
   "metadata": {
    "application/vnd.databricks.v1+cell": {
     "cellMetadata": {},
     "inputWidgets": {},
     "nuid": "f05964b9-a2af-4ee3-a35c-8a86036b12e9",
     "showTitle": false,
     "title": "--i18n-5b3151ca-f1d4-430f-8129-3cb28816c364"
    }
   },
   "source": [
    "\n",
    "\n",
    "### `help()`\n",
    "\n",
    "While using tab completion is extremely helpful, if we use it to look through all possible methods for a given object, we might still not be certain how those methods work.\n",
    "\n",
    "We can look up their documentation, or we can use the [**help()**](https://www.geeksforgeeks.org/help-function-in-python/) function we saw last lesson.\n",
    "\n",
    "As a reminder, the **`help()`** function displays some of the documentation for the item passed into it.\n",
    "\n",
    "For example, when using tab completion above, we see the [**capitalize()**](https://www.w3schools.com/python/ref_string_capitalize.asp) string method, but we are not certain how it works."
   ]
  },
  {
   "cell_type": "code",
   "execution_count": 0,
   "metadata": {
    "application/vnd.databricks.v1+cell": {
     "cellMetadata": {
      "byteLimit": 2048000,
      "rowLimit": 10000
     },
     "inputWidgets": {},
     "nuid": "9e2b45a7-4908-4a0f-9855-51349e33a151",
     "showTitle": false,
     "title": ""
    }
   },
   "outputs": [
    {
     "output_type": "stream",
     "name": "stdout",
     "output_type": "stream",
     "text": [
      "Help on built-in function capitalize:\n\ncapitalize() method of builtins.str instance\n    Return a capitalized version of the string.\n    \n    More specifically, make the first character have upper case and the rest lower\n    case.\n\n"
     ]
    }
   ],
   "source": [
    "help(greeting.capitalize)"
   ]
  },
  {
   "cell_type": "code",
   "execution_count": 0,
   "metadata": {
    "application/vnd.databricks.v1+cell": {
     "cellMetadata": {
      "byteLimit": 2048000,
      "rowLimit": 10000
     },
     "inputWidgets": {},
     "nuid": "ead6818d-c219-4f2a-be2d-efbb39709e13",
     "showTitle": false,
     "title": ""
    }
   },
   "outputs": [
    {
     "output_type": "stream",
     "name": "stdout",
     "output_type": "stream",
     "text": [
      "Out[9]: 'Hello'"
     ]
    }
   ],
   "source": [
    "greeting.capitalize()"
   ]
  },
  {
   "cell_type": "markdown",
   "metadata": {
    "application/vnd.databricks.v1+cell": {
     "cellMetadata": {},
     "inputWidgets": {},
     "nuid": "9c0b33ce-baef-4289-847d-a3d24607a3d6",
     "showTitle": false,
     "title": "--i18n-238070d2-fa76-43ef-a14b-2d67ef88af08"
    }
   },
   "source": [
    "\n",
    "\n",
    "## Methods with Collection Types\n",
    "\n",
    "Now that we have a brief understanding of methods, let's look at some more advanced data types and the methods they provide.\n",
    "\n",
    "We are going to look at **collection data types** next. Like the name suggests, the data in these data types is a collection of other data types."
   ]
  },
  {
   "cell_type": "markdown",
   "metadata": {
    "application/vnd.databricks.v1+cell": {
     "cellMetadata": {},
     "inputWidgets": {},
     "nuid": "354ab012-b986-41e4-8636-29759679f415",
     "showTitle": false,
     "title": "--i18n-d028dd16-da40-4c7d-b62e-650e154d1710"
    }
   },
   "source": [
    "\n",
    "\n",
    "### Collection Type 1: Lists\n",
    "\n",
    "A list is just an ordered sequence of items. \n",
    "\n",
    "It is defined as a sequence of comma separated items inside square brackets like this: **`[item1, item2, item3...]`**\n",
    "\n",
    "The items may be of any type, though in practice you'll usually create lists where all of the values are of the same type.\n",
    "\n",
    "Let's make a <a href=\"https://www.w3schools.com/python/python_lists.asp\" target=\"_blank\">list</a> of what everyone ate for breakfast this morning.\n",
    "\n",
    "<img src=\"https://upload.wikimedia.org/wikipedia/commons/thumb/2/20/Scrambed_eggs.jpg/1280px-Scrambed_eggs.jpg\" width=\"20%\" height=\"10%\">"
   ]
  },
  {
   "cell_type": "code",
   "execution_count": 0,
   "metadata": {
    "application/vnd.databricks.v1+cell": {
     "cellMetadata": {
      "byteLimit": 2048000,
      "rowLimit": 10000
     },
     "inputWidgets": {},
     "nuid": "66e3e553-a9f1-4e7c-9d58-019db2fa2c9a",
     "showTitle": false,
     "title": ""
    }
   },
   "outputs": [
    {
     "output_type": "stream",
     "name": "stdout",
     "output_type": "stream",
     "text": [
      "Out[10]: ['pancakes', 'eggs', 'waffles']"
     ]
    }
   ],
   "source": [
    "breakfast_list = [\"pancakes\", \"eggs\", \"waffles\"]\n",
    "breakfast_list"
   ]
  },
  {
   "cell_type": "code",
   "execution_count": 0,
   "metadata": {
    "application/vnd.databricks.v1+cell": {
     "cellMetadata": {
      "byteLimit": 2048000,
      "rowLimit": 10000
     },
     "inputWidgets": {},
     "nuid": "fefcedaa-26de-4a6a-87f6-fb3ea3177f4f",
     "showTitle": false,
     "title": ""
    }
   },
   "outputs": [
    {
     "output_type": "stream",
     "name": "stdout",
     "output_type": "stream",
     "text": [
      "Out[11]: list"
     ]
    }
   ],
   "source": [
    "# Python can tell us breakfast_list's type\n",
    "type(breakfast_list)"
   ]
  },
  {
   "cell_type": "markdown",
   "metadata": {
    "application/vnd.databricks.v1+cell": {
     "cellMetadata": {},
     "inputWidgets": {},
     "nuid": "cc5a6355-96c8-4d91-ac67-2b8e86cced41",
     "showTitle": false,
     "title": "--i18n-5ed35859-d9a4-44e0-a152-befc8855bab0"
    }
   },
   "source": [
    "\n",
    "\n",
    "We'll use our **`breakfast_list`** as the running example, but note that the values in a list can be of any type, as shown below."
   ]
  },
  {
   "cell_type": "code",
   "execution_count": 0,
   "metadata": {
    "application/vnd.databricks.v1+cell": {
     "cellMetadata": {
      "byteLimit": 2048000,
      "rowLimit": 10000
     },
     "inputWidgets": {},
     "nuid": "5d87a839-720e-4621-8c72-bf7e8d2f18f3",
     "showTitle": false,
     "title": ""
    }
   },
   "outputs": [
    {
     "output_type": "stream",
     "name": "stdout",
     "output_type": "stream",
     "text": [
      "Out[16]: ['hello', True, 1, 1.5]"
     ]
    }
   ],
   "source": [
    "# any type works\n",
    "[\"hello\", True, 1, 1.5]"
   ]
  },
  {
   "cell_type": "markdown",
   "metadata": {
    "application/vnd.databricks.v1+cell": {
     "cellMetadata": {},
     "inputWidgets": {},
     "nuid": "f13ae9c1-67f9-4e77-81fc-1a7b4a2c4f59",
     "showTitle": false,
     "title": "--i18n-5bd3521a-76df-46d3-b5ec-07d22a896321"
    }
   },
   "source": [
    "\n",
    "\n",
    "#### List Methods\n",
    "\n",
    "Now that we understand the **data** a list data type provides, let's look at some of its **functionality**.\n",
    "\n",
    "Something you will frequently want to do is add a new item to an existing list. \n",
    "\n",
    "Lists provide a method called [**append()**](https://www.w3schools.com/python/ref_list_append.asp) to do just that. \n",
    "\n",
    "**`append()`** takes in an argument of any type and edits the list it is called on so that the argument is stuck onto the end of the list. \n",
    "\n",
    "Let's say after we ate our pancakes, eggs, and waffles, we also had yogurt.\n",
    "\n",
    "Here, we can use **`append()`** to add yogurt to our **`breakfast_list`**."
   ]
  },
  {
   "cell_type": "code",
   "execution_count": 0,
   "metadata": {
    "application/vnd.databricks.v1+cell": {
     "cellMetadata": {
      "byteLimit": 2048000,
      "rowLimit": 10000
     },
     "inputWidgets": {},
     "nuid": "9f33c7d0-7a1e-4a9f-a169-d64db204bc49",
     "showTitle": false,
     "title": ""
    }
   },
   "outputs": [
    {
     "output_type": "stream",
     "name": "stdout",
     "output_type": "stream",
     "text": [
      "Out[18]: ['pancakes', 'eggs', 'waffles', 'yogurt']"
     ]
    }
   ],
   "source": [
    "breakfast_list.append(\"yogurt\")\n",
    "breakfast_list"
   ]
  },
  {
   "cell_type": "markdown",
   "metadata": {
    "application/vnd.databricks.v1+cell": {
     "cellMetadata": {},
     "inputWidgets": {},
     "nuid": "4231f7a0-31e3-4920-8dd7-7cde40cc3c1b",
     "showTitle": false,
     "title": "--i18n-668b2cdd-8135-439b-bf95-2880346ce49c"
    }
   },
   "source": [
    "\n",
    "\n",
    "**Note:** Notice here that **`append()`** is an in-place method.\n",
    "The method does not return a new list, but rather edits the original **`breakfast_list`** object. \n",
    "\n",
    "**`+`** is also defined as concatenation for lists as shown below."
   ]
  },
  {
   "cell_type": "code",
   "execution_count": 0,
   "metadata": {
    "application/vnd.databricks.v1+cell": {
     "cellMetadata": {},
     "inputWidgets": {},
     "nuid": "1d0c875d-494b-4b53-97bb-aa0bab780570",
     "showTitle": false,
     "title": ""
    }
   },
   "outputs": [],
   "source": [
    "[\"pancakes\", \"eggs\"] + [\"waffles\", \"yogurt\"]"
   ]
  },
  {
   "cell_type": "markdown",
   "metadata": {
    "application/vnd.databricks.v1+cell": {
     "cellMetadata": {},
     "inputWidgets": {},
     "nuid": "c2455361-7ea9-48ad-81b9-3db3277ba30a",
     "showTitle": false,
     "title": "--i18n-6237eb3c-7a8b-428b-9418-4b397c163484"
    }
   },
   "source": [
    "\n",
    "\n",
    "While we typically use **`append()`**, it is possible to append elements to a list using **`+`**."
   ]
  },
  {
   "cell_type": "code",
   "execution_count": 0,
   "metadata": {
    "application/vnd.databricks.v1+cell": {
     "cellMetadata": {},
     "inputWidgets": {},
     "nuid": "a53e8263-065d-4556-b180-298b1a960361",
     "showTitle": false,
     "title": ""
    }
   },
   "outputs": [],
   "source": [
    "breakfast_list = [\"pancakes\", \"eggs\", \"waffles\"]\n",
    "breakfast_list = breakfast_list + [\"yogurt\"]\n",
    "breakfast_list"
   ]
  },
  {
   "cell_type": "markdown",
   "metadata": {
    "application/vnd.databricks.v1+cell": {
     "cellMetadata": {},
     "inputWidgets": {},
     "nuid": "42686732-b960-4b72-87e1-01879effa2ef",
     "showTitle": false,
     "title": "--i18n-a4bcc594-73a3-454d-ab4d-83db2844db10"
    }
   },
   "source": [
    "\n",
    "\n",
    "A useful shortcut operation for this is **`+=`**.\n",
    "\n",
    "**`breakfast_list`** `+=` **`[\"yogurt\"]`** is the same thing is **`breakfast_list`** `=` **`breakfast_list`** `+` **`[\"yogurt\"]`**.\n",
    "\n",
    "The **`+=`** operator works for other types as well, using their respective **`+`** operator."
   ]
  },
  {
   "cell_type": "code",
   "execution_count": 0,
   "metadata": {
    "application/vnd.databricks.v1+cell": {
     "cellMetadata": {},
     "inputWidgets": {},
     "nuid": "c79135d1-653b-4112-8c88-a75e8bea173d",
     "showTitle": false,
     "title": ""
    }
   },
   "outputs": [],
   "source": [
    "breakfast_list = [\"pancakes\", \"eggs\", \"waffles\"]\n",
    "breakfast_list += [\"yogurt\"]\n",
    "breakfast_list"
   ]
  },
  {
   "cell_type": "markdown",
   "metadata": {
    "application/vnd.databricks.v1+cell": {
     "cellMetadata": {},
     "inputWidgets": {},
     "nuid": "5834b32d-b0ce-4c57-9e7e-69208fad98dc",
     "showTitle": false,
     "title": "--i18n-31cf815e-ec37-4313-b36c-84023b9a6f8c"
    }
   },
   "source": [
    "\n",
    "\n",
    "#### List indexing\n",
    "\n",
    "Often, we want to reference a specific item or items in a list. This called [list indexing](https://www.w3schools.com/python/python_lists_access.asp).\n",
    "\n",
    "Lists provide an operation to get the item at a certain index in the list like this:\n",
    "\n",
    "      list_name[index]\n",
    "\n",
    "In Python indices start from 0, so the first element of the list is 0, the second is 1, etc."
   ]
  },
  {
   "cell_type": "code",
   "execution_count": 0,
   "metadata": {
    "application/vnd.databricks.v1+cell": {
     "cellMetadata": {
      "byteLimit": 2048000,
      "rowLimit": 10000
     },
     "inputWidgets": {},
     "nuid": "ef77df6a-526f-4164-9508-27afed823e55",
     "showTitle": false,
     "title": ""
    }
   },
   "outputs": [
    {
     "output_type": "stream",
     "name": "stdout",
     "output_type": "stream",
     "text": [
      "Out[19]: 'pancakes'"
     ]
    }
   ],
   "source": [
    "breakfast_list[0]"
   ]
  },
  {
   "cell_type": "markdown",
   "metadata": {
    "application/vnd.databricks.v1+cell": {
     "cellMetadata": {},
     "inputWidgets": {},
     "nuid": "87d2e4b6-dd56-427d-99a1-e6e4030c3f1c",
     "showTitle": false,
     "title": "--i18n-b86f1c49-9cc7-4699-a329-2e60bc68a774"
    }
   },
   "source": [
    "\n",
    "\n",
    "We can also use negative indexing, which starts counting from right to left, starting from -1. \n",
    "\n",
    "Thus, the last element of the list is -1, the second to last is -2, etc."
   ]
  },
  {
   "cell_type": "code",
   "execution_count": 0,
   "metadata": {
    "application/vnd.databricks.v1+cell": {
     "cellMetadata": {
      "byteLimit": 2048000,
      "rowLimit": 10000
     },
     "inputWidgets": {},
     "nuid": "a4c15e27-442f-45d4-b5c0-5c6007246ddc",
     "showTitle": false,
     "title": ""
    }
   },
   "outputs": [
    {
     "output_type": "stream",
     "name": "stdout",
     "output_type": "stream",
     "text": [
      "Out[20]: 'yogurt'"
     ]
    }
   ],
   "source": [
    "breakfast_list[-1]"
   ]
  },
  {
   "cell_type": "markdown",
   "metadata": {
    "application/vnd.databricks.v1+cell": {
     "cellMetadata": {},
     "inputWidgets": {},
     "nuid": "08c8707c-1f1f-4330-9cf9-363ed75e4bb5",
     "showTitle": false,
     "title": "--i18n-7cefd54e-7d6b-449e-99c0-48809deafc78"
    }
   },
   "source": [
    "\n",
    "\n",
    "We can also provide a range of indices we want to access like this:\n",
    "\n",
    "**`list_name[start:stop]`**\n",
    "\n",
    "This returns a list of the values starting at **`start`** and up to but not including **`stop`**."
   ]
  },
  {
   "cell_type": "code",
   "execution_count": 0,
   "metadata": {
    "application/vnd.databricks.v1+cell": {
     "cellMetadata": {
      "byteLimit": 2048000,
      "rowLimit": 10000
     },
     "inputWidgets": {},
     "nuid": "958f9ca6-9707-4c3c-b6fb-178ab32bef6d",
     "showTitle": false,
     "title": ""
    }
   },
   "outputs": [
    {
     "output_type": "stream",
     "name": "stdout",
     "output_type": "stream",
     "text": [
      "Out[21]: ['pancakes', 'eggs']"
     ]
    }
   ],
   "source": [
    "# Note the stop index is exclusive\n",
    "breakfast_list[0:2]"
   ]
  },
  {
   "cell_type": "markdown",
   "metadata": {
    "application/vnd.databricks.v1+cell": {
     "cellMetadata": {},
     "inputWidgets": {},
     "nuid": "5250752a-1cbd-4bf1-9170-cdc2bbfa4e76",
     "showTitle": false,
     "title": "--i18n-bd802cdb-aece-435f-8056-151ab60ce5a7"
    }
   },
   "source": [
    "\n",
    "\n",
    "If we don't provide a start index, Python assumes we start at the beginning.\n",
    "\n",
    "If we don't provide a stop index, Python assumes we stop at the end."
   ]
  },
  {
   "cell_type": "code",
   "execution_count": 0,
   "metadata": {
    "application/vnd.databricks.v1+cell": {
     "cellMetadata": {
      "byteLimit": 2048000,
      "rowLimit": 10000
     },
     "inputWidgets": {},
     "nuid": "29f837be-1160-46cb-801b-a0473b38cfe8",
     "showTitle": false,
     "title": ""
    }
   },
   "outputs": [
    {
     "output_type": "stream",
     "name": "stdout",
     "output_type": "stream",
     "text": [
      "['pancakes', 'eggs']\n['eggs', 'waffles', 'yogurt']\n"
     ]
    }
   ],
   "source": [
    "print(breakfast_list[:2])\n",
    "print(breakfast_list[1:])"
   ]
  },
  {
   "cell_type": "markdown",
   "metadata": {
    "application/vnd.databricks.v1+cell": {
     "cellMetadata": {},
     "inputWidgets": {},
     "nuid": "2743dc84-cf88-4195-a110-03ba343fe18b",
     "showTitle": false,
     "title": "--i18n-c1232cd7-3bd1-4dad-bc96-97ed5d36c5b1"
    }
   },
   "source": [
    "\n",
    "\n",
    "We can also change the value of an index in a list to be something new like this:"
   ]
  },
  {
   "cell_type": "code",
   "execution_count": 0,
   "metadata": {
    "application/vnd.databricks.v1+cell": {
     "cellMetadata": {
      "byteLimit": 2048000,
      "rowLimit": 10000
     },
     "inputWidgets": {},
     "nuid": "07eaab98-354a-4c34-ba56-9df3f8ea0a49",
     "showTitle": false,
     "title": ""
    }
   },
   "outputs": [
    {
     "output_type": "stream",
     "name": "stdout",
     "output_type": "stream",
     "text": [
      "['pancakes', 'eggs', 'waffles', 'yogurt']\n['sausage', 'eggs', 'waffles', 'yogurt']\n"
     ]
    }
   ],
   "source": [
    "print(breakfast_list)\n",
    "breakfast_list[0] = \"sausage\"\n",
    "\n",
    "print(breakfast_list)"
   ]
  },
  {
   "cell_type": "markdown",
   "metadata": {
    "application/vnd.databricks.v1+cell": {
     "cellMetadata": {},
     "inputWidgets": {},
     "nuid": "076e43b3-13e9-4b81-8d68-3a2f5583f04b",
     "showTitle": false,
     "title": "--i18n-b26f49c7-544d-4cd7-811b-5439f136cdbe"
    }
   },
   "source": [
    "\n",
    "\n",
    "We can also use **`in`** to check if an element is in a given list. This is a boolean operation:"
   ]
  },
  {
   "cell_type": "code",
   "execution_count": 0,
   "metadata": {
    "application/vnd.databricks.v1+cell": {
     "cellMetadata": {
      "byteLimit": 2048000,
      "rowLimit": 10000
     },
     "inputWidgets": {},
     "nuid": "73497c52-8939-4b5a-bef8-698910c99c87",
     "showTitle": false,
     "title": ""
    }
   },
   "outputs": [
    {
     "output_type": "stream",
     "name": "stdout",
     "output_type": "stream",
     "text": [
      "Out[24]: True"
     ]
    }
   ],
   "source": [
    "\"waffles\" in breakfast_list"
   ]
  },
  {
   "cell_type": "markdown",
   "metadata": {
    "application/vnd.databricks.v1+cell": {
     "cellMetadata": {},
     "inputWidgets": {},
     "nuid": "653aa054-7ed8-47ca-8ff1-e66240704db2",
     "showTitle": false,
     "title": "--i18n-77f9f35a-b33f-454b-b7bb-9cc03589eb8a"
    }
   },
   "source": [
    "\n",
    "####  Filtering Lists\n",
    "\n",
    "Sometimes we need to extract specific items from a list based on certain criteria.\n",
    "\n",
    "You can achieve this by filtering a list, which allows us to create a new list containing only the elements that meet our defined conditions.\n",
    "\n",
    "Let's start with a list of breakfast items that we had this morning."
   ]
  },
  {
   "cell_type": "code",
   "execution_count": 0,
   "metadata": {
    "application/vnd.databricks.v1+cell": {
     "cellMetadata": {
      "byteLimit": 2048000,
      "rowLimit": 10000
     },
     "inputWidgets": {},
     "nuid": "62e592ea-8bd1-4b74-96d5-a2fb83492901",
     "showTitle": false,
     "title": ""
    }
   },
   "outputs": [],
   "source": [
    "breakfast_list = [\"pancakes\", \"eggs\", \"waffles\", \"milk\", \"yogurt\", \"bacon\", \"fruit\", \"cereal\"]"
   ]
  },
  {
   "cell_type": "markdown",
   "metadata": {
    "application/vnd.databricks.v1+cell": {
     "cellMetadata": {},
     "inputWidgets": {},
     "nuid": "a826c4fa-c387-408a-9fdc-1c1e64d827e8",
     "showTitle": false,
     "title": "--i18n-8430d2a8-14c2-4c03-a3a4-5e3391039920"
    }
   },
   "source": [
    "\n",
    "Now, suppose you want to create a new list containing breakfast items made from dairy products. We'll define a list of milk products that we want to filter for."
   ]
  },
  {
   "cell_type": "code",
   "execution_count": 0,
   "metadata": {
    "application/vnd.databricks.v1+cell": {
     "cellMetadata": {
      "byteLimit": 2048000,
      "rowLimit": 10000
     },
     "inputWidgets": {},
     "nuid": "549ace62-3604-4cbd-bae2-78a5f90c1300",
     "showTitle": false,
     "title": ""
    }
   },
   "outputs": [],
   "source": [
    "milk_products = []\n",
    "milk_items = [\"milk\", \"yogurt\"]"
   ]
  },
  {
   "cell_type": "markdown",
   "metadata": {
    "application/vnd.databricks.v1+cell": {
     "cellMetadata": {},
     "inputWidgets": {},
     "nuid": "1005e409-afd6-4d94-afcd-d229b5053713",
     "showTitle": false,
     "title": "--i18n-96c3bca9-c425-497c-8264-905083de27d5"
    }
   },
   "source": [
    "\n",
    "Let's get the milk products from the breakfast we just ate.\n",
    "\n",
    "We are going to use a loop to do this. Looping is a programming construct that we will cover in more detail in a different discussion. For now, just know that it provides a way to iterate over each item in a list."
   ]
  },
  {
   "cell_type": "code",
   "execution_count": 0,
   "metadata": {
    "application/vnd.databricks.v1+cell": {
     "cellMetadata": {
      "byteLimit": 2048000,
      "rowLimit": 10000
     },
     "inputWidgets": {},
     "nuid": "9703bf4c-78d3-411e-8294-c2fd93adaf44",
     "showTitle": false,
     "title": ""
    }
   },
   "outputs": [
    {
     "output_type": "stream",
     "name": "stdout",
     "output_type": "stream",
     "text": [
      "['milk', 'yogurt']\n"
     ]
    }
   ],
   "source": [
    "for item in breakfast_list:\n",
    "    if item in milk_items:\n",
    "        milk_products.append(item)\n",
    "\n",
    "print(milk_products)"
   ]
  },
  {
   "cell_type": "markdown",
   "metadata": {
    "application/vnd.databricks.v1+cell": {
     "cellMetadata": {},
     "inputWidgets": {},
     "nuid": "64f69948-d054-4b2e-89e5-36ce5e03a386",
     "showTitle": false,
     "title": "--i18n-215a3e73-2460-4a08-880e-34430d74ab56"
    }
   },
   "source": [
    "\n",
    "This works, but it's not very concise. You can also achieve this using the **`filter()`** method. It is a useful technique for extracting elements from a list based on specific criteria.\n",
    "\n",
    "Now, let's get the milk products from the breakfast we just ate, but this time, we'll use the **`filter()`** method."
   ]
  },
  {
   "cell_type": "code",
   "execution_count": 0,
   "metadata": {
    "application/vnd.databricks.v1+cell": {
     "cellMetadata": {
      "byteLimit": 2048000,
      "rowLimit": 10000
     },
     "inputWidgets": {},
     "nuid": "88a037b6-6aed-4c8c-bcab-f84d4e4db764",
     "showTitle": false,
     "title": ""
    }
   },
   "outputs": [
    {
     "output_type": "stream",
     "name": "stdout",
     "output_type": "stream",
     "text": [
      "['milk', 'yogurt']\n"
     ]
    }
   ],
   "source": [
    "milk_products = list(filter(milk_items.count, breakfast_list))\n",
    "\n",
    "print(milk_products)"
   ]
  },
  {
   "cell_type": "markdown",
   "metadata": {
    "application/vnd.databricks.v1+cell": {
     "cellMetadata": {},
     "inputWidgets": {},
     "nuid": "54e5cd51-3ef6-4c7b-a9ef-b16c8a4189db",
     "showTitle": false,
     "title": "--i18n-ddc4a8cc-f6ca-4fd0-918f-296ad6930068"
    }
   },
   "source": [
    "\n",
    "In this example, the **`filter()`** method iterates over each item in the **`breakfast_list`** and includes it in a new list if it matches the specified criteria. In this case, that criteria is the **`milk_items.count()`**, which returns the number of times an element is found in the list. So in otherwise, we're filtering items that can be found in the **`milk_items`** list; otherwise, the item is excluded.\n",
    "\n",
    "As you can see, we achieved the same result as the loop-based approach, obtaining a list of milk products from the breakfast list."
   ]
  },
  {
   "cell_type": "markdown",
   "metadata": {
    "application/vnd.databricks.v1+cell": {
     "cellMetadata": {},
     "inputWidgets": {},
     "nuid": "a6cb54e8-8702-475d-b092-878f50e02250",
     "showTitle": false,
     "title": "--i18n-89eac9cc-f33e-448b-9878-818def3246f6"
    }
   },
   "source": [
    "\n",
    "#### List Comprehensions \n",
    "\n",
    "List comprehensions are a concise pattern for creating new lists by applying an inline expression to each item in an existing list. They are often preferred for transforming or filtering list elements because they offer shorter, more compact, and readable code.\n",
    "\n",
    "Now, we already have our breakfast list. Let's use [list comprehension](https://www.w3schools.com/python/python_lists_comprehension.asp) to filter milk products from **`breakfast_list`**."
   ]
  },
  {
   "cell_type": "code",
   "execution_count": 0,
   "metadata": {
    "application/vnd.databricks.v1+cell": {
     "cellMetadata": {
      "byteLimit": 2048000,
      "rowLimit": 10000
     },
     "inputWidgets": {},
     "nuid": "e04d8d72-a686-4b95-a90c-c705576046f9",
     "showTitle": false,
     "title": ""
    }
   },
   "outputs": [
    {
     "output_type": "stream",
     "name": "stdout",
     "output_type": "stream",
     "text": [
      "['milk', 'yogurt']\n"
     ]
    }
   ],
   "source": [
    "milk_products = [item for item in breakfast_list if item in milk_items]\n",
    "print(milk_products)"
   ]
  },
  {
   "cell_type": "markdown",
   "metadata": {
    "application/vnd.databricks.v1+cell": {
     "cellMetadata": {},
     "inputWidgets": {},
     "nuid": "cb3ecab0-8ffb-4ecf-96e3-9490e60bf67d",
     "showTitle": false,
     "title": ""
    }
   },
   "source": [
    "--i18n-8a7f0b84-0522-4036-b975-1a1f196e870a\n",
    " \n",
    " You can see here that the list comprehension filters out items from **`breakfast_list`** that are present in the **`milk_items`** list."
   ]
  },
  {
   "cell_type": "markdown",
   "metadata": {
    "application/vnd.databricks.v1+cell": {
     "cellMetadata": {},
     "inputWidgets": {},
     "nuid": "5ff3d251-243c-4ccb-9f6d-3c8ca47fae34",
     "showTitle": false,
     "title": "--i18n-589d7a85-089c-4870-abe7-7ad2fd293698"
    }
   },
   "source": [
    "\n",
    "\n",
    "### Collection Type 2: Dictionaries\n",
    "\n",
    "A [Dictionary](https://www.w3schools.com/python/python_dictionaries.asp) is a sequence of key-value pairs. We define a dictionary as follows:\n",
    "\n",
    "`{key_1: value_1, key_2: value_2, ...}`\n",
    "\n",
    "The keys and values can all be of any type. However, because each key maps to a value, it is important that *all keys are unique*.\n",
    "\n",
    "Let's create a breakfast dictionary, where the keys are the type of food and the values are the number of those foods we ate for breakfast."
   ]
  },
  {
   "cell_type": "code",
   "execution_count": 0,
   "metadata": {
    "application/vnd.databricks.v1+cell": {
     "cellMetadata": {
      "byteLimit": 2048000,
      "rowLimit": 10000
     },
     "inputWidgets": {},
     "nuid": "17cf55fd-e20d-46be-ba19-34d6eeeedb5e",
     "showTitle": false,
     "title": ""
    }
   },
   "outputs": [
    {
     "output_type": "stream",
     "name": "stdout",
     "output_type": "stream",
     "text": [
      "Out[30]: {'pancakes': 1, 'eggs': 2, 'waffles': 3}"
     ]
    }
   ],
   "source": [
    "breakfast_dict = {\"pancakes\": 1, \"eggs\": 2, \"waffles\": 3}\n",
    "breakfast_dict"
   ]
  },
  {
   "cell_type": "markdown",
   "metadata": {
    "application/vnd.databricks.v1+cell": {
     "cellMetadata": {},
     "inputWidgets": {},
     "nuid": "fab9a558-eb4d-4925-95e3-585eb50b2af4",
     "showTitle": false,
     "title": "--i18n-14aa0189-5d2a-49f5-a497-b1a29839d03c"
    }
   },
   "source": [
    "\n",
    "\n",
    "#### Dictionary Methods\n",
    "\n",
    "Dictionaries provide the method [**dict_object.get()**](https://www.w3schools.com/python/ref_dictionary_get.asp) to get the value in the dictionary for the given argument. \n",
    "\n",
    "Let's see how many waffles we ate."
   ]
  },
  {
   "cell_type": "code",
   "execution_count": 0,
   "metadata": {
    "application/vnd.databricks.v1+cell": {
     "cellMetadata": {
      "byteLimit": 2048000,
      "rowLimit": 10000
     },
     "inputWidgets": {},
     "nuid": "57a5ce6f-bef7-4c6a-bb5c-9643c5f5f54d",
     "showTitle": false,
     "title": ""
    }
   },
   "outputs": [
    {
     "output_type": "stream",
     "name": "stdout",
     "output_type": "stream",
     "text": [
      "Out[31]: 3"
     ]
    }
   ],
   "source": [
    "breakfast_dict.get(\"waffles\")"
   ]
  },
  {
   "cell_type": "markdown",
   "metadata": {
    "application/vnd.databricks.v1+cell": {
     "cellMetadata": {},
     "inputWidgets": {},
     "nuid": "1f7d8cd1-a021-47c8-804b-221c2e54db0a",
     "showTitle": false,
     "title": "--i18n-c8653cbc-95a1-474e-8675-bbef76473da7"
    }
   },
   "source": [
    "\n",
    "\n",
    "Alternatively, you can use the syntax **`dict_object[key]`**."
   ]
  },
  {
   "cell_type": "code",
   "execution_count": 0,
   "metadata": {
    "application/vnd.databricks.v1+cell": {
     "cellMetadata": {
      "byteLimit": 2048000,
      "rowLimit": 10000
     },
     "inputWidgets": {},
     "nuid": "d240a572-9111-4335-9403-c979dc953d6f",
     "showTitle": false,
     "title": ""
    }
   },
   "outputs": [
    {
     "output_type": "stream",
     "name": "stdout",
     "output_type": "stream",
     "text": [
      "Out[32]: 3"
     ]
    }
   ],
   "source": [
    "breakfast_dict[\"waffles\"]"
   ]
  },
  {
   "cell_type": "markdown",
   "metadata": {
    "application/vnd.databricks.v1+cell": {
     "cellMetadata": {},
     "inputWidgets": {},
     "nuid": "39058d54-9eee-413b-9a47-70f1de1fab05",
     "showTitle": false,
     "title": "--i18n-de5edaf0-5374-4f84-888d-3a2793cd30fe"
    }
   },
   "source": [
    "\n",
    "\n",
    "\n",
    "You can update a dictionary similarly to a list by assigning **`breakfast_dict[key]`** to be something. \n",
    "\n",
    "If the key is present, it overwrites the current value. If not, it creates a new key-value pair. \n",
    "\n",
    "Let's say we ate another waffle, bringing our total up to 4 waffles, and then ate a yogurt."
   ]
  },
  {
   "cell_type": "code",
   "execution_count": 0,
   "metadata": {
    "application/vnd.databricks.v1+cell": {
     "cellMetadata": {
      "byteLimit": 2048000,
      "rowLimit": 10000
     },
     "inputWidgets": {},
     "nuid": "902dc545-5355-4d33-b970-91ad6b9ceb7b",
     "showTitle": false,
     "title": ""
    }
   },
   "outputs": [
    {
     "output_type": "stream",
     "name": "stdout",
     "output_type": "stream",
     "text": [
      "{'pancakes': 1, 'eggs': 2, 'waffles': 3}\n{'pancakes': 1, 'eggs': 2, 'waffles': 4, 'yogurt': 1}\n"
     ]
    }
   ],
   "source": [
    "print(breakfast_dict)\n",
    "breakfast_dict[\"waffles\"] += 1\n",
    "breakfast_dict[\"yogurt\"] = 1\n",
    "print(breakfast_dict)"
   ]
  },
  {
   "cell_type": "markdown",
   "metadata": {
    "application/vnd.databricks.v1+cell": {
     "cellMetadata": {},
     "inputWidgets": {},
     "nuid": "78a91a42-4af4-4a3e-ac8c-c6bf5941c51c",
     "showTitle": false,
     "title": "--i18n-9492938e-d135-47f8-8256-804d70cc4ff8"
    }
   },
   "source": [
    "\n",
    "\n",
    "Notice the use of **`+=`** to increment the count of waffles.\n",
    "\n",
    "**Question**: Why did we not use **`+=`** to increment the yogurt count?"
   ]
  },
  {
   "cell_type": "markdown",
   "metadata": {
    "application/vnd.databricks.v1+cell": {
     "cellMetadata": {},
     "inputWidgets": {},
     "nuid": "9fe5c964-9037-4efe-a32e-cf5df7a56b0e",
     "showTitle": false,
     "title": "--i18n-8092da28-ccad-4265-a97e-fb30c6da249d"
    }
   },
   "source": [
    "\n",
    "\n",
    "In order to determine if a key is in a dictionary, we can use the method [**dict_name.keys()**](https://www.w3schools.com/python/ref_dictionary_keys.asp). This returns a list of the keys in the dictionary. \n",
    "\n",
    "Similar to lists, we can use **`in`** to see if our key is in the dictionary. Let's see if we ate bacon for breakfast."
   ]
  },
  {
   "cell_type": "code",
   "execution_count": 0,
   "metadata": {
    "application/vnd.databricks.v1+cell": {
     "cellMetadata": {
      "byteLimit": 2048000,
      "rowLimit": 10000
     },
     "inputWidgets": {},
     "nuid": "f93cd911-21f7-4c54-8717-a7c09243c809",
     "showTitle": false,
     "title": ""
    }
   },
   "outputs": [
    {
     "output_type": "stream",
     "name": "stdout",
     "output_type": "stream",
     "text": [
      "dict_keys(['pancakes', 'eggs', 'waffles', 'yogurt'])\nFalse\n"
     ]
    }
   ],
   "source": [
    "print(breakfast_dict.keys())\n",
    "print(\"bacon\" in breakfast_dict.keys())"
   ]
  },
  {
   "cell_type": "markdown",
   "metadata": {
    "application/vnd.databricks.v1+cell": {
     "cellMetadata": {},
     "inputWidgets": {},
     "nuid": "726bd05c-c77b-49f9-8874-c1791607f9ad",
     "showTitle": false,
     "title": "--i18n-8913d38b-2ed7-4e52-b86a-12ef39580edd"
    }
   },
   "source": [
    "\n",
    "### Collection Type 3: Tuples\n",
    "\n",
    "A tuple is an ordered sequence of items, just like a list.\n",
    "\n",
    "[Tuples](https://www.w3schools.com/python/python_tuples.asp), unlike lists and dictionaries, are immutable, meaning they cannot be changed once they are created. We define a tuple as follows: **`(item1, item2, item3, ...)`**.\n",
    "\n",
    "Tuples can contain items of various types, and they maintain the order of the elements.\n",
    "\n",
    "Let's create a breakfast tuple to keep track of the items we had for breakfast."
   ]
  },
  {
   "cell_type": "code",
   "execution_count": 0,
   "metadata": {
    "application/vnd.databricks.v1+cell": {
     "cellMetadata": {
      "byteLimit": 2048000,
      "rowLimit": 10000
     },
     "inputWidgets": {},
     "nuid": "71308e98-7a91-4c81-b87d-add1b83b7f88",
     "showTitle": false,
     "title": ""
    }
   },
   "outputs": [
    {
     "output_type": "stream",
     "name": "stdout",
     "output_type": "stream",
     "text": [
      "Out[35]: ('pancakes', 'eggs', 'waffles')"
     ]
    }
   ],
   "source": [
    "breakfast_tuple = (\"pancakes\", \"eggs\", \"waffles\")\n",
    "breakfast_tuple"
   ]
  },
  {
   "cell_type": "markdown",
   "metadata": {
    "application/vnd.databricks.v1+cell": {
     "cellMetadata": {},
     "inputWidgets": {},
     "nuid": "40a7c353-3e7b-486a-a851-a8e5720db53c",
     "showTitle": false,
     "title": "--i18n-61565c1c-7ac4-4d61-9806-57f23895b014"
    }
   },
   "source": [
    "\n",
    "#### Tuple Methods \n",
    "\n",
    "Tuples are simple and do not have many built-in methods compared to lists and dictionaries. Tuples don't have methods like **`append()`**, for example, since they are immutable. Once a tuple is created, you cannot change, add, or remove elements from it. However, you can perform operations like indexing, slicing, and checking for the presence of an element, similar to lists. Let's take a look at what we had for breakfast first using indexing."
   ]
  },
  {
   "cell_type": "code",
   "execution_count": 0,
   "metadata": {
    "application/vnd.databricks.v1+cell": {
     "cellMetadata": {
      "byteLimit": 2048000,
      "rowLimit": 10000
     },
     "inputWidgets": {},
     "nuid": "2c80d52f-4b32-403e-83ac-d4a435e21c6b",
     "showTitle": false,
     "title": ""
    }
   },
   "outputs": [
    {
     "output_type": "stream",
     "name": "stdout",
     "output_type": "stream",
     "text": [
      "Out[36]: 'pancakes'"
     ]
    }
   ],
   "source": [
    "breakfast_tuple[0]  "
   ]
  },
  {
   "cell_type": "markdown",
   "metadata": {
    "application/vnd.databricks.v1+cell": {
     "cellMetadata": {},
     "inputWidgets": {},
     "nuid": "93905060-c660-4163-ab9a-99554b22e6ba",
     "showTitle": false,
     "title": "--i18n-6e731df0-6a2f-48ac-a31b-973fd2444155"
    }
   },
   "source": [
    "\n",
    "Slicing can also be used with tuples, which allows you to extract a range of elements."
   ]
  },
  {
   "cell_type": "code",
   "execution_count": 0,
   "metadata": {
    "application/vnd.databricks.v1+cell": {
     "cellMetadata": {
      "byteLimit": 2048000,
      "rowLimit": 10000
     },
     "inputWidgets": {},
     "nuid": "2e8c7a7d-21a0-4a2c-a459-06faf71b26f0",
     "showTitle": false,
     "title": ""
    }
   },
   "outputs": [
    {
     "output_type": "stream",
     "name": "stdout",
     "output_type": "stream",
     "text": [
      "Out[37]: ('eggs', 'waffles')"
     ]
    }
   ],
   "source": [
    "breakfast_tuple[1:3]"
   ]
  },
  {
   "cell_type": "markdown",
   "metadata": {
    "application/vnd.databricks.v1+cell": {
     "cellMetadata": {},
     "inputWidgets": {},
     "nuid": "11c94f88-646a-4995-b4ed-383557560b2e",
     "showTitle": false,
     "title": "--i18n-08c904c2-be73-4b75-9e2a-2720de3bc542"
    }
   },
   "source": [
    "\n",
    "You can use the  **`in`** operator to check if an element exists in a tuple. let's see if we had pancakes for breakfast or not."
   ]
  },
  {
   "cell_type": "code",
   "execution_count": 0,
   "metadata": {
    "application/vnd.databricks.v1+cell": {
     "cellMetadata": {
      "byteLimit": 2048000,
      "rowLimit": 10000
     },
     "inputWidgets": {},
     "nuid": "ca64d59b-d8b4-4935-9def-faf04faea277",
     "showTitle": false,
     "title": ""
    }
   },
   "outputs": [
    {
     "output_type": "stream",
     "name": "stdout",
     "output_type": "stream",
     "text": [
      "True\n"
     ]
    }
   ],
   "source": [
    "print(\"pancakes\" in breakfast_tuple)"
   ]
  },
  {
   "cell_type": "markdown",
   "metadata": {
    "application/vnd.databricks.v1+cell": {
     "cellMetadata": {},
     "inputWidgets": {},
     "nuid": "ff101243-01e7-4e59-b310-f4e9b77c10a3",
     "showTitle": false,
     "title": ""
    }
   },
   "source": [
    "&copy; 2023 Databricks, Inc. All rights reserved.<br/>\n",
    "Apache, Apache Spark, Spark and the Spark logo are trademarks of the <a href=\"https://www.apache.org/\">Apache Software Foundation</a>.<br/>\n",
    "<br/>\n",
    "<a href=\"https://databricks.com/privacy-policy\">Privacy Policy</a> | <a href=\"https://databricks.com/terms-of-use\">Terms of Use</a> | <a href=\"https://help.databricks.com/\">Support</a>"
   ]
  }
 ],
 "metadata": {
  "application/vnd.databricks.v1+notebook": {
   "dashboards": [],
   "environmentMetadata": null,
   "language": "python",
   "notebookMetadata": {
    "pythonIndentUnit": 2
   },
   "notebookName": "ITP 04 - Collection Types and Methods",
   "widgets": {}
  }
 },
 "nbformat": 4,
 "nbformat_minor": 0
}

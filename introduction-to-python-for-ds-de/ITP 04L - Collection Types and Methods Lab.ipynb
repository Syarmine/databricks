{
 "cells": [
  {
   "cell_type": "markdown",
   "metadata": {
    "application/vnd.databricks.v1+cell": {
     "cellMetadata": {},
     "inputWidgets": {},
     "nuid": "721d6a3a-26c5-4af4-8cb7-a1cf1adf0547",
     "showTitle": false,
     "title": ""
    }
   },
   "source": [
    "\n",
    "<div style=\"text-align: center; line-height: 0; padding-top: 9px;\">\n",
    "  <img src=\"https://databricks.com/wp-content/uploads/2018/03/db-academy-rgb-1200px.png\" alt=\"Databricks Learning\" style=\"width: 600px\">\n",
    "</div>"
   ]
  },
  {
   "cell_type": "markdown",
   "metadata": {
    "application/vnd.databricks.v1+cell": {
     "cellMetadata": {},
     "inputWidgets": {},
     "nuid": "03d200c4-afa0-4ba9-82d7-9745dd267b06",
     "showTitle": false,
     "title": "--i18n-2e588f6c-a1c4-4184-888c-25dd7f246cf4"
    }
   },
   "source": [
    "\n",
    "\n",
    "# Collection Types and Methods\n",
    "\n",
    "## ![Spark Logo Tiny](https://files.training.databricks.com/images/105/logo_spark_tiny.png) In this lab you:<br>\n",
    "\n",
    "Apply concepts learned in the last lesson, including:\n",
    "- Using objects and methods with new collection data types"
   ]
  },
  {
   "cell_type": "markdown",
   "metadata": {
    "application/vnd.databricks.v1+cell": {
     "cellMetadata": {},
     "inputWidgets": {},
     "nuid": "ce75af4d-8d18-4043-95c5-7775226d1c8b",
     "showTitle": false,
     "title": "--i18n-f43f90db-5f06-4f7b-bbe1-e4a4a27a1984"
    }
   },
   "source": [
    "\n",
    "\n",
    "#### Problem 1a: Dinner Foods\n",
    "\n",
    "We provide a list called **`dinner_list`** with elements \"potatoes, peppers, onions\" in that order."
   ]
  },
  {
   "cell_type": "code",
   "execution_count": 0,
   "metadata": {
    "application/vnd.databricks.v1+cell": {
     "cellMetadata": {
      "byteLimit": 2048000,
      "rowLimit": 10000
     },
     "inputWidgets": {},
     "nuid": "d57444da-7240-43fa-8f9f-82745415ae73",
     "showTitle": false,
     "title": ""
    }
   },
   "outputs": [],
   "source": [
    "# TODO\n",
    "dinner_list = [\"potatoes\", \"peppers\", \"onions\"]"
   ]
  },
  {
   "cell_type": "markdown",
   "metadata": {
    "application/vnd.databricks.v1+cell": {
     "cellMetadata": {},
     "inputWidgets": {},
     "nuid": "f08d197c-6074-4ce7-87ce-f3e4d4302d5b",
     "showTitle": false,
     "title": "--i18n-5382a8a7-3300-468e-8f1d-8009c6c3bb8c"
    }
   },
   "source": [
    "\n",
    "\n",
    "#### Problem 1b: Dinner Foods \n",
    "\n",
    "However, we actually ate sweet potatoes, not normal potatoes, so change the first element of the list to be \"sweet potatoes\"."
   ]
  },
  {
   "cell_type": "code",
   "execution_count": 0,
   "metadata": {
    "application/vnd.databricks.v1+cell": {
     "cellMetadata": {
      "byteLimit": 2048000,
      "rowLimit": 10000
     },
     "inputWidgets": {},
     "nuid": "9b5a9c72-6b86-4101-864f-f06228a456a0",
     "showTitle": false,
     "title": ""
    }
   },
   "outputs": [],
   "source": [
    "# TODO\n",
    "dinner_list[0] = \"sweet potatoes\""
   ]
  },
  {
   "cell_type": "code",
   "execution_count": 0,
   "metadata": {
    "application/vnd.databricks.v1+cell": {
     "cellMetadata": {
      "byteLimit": 2048000,
      "rowLimit": 10000
     },
     "inputWidgets": {},
     "nuid": "3118691b-a026-4a42-b7ea-19a8a720cfd4",
     "showTitle": false,
     "title": ""
    }
   },
   "outputs": [
    {
     "output_type": "stream",
     "name": "stdout",
     "output_type": "stream",
     "text": [
      "Test passed!\n"
     ]
    }
   ],
   "source": [
    "assert dinner_list == ['sweet potatoes', 'peppers', 'onions'], \"dinner_list should be ['sweet potatoes', 'peppers', 'onions']\"\n",
    "print(\"Test passed!\")"
   ]
  },
  {
   "cell_type": "markdown",
   "metadata": {
    "application/vnd.databricks.v1+cell": {
     "cellMetadata": {},
     "inputWidgets": {},
     "nuid": "576883c4-3f4f-4436-a613-cb08c3f6e0f0",
     "showTitle": false,
     "title": "--i18n-768e4c64-8466-4084-87b0-51a55f63c26f"
    }
   },
   "source": [
    "\n",
    " \n",
    "#### Problem 1c: Dinner Foods \n",
    "Finally, we also ate some rice, so add \"rice\" to the end of the list."
   ]
  },
  {
   "cell_type": "code",
   "execution_count": 0,
   "metadata": {
    "application/vnd.databricks.v1+cell": {
     "cellMetadata": {
      "byteLimit": 2048000,
      "rowLimit": 10000
     },
     "inputWidgets": {},
     "nuid": "fbd7b8c8-9934-4591-9b11-0d02dfef6747",
     "showTitle": false,
     "title": ""
    }
   },
   "outputs": [],
   "source": [
    "# TODO\n",
    "dinner_list.append(\"rice\")"
   ]
  },
  {
   "cell_type": "code",
   "execution_count": 0,
   "metadata": {
    "application/vnd.databricks.v1+cell": {
     "cellMetadata": {
      "byteLimit": 2048000,
      "rowLimit": 10000
     },
     "inputWidgets": {},
     "nuid": "62c6bd99-6749-48ad-b4d5-e7749dcb1f2f",
     "showTitle": false,
     "title": ""
    }
   },
   "outputs": [
    {
     "output_type": "stream",
     "name": "stdout",
     "output_type": "stream",
     "text": [
      "Test passed!\n"
     ]
    }
   ],
   "source": [
    "assert dinner_list == ['sweet potatoes', 'peppers', 'onions', 'rice'], \"dinner_list should be ['sweet potatoes', 'peppers', 'onions', 'rice']\"\n",
    "print(\"Test passed!\")"
   ]
  },
  {
   "cell_type": "markdown",
   "metadata": {
    "application/vnd.databricks.v1+cell": {
     "cellMetadata": {},
     "inputWidgets": {},
     "nuid": "536f8a1f-f161-46b7-8677-56a8abcb4199",
     "showTitle": false,
     "title": "--i18n-04208057-4d9e-4b91-a12c-1c811d2940bf"
    }
   },
   "source": [
    "\n",
    "\n",
    "#### Problem 2a: Dinner Dictionaries\n",
    "\n",
    "Create a dictionary called **`dinner_dict`** with pairs `\"sweet potatoes\": 3`, `\"peppers\": 4`, `\"onions\": 1` representing what we ate for dinner."
   ]
  },
  {
   "cell_type": "code",
   "execution_count": 0,
   "metadata": {
    "application/vnd.databricks.v1+cell": {
     "cellMetadata": {
      "byteLimit": 2048000,
      "rowLimit": 10000
     },
     "inputWidgets": {},
     "nuid": "fccae4ea-0131-4b06-82ec-11e119565a84",
     "showTitle": false,
     "title": ""
    }
   },
   "outputs": [],
   "source": [
    "# TODO\n",
    "dinner_dict = {\"sweet potatoes\": 3, \"peppers\": 4, \"onions\":1}"
   ]
  },
  {
   "cell_type": "code",
   "execution_count": 0,
   "metadata": {
    "application/vnd.databricks.v1+cell": {
     "cellMetadata": {
      "byteLimit": 2048000,
      "rowLimit": 10000
     },
     "inputWidgets": {},
     "nuid": "f30a0111-6458-4f35-a7ec-dcaf62081a70",
     "showTitle": false,
     "title": ""
    }
   },
   "outputs": [
    {
     "output_type": "stream",
     "name": "stdout",
     "output_type": "stream",
     "text": [
      "Tests passed!\n"
     ]
    }
   ],
   "source": [
    "assert dinner_dict[\"sweet potatoes\"] == 3, \"We had 3 sweet potatoes\"\n",
    "assert dinner_dict[\"peppers\"] == 4, \"We had 4 peppers\"\n",
    "assert dinner_dict[\"onions\"] == 1, \"We had 1 onion\"\n",
    "print(\"Tests passed!\")"
   ]
  },
  {
   "cell_type": "markdown",
   "metadata": {
    "application/vnd.databricks.v1+cell": {
     "cellMetadata": {},
     "inputWidgets": {},
     "nuid": "bc9fe96f-9fa2-4937-8592-c928e66ed31f",
     "showTitle": false,
     "title": "--i18n-01f79df2-b253-4e4d-949b-868d08287636"
    }
   },
   "source": [
    "\n",
    "\n",
    "#### Problem 2b: Updating Dinner Dictionary\n",
    "\n",
    "After thinking about it, we realize we actually only had 2 `sweet potatoes`. And while we didn't want to admit it, we also had one `ice cream` as well.\n",
    "\n",
    "Update the dictionary to reflect those changes."
   ]
  },
  {
   "cell_type": "code",
   "execution_count": 0,
   "metadata": {
    "application/vnd.databricks.v1+cell": {
     "cellMetadata": {
      "byteLimit": 2048000,
      "rowLimit": 10000
     },
     "inputWidgets": {},
     "nuid": "276b89cb-4b8b-4d81-903d-4cc4cb693742",
     "showTitle": false,
     "title": ""
    }
   },
   "outputs": [
    {
     "output_type": "stream",
     "name": "stdout",
     "output_type": "stream",
     "text": [
      "{'sweet potatoes': 4, 'peppers': 4, 'onions': 1, 'ice cream': 1}\n{'sweet potatoes': 2, 'peppers': 4, 'onions': 1, 'ice cream': 1}\n"
     ]
    }
   ],
   "source": [
    "# TODO\n",
    "print(dinner_dict)\n",
    "dinner_dict[\"sweet potatoes\"] -= 1\n",
    "dinner_dict[\"ice cream\"] = 1\n",
    "print(dinner_dict)"
   ]
  },
  {
   "cell_type": "markdown",
   "metadata": {
    "application/vnd.databricks.v1+cell": {
     "cellMetadata": {},
     "inputWidgets": {},
     "nuid": "c4f37e73-3613-44df-b5ac-c6b5c9bdc3ec",
     "showTitle": false,
     "title": "--i18n-ea6adf37-9c45-44fa-a1ae-9f3452f05db8"
    }
   },
   "source": [
    "\n",
    "\n",
    "**Check your work:**"
   ]
  },
  {
   "cell_type": "code",
   "execution_count": 0,
   "metadata": {
    "application/vnd.databricks.v1+cell": {
     "cellMetadata": {
      "byteLimit": 2048000,
      "rowLimit": 10000
     },
     "inputWidgets": {},
     "nuid": "e3d97fd8-b780-4f85-851d-e0a57da8b579",
     "showTitle": false,
     "title": ""
    }
   },
   "outputs": [
    {
     "output_type": "stream",
     "name": "stdout",
     "output_type": "stream",
     "text": [
      "Tests passed!\n"
     ]
    }
   ],
   "source": [
    "assert dinner_dict[\"sweet potatoes\"] == 2, \"We had 2 sweet potatoes\"\n",
    "assert dinner_dict[\"ice cream\"] == 1, \"We had 1 ice cream (but don't tell!)\"\n",
    "print(\"Tests passed!\")"
   ]
  },
  {
   "cell_type": "markdown",
   "metadata": {
    "application/vnd.databricks.v1+cell": {
     "cellMetadata": {},
     "inputWidgets": {},
     "nuid": "e218bb71-fadf-4fa6-ae94-0d1c833887a6",
     "showTitle": false,
     "title": "--i18n-0d94c470-0a24-4071-8e23-d71d610eb80e"
    }
   },
   "source": [
    "\n",
    "\n",
    "### Problem 3: Sets\n",
    "\n",
    "A very valuable skill for a programmer to have is to be able to look at documentation for a data type they do not know and understand how to use it. \n",
    "\n",
    "With that in mind this exercise asks you to explore a new collection data type called **Sets**. \n",
    "\n",
    "Use the documentation provided <a href=\"https://docs.python.org/3/tutorial/datastructures.html#sets\" target=\"_blank\">here</a> to complete the next problem.\n",
    "\n",
    "Create the following sets:\n",
    "  * **`ingredient_set_1`** with the ingredients \"carrots\", \"onions\", and \"potatoes\".\n",
    "  * **`ingredient_set_2`** with the ingredients \"broccoli\", \"carrots\", and \"rice\".\n",
    "  * **`ingredient_set_3`** with the ingredients \"sweet potatoes\", \"carrots\", and \"corn\".\n",
    "\n",
    "Programmatically create a new set **`ingredient_intersection_set`** which contains only those ingredients that occur in all three sets."
   ]
  },
  {
   "cell_type": "code",
   "execution_count": 0,
   "metadata": {
    "application/vnd.databricks.v1+cell": {
     "cellMetadata": {
      "byteLimit": 2048000,
      "rowLimit": 10000
     },
     "inputWidgets": {},
     "nuid": "c51a460d-aec1-476c-8b7a-ef8686321d22",
     "showTitle": false,
     "title": ""
    }
   },
   "outputs": [],
   "source": [
    "# TODO\n",
    "ingredient_set_1 = {\"carrots\", \"onions\",\"potatoes\"}\n",
    "ingredient_set_2 = {\"broccoli\", \"carrots\", \"rice\"}\n",
    "ingredient_set_3 = {\"sweet potatoes\", \"carrots\", \"corn\"}\n",
    "ingredient_intersection_set = ingredient_set_1 & ingredient_set_2 & ingredient_set_3"
   ]
  },
  {
   "cell_type": "markdown",
   "metadata": {
    "application/vnd.databricks.v1+cell": {
     "cellMetadata": {},
     "inputWidgets": {},
     "nuid": "1555500c-c558-476a-9a7d-2ff711b17afb",
     "showTitle": false,
     "title": "--i18n-4f4f2578-063d-41c5-bffb-3fefadbe7380"
    }
   },
   "source": [
    "\n",
    "\n",
    "**Check your work:**"
   ]
  },
  {
   "cell_type": "code",
   "execution_count": 0,
   "metadata": {
    "application/vnd.databricks.v1+cell": {
     "cellMetadata": {
      "byteLimit": 2048000,
      "rowLimit": 10000
     },
     "inputWidgets": {},
     "nuid": "1d339c4f-dc05-4106-982d-aa734cf604c2",
     "showTitle": false,
     "title": ""
    }
   },
   "outputs": [
    {
     "output_type": "stream",
     "name": "stdout",
     "output_type": "stream",
     "text": [
      "Test passed!\n"
     ]
    }
   ],
   "source": [
    "assert ingredient_intersection_set == {\"carrots\"}, \"Only carrots occurs in all the ingredients\"\n",
    "assert \"broccoli\" in ingredient_set_2, \"Did you forget your broccoli?\"\n",
    "\n",
    "print(\"Test passed!\")"
   ]
  },
  {
   "cell_type": "markdown",
   "metadata": {
    "application/vnd.databricks.v1+cell": {
     "cellMetadata": {},
     "inputWidgets": {},
     "nuid": "3b850e84-e71d-4acd-a47e-15c3ff4062b5",
     "showTitle": false,
     "title": ""
    }
   },
   "source": [
    "&copy; 2023 Databricks, Inc. All rights reserved.<br/>\n",
    "Apache, Apache Spark, Spark and the Spark logo are trademarks of the <a href=\"https://www.apache.org/\">Apache Software Foundation</a>.<br/>\n",
    "<br/>\n",
    "<a href=\"https://databricks.com/privacy-policy\">Privacy Policy</a> | <a href=\"https://databricks.com/terms-of-use\">Terms of Use</a> | <a href=\"https://help.databricks.com/\">Support</a>"
   ]
  }
 ],
 "metadata": {
  "application/vnd.databricks.v1+notebook": {
   "dashboards": [],
   "environmentMetadata": null,
   "language": "python",
   "notebookMetadata": {
    "pythonIndentUnit": 4
   },
   "notebookName": "ITP 04L - Collection Types and Methods Lab",
   "widgets": {}
  }
 },
 "nbformat": 4,
 "nbformat_minor": 0
}

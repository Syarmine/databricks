{
 "cells": [
  {
   "cell_type": "markdown",
   "metadata": {
    "application/vnd.databricks.v1+cell": {
     "cellMetadata": {},
     "inputWidgets": {},
     "nuid": "2164bd37-c546-421d-8870-5c13b7313583",
     "showTitle": false,
     "title": ""
    }
   },
   "source": [
    "\n",
    "<div style=\"text-align: center; line-height: 0; padding-top: 9px;\">\n",
    "  <img src=\"https://databricks.com/wp-content/uploads/2018/03/db-academy-rgb-1200px.png\" alt=\"Databricks Learning\" style=\"width: 600px\">\n",
    "</div>"
   ]
  },
  {
   "cell_type": "markdown",
   "metadata": {
    "application/vnd.databricks.v1+cell": {
     "cellMetadata": {},
     "inputWidgets": {},
     "nuid": "a3c29726-a860-48fa-9b84-07a91965f444",
     "showTitle": false,
     "title": "--i18n-13cdba3e-bd9b-441f-9202-12e26ce9135f"
    }
   },
   "source": [
    "\n",
    "\n",
    "# Loops\n",
    "\n",
    "## ![Spark Logo Tiny](https://files.training.databricks.com/images/105/logo_spark_tiny.png) In this lesson you:<br>\n",
    "\n",
    "- Explore for-loops, a new way to change control flow\n",
    "- Use for-loops to filter lists"
   ]
  },
  {
   "cell_type": "markdown",
   "metadata": {
    "application/vnd.databricks.v1+cell": {
     "cellMetadata": {},
     "inputWidgets": {},
     "nuid": "ebc23aca-a601-4697-95f0-5ee4192647ea",
     "showTitle": false,
     "title": "--i18n-f5c07310-2b29-4266-9ec2-9b239ebae74f"
    }
   },
   "source": [
    "\n",
    "\n",
    "### For-loops\n",
    "\n",
    "Loops are a way to repeat a block of code while iterating over a sequence.\n",
    "\n",
    "We write a [**for-loop**](https://www.w3schools.com/python/python_for_loops.asp) like this:\n",
    "```\n",
    " for var_name in list:\n",
    "     code_block\n",
    "```\n",
    "\n",
    "Python will execute the code in the **`code_block`** once per item in the list. Each time, it will assign **`var_name`** to be the next item in the list, starting at the beginning."
   ]
  },
  {
   "cell_type": "markdown",
   "metadata": {
    "application/vnd.databricks.v1+cell": {
     "cellMetadata": {},
     "inputWidgets": {},
     "nuid": "6a932fe0-0425-4ed7-a1f4-eaeabefde602",
     "showTitle": false,
     "title": "--i18n-ac31dae5-adc1-4167-b689-87d6bce353e2"
    }
   },
   "source": [
    "\n",
    "\n",
    "Each time the code loops, **`var_name`**, which is **`number`** in the example below, is set equal to the next item in the list. \n",
    "\n",
    "Let's break this down:\n",
    "\n",
    "Step 1. **`number = 0`**, the first element in the list, and prints **`0`**.\n",
    "\n",
    "Step 2. **`number`** is set to the next element in the list, so **`number = 1`**, and prints **`1`**.\n",
    "\n",
    "Step 3. **`number`** is set to the next element in the list again, so **`number = 2`**, and prints **`2`**.\n",
    "\n",
    "Using this, we can have the code in the **`for`** loop act on every item in the list."
   ]
  },
  {
   "cell_type": "code",
   "execution_count": 0,
   "metadata": {
    "application/vnd.databricks.v1+cell": {
     "cellMetadata": {
      "byteLimit": 2048000,
      "rowLimit": 10000
     },
     "inputWidgets": {},
     "nuid": "8723631a-833a-440e-943d-682bb64911ab",
     "showTitle": false,
     "title": ""
    }
   },
   "outputs": [
    {
     "output_type": "stream",
     "name": "stdout",
     "output_type": "stream",
     "text": [
      "0\n1\n2\n"
     ]
    }
   ],
   "source": [
    "for number in [0, 1, 2]:\n",
    "    print(number)"
   ]
  },
  {
   "cell_type": "markdown",
   "metadata": {
    "application/vnd.databricks.v1+cell": {
     "cellMetadata": {},
     "inputWidgets": {},
     "nuid": "56ee4357-99aa-4dca-9b54-3d4d0a235354",
     "showTitle": false,
     "title": "--i18n-90b9748a-7ecc-440c-98ca-5acde97b5212"
    }
   },
   "source": [
    "\n",
    "\n",
    "If you want to execute a code block many times but don't need to iterate over a list, you can instead use [**range()**](https://www.w3schools.com/python/ref_func_range.asp).\n",
    "\n",
    "**`range()`** takes in a start and a stop index (stop index value is exclusive, not inclusive). By default, it will increment one at a time starting at start and ending at stop-1. So **`range(0, 4)`** would iterate over the values: 0, 1, 2, 3.\n",
    "\n",
    "For example, let's print **`\"Hello!\"`** 10 times."
   ]
  },
  {
   "cell_type": "code",
   "execution_count": 0,
   "metadata": {
    "application/vnd.databricks.v1+cell": {
     "cellMetadata": {
      "byteLimit": 2048000,
      "rowLimit": 10000
     },
     "inputWidgets": {},
     "nuid": "173052b4-43f2-41d4-88a2-b91f3d22c0d0",
     "showTitle": false,
     "title": ""
    }
   },
   "outputs": [
    {
     "output_type": "stream",
     "name": "stdout",
     "output_type": "stream",
     "text": [
      "Hello!\nHello!\nHello!\nHello!\nHello!\nHello!\nHello!\nHello!\nHello!\nHello!\n"
     ]
    }
   ],
   "source": [
    "for element in range(0, 10):\n",
    "    print(\"Hello!\")"
   ]
  },
  {
   "cell_type": "markdown",
   "metadata": {
    "application/vnd.databricks.v1+cell": {
     "cellMetadata": {},
     "inputWidgets": {},
     "nuid": "65fcae28-c224-4785-82ff-61e7f754aade",
     "showTitle": false,
     "title": "--i18n-4e3f1154-8637-45de-a4ae-5b285bb87fdd"
    }
   },
   "source": [
    "\n",
    "\n",
    "Here, **`element`** is temporarily assigned to each number in that range at each iteration."
   ]
  },
  {
   "cell_type": "code",
   "execution_count": 0,
   "metadata": {
    "application/vnd.databricks.v1+cell": {
     "cellMetadata": {
      "byteLimit": 2048000,
      "rowLimit": 10000
     },
     "inputWidgets": {},
     "nuid": "d724fe53-4326-40dd-950d-42102734d2ff",
     "showTitle": false,
     "title": ""
    }
   },
   "outputs": [
    {
     "output_type": "stream",
     "name": "stdout",
     "output_type": "stream",
     "text": [
      "0\n1\n2\n3\n4\n5\n6\n7\n8\n9\n"
     ]
    }
   ],
   "source": [
    "for element in range(0, 10):\n",
    "    print(element)"
   ]
  },
  {
   "cell_type": "markdown",
   "metadata": {
    "application/vnd.databricks.v1+cell": {
     "cellMetadata": {},
     "inputWidgets": {},
     "nuid": "ef4415b3-bd66-450f-aef9-722a698e38d5",
     "showTitle": false,
     "title": "--i18n-1ff92a97-049b-44a0-ab26-dac4a85ca615"
    }
   },
   "source": [
    "\n",
    "\n",
    "Question: How can we change the code to print 1-10, not 0-9?"
   ]
  },
  {
   "cell_type": "markdown",
   "metadata": {
    "application/vnd.databricks.v1+cell": {
     "cellMetadata": {},
     "inputWidgets": {},
     "nuid": "82c85332-bed9-414f-b5b6-0be99c2be2b6",
     "showTitle": false,
     "title": "--i18n-edd56f68-c314-46f0-9d37-de1ef33a449e"
    }
   },
   "source": [
    "\n",
    "\n",
    "\n",
    "You can use loops to filter a list. For example, let's say we wanted to filter a list of numbers to only keep the numbers greater than 4. \n",
    "\n",
    "We can accomplish this by creating an empty new list, looping over our list of numbers, and adding numbers to the empty list if they are greater than 4."
   ]
  },
  {
   "cell_type": "code",
   "execution_count": 0,
   "metadata": {
    "application/vnd.databricks.v1+cell": {
     "cellMetadata": {
      "byteLimit": 2048000,
      "rowLimit": 10000
     },
     "inputWidgets": {},
     "nuid": "cccfc1ac-cf25-4b8b-8724-ea6cccb8bdc1",
     "showTitle": false,
     "title": ""
    }
   },
   "outputs": [
    {
     "output_type": "stream",
     "name": "stdout",
     "output_type": "stream",
     "text": [
      "Out[7]: [5, 6, 7, 8, 9, 10]"
     ]
    }
   ],
   "source": [
    "numbers_list = [1, 2, 3, 4, 5, 6, 7, 8, 9, 10]\n",
    "final_list = []\n",
    "\n",
    "for element in numbers_list:\n",
    "    if element > 4:\n",
    "        final_list.append(element)\n",
    "        \n",
    "final_list"
   ]
  },
  {
   "cell_type": "markdown",
   "metadata": {
    "application/vnd.databricks.v1+cell": {
     "cellMetadata": {},
     "inputWidgets": {},
     "nuid": "0a9110d8-2540-4090-a7e6-45d45403beaf",
     "showTitle": false,
     "title": "--i18n-cb72b94d-ff2f-43ba-8468-5666faa713f3"
    }
   },
   "source": [
    "\n",
    "\n",
    "Creating a new list from filtering one with a loop is a common enough problem that Python actually provides a very useful shortcut. \n",
    "\n",
    "The shortcut is called [list comprehension](https://www.w3schools.com/python/python_lists_comprehension.asp) and it looks like this: **`[var_name for var_name in list if (boolean condition)]`**\n",
    "\n",
    "Let's use this shortcut to do the exact same thing we did in the previous cell."
   ]
  },
  {
   "cell_type": "code",
   "execution_count": 0,
   "metadata": {
    "application/vnd.databricks.v1+cell": {
     "cellMetadata": {},
     "inputWidgets": {},
     "nuid": "240d839f-2349-4686-b0f8-50e06c56c97a",
     "showTitle": false,
     "title": ""
    }
   },
   "outputs": [],
   "source": [
    "final_list_shortcut = [element for element in numbers_list if element > 4]\n",
    "final_list_shortcut"
   ]
  },
  {
   "cell_type": "markdown",
   "metadata": {
    "application/vnd.databricks.v1+cell": {
     "cellMetadata": {},
     "inputWidgets": {},
     "nuid": "06c7dc37-c7bf-4ac8-b27c-5a703659560c",
     "showTitle": false,
     "title": "--i18n-42f3bd09-15b7-4cb6-bf4d-61d867f57f8c"
    }
   },
   "source": [
    "\n",
    "\n",
    "You can read this left to right as including **`element`** in the final list for each **`element`** in **`numbers`** if the **`element`** is greater than 4.\n",
    "\n",
    "For example, let's say instead of just including every **`element`** in **`numbers`** that is greater than 4, we instead want to include **`2 * element`** for every **`element`** in **`numbers`** if **`element`** if greater than 4. Let's look at the code below."
   ]
  },
  {
   "cell_type": "code",
   "execution_count": 0,
   "metadata": {
    "application/vnd.databricks.v1+cell": {
     "cellMetadata": {
      "byteLimit": 2048000,
      "rowLimit": 10000
     },
     "inputWidgets": {},
     "nuid": "38b64bf3-f9b5-4cb7-ace0-237299424fbb",
     "showTitle": false,
     "title": ""
    }
   },
   "outputs": [
    {
     "output_type": "stream",
     "name": "stdout",
     "output_type": "stream",
     "text": [
      "Out[8]: [10, 12, 14, 16, 18, 20]"
     ]
    }
   ],
   "source": [
    "doubled_list = [2 * element for element in numbers_list if element > 4]\n",
    "doubled_list"
   ]
  },
  {
   "cell_type": "markdown",
   "metadata": {
    "application/vnd.databricks.v1+cell": {
     "cellMetadata": {},
     "inputWidgets": {},
     "nuid": "037887a1-9c3f-4a69-99b1-6d662bc3aa38",
     "showTitle": false,
     "title": "--i18n-9d0bf7b0-5558-47fe-9a02-342e7f644c66"
    }
   },
   "source": [
    "\n",
    "\n",
    "The boolean expression is actually optional. Let's double every element in the list."
   ]
  },
  {
   "cell_type": "code",
   "execution_count": 0,
   "metadata": {
    "application/vnd.databricks.v1+cell": {
     "cellMetadata": {
      "byteLimit": 2048000,
      "rowLimit": 10000
     },
     "inputWidgets": {},
     "nuid": "dfe6ccb8-85c6-4d85-958d-0e285fa0b9ee",
     "showTitle": false,
     "title": ""
    }
   },
   "outputs": [
    {
     "output_type": "stream",
     "name": "stdout",
     "output_type": "stream",
     "text": [
      "Out[9]: [2, 4, 6, 8, 10, 12, 14, 16, 18, 20]"
     ]
    }
   ],
   "source": [
    "[2 * element for element in numbers_list]"
   ]
  },
  {
   "cell_type": "markdown",
   "metadata": {
    "application/vnd.databricks.v1+cell": {
     "cellMetadata": {},
     "inputWidgets": {},
     "nuid": "67e2554b-d7f0-4464-ae68-3e923b0db8b2",
     "showTitle": false,
     "title": "--i18n-07060457-fa2d-48b6-b140-c4dbc681af0d"
    }
   },
   "source": [
    "\n",
    "\n",
    "### `break`\n",
    "\n",
    "If you want to exit a loop early, before the loop has finished iterating over it's sequence, you can use **`break`**.\n",
    "\n",
    "**`break`** is written on it's own line inside a loop code block, and when Python executes that line, Python will exit the loop code block and stop iterating over the list. \n",
    "\n",
    "Let's use this to stop iterating over **`numbers_list`** once we reach the number 4."
   ]
  },
  {
   "cell_type": "code",
   "execution_count": 0,
   "metadata": {
    "application/vnd.databricks.v1+cell": {
     "cellMetadata": {
      "byteLimit": 2048000,
      "rowLimit": 10000
     },
     "inputWidgets": {},
     "nuid": "f3debb66-18fc-4505-b2c1-ae01c903de11",
     "showTitle": false,
     "title": ""
    }
   },
   "outputs": [
    {
     "output_type": "stream",
     "name": "stdout",
     "output_type": "stream",
     "text": [
      "1\n2\n3\n"
     ]
    }
   ],
   "source": [
    "for element in numbers_list:\n",
    "    if element == 4:\n",
    "        break\n",
    "    print(element)"
   ]
  },
  {
   "cell_type": "markdown",
   "metadata": {
    "application/vnd.databricks.v1+cell": {
     "cellMetadata": {},
     "inputWidgets": {},
     "nuid": "bf1215b4-fdbd-4eba-856d-80b5a925b36d",
     "showTitle": false,
     "title": "--i18n-0abb7db5-41c8-4c67-ba08-664507255fa6"
    }
   },
   "source": [
    "\n",
    "\n",
    "### `continue`\n",
    "\n",
    "**`break`** exits the loop code block when it is executed and stops iterating over the list. If instead you wanted to exit the loop code block early, but still move on and continue to execute the sequence, you could use **`continue`** instead. \n",
    "\n",
    "**`continue`** is also written on it's own line and when it is executed Python stops executing the loop code block and then continues to iterate over the sequence."
   ]
  },
  {
   "cell_type": "code",
   "execution_count": 0,
   "metadata": {
    "application/vnd.databricks.v1+cell": {
     "cellMetadata": {
      "byteLimit": 2048000,
      "rowLimit": 10000
     },
     "inputWidgets": {},
     "nuid": "6afc1a04-3e51-4f54-9cea-6c1f1f79b829",
     "showTitle": false,
     "title": ""
    }
   },
   "outputs": [
    {
     "output_type": "stream",
     "name": "stdout",
     "output_type": "stream",
     "text": [
      "1\n2\n3\n5\n6\n7\n8\n9\n10\n"
     ]
    }
   ],
   "source": [
    "for element in numbers_list:\n",
    "    if element == 4:\n",
    "        continue # 4 is not printed, but the numbers after are\n",
    "    print(element)"
   ]
  },
  {
   "cell_type": "markdown",
   "metadata": {
    "application/vnd.databricks.v1+cell": {
     "cellMetadata": {},
     "inputWidgets": {},
     "nuid": "66928e75-20d6-4888-a232-4e3709528494",
     "showTitle": false,
     "title": "--i18n-65b05201-3344-43a1-aeee-33911d306bef"
    }
   },
   "source": [
    "\n",
    "\n",
    "### While-loops\n",
    "\n",
    "In addition to for-loops there is another kind of loops called while-loops. \n",
    "\n",
    "We write a [**while-loop**](https://www.w3schools.com/python/python_while_loops.asp) like this:\n",
    "```\n",
    " while boolean expression:\n",
    "     code_block\n",
    "```\n",
    "\n",
    "Python will loop and execute the code in the **`code_block`** until the boolean expression evaluates to **`False`**. Every loop, it will reevaluate the boolean expression, and if it is **`True`** it will execute the code again, otherwise it will exit. \n",
    "\n",
    "**NOTE:** You need to be careful not to have infinite loops here. If the boolean expression never evaluates to **`False`**, this code will keep running and never stop."
   ]
  },
  {
   "cell_type": "code",
   "execution_count": 0,
   "metadata": {
    "application/vnd.databricks.v1+cell": {
     "cellMetadata": {
      "byteLimit": 2048000,
      "rowLimit": 10000
     },
     "inputWidgets": {},
     "nuid": "2a5debad-f379-4787-8107-bba99edb46f2",
     "showTitle": false,
     "title": ""
    }
   },
   "outputs": [
    {
     "output_type": "stream",
     "name": "stdout",
     "output_type": "stream",
     "text": [
      "10\n9\n8\n7\n6\n5\n4\n3\n2\n1\n"
     ]
    }
   ],
   "source": [
    "count = 10\n",
    "\n",
    "while count > 0:\n",
    "    print(count)\n",
    "    count = count - 1"
   ]
  },
  {
   "cell_type": "markdown",
   "metadata": {
    "application/vnd.databricks.v1+cell": {
     "cellMetadata": {},
     "inputWidgets": {},
     "nuid": "bbe84773-bd10-4d65-a4a5-e8cd2c395481",
     "showTitle": false,
     "title": "--i18n-ddc22fc8-902d-49e5-baa9-62e61cc2f6d8"
    }
   },
   "source": [
    "\n",
    "### More fun with repetition\n",
    "\n",
    "Python also supports nested loops and ranges."
   ]
  },
  {
   "cell_type": "code",
   "execution_count": 0,
   "metadata": {
    "application/vnd.databricks.v1+cell": {
     "cellMetadata": {
      "byteLimit": 2048000,
      "rowLimit": 10000
     },
     "inputWidgets": {},
     "nuid": "49852886-9abb-4b07-a59a-f0625f991057",
     "showTitle": false,
     "title": ""
    }
   },
   "outputs": [
    {
     "output_type": "stream",
     "name": "stdout",
     "output_type": "stream",
     "text": [
      "000\n001\n002\n003\n004\n005\n006\n007\n008\n009\n010\n011\n012\n013\n014\n015\n016\n017\n018\n019\n020\n021\n022\n023\n024\n025\n026\n027\n028\n029\n030\n031\n032\n033\n034\n035\n036\n037\n038\n039\n040\n041\n042\n043\n044\n045\n046\n047\n048\n049\n050\n051\n052\n053\n054\n055\n056\n057\n058\n059\n060\n061\n062\n063\n064\n065\n066\n067\n068\n069\n070\n071\n072\n073\n074\n075\n076\n077\n078\n079\n080\n081\n082\n083\n084\n085\n086\n087\n088\n089\n090\n091\n092\n093\n094\n095\n096\n097\n098\n099\n100\n101\n102\n103\n104\n105\n106\n107\n108\n109\n110\n111\n112\n113\n114\n115\n116\n117\n118\n119\n120\n121\n122\n123\n124\n125\n126\n127\n128\n129\n130\n131\n132\n133\n134\n135\n136\n137\n138\n139\n140\n141\n142\n143\n144\n145\n146\n147\n148\n149\n150\n151\n152\n153\n154\n155\n156\n157\n158\n159\n160\n161\n162\n163\n164\n165\n166\n167\n168\n169\n170\n171\n172\n173\n174\n175\n176\n177\n178\n179\n180\n181\n182\n183\n184\n185\n186\n187\n188\n189\n190\n191\n192\n193\n194\n195\n196\n197\n198\n199\n200\n201\n202\n203\n204\n205\n206\n207\n208\n209\n210\n211\n212\n213\n214\n215\n216\n217\n218\n219\n220\n221\n222\n223\n224\n225\n226\n227\n228\n229\n230\n231\n232\n233\n234\n235\n236\n237\n238\n239\n240\n241\n242\n243\n244\n245\n246\n247\n248\n249\n250\n251\n252\n253\n254\n255\n256\n257\n258\n259\n260\n261\n262\n263\n264\n265\n266\n267\n268\n269\n270\n271\n272\n273\n274\n275\n276\n277\n278\n279\n280\n281\n282\n283\n284\n285\n286\n287\n288\n289\n290\n291\n292\n293\n294\n295\n296\n297\n298\n299\n300\n301\n302\n303\n304\n305\n306\n307\n308\n309\n310\n311\n312\n313\n314\n315\n316\n317\n318\n319\n320\n321\n322\n323\n324\n325\n326\n327\n328\n329\n330\n331\n332\n333\n334\n335\n336\n337\n338\n339\n340\n341\n342\n343\n344\n345\n346\n347\n348\n349\n350\n351\n352\n353\n354\n355\n356\n357\n358\n359\n360\n361\n362\n363\n364\n365\n366\n367\n368\n369\n370\n371\n372\n373\n374\n375\n376\n377\n378\n379\n380\n381\n382\n383\n384\n385\n386\n387\n388\n389\n390\n391\n392\n393\n394\n395\n396\n397\n398\n399\n400\n401\n402\n403\n404\n405\n406\n407\n408\n409\n410\n411\n412\n413\n414\n415\n416\n417\n418\n419\n420\n421\n422\n423\n424\n425\n426\n427\n428\n429\n430\n431\n432\n433\n434\n435\n436\n437\n438\n439\n440\n441\n442\n443\n444\n445\n446\n447\n448\n449\n450\n451\n452\n453\n454\n455\n456\n457\n458\n459\n460\n461\n462\n463\n464\n465\n466\n467\n468\n469\n470\n471\n472\n473\n474\n475\n476\n477\n478\n479\n480\n481\n482\n483\n484\n485\n486\n487\n488\n489\n490\n491\n492\n493\n494\n495\n496\n497\n498\n499\n500\n501\n502\n503\n504\n505\n506\n507\n508\n509\n510\n511\n512\n513\n514\n515\n516\n517\n518\n519\n520\n521\n522\n523\n524\n525\n526\n527\n528\n529\n530\n531\n532\n533\n534\n535\n536\n537\n538\n539\n540\n541\n542\n543\n544\n545\n546\n547\n548\n549\n550\n551\n552\n553\n554\n555\n556\n557\n558\n559\n560\n561\n562\n563\n564\n565\n566\n567\n568\n569\n570\n571\n572\n573\n574\n575\n576\n577\n578\n579\n580\n581\n582\n583\n584\n585\n586\n587\n588\n589\n590\n591\n592\n593\n594\n595\n596\n597\n598\n599\n600\n601\n602\n603\n604\n605\n606\n607\n608\n609\n610\n611\n612\n613\n614\n615\n616\n617\n618\n619\n620\n621\n622\n623\n624\n625\n626\n627\n628\n629\n630\n631\n632\n633\n634\n635\n636\n637\n638\n639\n640\n641\n642\n643\n644\n645\n646\n647\n648\n649\n650\n651\n652\n653\n654\n655\n656\n657\n658\n659\n660\n661\n662\n663\n664\n665\n666\n667\n668\n669\n670\n671\n672\n673\n674\n675\n676\n677\n678\n679\n680\n681\n682\n683\n684\n685\n686\n687\n688\n689\n690\n691\n692\n693\n694\n695\n696\n697\n698\n699\n700\n701\n702\n703\n704\n705\n706\n707\n708\n709\n710\n711\n712\n713\n714\n715\n716\n717\n718\n719\n720\n721\n722\n723\n724\n725\n726\n727\n728\n729\n730\n731\n732\n733\n734\n735\n736\n737\n738\n739\n740\n741\n742\n743\n744\n745\n746\n747\n748\n749\n750\n751\n752\n753\n754\n755\n756\n757\n758\n759\n760\n761\n762\n763\n764\n765\n766\n767\n768\n769\n770\n771\n772\n773\n774\n775\n776\n777\n778\n779\n780\n781\n782\n783\n784\n785\n786\n787\n788\n789\n790\n791\n792\n793\n794\n795\n796\n797\n798\n799\n800\n801\n802\n803\n804\n805\n806\n807\n808\n809\n810\n811\n812\n813\n814\n815\n816\n817\n818\n819\n820\n821\n822\n823\n824\n825\n826\n827\n828\n829\n830\n831\n832\n833\n834\n835\n836\n837\n838\n839\n840\n841\n842\n843\n844\n845\n846\n847\n848\n849\n850\n851\n852\n853\n854\n855\n856\n857\n858\n859\n860\n861\n862\n863\n864\n865\n866\n867\n868\n869\n870\n871\n872\n873\n874\n875\n876\n877\n878\n879\n880\n881\n882\n883\n884\n885\n886\n887\n888\n889\n890\n891\n892\n893\n894\n895\n896\n897\n898\n899\n900\n901\n902\n903\n904\n905\n906\n907\n908\n909\n910\n911\n912\n913\n914\n915\n916\n917\n918\n919\n920\n921\n922\n923\n924\n925\n926\n927\n928\n929\n930\n931\n932\n933\n934\n935\n936\n937\n938\n939\n940\n941\n942\n943\n944\n945\n946\n947\n948\n949\n950\n951\n952\n953\n954\n955\n956\n957\n958\n959\n960\n961\n962\n963\n964\n965\n966\n967\n968\n969\n970\n971\n972\n973\n974\n975\n976\n977\n978\n979\n980\n981\n982\n983\n984\n985\n986\n987\n988\n989\n990\n991\n992\n993\n994\n995\n996\n997\n998\n999\n"
     ]
    }
   ],
   "source": [
    "for a in range(0,10):\n",
    "    for b in range(0,10):\n",
    "        for c in range(0,10):\n",
    "            print(str(a) +  str(b) + str(c))"
   ]
  },
  {
   "cell_type": "markdown",
   "metadata": {
    "application/vnd.databricks.v1+cell": {
     "cellMetadata": {},
     "inputWidgets": {},
     "nuid": "ba0f30ae-400c-4916-98b2-429e544bd42a",
     "showTitle": false,
     "title": "--i18n-4d276a26-f723-4ccc-bfe5-3ad2c0b14f90"
    }
   },
   "source": [
    "\n",
    "If it is not already apparent, the general beauty of a loop is that it decouples the amount of code you write from the size of the data being processed.\n",
    "- You can process a list or range of 50,000,000 elements with no more code than it takes to process a list or range of 5 elements."
   ]
  },
  {
   "cell_type": "markdown",
   "metadata": {
    "application/vnd.databricks.v1+cell": {
     "cellMetadata": {},
     "inputWidgets": {},
     "nuid": "19f6aaf7-8175-4503-956f-119d6d9ad334",
     "showTitle": false,
     "title": ""
    }
   },
   "source": [
    "&copy; 2023 Databricks, Inc. All rights reserved.<br/>\n",
    "Apache, Apache Spark, Spark and the Spark logo are trademarks of the <a href=\"https://www.apache.org/\">Apache Software Foundation</a>.<br/>\n",
    "<br/>\n",
    "<a href=\"https://databricks.com/privacy-policy\">Privacy Policy</a> | <a href=\"https://databricks.com/terms-of-use\">Terms of Use</a> | <a href=\"https://help.databricks.com/\">Support</a>"
   ]
  }
 ],
 "metadata": {
  "application/vnd.databricks.v1+notebook": {
   "dashboards": [],
   "environmentMetadata": null,
   "language": "python",
   "notebookMetadata": {
    "pythonIndentUnit": 2
   },
   "notebookName": "ITP 05 - Loops",
   "widgets": {}
  }
 },
 "nbformat": 4,
 "nbformat_minor": 0
}

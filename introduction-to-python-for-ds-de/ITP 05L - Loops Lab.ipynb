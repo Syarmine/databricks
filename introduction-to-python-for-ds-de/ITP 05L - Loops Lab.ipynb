{
 "cells": [
  {
   "cell_type": "markdown",
   "metadata": {
    "application/vnd.databricks.v1+cell": {
     "cellMetadata": {},
     "inputWidgets": {},
     "nuid": "6aa109bf-bd38-4a1a-a0b9-718fd77385c4",
     "showTitle": false,
     "title": ""
    }
   },
   "source": [
    "\n",
    "<div style=\"text-align: center; line-height: 0; padding-top: 9px;\">\n",
    "  <img src=\"https://databricks.com/wp-content/uploads/2018/03/db-academy-rgb-1200px.png\" alt=\"Databricks Learning\" style=\"width: 600px\">\n",
    "</div>"
   ]
  },
  {
   "cell_type": "markdown",
   "metadata": {
    "application/vnd.databricks.v1+cell": {
     "cellMetadata": {},
     "inputWidgets": {},
     "nuid": "cc43640a-fcd4-4001-9bee-93130fdb2d7d",
     "showTitle": false,
     "title": "--i18n-7dbd79c5-128b-44de-bfdf-f4ee82cb7df7"
    }
   },
   "source": [
    "\n",
    "\n",
    "# Loops\n",
    "\n",
    "## ![Spark Logo Tiny](https://files.training.databricks.com/images/105/logo_spark_tiny.png) In this lab you:<br>\n",
    "\n",
    "Apply concepts learned in the last lesson, including:\n",
    "- Utilizing for-loops to handle more advanced control flow\n",
    "- Using list comprehension to filter lists"
   ]
  },
  {
   "cell_type": "markdown",
   "metadata": {
    "application/vnd.databricks.v1+cell": {
     "cellMetadata": {},
     "inputWidgets": {},
     "nuid": "41ea83b1-2b1c-413a-9aba-f93de0a8ed11",
     "showTitle": false,
     "title": "--i18n-c53aee76-7759-4783-b8cc-c615c9db8637"
    }
   },
   "source": [
    "\n",
    " \n",
    "## Exercise: Bart Simpson in Detention\n",
    "\n",
    "<img src=\"https://preview.redd.it/386z0p2eh5v21.jpg?auto=webp&s=383ef3536776dc3a34515e6cfd9979f363570a05\" width=\"40%\" height=\"20%\">\n",
    "\n",
    "Bart Simpson got detention again... He needs to write **`I will not let my dog eat my homework`** 50 times. Of course, Bart is lazy, and needs your help to automate this in Python. \n",
    "\n",
    "Write a function called **`detention_helper()`** that takes in **`detention_message`** and **`num_lines`** representing the message Bart needs to write and the number of times he needs to write it respectively. \n",
    "\n",
    "Your function should print out **`detention_message`** **`num_lines`** times, but each line of **`detention_message`** should be numbered. \n",
    "\n",
    "For example, if **`detention_message`** is `I will not let my dog eat my homework`, and **`num_lines`** is 50, the function should print\n",
    "\n",
    "`1. I will not let my dog eat my homework`\n",
    "\n",
    "`2. I will not let my dog eat my homework`\n",
    "\n",
    "`3. I will not let my dog eat my homework`\n",
    "\n",
    "`.\n",
    ".\n",
    ".`\n",
    "\n",
    "`50. I will not let my dog eat my homework`\n",
    "\n",
    "\n",
    "Here, we are parameterizing the **`detention_message`** and **`num_lines`** in case he gets detention again.\n",
    "\n",
    "**Hint:** Recall the **`range()`** function, but make sure to start counting at 1, not 0. f-string formatting will also be helpful."
   ]
  },
  {
   "cell_type": "code",
   "execution_count": 0,
   "metadata": {
    "application/vnd.databricks.v1+cell": {
     "cellMetadata": {
      "byteLimit": 2048000,
      "rowLimit": 10000
     },
     "inputWidgets": {},
     "nuid": "eeb90756-07b6-4518-aac6-b151e3c44cb8",
     "showTitle": false,
     "title": ""
    }
   },
   "outputs": [],
   "source": [
    "# TODO\n",
    "def detention_helper(detention_message, num_lines):\n",
    "    for i in range(num_lines):\n",
    "        print(f\"{i+1}.{detention_message}\")\n",
    "\n",
    "detention_message = \"I will note let my dog eat my homework\"\n",
    "num_lines = 50"
   ]
  },
  {
   "cell_type": "markdown",
   "metadata": {
    "application/vnd.databricks.v1+cell": {
     "cellMetadata": {},
     "inputWidgets": {},
     "nuid": "35f31bde-7604-4a1d-aec0-1eaba7716074",
     "showTitle": false,
     "title": "--i18n-5cbae134-c726-4874-b416-a2b802236a6f"
    }
   },
   "source": [
    "\n",
    " \n",
    "Call your function below with the correct inputs for Bart's current detention and make sure you can see \"I will not let my dog eat my homework\" printed out 50 times, with the lines numbered, as shown in the problem description."
   ]
  },
  {
   "cell_type": "code",
   "execution_count": 0,
   "metadata": {
    "application/vnd.databricks.v1+cell": {
     "cellMetadata": {
      "byteLimit": 2048000,
      "rowLimit": 10000
     },
     "inputWidgets": {},
     "nuid": "55a90a94-a190-4446-aacc-7e6d621d9284",
     "showTitle": false,
     "title": ""
    }
   },
   "outputs": [
    {
     "output_type": "stream",
     "name": "stdout",
     "output_type": "stream",
     "text": [
      "1.I will note let my dog eat my homework\n2.I will note let my dog eat my homework\n3.I will note let my dog eat my homework\n4.I will note let my dog eat my homework\n5.I will note let my dog eat my homework\n6.I will note let my dog eat my homework\n7.I will note let my dog eat my homework\n8.I will note let my dog eat my homework\n9.I will note let my dog eat my homework\n10.I will note let my dog eat my homework\n11.I will note let my dog eat my homework\n12.I will note let my dog eat my homework\n13.I will note let my dog eat my homework\n14.I will note let my dog eat my homework\n15.I will note let my dog eat my homework\n16.I will note let my dog eat my homework\n17.I will note let my dog eat my homework\n18.I will note let my dog eat my homework\n19.I will note let my dog eat my homework\n20.I will note let my dog eat my homework\n21.I will note let my dog eat my homework\n22.I will note let my dog eat my homework\n23.I will note let my dog eat my homework\n24.I will note let my dog eat my homework\n25.I will note let my dog eat my homework\n26.I will note let my dog eat my homework\n27.I will note let my dog eat my homework\n28.I will note let my dog eat my homework\n29.I will note let my dog eat my homework\n30.I will note let my dog eat my homework\n31.I will note let my dog eat my homework\n32.I will note let my dog eat my homework\n33.I will note let my dog eat my homework\n34.I will note let my dog eat my homework\n35.I will note let my dog eat my homework\n36.I will note let my dog eat my homework\n37.I will note let my dog eat my homework\n38.I will note let my dog eat my homework\n39.I will note let my dog eat my homework\n40.I will note let my dog eat my homework\n41.I will note let my dog eat my homework\n42.I will note let my dog eat my homework\n43.I will note let my dog eat my homework\n44.I will note let my dog eat my homework\n45.I will note let my dog eat my homework\n46.I will note let my dog eat my homework\n47.I will note let my dog eat my homework\n48.I will note let my dog eat my homework\n49.I will note let my dog eat my homework\n50.I will note let my dog eat my homework\n"
     ]
    }
   ],
   "source": [
    "# TODO\n",
    "detention_helper(detention_message, num_lines)"
   ]
  },
  {
   "cell_type": "markdown",
   "metadata": {
    "application/vnd.databricks.v1+cell": {
     "cellMetadata": {},
     "inputWidgets": {},
     "nuid": "010a6542-870c-4e08-a5c2-f7d383e995b1",
     "showTitle": false,
     "title": "--i18n-75896d4c-b9af-4bd3-acbd-8f7e47d43be0"
    }
   },
   "source": [
    "\n",
    "##Bonus Exercise\n",
    "Rewrite the for loop above as a while-loop"
   ]
  },
  {
   "cell_type": "code",
   "execution_count": 0,
   "metadata": {
    "application/vnd.databricks.v1+cell": {
     "cellMetadata": {
      "byteLimit": 2048000,
      "rowLimit": 10000
     },
     "inputWidgets": {},
     "nuid": "4434a727-de23-421d-bbeb-0969dc646343",
     "showTitle": false,
     "title": ""
    }
   },
   "outputs": [],
   "source": [
    "# TODO\n",
    "def detention_helper(detention_message, num_lines):\n",
    "    i=0\n",
    "    while i < 50:\n",
    "        i += 1\n",
    "        print(f\"{i}. {detention_message}\")"
   ]
  },
  {
   "cell_type": "markdown",
   "metadata": {
    "application/vnd.databricks.v1+cell": {
     "cellMetadata": {},
     "inputWidgets": {},
     "nuid": "790f3983-3b21-4099-85e4-75a25b63ee09",
     "showTitle": false,
     "title": "--i18n-188c6b2a-e436-4dfa-962d-ae1e8cf733eb"
    }
   },
   "source": [
    "\n",
    "Call your function below with the correct inputs for Bart's current detention and make sure you can see \"I will do my python homework\" printed out 25 times, with the lines numbered, as shown in the problem description."
   ]
  },
  {
   "cell_type": "code",
   "execution_count": 0,
   "metadata": {
    "application/vnd.databricks.v1+cell": {
     "cellMetadata": {
      "byteLimit": 2048000,
      "rowLimit": 10000
     },
     "inputWidgets": {},
     "nuid": "d27fdc7c-e52c-48a2-8496-005998493ba8",
     "showTitle": false,
     "title": ""
    }
   },
   "outputs": [
    {
     "output_type": "stream",
     "name": "stdout",
     "output_type": "stream",
     "text": [
      "1. I will do my python homework\n2. I will do my python homework\n3. I will do my python homework\n4. I will do my python homework\n5. I will do my python homework\n6. I will do my python homework\n7. I will do my python homework\n8. I will do my python homework\n9. I will do my python homework\n10. I will do my python homework\n11. I will do my python homework\n12. I will do my python homework\n13. I will do my python homework\n14. I will do my python homework\n15. I will do my python homework\n16. I will do my python homework\n17. I will do my python homework\n18. I will do my python homework\n19. I will do my python homework\n20. I will do my python homework\n21. I will do my python homework\n22. I will do my python homework\n23. I will do my python homework\n24. I will do my python homework\n25. I will do my python homework\n26. I will do my python homework\n27. I will do my python homework\n28. I will do my python homework\n29. I will do my python homework\n30. I will do my python homework\n31. I will do my python homework\n32. I will do my python homework\n33. I will do my python homework\n34. I will do my python homework\n35. I will do my python homework\n36. I will do my python homework\n37. I will do my python homework\n38. I will do my python homework\n39. I will do my python homework\n40. I will do my python homework\n41. I will do my python homework\n42. I will do my python homework\n43. I will do my python homework\n44. I will do my python homework\n45. I will do my python homework\n46. I will do my python homework\n47. I will do my python homework\n48. I will do my python homework\n49. I will do my python homework\n50. I will do my python homework\n"
     ]
    }
   ],
   "source": [
    "# TODO\n",
    "detention_helper(\"I will do my python homework\", 25)"
   ]
  },
  {
   "cell_type": "markdown",
   "metadata": {
    "application/vnd.databricks.v1+cell": {
     "cellMetadata": {},
     "inputWidgets": {},
     "nuid": "4f830ff3-6ff2-4f89-9941-fdd8d0845c9f",
     "showTitle": false,
     "title": "--i18n-cd5b48af-8534-4d40-a74b-ec9cdd892a33"
    }
   },
   "source": [
    "\n",
    "### Bonus Exercise\n",
    "\n",
    "Below is the code used to display a table of cities and their respective temperatures and humidities from a previous notebook.\n",
    "\n",
    "Modify the code to use lists and loops instead of repetitive variables."
   ]
  },
  {
   "cell_type": "code",
   "execution_count": 0,
   "metadata": {
    "application/vnd.databricks.v1+cell": {
     "cellMetadata": {
      "byteLimit": 2048000,
      "rowLimit": 10000
     },
     "inputWidgets": {},
     "nuid": "10f7989d-a177-442d-b474-c510bd066f9e",
     "showTitle": false,
     "title": ""
    }
   },
   "outputs": [
    {
     "output_type": "stream",
     "name": "stdout",
     "output_type": "stream",
     "text": [
      "City            Temperature     Humidity       \nSan Francisco            58         0.85\nParis                    75         0.50\nMumbai                   81         0.88\n"
     ]
    }
   ],
   "source": [
    "# TODO: Modify the code below to use lists and loops instead repetitive variables.\n",
    "# city1 = \"San Francisco\" # Replace with a list named \"cities\"\n",
    "# city2 = \"Paris\"\n",
    "# city3 = \"Mumbai\"\n",
    "# temperature1 = 58       # Replace with a list named \"temperatures\"\n",
    "# temperature2 = 75\n",
    "# temperature3 = 81\n",
    "# humidity1 = .85         # Replace with a list named \"humidities\"\n",
    "# humidity2 = .5\n",
    "# humidity3 = .88 \n",
    "# print(f\"{'City':15} {'Temperature':15} {'Humidity':15}\")\n",
    "# print(f\"{city1:15} {temperature1:11} {humidity1:12.2f}\")\n",
    "# print(f\"{city2:15} {temperature2:11} {humidity2:12.2f}\")\n",
    "# print(f\"{city3:15} {temperature3:11} {humidity3:12.2f}\"\n",
    "\n",
    "city_list = [\"San Francisco\", \"Paris\", \"Mumbai\"]\n",
    "temperature_list = [58, 75, 81]\n",
    "humidity_list = [.85, .5, .88]\n",
    "\n",
    "print(f\"{'City':15} {'Temperature':15} {'Humidity':15}\")\n",
    "i = 0\n",
    "while (i < len(city_list)):\n",
    "    print(f\"{city_list[i]:15} {temperature_list[i]:11} {humidity_list[i]:12.2f}\")\n",
    "    i = i + 1\n",
    "\n"
   ]
  },
  {
   "cell_type": "markdown",
   "metadata": {
    "application/vnd.databricks.v1+cell": {
     "cellMetadata": {},
     "inputWidgets": {},
     "nuid": "2890b968-381d-41b2-b1dc-94f861fe6906",
     "showTitle": false,
     "title": "--i18n-7799d859-cb3c-46ac-87e2-414d95de6fcf"
    }
   },
   "source": [
    "\n",
    "### Bonus Exercise\n",
    "\n",
    "Write a function named `item_count` that accepts a list of values and returns a dictionary with a count of the number of times each unique value appeared in the list\n",
    "- For example, `item_count(['a', 'b', 'a'])` should return the dictionary `{'a': 2, 'b': 1}`"
   ]
  },
  {
   "cell_type": "code",
   "execution_count": 0,
   "metadata": {
    "application/vnd.databricks.v1+cell": {
     "cellMetadata": {
      "byteLimit": 2048000,
      "rowLimit": 10000
     },
     "inputWidgets": {},
     "nuid": "6c90f2ea-fafb-459a-b56e-85f06cdecb2e",
     "showTitle": false,
     "title": ""
    }
   },
   "outputs": [],
   "source": [
    "# TODO\n",
    "def item_count(input_list):\n",
    "    output_dict = {}\n",
    "\n",
    "    for item in input_list:\n",
    "        if item not in output_dict:\n",
    "            output_dict[item] = 1\n",
    "\n",
    "        else:\n",
    "            output_dict[item] += 1\n",
    "    return output_dict"
   ]
  },
  {
   "cell_type": "code",
   "execution_count": 0,
   "metadata": {
    "application/vnd.databricks.v1+cell": {
     "cellMetadata": {
      "byteLimit": 2048000,
      "rowLimit": 10000
     },
     "inputWidgets": {},
     "nuid": "2056d588-3cbe-4d4e-888b-b7759295b625",
     "showTitle": false,
     "title": ""
    }
   },
   "outputs": [],
   "source": [
    "assert item_count(['a', 'b', 'a']) == {'a': 2, 'b': 1}, \"There should be 2 occurrences of the letter 'a' and one occurrence of the letter 'b'\""
   ]
  },
  {
   "cell_type": "markdown",
   "metadata": {
    "application/vnd.databricks.v1+cell": {
     "cellMetadata": {},
     "inputWidgets": {},
     "nuid": "c5486c39-1f09-4c62-9341-a79d287af8c0",
     "showTitle": false,
     "title": ""
    }
   },
   "source": [
    "&copy; 2023 Databricks, Inc. All rights reserved.<br/>\n",
    "Apache, Apache Spark, Spark and the Spark logo are trademarks of the <a href=\"https://www.apache.org/\">Apache Software Foundation</a>.<br/>\n",
    "<br/>\n",
    "<a href=\"https://databricks.com/privacy-policy\">Privacy Policy</a> | <a href=\"https://databricks.com/terms-of-use\">Terms of Use</a> | <a href=\"https://help.databricks.com/\">Support</a>"
   ]
  }
 ],
 "metadata": {
  "application/vnd.databricks.v1+notebook": {
   "dashboards": [],
   "environmentMetadata": null,
   "language": "python",
   "notebookMetadata": {
    "pythonIndentUnit": 4
   },
   "notebookName": "ITP 05L - Loops Lab",
   "widgets": {}
  }
 },
 "nbformat": 4,
 "nbformat_minor": 0
}

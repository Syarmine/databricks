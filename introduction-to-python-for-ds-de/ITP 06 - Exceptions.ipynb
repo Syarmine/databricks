{
 "cells": [
  {
   "cell_type": "markdown",
   "metadata": {
    "application/vnd.databricks.v1+cell": {
     "cellMetadata": {},
     "inputWidgets": {},
     "nuid": "c8128896-f2fd-4db7-8d6e-19e7b6a27bfe",
     "showTitle": false,
     "title": ""
    }
   },
   "source": [
    "\n",
    "<div style=\"text-align: center; line-height: 0; padding-top: 9px;\">\n",
    "  <img src=\"https://databricks.com/wp-content/uploads/2018/03/db-academy-rgb-1200px.png\" alt=\"Databricks Learning\" style=\"width: 600px\">\n",
    "</div>"
   ]
  },
  {
   "cell_type": "markdown",
   "metadata": {
    "application/vnd.databricks.v1+cell": {
     "cellMetadata": {},
     "inputWidgets": {},
     "nuid": "fe3e9c55-5ffc-49ce-a29f-3422187cf742",
     "showTitle": false,
     "title": "--i18n-98014313-352a-4426-b032-c0c48f96180a"
    }
   },
   "source": [
    "\n",
    "\n",
    "# Errors and Exceptions\n",
    "\n",
    "## ![Spark Logo Tiny](https://files.training.databricks.com/images/105/logo_spark_tiny.png) In this lesson you:<br>\n",
    "\n",
    "- Explore errors and exceptions\n",
    "- Review assert statements\n",
    "- Employ try-catch for exception handling"
   ]
  },
  {
   "cell_type": "markdown",
   "metadata": {
    "application/vnd.databricks.v1+cell": {
     "cellMetadata": {},
     "inputWidgets": {},
     "nuid": "9eb6b739-478c-47b2-9c97-906fdae93209",
     "showTitle": false,
     "title": "--i18n-069b8442-7d9f-4418-8bc2-6426248ee458"
    }
   },
   "source": [
    "\n",
    "\n",
    "### Syntax Errors\n",
    "\n",
    "In Python, there are mainly two different kinds of errors: Syntax Errors and Exceptions. Syntax Errors are errors that are thrown because code was typed incorrectly and Python does not know how to interpret it. \n",
    "\n",
    "The example below illustrates a Syntax Error."
   ]
  },
  {
   "cell_type": "code",
   "execution_count": 0,
   "metadata": {
    "application/vnd.databricks.v1+cell": {
     "cellMetadata": {
      "byteLimit": 2048000,
      "rowLimit": 10000
     },
     "inputWidgets": {},
     "nuid": "75982335-7e3f-475a-804e-b3b4fabc7f8b",
     "showTitle": false,
     "title": ""
    }
   },
   "outputs": [
    {
     "output_type": "display_data",
     "data": {
      "text/plain": [
       "\u001B[0;36m  File \u001B[0;32m<command-806331027784160>:1\u001B[0;36m\u001B[0m\n",
       "\u001B[0;31m    if print(\"Hello World\") # This is not correct Python code, so it throws a Syntax Error\u001B[0m\n",
       "\u001B[0m                            ^\u001B[0m\n",
       "\u001B[0;31mSyntaxError\u001B[0m\u001B[0;31m:\u001B[0m invalid syntax\n"
      ]
     },
     "metadata": {
      "application/vnd.databricks.v1+output": {
       "arguments": {},
       "data": "\u001B[0;36m  File \u001B[0;32m<command-806331027784160>:1\u001B[0;36m\u001B[0m\n\u001B[0;31m    if print(\"Hello World\") # This is not correct Python code, so it throws a Syntax Error\u001B[0m\n\u001B[0m                            ^\u001B[0m\n\u001B[0;31mSyntaxError\u001B[0m\u001B[0;31m:\u001B[0m invalid syntax\n",
       "errorSummary": "<span class='ansi-red-fg'>SyntaxError</span>: invalid syntax (<command-806331027784160>, line 1)",
       "errorTraceType": "ansi",
       "metadata": {},
       "type": "ipynbError"
      }
     },
     "output_type": "display_data"
    }
   ],
   "source": [
    "if print(\"Hello World\") # This is not correct Python code, so it throws a Syntax Error"
   ]
  },
  {
   "cell_type": "markdown",
   "metadata": {
    "application/vnd.databricks.v1+cell": {
     "cellMetadata": {},
     "inputWidgets": {},
     "nuid": "533a74fd-2f70-45aa-bf36-dc4d172a9f40",
     "showTitle": false,
     "title": "--i18n-6fdcf2ae-e9d7-4686-81d7-eec2c9141af1"
    }
   },
   "source": [
    "\n",
    "\n",
    "### Exceptions\n",
    "\n",
    "If we have properly formatted code that Python knows how to run, we might still encounter errors as the code is executed. Errors that arise like this as the code is executed are known as Exceptions. They indicate that, while Python understood what we were trying to do, there is a problem.\n",
    "\n",
    "The example below illustrates an Exception."
   ]
  },
  {
   "cell_type": "code",
   "execution_count": 0,
   "metadata": {
    "application/vnd.databricks.v1+cell": {
     "cellMetadata": {
      "byteLimit": 2048000,
      "rowLimit": 10000
     },
     "inputWidgets": {},
     "nuid": "59bce59f-7e5b-4f78-966e-1be2feccd2f0",
     "showTitle": false,
     "title": ""
    }
   },
   "outputs": [
    {
     "output_type": "display_data",
     "data": {
      "text/plain": [
       "\u001B[0;31m---------------------------------------------------------------------------\u001B[0m\n",
       "\u001B[0;31mZeroDivisionError\u001B[0m                         Traceback (most recent call last)\n",
       "File \u001B[0;32m<command-806331027784162>:1\u001B[0m\n",
       "\u001B[0;32m----> 1\u001B[0m \u001B[38;5;241;43m1\u001B[39;49m\u001B[43m \u001B[49m\u001B[38;5;241;43m/\u001B[39;49m\u001B[43m \u001B[49m\u001B[38;5;241;43m0\u001B[39;49m\n",
       "\n",
       "\u001B[0;31mZeroDivisionError\u001B[0m: division by zero"
      ]
     },
     "metadata": {
      "application/vnd.databricks.v1+output": {
       "arguments": {},
       "data": "\u001B[0;31m---------------------------------------------------------------------------\u001B[0m\n\u001B[0;31mZeroDivisionError\u001B[0m                         Traceback (most recent call last)\nFile \u001B[0;32m<command-806331027784162>:1\u001B[0m\n\u001B[0;32m----> 1\u001B[0m \u001B[38;5;241;43m1\u001B[39;49m\u001B[43m \u001B[49m\u001B[38;5;241;43m/\u001B[39;49m\u001B[43m \u001B[49m\u001B[38;5;241;43m0\u001B[39;49m\n\n\u001B[0;31mZeroDivisionError\u001B[0m: division by zero",
       "errorSummary": "<span class='ansi-red-fg'>ZeroDivisionError</span>: division by zero",
       "errorTraceType": "ansi",
       "metadata": {},
       "type": "ipynbError"
      }
     },
     "output_type": "display_data"
    }
   ],
   "source": [
    "1 / 0 "
   ]
  },
  {
   "cell_type": "markdown",
   "metadata": {
    "application/vnd.databricks.v1+cell": {
     "cellMetadata": {},
     "inputWidgets": {},
     "nuid": "3b35c698-4499-4ad3-a37f-0526ec5720c8",
     "showTitle": false,
     "title": "--i18n-7dea8495-1d7e-448b-bd22-16f243bc753c"
    }
   },
   "source": [
    "\n",
    "\n",
    "This time we observed a **`ZeroDivisionError`** exception, indicating that we tried to divide by zero, which is not defined. There are different exceptions provided by Python that indicate different problems, a full list of the built-in ones can be found [here](https://docs.python.org/3/library/exceptions.html#bltin-exceptions)."
   ]
  },
  {
   "cell_type": "markdown",
   "metadata": {
    "application/vnd.databricks.v1+cell": {
     "cellMetadata": {},
     "inputWidgets": {},
     "nuid": "14067497-e618-4c97-af8a-99755a2a5da8",
     "showTitle": false,
     "title": "--i18n-215acf78-5049-40ff-b7b5-1050a889b315"
    }
   },
   "source": [
    "\n",
    "\n",
    "### Exception Handling\n",
    "\n",
    "Syntax Errors will always cause our programs to exit and fail, but we can handle exceptions in Python. This allows us to program what happens in the case that Python encounters an exception or specific exceptions when trying to run a code block. To handle exceptions in Python we use a **`try`** statement. \n",
    "\n",
    "We write a **`try`** statement like this:\n",
    "\n",
    "```\n",
    "try:\n",
    "    code block\n",
    "except:\n",
    "    code block\n",
    "\n",
    "```\n",
    "\n",
    "When Python encounters a **`try`** statement, it will first try to run the code in the **`try`** code block. If it encounters an exception, instead of exiting and erroring like we have seen, it will instead run the code block under **`except`**."
   ]
  },
  {
   "cell_type": "code",
   "execution_count": 0,
   "metadata": {
    "application/vnd.databricks.v1+cell": {
     "cellMetadata": {
      "byteLimit": 2048000,
      "rowLimit": 10000
     },
     "inputWidgets": {},
     "nuid": "ecb8ffb5-b59f-4148-9725-6526563cb962",
     "showTitle": false,
     "title": ""
    }
   },
   "outputs": [
    {
     "output_type": "stream",
     "name": "stdout",
     "output_type": "stream",
     "text": [
      "Exception Handled\n"
     ]
    }
   ],
   "source": [
    "try:\n",
    "    1/0 # Throws an exception\n",
    "except:\n",
    "    print(\"Exception Handled\")"
   ]
  },
  {
   "cell_type": "markdown",
   "metadata": {
    "application/vnd.databricks.v1+cell": {
     "cellMetadata": {},
     "inputWidgets": {},
     "nuid": "05e973ed-b651-4696-b1a1-6d1d10a1c228",
     "showTitle": false,
     "title": "--i18n-daba1041-3381-4a20-9aa5-ee991c67ce4d"
    }
   },
   "source": [
    "\n",
    "\n",
    "In this last example, we run the **`except`** block if we encounter any exception in the **`try`** block. If we want to only handle a certain exception we can write the exception after the **`except`** keyword like this:\n",
    "\n",
    "```\n",
    "try:\n",
    "    code block\n",
    "except ExceptionName:\n",
    "    code block\n",
    "\n",
    "```"
   ]
  },
  {
   "cell_type": "code",
   "execution_count": 0,
   "metadata": {
    "application/vnd.databricks.v1+cell": {
     "cellMetadata": {
      "byteLimit": 2048000,
      "rowLimit": 10000
     },
     "inputWidgets": {},
     "nuid": "cc1da9f7-d9db-4c71-8ef2-7c3e0199760c",
     "showTitle": false,
     "title": ""
    }
   },
   "outputs": [
    {
     "output_type": "stream",
     "name": "stdout",
     "output_type": "stream",
     "text": [
      "Exception Handled\n"
     ]
    }
   ],
   "source": [
    "try:\n",
    "    1/0 # Throws a ZeroDivisionError exception\n",
    "except ZeroDivisionError:\n",
    "    print(\"Exception Handled\")"
   ]
  },
  {
   "cell_type": "code",
   "execution_count": 0,
   "metadata": {
    "application/vnd.databricks.v1+cell": {
     "cellMetadata": {
      "byteLimit": 2048000,
      "rowLimit": 10000
     },
     "inputWidgets": {},
     "nuid": "16ff66b7-7f10-4066-9d15-d19b71fbcf88",
     "showTitle": false,
     "title": ""
    }
   },
   "outputs": [
    {
     "output_type": "display_data",
     "data": {
      "text/plain": [
       "\u001B[0;31m---------------------------------------------------------------------------\u001B[0m\n",
       "\u001B[0;31mNameError\u001B[0m                                 Traceback (most recent call last)\n",
       "File \u001B[0;32m<command-806331027784168>:2\u001B[0m\n",
       "\u001B[1;32m      1\u001B[0m \u001B[38;5;28;01mtry\u001B[39;00m:\n",
       "\u001B[0;32m----> 2\u001B[0m     \u001B[38;5;28mprint\u001B[39m(\u001B[43mundefined_variable\u001B[49m) \u001B[38;5;66;03m# Throws a Name Error exception\u001B[39;00m\n",
       "\u001B[1;32m      3\u001B[0m \u001B[38;5;28;01mexcept\u001B[39;00m \u001B[38;5;167;01mZeroDivisionError\u001B[39;00m:\n",
       "\u001B[1;32m      4\u001B[0m     \u001B[38;5;28mprint\u001B[39m(\u001B[38;5;124m\"\u001B[39m\u001B[38;5;124mException Handled\u001B[39m\u001B[38;5;124m\"\u001B[39m)\n",
       "\n",
       "\u001B[0;31mNameError\u001B[0m: name 'undefined_variable' is not defined"
      ]
     },
     "metadata": {
      "application/vnd.databricks.v1+output": {
       "arguments": {},
       "data": "\u001B[0;31m---------------------------------------------------------------------------\u001B[0m\n\u001B[0;31mNameError\u001B[0m                                 Traceback (most recent call last)\nFile \u001B[0;32m<command-806331027784168>:2\u001B[0m\n\u001B[1;32m      1\u001B[0m \u001B[38;5;28;01mtry\u001B[39;00m:\n\u001B[0;32m----> 2\u001B[0m     \u001B[38;5;28mprint\u001B[39m(\u001B[43mundefined_variable\u001B[49m) \u001B[38;5;66;03m# Throws a Name Error exception\u001B[39;00m\n\u001B[1;32m      3\u001B[0m \u001B[38;5;28;01mexcept\u001B[39;00m \u001B[38;5;167;01mZeroDivisionError\u001B[39;00m:\n\u001B[1;32m      4\u001B[0m     \u001B[38;5;28mprint\u001B[39m(\u001B[38;5;124m\"\u001B[39m\u001B[38;5;124mException Handled\u001B[39m\u001B[38;5;124m\"\u001B[39m)\n\n\u001B[0;31mNameError\u001B[0m: name 'undefined_variable' is not defined",
       "errorSummary": "<span class='ansi-red-fg'>NameError</span>: name 'undefined_variable' is not defined",
       "errorTraceType": "ansi",
       "metadata": {},
       "type": "ipynbError"
      }
     },
     "output_type": "display_data"
    }
   ],
   "source": [
    "try:\n",
    "    print(undefined_variable) # Throws a Name Error exception\n",
    "except ZeroDivisionError:\n",
    "    print(\"Exception Handled\")"
   ]
  },
  {
   "cell_type": "markdown",
   "metadata": {
    "application/vnd.databricks.v1+cell": {
     "cellMetadata": {},
     "inputWidgets": {},
     "nuid": "a485610f-1db5-42e1-929e-3325f74e8db4",
     "showTitle": false,
     "title": "--i18n-9ae04843-cd61-4ba7-9136-6c7c04717982"
    }
   },
   "source": [
    "\n",
    "\n",
    "If we want to handle multiple specific exceptions we can write a sequence of exceptions separated by commas inside parentheses. \n",
    "\n",
    "Try commenting out one of the exception throwing lines below at a time, and notice that both exceptions are handled."
   ]
  },
  {
   "cell_type": "code",
   "execution_count": 0,
   "metadata": {
    "application/vnd.databricks.v1+cell": {
     "cellMetadata": {
      "byteLimit": 2048000,
      "rowLimit": 10000
     },
     "inputWidgets": {},
     "nuid": "c6896729-7654-4b41-8c69-c98046b59cbd",
     "showTitle": false,
     "title": ""
    }
   },
   "outputs": [
    {
     "output_type": "stream",
     "name": "stdout",
     "output_type": "stream",
     "text": [
      "Exception Handled\n"
     ]
    }
   ],
   "source": [
    "try:\n",
    "    1/0 # Throws a ZeroDivisionError exception\n",
    "    print(undefined_variable) # Throws a Name Error exception\n",
    "except (ZeroDivisionError, NameError):\n",
    "    print(\"Exception Handled\")"
   ]
  },
  {
   "cell_type": "markdown",
   "metadata": {
    "application/vnd.databricks.v1+cell": {
     "cellMetadata": {},
     "inputWidgets": {},
     "nuid": "e24beb66-7dda-4005-9d9b-8f0cfb4b9cb8",
     "showTitle": false,
     "title": "--i18n-0ce9ca24-9951-488d-970e-8acbeb86b750"
    }
   },
   "source": [
    "\n",
    "\n",
    "This now handles both the ZeroDivisionError and NameError exceptions."
   ]
  },
  {
   "cell_type": "markdown",
   "metadata": {
    "application/vnd.databricks.v1+cell": {
     "cellMetadata": {},
     "inputWidgets": {},
     "nuid": "7d518ee2-43ed-4731-8819-69cefbae4688",
     "showTitle": false,
     "title": "--i18n-2cbcc8d4-fc13-434f-a1df-1b82a9f7a46c"
    }
   },
   "source": [
    "\n",
    "\n",
    "### Assertion Error\n",
    "\n",
    "One very useful exception is called an **`AssertionError`**. We can raise **`AssertionErrors`** using **`assert`** statements like this:\n",
    "\n",
    "```\n",
    "assert boolean expression, optional message\n",
    "```\n",
    "\n",
    "When Python executes this statement, it evaluates the boolean expression first. If it is **`True`**, Python does nothing and moves on. If it is **`False`**, then it throws an AssertionError with the optional message, if provided."
   ]
  },
  {
   "cell_type": "code",
   "execution_count": 0,
   "metadata": {
    "application/vnd.databricks.v1+cell": {
     "cellMetadata": {
      "byteLimit": 2048000,
      "rowLimit": 10000
     },
     "inputWidgets": {},
     "nuid": "d0529a87-aa41-4382-9e50-00aaeb9c4632",
     "showTitle": false,
     "title": ""
    }
   },
   "outputs": [],
   "source": [
    "assert 1 == 1"
   ]
  },
  {
   "cell_type": "code",
   "execution_count": 0,
   "metadata": {
    "application/vnd.databricks.v1+cell": {
     "cellMetadata": {
      "byteLimit": 2048000,
      "rowLimit": 10000
     },
     "inputWidgets": {},
     "nuid": "fa241d54-13e7-4a0f-8351-1ca04cd5e551",
     "showTitle": false,
     "title": ""
    }
   },
   "outputs": [
    {
     "output_type": "display_data",
     "data": {
      "text/plain": [
       "\u001B[0;31m---------------------------------------------------------------------------\u001B[0m\n",
       "\u001B[0;31mAssertionError\u001B[0m                            Traceback (most recent call last)\n",
       "File \u001B[0;32m<command-806331027784174>:1\u001B[0m\n",
       "\u001B[0;32m----> 1\u001B[0m \u001B[38;5;28;01massert\u001B[39;00m \u001B[38;5;241m1\u001B[39m \u001B[38;5;241m==\u001B[39m \u001B[38;5;241m2\u001B[39m, \u001B[38;5;124m\"\u001B[39m\u001B[38;5;124mThat is not true\u001B[39m\u001B[38;5;124m\"\u001B[39m\n",
       "\n",
       "\u001B[0;31mAssertionError\u001B[0m: That is not true"
      ]
     },
     "metadata": {
      "application/vnd.databricks.v1+output": {
       "arguments": {},
       "data": "\u001B[0;31m---------------------------------------------------------------------------\u001B[0m\n\u001B[0;31mAssertionError\u001B[0m                            Traceback (most recent call last)\nFile \u001B[0;32m<command-806331027784174>:1\u001B[0m\n\u001B[0;32m----> 1\u001B[0m \u001B[38;5;28;01massert\u001B[39;00m \u001B[38;5;241m1\u001B[39m \u001B[38;5;241m==\u001B[39m \u001B[38;5;241m2\u001B[39m, \u001B[38;5;124m\"\u001B[39m\u001B[38;5;124mThat is not true\u001B[39m\u001B[38;5;124m\"\u001B[39m\n\n\u001B[0;31mAssertionError\u001B[0m: That is not true",
       "errorSummary": "<span class='ansi-red-fg'>AssertionError</span>: That is not true",
       "errorTraceType": "ansi",
       "metadata": {},
       "type": "ipynbError"
      }
     },
     "output_type": "display_data"
    }
   ],
   "source": [
    " assert 1 == 2, \"That is not true\""
   ]
  },
  {
   "cell_type": "markdown",
   "metadata": {
    "application/vnd.databricks.v1+cell": {
     "cellMetadata": {},
     "inputWidgets": {},
     "nuid": "826dc2e1-720f-4dba-86aa-ce9ffc9bbe10",
     "showTitle": false,
     "title": ""
    }
   },
   "source": [
    "&copy; 2023 Databricks, Inc. All rights reserved.<br/>\n",
    "Apache, Apache Spark, Spark and the Spark logo are trademarks of the <a href=\"https://www.apache.org/\">Apache Software Foundation</a>.<br/>\n",
    "<br/>\n",
    "<a href=\"https://databricks.com/privacy-policy\">Privacy Policy</a> | <a href=\"https://databricks.com/terms-of-use\">Terms of Use</a> | <a href=\"https://help.databricks.com/\">Support</a>"
   ]
  }
 ],
 "metadata": {
  "application/vnd.databricks.v1+notebook": {
   "dashboards": [],
   "environmentMetadata": null,
   "language": "python",
   "notebookMetadata": {
    "pythonIndentUnit": 2
   },
   "notebookName": "ITP 06 - Exceptions",
   "widgets": {}
  }
 },
 "nbformat": 4,
 "nbformat_minor": 0
}

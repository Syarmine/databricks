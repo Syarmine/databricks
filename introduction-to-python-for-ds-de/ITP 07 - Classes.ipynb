{
 "cells": [
  {
   "cell_type": "markdown",
   "metadata": {
    "application/vnd.databricks.v1+cell": {
     "cellMetadata": {},
     "inputWidgets": {},
     "nuid": "b25384d6-bcb2-44a8-82cc-48e42edbbca3",
     "showTitle": false,
     "title": ""
    }
   },
   "source": [
    "\n",
    "<div style=\"text-align: center; line-height: 0; padding-top: 9px;\">\n",
    "  <img src=\"https://databricks.com/wp-content/uploads/2018/03/db-academy-rgb-1200px.png\" alt=\"Databricks Learning\" style=\"width: 600px\">\n",
    "</div>"
   ]
  },
  {
   "cell_type": "markdown",
   "metadata": {
    "application/vnd.databricks.v1+cell": {
     "cellMetadata": {},
     "inputWidgets": {},
     "nuid": "80a42104-6f22-4c9c-ba4c-1e43ba343a8d",
     "showTitle": false,
     "title": "--i18n-3fb78239-dd9c-4c5d-b4dc-6049604db4b2"
    }
   },
   "source": [
    "\n",
    "\n",
    "# Classes\n",
    "## ![Spark Logo Tiny](https://files.training.databricks.com/images/105/logo_spark_tiny.png) In this lesson you:<br>\n",
    "- Explore how to define a new data called a class\n",
    "- Utilize instance attributes to define data for classes\n",
    "- Use methods to add functionality to classes"
   ]
  },
  {
   "cell_type": "markdown",
   "metadata": {
    "application/vnd.databricks.v1+cell": {
     "cellMetadata": {},
     "inputWidgets": {},
     "nuid": "189c85f4-2264-4ede-9e31-325d35d75d04",
     "showTitle": false,
     "title": "--i18n-f8f3096e-b29e-4c8e-8874-96451f47002a"
    }
   },
   "source": [
    "\n",
    "\n",
    "## Classes\n",
    "\n",
    "From [W3Schools](https://www.w3schools.com/python/python_classes.asp): \n",
    "```\n",
    "Python is an object oriented programming language. Almost everything in Python is an object, with its properties and methods. \n",
    "\n",
    "A Class is like an object constructor, or a \"blueprint\" for creating objects.\n",
    "```\n",
    "\n",
    "When we worked with functions, they allowed us to reuse the same code applied to different parameters. **Classes can be thought of as a step beyond functions as they provide a reusable blueprint for both code and data.**\n",
    "\n",
    "We've now seen the basic built-in types and some more advanced collection types. We can also define our own custom [**classes**](https://www.w3schools.com/python/python_classes.asp) to fit our needs. \n",
    "\n",
    "To define a class we write:\n",
    "\n",
    "```\n",
    "class ClassName():\n",
    "    <code block>\n",
    "```\n",
    "\n",
    "Up until now, we've typically used the `snake_case` convention. However, when defining a class, [Python style guides](https://peps.python.org/pep-0008/) recommend using `CapWords`, with every word capitalized and no spaces. \n",
    "\n",
    "**Note**: **`pass`** tells Python to not do anything. We're effectively defining a dog that does nothing (not quite what you'd want in a dog!)."
   ]
  },
  {
   "cell_type": "code",
   "execution_count": 0,
   "metadata": {
    "application/vnd.databricks.v1+cell": {
     "cellMetadata": {
      "byteLimit": 2048000,
      "rowLimit": 10000
     },
     "inputWidgets": {},
     "nuid": "de3e07ae-5bce-4123-a87c-87b4432df74a",
     "showTitle": false,
     "title": ""
    }
   },
   "outputs": [],
   "source": [
    "# Create the blue print\n",
    "class Dog():\n",
    "    pass"
   ]
  },
  {
   "cell_type": "markdown",
   "metadata": {
    "application/vnd.databricks.v1+cell": {
     "cellMetadata": {},
     "inputWidgets": {},
     "nuid": "3df391b5-b3a1-4796-aeca-1cf3635ec9fa",
     "showTitle": false,
     "title": "--i18n-b326ce06-9f66-46f3-a134-03579d30867a"
    }
   },
   "source": [
    "\n",
    "\n",
    "For the built-in types we have seen so far, creating an object from a class has been built-in. If you write **`1`** or **`\"hello\"`** Python knows what types those are and creates those `int` or `str` objects for you. \n",
    "\n",
    "However, for classes that we define we have to create objects as follows:\n",
    "\n",
    "**`object_name = ClassName()`**\n",
    "\n",
    "Technically, this is called \"instantiating\" the class as we create a specific version of the object. Now we have a **`Dog`** class. Let's make a **`Dog`** object, and call it **`my_dog`**."
   ]
  },
  {
   "cell_type": "code",
   "execution_count": 0,
   "metadata": {
    "application/vnd.databricks.v1+cell": {
     "cellMetadata": {
      "byteLimit": 2048000,
      "rowLimit": 10000
     },
     "inputWidgets": {},
     "nuid": "ccf3a1bf-4df8-4804-8731-0527c527a310",
     "showTitle": false,
     "title": ""
    }
   },
   "outputs": [
    {
     "output_type": "stream",
     "name": "stdout",
     "output_type": "stream",
     "text": [
      "Out[2]: __main__.Dog"
     ]
    }
   ],
   "source": [
    "# Instantiate the blueprint and save it to the variable\n",
    "my_dog = Dog()\n",
    "\n",
    "type(my_dog)"
   ]
  },
  {
   "cell_type": "markdown",
   "metadata": {
    "application/vnd.databricks.v1+cell": {
     "cellMetadata": {},
     "inputWidgets": {},
     "nuid": "917a85c3-f177-479a-a079-4cf75e24502e",
     "showTitle": false,
     "title": "--i18n-58c970b2-4bd1-4b0b-8533-b0794b07eed3"
    }
   },
   "source": [
    "\n",
    "\n",
    "## Code Reuse with Methods\n",
    "\n",
    "Now that we can make a **`Dog`** that does nothing, let's add some functionality!\n",
    "\n",
    "Functionality in classes are defined by [**methods**](https://www.w3schools.com/python/gloss_python_object_methods.asp), which we saw in a previous lesson.\n",
    "\n",
    "As a reminder, a **method** is a special function that acts on an object that we call like this: **`object.method(args)`**\n",
    "\n",
    "We define a method similarly to how we define a normal function except with two differences:\n",
    "\n",
    "1. We nest the definition of the method within the class definition. \n",
    "1. We must specify a parameter named **`self`**, followed by any additional parameters.\n",
    "\n",
    "This looks like this:\n",
    "\n",
    "```\n",
    "class ClassName():\n",
    "\n",
    "    def method_name(self, args):\n",
    "        method code\n",
    "```\n",
    "\n",
    "We will ignore the **`self`** parameter for now, but come back to it in a moment.\n",
    "\n",
    "Let's look at a very simple example: writing a method that takes in a name and returns it."
   ]
  },
  {
   "cell_type": "code",
   "execution_count": 0,
   "metadata": {
    "application/vnd.databricks.v1+cell": {
     "cellMetadata": {
      "byteLimit": 2048000,
      "rowLimit": 10000
     },
     "inputWidgets": {},
     "nuid": "a01a13f2-6c72-4be9-86bb-3e76c26a966f",
     "showTitle": false,
     "title": ""
    }
   },
   "outputs": [],
   "source": [
    "class UpdatedDog():\n",
    "    \n",
    "    def return_name(self, name):\n",
    "        return f\"name: {name}\""
   ]
  },
  {
   "cell_type": "markdown",
   "metadata": {
    "application/vnd.databricks.v1+cell": {
     "cellMetadata": {},
     "inputWidgets": {},
     "nuid": "306f623d-b103-4b20-8ad8-1284b45b1b95",
     "showTitle": false,
     "title": "--i18n-5de3ea33-9f20-4ca7-913c-f08dba3ba9ca"
    }
   },
   "source": [
    "\n",
    "\n",
    "Now let's make an object of our updated **`Dog`** class and call the method. Remember we call methods like this: **`object.method(args)`**.\n",
    "\n",
    "Note that we do *not* pass an argument for the special **`self`** parameter."
   ]
  },
  {
   "cell_type": "code",
   "execution_count": 0,
   "metadata": {
    "application/vnd.databricks.v1+cell": {
     "cellMetadata": {
      "byteLimit": 2048000,
      "rowLimit": 10000
     },
     "inputWidgets": {},
     "nuid": "ff7e5ae0-0287-4f89-8d65-ea95be7d3899",
     "showTitle": false,
     "title": ""
    }
   },
   "outputs": [
    {
     "output_type": "stream",
     "name": "stdout",
     "output_type": "stream",
     "text": [
      "Out[4]: 'name: Rex'"
     ]
    }
   ],
   "source": [
    "my_updated_dog = UpdatedDog()\n",
    "\n",
    "my_updated_dog.return_name(\"Rex\")"
   ]
  },
  {
   "cell_type": "markdown",
   "metadata": {
    "application/vnd.databricks.v1+cell": {
     "cellMetadata": {},
     "inputWidgets": {},
     "nuid": "62be78dd-0657-428e-b233-d2cd565c22af",
     "showTitle": false,
     "title": "--i18n-1dd48eff-d93e-4f8e-9373-ae10de48af4d"
    }
   },
   "source": [
    "\n",
    "\n",
    "What about `self`?\n",
    "\n",
    "A method differs from a function in that it can act on the object it's called on. The method needs to be able to reference the object that called it. That's what **`self`** refers to.\n",
    "\n",
    "When we call **`object.method(self, args)`** the object itself is passed to the **`self`** parameter automatically by Python."
   ]
  },
  {
   "cell_type": "code",
   "execution_count": 0,
   "metadata": {
    "application/vnd.databricks.v1+cell": {
     "cellMetadata": {
      "byteLimit": 2048000,
      "rowLimit": 10000
     },
     "inputWidgets": {},
     "nuid": "ca5d0c5d-8c07-439e-a763-6911b397ea12",
     "showTitle": false,
     "title": ""
    }
   },
   "outputs": [
    {
     "output_type": "stream",
     "name": "stdout",
     "output_type": "stream",
     "text": [
      "<__main__.DogWithSelf object at 0x7f6cf8e71970>\n<__main__.DogWithSelf object at 0x7f6cf8e71970>\n"
     ]
    }
   ],
   "source": [
    "class DogWithSelf():\n",
    "    \n",
    "    def print_self(self):\n",
    "        print(self)\n",
    "        \n",
    "dog_with_self = DogWithSelf()\n",
    "\n",
    "print(dog_with_self)\n",
    "dog_with_self.print_self() # prints the same object"
   ]
  },
  {
   "cell_type": "markdown",
   "metadata": {
    "application/vnd.databricks.v1+cell": {
     "cellMetadata": {},
     "inputWidgets": {},
     "nuid": "587222bd-bb0b-4719-b113-2071ff30d1ad",
     "showTitle": false,
     "title": "--i18n-56944397-f05e-4cdd-bced-940be45e1872"
    }
   },
   "source": [
    "\n",
    "\n",
    "Notice that when we print the **`new_dog`** object and call our **`print_self()`** method on **`new_dog`** we see the same object. \n",
    "\n",
    "That's because **`new_dog`** was passed as the argument to **`self`** in **`print_self()`**"
   ]
  },
  {
   "cell_type": "markdown",
   "metadata": {
    "application/vnd.databricks.v1+cell": {
     "cellMetadata": {},
     "inputWidgets": {},
     "nuid": "5a4d7758-2d1e-451b-a725-58fcf01368c2",
     "showTitle": false,
     "title": "--i18n-a3aea935-bc40-4fc2-aeb0-f3d5d7c45eb2"
    }
   },
   "source": [
    "\n",
    "\n",
    "## Data Caching with Attributes\n",
    "\n",
    "In our class, we need some way to store data. **When a variable is stored in a class, it is called an attribute.** Attributes are just variables that are defined for each instance of an object. Every instance will have the same named attributes but they're normally set to different values.\n",
    "\n",
    "```\n",
    "class ClassName():\n",
    "\n",
    "    def __init__(self, arg):\n",
    "        self.arg = arg\n",
    "```\n",
    "\n",
    "Python provides a special method called **`__init__(self)`** that is automatically called when our object is initialized. This is often referred to as the *constructor method* for the class since it constructs the class's attributes.\n",
    "\n",
    "Let's say for our **`Dog`** class that we want every dog object to have a name and a color. To do that, we create two attributes for the class **`name`** and **`color`**.\n",
    "\n",
    "Then, every **`Dog`** object has a name and color attribute, but they can be set to different values for each object, so that each dog object can have its own name and color."
   ]
  },
  {
   "cell_type": "code",
   "execution_count": 0,
   "metadata": {
    "application/vnd.databricks.v1+cell": {
     "cellMetadata": {
      "byteLimit": 2048000,
      "rowLimit": 10000
     },
     "inputWidgets": {},
     "nuid": "10b56d3f-a398-420c-8c67-f804eb0d3251",
     "showTitle": false,
     "title": ""
    }
   },
   "outputs": [
    {
     "output_type": "stream",
     "name": "stdout",
     "output_type": "stream",
     "text": [
      "This ran automatically!\n"
     ]
    }
   ],
   "source": [
    "class DogWithAttributes():\n",
    "\n",
    "    def __init__(self, name, color):\n",
    "        print(\"This ran automatically!\")\n",
    "        self.name = name\n",
    "        self.color = color\n",
    "\n",
    "dog_with_attributes = DogWithAttributes(\"Rex\", \"Orange\")"
   ]
  },
  {
   "cell_type": "markdown",
   "metadata": {
    "application/vnd.databricks.v1+cell": {
     "cellMetadata": {},
     "inputWidgets": {},
     "nuid": "83c398ce-bc8d-47ab-88c3-6e5994de7680",
     "showTitle": false,
     "title": "--i18n-a6ca39f1-ceb0-42ff-aa95-fac34ef7ba1b"
    }
   },
   "source": [
    "\n",
    "\n",
    "When the `__init__()` method was automatically called, it saved those variables to `self`, which is the instantiation of the object. We can access the attribute similar to how we accessed methods but without the parentheses."
   ]
  },
  {
   "cell_type": "code",
   "execution_count": 0,
   "metadata": {
    "application/vnd.databricks.v1+cell": {
     "cellMetadata": {
      "byteLimit": 2048000,
      "rowLimit": 10000
     },
     "inputWidgets": {},
     "nuid": "c96a3b99-2c0b-4ace-8595-c817782b9a69",
     "showTitle": false,
     "title": ""
    }
   },
   "outputs": [
    {
     "output_type": "stream",
     "name": "stdout",
     "output_type": "stream",
     "text": [
      "Out[7]: 'Rex'"
     ]
    }
   ],
   "source": [
    "dog_with_attributes.name"
   ]
  },
  {
   "cell_type": "markdown",
   "metadata": {
    "application/vnd.databricks.v1+cell": {
     "cellMetadata": {},
     "inputWidgets": {},
     "nuid": "2d2019e2-9257-44ad-9833-a12663880fce",
     "showTitle": false,
     "title": "--i18n-3d8f5672-e9d4-4bd4-9c14-91756c1cbb4f"
    }
   },
   "source": [
    "\n",
    "\n",
    "In a method definition we can access an attribute using **`self.attribute_name`**, since **`self`** refers to the object that calls the method, regardless of what we named it when we instantiated it."
   ]
  },
  {
   "cell_type": "code",
   "execution_count": 0,
   "metadata": {
    "application/vnd.databricks.v1+cell": {
     "cellMetadata": {
      "byteLimit": 2048000,
      "rowLimit": 10000
     },
     "inputWidgets": {},
     "nuid": "c3c14f15-3e20-420f-ada0-2fb0bb98cd53",
     "showTitle": false,
     "title": ""
    }
   },
   "outputs": [
    {
     "output_type": "stream",
     "name": "stdout",
     "output_type": "stream",
     "text": [
      "Out[19]: 'Rex'"
     ]
    }
   ],
   "source": [
    "class DogWithAttributesAndMethod():\n",
    "    \n",
    "    def __init__(self, name, color):\n",
    "        self.name = name\n",
    "        self.color = color\n",
    "        \n",
    "    def return_name(self):\n",
    "        return self.name\n",
    "        \n",
    "my_dog = DogWithAttributesAndMethod(\"Rex\", \"Blue\")\n",
    "my_dog.return_name()"
   ]
  },
  {
   "cell_type": "markdown",
   "metadata": {
    "application/vnd.databricks.v1+cell": {
     "cellMetadata": {},
     "inputWidgets": {},
     "nuid": "edaf3234-1ebf-4d35-95eb-b0be7deb6177",
     "showTitle": false,
     "title": "--i18n-4ec0fb49-f058-4c68-be13-aac66e9e5fe3"
    }
   },
   "source": [
    "\n",
    "\n",
    "We now have all the tools we need to add functionality! Let's say we want to add the ability to change a dog's name. We can simply update the **`name`** attribute like this."
   ]
  },
  {
   "cell_type": "code",
   "execution_count": 0,
   "metadata": {
    "application/vnd.databricks.v1+cell": {
     "cellMetadata": {
      "byteLimit": 2048000,
      "rowLimit": 10000
     },
     "inputWidgets": {},
     "nuid": "6c2f9e9c-a9da-4c7f-9f46-844db43b450d",
     "showTitle": false,
     "title": ""
    }
   },
   "outputs": [
    {
     "output_type": "stream",
     "name": "stdout",
     "output_type": "stream",
     "text": [
      "Here's my name now: Rex\nHere's my name after updating it: Brady\n"
     ]
    }
   ],
   "source": [
    "class DogWithAttributesAndMethods():\n",
    "    \n",
    "    def __init__(self, name, color):\n",
    "        self.name = name\n",
    "        self.color = color\n",
    "        \n",
    "    def return_name(self):\n",
    "        return self.name\n",
    "        \n",
    "    def update_name(self, new_name):\n",
    "        self.name = new_name\n",
    "        \n",
    "my_dog = DogWithAttributesAndMethods(\"Rex\", \"Blue\")\n",
    "print(f\"Here's my name now: {my_dog.return_name()}\")\n",
    "\n",
    "my_dog.update_name(\"Brady\")\n",
    "print(f\"Here's my name after updating it: {my_dog.return_name()}\")"
   ]
  },
  {
   "cell_type": "markdown",
   "metadata": {
    "application/vnd.databricks.v1+cell": {
     "cellMetadata": {},
     "inputWidgets": {},
     "nuid": "0958d115-2e6d-4584-8b35-993bdc2acf6f",
     "showTitle": false,
     "title": "--i18n-f781f535-f48d-4fb6-a110-c52e5a6c4039"
    }
   },
   "source": [
    "\n",
    "\n",
    "## More Advanced Classes \n",
    "\n",
    "Classes can have many methods and attributes. They can also access the attributes of another class.\n",
    "\n",
    "Take a look at the `return_both_names` method to see how a class can use the attributes of another class."
   ]
  },
  {
   "cell_type": "code",
   "execution_count": 0,
   "metadata": {
    "application/vnd.databricks.v1+cell": {
     "cellMetadata": {
      "byteLimit": 2048000,
      "rowLimit": 10000
     },
     "inputWidgets": {},
     "nuid": "303df7bd-6c4f-49c5-90a1-bd4175fab937",
     "showTitle": false,
     "title": ""
    }
   },
   "outputs": [
    {
     "output_type": "stream",
     "name": "stdout",
     "output_type": "stream",
     "text": [
      "Out[21]: 'Rex and Brady'"
     ]
    }
   ],
   "source": [
    "class DogFinal():\n",
    "    \n",
    "    def __init__(self, name_str, color_str):\n",
    "        self.name = name_str\n",
    "        self.color = color_str\n",
    "        \n",
    "    def return_name(self):\n",
    "        return self.name\n",
    "        \n",
    "    def update_name(self, new_name):\n",
    "        self.name = new_name\n",
    "        \n",
    "    def return_both_names(self, other_dog_object):\n",
    "        return self.name + \" and \" + other_dog_object.name\n",
    "        \n",
    "dog_1 = DogFinal(\"Rex\", \"Blue\")\n",
    "dog_2 = DogFinal(\"Brady\", \"Purple\")\n",
    "\n",
    "dog_1.return_both_names(dog_2)"
   ]
  },
  {
   "cell_type": "markdown",
   "metadata": {
    "application/vnd.databricks.v1+cell": {
     "cellMetadata": {},
     "inputWidgets": {},
     "nuid": "b8b40659-ef93-4ae4-bd69-192e7112ce59",
     "showTitle": false,
     "title": ""
    }
   },
   "source": [
    "&copy; 2023 Databricks, Inc. All rights reserved.<br/>\n",
    "Apache, Apache Spark, Spark and the Spark logo are trademarks of the <a href=\"https://www.apache.org/\">Apache Software Foundation</a>.<br/>\n",
    "<br/>\n",
    "<a href=\"https://databricks.com/privacy-policy\">Privacy Policy</a> | <a href=\"https://databricks.com/terms-of-use\">Terms of Use</a> | <a href=\"https://help.databricks.com/\">Support</a>"
   ]
  }
 ],
 "metadata": {
  "application/vnd.databricks.v1+notebook": {
   "dashboards": [],
   "environmentMetadata": null,
   "language": "python",
   "notebookMetadata": {
    "pythonIndentUnit": 2
   },
   "notebookName": "ITP 07 - Classes",
   "widgets": {}
  }
 },
 "nbformat": 4,
 "nbformat_minor": 0
}

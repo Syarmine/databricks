{
 "cells": [
  {
   "cell_type": "markdown",
   "metadata": {
    "application/vnd.databricks.v1+cell": {
     "cellMetadata": {},
     "inputWidgets": {},
     "nuid": "06e412c9-2139-4abe-ba63-77113300f62c",
     "showTitle": false,
     "title": ""
    }
   },
   "source": [
    "\n",
    "<div style=\"text-align: center; line-height: 0; padding-top: 9px;\">\n",
    "  <img src=\"https://databricks.com/wp-content/uploads/2018/03/db-academy-rgb-1200px.png\" alt=\"Databricks Learning\" style=\"width: 600px\">\n",
    "</div>"
   ]
  },
  {
   "cell_type": "markdown",
   "metadata": {
    "application/vnd.databricks.v1+cell": {
     "cellMetadata": {},
     "inputWidgets": {},
     "nuid": "ca24e898-0899-42a3-a757-d3bb72ae0372",
     "showTitle": false,
     "title": "--i18n-50d4a990-cefe-41dd-a439-12f7706751be"
    }
   },
   "source": [
    "\n",
    "\n",
    "# Classes\n",
    "## ![Spark Logo Tiny](https://files.training.databricks.com/images/105/logo_spark_tiny.png) In this lab you:<br>\n",
    "\n",
    "Apply concepts learned in the last lesson, including:\n",
    "- Utilizing instance attributes to define data for new data types\n",
    "- Using methods to add functionality to new data types"
   ]
  },
  {
   "cell_type": "markdown",
   "metadata": {
    "application/vnd.databricks.v1+cell": {
     "cellMetadata": {},
     "inputWidgets": {},
     "nuid": "e72c0365-ffe8-4508-838e-f02f00a975c6",
     "showTitle": false,
     "title": "--i18n-37e05756-08e7-4ec8-8583-0cf5d64eea2b"
    }
   },
   "source": [
    "\n",
    "\n",
    "## Exercise: Simpson\n",
    "\n",
    "<img src=\"https://i.pinimg.com/originals/13/63/37/13633734d116fe188af57fe9da7d095e.jpg\" style=\"height:400\">\n",
    "\n",
    "Define a class **`Simpson`** representing members of the Simpson's family that has the following attributes and methods:\n",
    "\n",
    "* Each Simpson has a **`first_name`**, **`age`**, and **`favorite_food`**. \n",
    "  * Define the **`__init__()`** method to initialize these attributes. \n",
    "  \n",
    "* Define a method called **`simpson_summary()`** which returns a string in this format: `{first_name} Simpson is {age} years old and their favorite food is {favorite_food}`\n",
    "  * For example, if `first_name=\"Homer\"`, `age=39`, and `favorite_food=\"donuts\"`, this should return: `Homer Simpson is 39 years old and their favorite food is donuts`\n",
    "  \n",
    "* Define a method called **`older()`** which takes in another **`Simpson`** object and returns **`True`** if the person that called the method is older than the other one, **`False`** otherwise."
   ]
  },
  {
   "cell_type": "code",
   "execution_count": 0,
   "metadata": {
    "application/vnd.databricks.v1+cell": {
     "cellMetadata": {
      "byteLimit": 2048000,
      "rowLimit": 10000
     },
     "inputWidgets": {},
     "nuid": "9b9b0503-7991-4483-b061-33d7f8882432",
     "showTitle": false,
     "title": ""
    }
   },
   "outputs": [],
   "source": [
    "# TODO\n",
    "class Simpson():\n",
    "    \n",
    "    def __init__(self, first_name, age, favorite_food):\n",
    "        self.first_name = first_name\n",
    "        self.age = age\n",
    "        self.favorite_food = favorite_food\n",
    "    \n",
    "    def simpson_summary(self):\n",
    "        return f\"{self.first_name} Simpson is {self.age} years old and their favorite food is {self.favorite_food}\"\n",
    "\n",
    "    def older(self, other):\n",
    "       return self.age > other.age\n",
    "    \n"
   ]
  },
  {
   "cell_type": "markdown",
   "metadata": {
    "application/vnd.databricks.v1+cell": {
     "cellMetadata": {},
     "inputWidgets": {},
     "nuid": "ca7c633a-c990-48f4-aff3-1ce3d8273a09",
     "showTitle": false,
     "title": "--i18n-b3b3aa47-1699-4d9e-806d-fa84134c143f"
    }
   },
   "source": [
    "\n",
    "\n",
    "**Check your work:**"
   ]
  },
  {
   "cell_type": "code",
   "execution_count": 0,
   "metadata": {
    "application/vnd.databricks.v1+cell": {
     "cellMetadata": {
      "byteLimit": 2048000,
      "rowLimit": 10000
     },
     "inputWidgets": {},
     "nuid": "9839380b-e9f8-49b4-9452-7a63e696b4ae",
     "showTitle": false,
     "title": ""
    }
   },
   "outputs": [
    {
     "output_type": "stream",
     "name": "stdout",
     "output_type": "stream",
     "text": [
      "Test passed!\n"
     ]
    }
   ],
   "source": [
    "homer = Simpson(\"Homer\", 39, \"Donuts\")\n",
    "bart = Simpson(\"Bart\", 10, \"Hamburgers\")\n",
    "assert homer.first_name == \"Homer\", \"first_name is not set properly\"\n",
    "assert homer.favorite_food == \"Donuts\", \"favorite_food is not set properly\"\n",
    "assert bart.age == 10, \"Age is not set properly\"\n",
    "assert homer.simpson_summary() == \"Homer Simpson is 39 years old and their favorite food is Donuts\", \"simpson_summary is incorrect\"\n",
    "assert bart.simpson_summary() == \"Bart Simpson is 10 years old and their favorite food is Hamburgers\", \"simpson_summary is incorrect\"\n",
    "assert homer.older(bart) == True, \"Homer is older than Bart\"\n",
    "assert bart.older(homer) == False, \"Bart is not older than Homer\"\n",
    "print(\"Test passed!\")"
   ]
  },
  {
   "cell_type": "markdown",
   "metadata": {
    "application/vnd.databricks.v1+cell": {
     "cellMetadata": {},
     "inputWidgets": {},
     "nuid": "4e838b58-21b0-400b-bdf9-0b1ed1a6e471",
     "showTitle": false,
     "title": "--i18n-TBD"
    }
   },
   "source": [
    "\n",
    "### Bonus Exercise\n",
    "\n",
    "- Create a class called Fraction consisting of the following:\n",
    "  - Public attributes\n",
    "    - Numerator\n",
    "    - Denominator\n",
    "  - Constructor that initializes the numerator and denominator\n",
    "  - Method named __to_string__ that returns the Fraction as a string in the format\n",
    "    Numerator / Denominator\n",
    "  - Method named __as_decimal__ that returns the value of the fraction as a number (including decimal places)\n",
    "  - Method named __invert__ that alters the state of the Fraction to it's inverted equivalent.\n",
    "  - Method named __least_common_denominator__ that computes the leastCommonDenominator of 2 fractions.\n",
    "  - A method named __reduce__ that reduces a Fraction to it's least common denominator\n",
    "  - Method named __is_equal__ that compares a Fraction with another received in its argument list to determine whether or not they are equal\n",
    "    - Note that 2/4 == 1/2\n",
    "  - Method named __is_less_than__ that compares a Fraction with another received in its argument list to determine whether the object on which the method is invoked is smaller than the one received in its argument list\n",
    "    - Note 2/4 is smaller than 5/9\n",
    "  - A Method named __scale__ that scales a fraction to a designated multiplier\n",
    "    - e.g. 1/4 scaled by 2 becomes 2/8\n",
    "  - A method named __clone__ that given a Fraction in its argument list, alters its current state to that of the Fraction received in its argument list"
   ]
  },
  {
   "cell_type": "code",
   "execution_count": 0,
   "metadata": {
    "application/vnd.databricks.v1+cell": {
     "cellMetadata": {
      "byteLimit": 2048000,
      "rowLimit": 10000
     },
     "inputWidgets": {},
     "nuid": "d4963ce2-df64-4a46-bacd-5d7dca492547",
     "showTitle": false,
     "title": ""
    }
   },
   "outputs": [],
   "source": [
    "# I have provided a helper standalone function you may wish to invoke as part of your implementation\n",
    "\n",
    "def greatest_common_factor(a, b):\n",
    "    gcf = 1\n",
    "    if a < b:\n",
    "        limit = a\n",
    "    else:\n",
    "        limit = b\n",
    "    \n",
    "    for index in range(2, limit + 1):\n",
    "        if (a % index == 0) and (b % index == 0):\n",
    "            gcf = index\n",
    "        \n",
    "    return gcf"
   ]
  },
  {
   "cell_type": "code",
   "execution_count": 0,
   "metadata": {
    "application/vnd.databricks.v1+cell": {
     "cellMetadata": {
      "byteLimit": 2048000,
      "rowLimit": 10000
     },
     "inputWidgets": {},
     "nuid": "7b34a250-ccf7-4fc6-b8b2-3e0dce8cb223",
     "showTitle": false,
     "title": ""
    }
   },
   "outputs": [],
   "source": [
    "# ANSWER\n",
    "class Fraction():\n",
    "    def __init__(self, numerator, denominator):                     # Constructor\n",
    "        self.numerator = numerator                                  # Attribute initialization\n",
    "        self.denominator = denominator\n",
    "   \n",
    "    def to_string(self):                                             # Method definitions\n",
    "        return f\"{self.numerator} / {self.denominator}\"\n",
    "  \n",
    "    def as_decimal(self):\n",
    "        return self.numerator / self.denominator\n",
    "  \n",
    "    def invert(self):\n",
    "        temp = self.numerator\n",
    "        self.numerator = self.denominator\n",
    "        self.denominator = temp\n",
    "        return None\n",
    "  \n",
    "    def least_common_denominator(self, other):\n",
    "        a = self.denominator\n",
    "        b = other.denominator\n",
    "\n",
    "        lcd = float(a * b)\n",
    "        lcd /= greatest_common_factor(a, b)\n",
    "\n",
    "        return lcd\n",
    "  \n",
    "    def reduce(self):\n",
    "        gcf = greatest_common_factor(self.numerator, self.denominator)\n",
    "    \n",
    "        if (self.denominator < 0):\n",
    "              gcf *= -1\n",
    "\n",
    "        self.numerator /= gcf\n",
    "        self.denominator /= gcf\n",
    "        return self\n",
    "  \n",
    "    def is_equal(self, other):\n",
    "        return(self.as_decimal() == other.as_decimal())\n",
    "  \n",
    "    def is_less_than(self, other):\n",
    "        return self.as_decimal() < other.as_decimal()\n",
    "  \n",
    "    def scale(multiplier):\n",
    "        self.numerator *= multiplier\n",
    "        self.denominator *= multiplier\n",
    "    \n",
    "    def clone(self):\n",
    "        return Fraction(self.numerator, self.denominator)"
   ]
  },
  {
   "cell_type": "code",
   "execution_count": 0,
   "metadata": {
    "application/vnd.databricks.v1+cell": {
     "cellMetadata": {
      "byteLimit": 2048000,
      "rowLimit": 10000
     },
     "inputWidgets": {},
     "nuid": "7e602f79-9e06-4e90-a5a1-7f0cf86a76dd",
     "showTitle": false,
     "title": ""
    }
   },
   "outputs": [],
   "source": [
    "# Test your work\n",
    "one_half = Fraction(1,2)\n",
    "two_fourths = Fraction(2,4)\n",
    "two_thirds = Fraction(2,3)\n",
    "six_ninths = Fraction(6,9)\n",
    "\n",
    "assert one_half.to_string() == \"1 / 2\", \"to_string did not convert the string properly\"\n",
    "assert two_fourths.as_decimal() == .5, \"as_decimal did not convert the fraction to a decimal number properly\"\n",
    "\n",
    "four_eighths = Fraction(4, 8)\n",
    "four_eighths.invert()\n",
    "assert four_eighths.to_string() == \"8 / 4\", \"invert did not convert the fraction properly\"\n",
    "\n",
    "assert two_thirds.least_common_denominator(six_ninths) == 9.0, \"least_common_denominator did not compute the least common denominator properly\"\n",
    "\n",
    "assert one_half.is_equal(two_fourths) == True, \"is_equal did not compare two fractions properly\"\n",
    "assert one_half.is_less_than(two_thirds) == True, \"is_less_than did not compare two fractions properly\""
   ]
  },
  {
   "cell_type": "markdown",
   "metadata": {
    "application/vnd.databricks.v1+cell": {
     "cellMetadata": {},
     "inputWidgets": {},
     "nuid": "d3104c68-0f13-405d-8796-da9c1eadc930",
     "showTitle": false,
     "title": "--i18n-7799d859-cb3c-46ac-87e2-414d95de6fcf"
    }
   },
   "source": [
    "\n",
    "### Bonus Exercise\n",
    "\n",
    "Modify the aforementioned class implementation to properly encapsulate the numerator and denominator attributes so that they cannot be accessed directly from an application"
   ]
  },
  {
   "cell_type": "code",
   "execution_count": 0,
   "metadata": {
    "application/vnd.databricks.v1+cell": {
     "cellMetadata": {
      "byteLimit": 2048000,
      "rowLimit": 10000
     },
     "inputWidgets": {},
     "nuid": "34f67c37-cecf-4596-96aa-d050132d463b",
     "showTitle": false,
     "title": ""
    }
   },
   "outputs": [],
   "source": [
    "# TODO\n",
    "class Fraction():\n",
    "      def __init__(self, numerator, denominator):                     # Constructor\n",
    "        self.__numerator = numerator                                  # Attribute initialization\n",
    "        self.__denominator = denominator\n",
    "\n",
    "      def to_string(self):                                             # Method definitions\n",
    "        return f\"{self.__numerator} / {self.__denominator}\"\n",
    "\n",
    "      def as_decimal(self):\n",
    "        return self.__numerator / self.__denominator\n",
    "\n",
    "      def invert(self):\n",
    "        temp = self.__numerator\n",
    "        self.__numerator = self.__denominator\n",
    "        self.__denominator = temp\n",
    "        return None\n",
    "\n",
    "      def least_common_denominator(self, other):\n",
    "        a = self.__denominator\n",
    "        b = other.__denominator\n",
    "\n",
    "        lcd = float(a * b)\n",
    "        lcd /= greatest_common_factor(a, b)\n",
    "\n",
    "        return lcd\n",
    "\n",
    "      def reduce(self):\n",
    "        gcf = greatest_common_factor(self.__numerator, self.__denominator)\n",
    "\n",
    "        if (self.__denominator < 0):\n",
    "              gcf *= -1\n",
    "\n",
    "        self.__numerator /= gcf\n",
    "        self.__denominator /= gcf\n",
    "        return self\n",
    "\n",
    "      def is_equal(self, other):\n",
    "        return(self.as_decimal() == other.as_decimal())\n",
    "\n",
    "      def is_less_than(self, other):\n",
    "        return self.as_decimal() < other.as_decimal()\n",
    "\n",
    "      def scale(multiplier):\n",
    "        self.__numerator *= multiplier\n",
    "        self.__denominator *= multiplier\n",
    "\n",
    "      def clone(self):\n",
    "        return Fraction(self.__numerator, self.__denominator)\n",
    "\n",
    "      def get_numerator(self):\n",
    "        return self.__numerator\n",
    "\n",
    "      def get_denominator(self):\n",
    "        return self.__denonminator"
   ]
  },
  {
   "cell_type": "code",
   "execution_count": 0,
   "metadata": {
    "application/vnd.databricks.v1+cell": {
     "cellMetadata": {
      "byteLimit": 2048000,
      "rowLimit": 10000
     },
     "inputWidgets": {},
     "nuid": "2a9bb7a8-3876-4f57-94f1-5e9b68d5d60f",
     "showTitle": false,
     "title": ""
    }
   },
   "outputs": [],
   "source": [
    "# Test your work\n",
    "one_half = Fraction(1,2)\n",
    "two_fourths = Fraction(2,4)\n",
    "two_thirds = Fraction(2,3)\n",
    "six_ninths = Fraction(6,9)\n",
    "\n",
    "assert one_half.to_string() == \"1 / 2\", \"to_string did not convert the string properly\"\n",
    "assert two_fourths.as_decimal() == .5, \"as_decimal did not convert the fraction to a decimal number properly\"\n",
    "\n",
    "four_eighths = Fraction(4, 8)\n",
    "four_eighths.invert()\n",
    "assert four_eighths.to_string() == \"8 / 4\", \"invert did not convert the fraction properly\"\n",
    "\n",
    "assert two_thirds.least_common_denominator(six_ninths) == 9.0, \"least_common_denominator did not compute the least common denominator properly\"\n",
    "\n",
    "assert one_half.is_equal(two_fourths) == True, \"is_equal did not compare two fractions properly\"\n",
    "assert one_half.is_less_than(two_thirds) == True, \"is_less_than did not compare two fractions properly\"\n",
    "\n",
    "nine_fifteenths = Fraction(9, 15)\n",
    "nine_fifteenths.reduce()\n",
    "assert nine_fifteenths.is_equal(Fraction(3, 5)), \"The reduce function did not reduce its fraction properly\"\n",
    "\n",
    "assert six_ninths.get_numerator() == 6, f\"The numerator for {sixNinths.to_string()} has been modified\"\n",
    "\n",
    "try:\n",
    "    six_ninths.numerator \n",
    "    six_ninths.denominator\n",
    "    print(\"The fraction has not been encapsulated properly\")\n",
    "except Exception as ex:\n",
    "    pass"
   ]
  },
  {
   "cell_type": "markdown",
   "metadata": {
    "application/vnd.databricks.v1+cell": {
     "cellMetadata": {},
     "inputWidgets": {},
     "nuid": "e2304978-0f98-4a8c-bbad-d49a9875f3a3",
     "showTitle": false,
     "title": ""
    }
   },
   "source": [
    "&copy; 2023 Databricks, Inc. All rights reserved.<br/>\n",
    "Apache, Apache Spark, Spark and the Spark logo are trademarks of the <a href=\"https://www.apache.org/\">Apache Software Foundation</a>.<br/>\n",
    "<br/>\n",
    "<a href=\"https://databricks.com/privacy-policy\">Privacy Policy</a> | <a href=\"https://databricks.com/terms-of-use\">Terms of Use</a> | <a href=\"https://help.databricks.com/\">Support</a>"
   ]
  }
 ],
 "metadata": {
  "application/vnd.databricks.v1+notebook": {
   "dashboards": [],
   "environmentMetadata": null,
   "language": "python",
   "notebookMetadata": {
    "pythonIndentUnit": 4
   },
   "notebookName": "ITP 07L - Classes Lab",
   "widgets": {}
  }
 },
 "nbformat": 4,
 "nbformat_minor": 0
}

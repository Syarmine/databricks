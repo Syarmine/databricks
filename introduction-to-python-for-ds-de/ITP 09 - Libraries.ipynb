{
 "cells": [
  {
   "cell_type": "markdown",
   "metadata": {
    "application/vnd.databricks.v1+cell": {
     "cellMetadata": {},
     "inputWidgets": {},
     "nuid": "434a18ca-1d60-4291-a9d4-f8ead5940ff7",
     "showTitle": false,
     "title": ""
    }
   },
   "source": [
    "\n",
    "<div style=\"text-align: center; line-height: 0; padding-top: 9px;\">\n",
    "  <img src=\"https://databricks.com/wp-content/uploads/2018/03/db-academy-rgb-1200px.png\" alt=\"Databricks Learning\" style=\"width: 600px\">\n",
    "</div>"
   ]
  },
  {
   "cell_type": "markdown",
   "metadata": {
    "application/vnd.databricks.v1+cell": {
     "cellMetadata": {},
     "inputWidgets": {},
     "nuid": "91660c66-5cd2-47b7-b019-b47a1f95857e",
     "showTitle": false,
     "title": "--i18n-9ad87fe1-fe24-4e65-b474-b126fe0cd797"
    }
   },
   "source": [
    "\n",
    "\n",
    "# Libraries\n",
    "## ![Spark Logo Tiny](https://files.training.databricks.com/images/105/logo_spark_tiny.png) In this lesson you:<br>\n",
    "- Explore the Databricks **%run** feature\n",
    "- Introduce libraries and PyPI"
   ]
  },
  {
   "cell_type": "markdown",
   "metadata": {
    "application/vnd.databricks.v1+cell": {
     "cellMetadata": {},
     "inputWidgets": {},
     "nuid": "eecf6ae0-846f-4add-b799-5e51c3505045",
     "showTitle": false,
     "title": "--i18n-d2d8408c-f293-45e1-a6a7-68b5fd4e5ea5"
    }
   },
   "source": [
    "\n",
    "\n",
    "### %run\n",
    "\n",
    "So far, we have been running individual cells in a single notebook or using **Run All** in the notebook toolbar to run all of the executable command cells in sequence from top to bottom.\n",
    "\n",
    "Databricks also supports the **%run** magic command to allow one notebook to run all of the executable command cells in a *different* notebook.\n",
    "\n",
    "When we do this, we also get access to that other notebook's state, which means all of the classes, functions, and variables defined in that notebook.\n",
    "\n",
    "The **%run** magic command must appear at the top of a command cell, followed by the path to the other notebook. You can *not* have any Python code in the command cell before or after the **%run** magic command"
   ]
  },
  {
   "cell_type": "code",
   "execution_count": 0,
   "metadata": {
    "application/vnd.databricks.v1+cell": {
     "cellMetadata": {
      "byteLimit": 2048000,
      "rowLimit": 10000
     },
     "inputWidgets": {},
     "nuid": "6a0070bb-46a1-4f84-a3cd-230b3a35fb99",
     "showTitle": false,
     "title": ""
    }
   },
   "outputs": [],
   "source": [
    "%run ./Includes/run_example"
   ]
  },
  {
   "cell_type": "markdown",
   "metadata": {
    "application/vnd.databricks.v1+cell": {
     "cellMetadata": {},
     "inputWidgets": {},
     "nuid": "bf3c1466-088f-40b9-8890-ecba960edd8e",
     "showTitle": false,
     "title": "--i18n-099718a4-1515-4d0a-b2b5-a0f5a1541129"
    }
   },
   "source": [
    "\n",
    "\n",
    "The example notebook contains defines the function **`greet()`**, which takes in a name and returns a greeting. Since we now have access to that notebook's state, we can use **`greet()`** even though it was not defined in the notebook. This is a useful way to define & test helper functions without cluttering up your main notebook."
   ]
  },
  {
   "cell_type": "code",
   "execution_count": 0,
   "metadata": {
    "application/vnd.databricks.v1+cell": {
     "cellMetadata": {
      "byteLimit": 2048000,
      "rowLimit": 10000
     },
     "inputWidgets": {},
     "nuid": "3ab6542e-de12-452a-9205-9424328bb730",
     "showTitle": false,
     "title": ""
    }
   },
   "outputs": [
    {
     "output_type": "stream",
     "name": "stdout",
     "output_type": "stream",
     "text": [
      "Out[2]: 'Hello Bob, how are you?'"
     ]
    }
   ],
   "source": [
    "greet(\"Bob\")"
   ]
  },
  {
   "cell_type": "markdown",
   "metadata": {
    "application/vnd.databricks.v1+cell": {
     "cellMetadata": {},
     "inputWidgets": {},
     "nuid": "3743db5c-c8f4-4688-8f51-52a7b46260e0",
     "showTitle": false,
     "title": "--i18n-450fa743-e6f9-4dd3-95ae-da18a436fa7c"
    }
   },
   "source": [
    "\n",
    "\n",
    "### PyPI and Python Libraries\n",
    "\n",
    "This idea of storing collections of useful definitions in libraries to access in different files extends beyond the Databricks Environment. In fact, when Python is installed on a system it usually includes a useful collection of utilities called the [Python Standard Library](https://docs.python.org/3/library/). Furthermore, developers can share any libraries they create with the Python community by uploading them online. \n",
    "\n",
    "<a href=\"https://pypi.org/\" target=\"_blank\">PyPI</a>, which stands for the Python Package Index, is the central repository where developers upload and share their libraries, and where users can download them. It contains thousands of libraries for a wide variety of uses. Some of them have become the industry standard for certain use cases and help standardize code in an industry. \n",
    "\n",
    "\n",
    "By default, Python does not have access to these libraries. Before you can import a library to use in your program, you must first install it from PyPI on your system."
   ]
  },
  {
   "cell_type": "markdown",
   "metadata": {
    "application/vnd.databricks.v1+cell": {
     "cellMetadata": {},
     "inputWidgets": {},
     "nuid": "a71d43b1-5c0f-4d3f-905a-84c252fb526f",
     "showTitle": false,
     "title": "--i18n-868481bc-9374-4770-b046-a27e395e4bc8"
    }
   },
   "source": [
    "\n",
    "\n",
    "#### pip\n",
    "\n",
    "pip is the tool most often used to actually download a library from PyPI. It is usually included in your Python installation. \n",
    "\n",
    "In a command line or terminal, simply type **`pip install package_name`**. If we wanted to install **`numpy`**, a popular library, for example, we would write **`pip install numpy`**.\n",
    "\n",
    "The Databricks environment is a little different. Rather than typing **`pip install package_name`** into a terminal, we would write **`%pip install package_name`** into a cell. The Databricks cell is expecting Python code, and **`%pip`** tells it to expect a pip command instead.\n",
    "\n",
    "**Note:** In Databricks, this type of command will restart the Python terminal, so it's best to use it at the top of a notebook to not lose the results of code ran before."
   ]
  },
  {
   "cell_type": "code",
   "execution_count": 0,
   "metadata": {
    "application/vnd.databricks.v1+cell": {
     "cellMetadata": {
      "byteLimit": 2048000,
      "rowLimit": 10000
     },
     "inputWidgets": {},
     "nuid": "a6d20edb-46a0-41d4-a6bc-28d9fb238e32",
     "showTitle": false,
     "title": ""
    }
   },
   "outputs": [
    {
     "output_type": "stream",
     "name": "stdout",
     "output_type": "stream",
     "text": [
      "\nUsage:   \n  pip <command> [options]\n\nCommands:\n  install                     Install packages.\n  download                    Download packages.\n  uninstall                   Uninstall packages.\n  freeze                      Output installed packages in requirements format.\n  list                        List installed packages.\n  show                        Show information about installed packages.\n  check                       Verify installed packages have compatible dependencies.\n  config                      Manage local and global configuration.\n  search                      Search PyPI for packages.\n  cache                       Inspect and manage pip's wheel cache.\n  index                       Inspect information available from package indexes.\n  wheel                       Build wheels from your requirements.\n  hash                        Compute hashes of package archives.\n  completion                  A helper command used for command completion.\n  debug                       Show information useful for debugging.\n  help                        Show help for commands.\n\nGeneral Options:\n  -h, --help                  Show help.\n  --isolated                  Run pip in an isolated mode, ignoring\n                              environment variables and user configuration.\n  -v, --verbose               Give more output. Option is additive, and can be\n                              used up to 3 times.\n  -V, --version               Show version and exit.\n  -q, --quiet                 Give less output. Option is additive, and can be\n                              used up to 3 times (corresponding to WARNING,\n                              ERROR, and CRITICAL logging levels).\n  --log <path>                Path to a verbose appending log.\n  --no-input                  Disable prompting for input.\n  --proxy <proxy>             Specify a proxy in the form\n                              [user:passwd@]proxy.server:port.\n  --retries <retries>         Maximum number of retries each connection should\n                              attempt (default 5 times).\n  --timeout <sec>             Set the socket timeout (default 15 seconds).\n  --exists-action <action>    Default action when a path already exists:\n                              (s)witch, (i)gnore, (w)ipe, (b)ackup, (a)bort.\n  --trusted-host <hostname>   Mark this host or host:port pair as trusted,\n                              even though it does not have valid or any HTTPS.\n  --cert <path>               Path to PEM-encoded CA certificate bundle. If\n                              provided, overrides the default. See 'SSL\n                              Certificate Verification' in pip documentation\n                              for more information.\n  --client-cert <path>        Path to SSL client certificate, a single file\n                              containing the private key and the certificate\n                              in PEM format.\n  --cache-dir <dir>           Store the cache data in <dir>.\n  --no-cache-dir              Disable the cache.\n  --disable-pip-version-check\n                              Don't periodically check PyPI to determine\n                              whether a new version of pip is available for\n                              download. Implied with --no-index.\n  --no-color                  Suppress colored output.\n  --no-python-version-warning\n                              Silence deprecation warnings for upcoming\n                              unsupported Pythons.\n  --use-feature <feature>     Enable new functionality, that may be backward\n                              incompatible.\n  --use-deprecated <feature>  Enable deprecated functionality, that will be\n                              removed in the future.\n"
     ]
    }
   ],
   "source": [
    "%pip --help"
   ]
  },
  {
   "cell_type": "markdown",
   "metadata": {
    "application/vnd.databricks.v1+cell": {
     "cellMetadata": {},
     "inputWidgets": {},
     "nuid": "4525f680-b5a0-4628-aa2d-f90f5347ba1b",
     "showTitle": false,
     "title": "--i18n-4c16a8f1-d12a-4ce0-bbd5-053280b4e96b"
    }
   },
   "source": [
    "\n",
    "\n",
    "The following code cell will restart the Python interpreter, which means you will have to re-run the `./Includes/run_example` notebook to have access to `greet()`."
   ]
  },
  {
   "cell_type": "code",
   "execution_count": 0,
   "metadata": {
    "application/vnd.databricks.v1+cell": {
     "cellMetadata": {
      "byteLimit": 2048000,
      "rowLimit": 10000
     },
     "inputWidgets": {},
     "nuid": "c755af27-0ff3-4e1b-a139-bfb47ea281c7",
     "showTitle": false,
     "title": ""
    }
   },
   "outputs": [
    {
     "output_type": "stream",
     "name": "stdout",
     "output_type": "stream",
     "text": [
      "Python interpreter will be restarted.\nRequirement already satisfied: numpy in /databricks/python3/lib/python3.9/site-packages (1.21.5)\nPython interpreter will be restarted.\n"
     ]
    }
   ],
   "source": [
    "%pip install numpy"
   ]
  },
  {
   "cell_type": "markdown",
   "metadata": {
    "application/vnd.databricks.v1+cell": {
     "cellMetadata": {},
     "inputWidgets": {},
     "nuid": "d8a9a088-7594-48c8-9917-f65b49978bf2",
     "showTitle": false,
     "title": "--i18n-a1d330d7-a006-4079-809b-02a4736f497f"
    }
   },
   "source": [
    "\n",
    "Let's say we wanted a function to take the square root of a number. Python doesn't have this built-in but <a href=\"https://numpy.org/doc/stable/\" target=\"_blank\">numpy</a> does.\n",
    "\n",
    "Fortunately, our Databricks environment comes with several useful libraries preinstalled, including **`numpy`**. For more information, you can refer to the <a href=\"https://docs.databricks.com/en/release-notes/runtime/index.html\" target=\"_blank\">Databricks Runtime Release Notes</a>. So, for now, we will only have to import the one we want.\n",
    "\n",
    "The first step is to tell Python that we want to use the features defined by **`numpy`** by *importing* it. The simplest way to import a library installed on your system is to use the **`import`** statement as shown below:"
   ]
  },
  {
   "cell_type": "code",
   "execution_count": 0,
   "metadata": {
    "application/vnd.databricks.v1+cell": {
     "cellMetadata": {
      "byteLimit": 2048000,
      "rowLimit": 10000
     },
     "inputWidgets": {},
     "nuid": "98755431-8184-45fa-bcd2-c00c3be790ee",
     "showTitle": false,
     "title": ""
    }
   },
   "outputs": [],
   "source": [
    "import numpy"
   ]
  },
  {
   "cell_type": "markdown",
   "metadata": {
    "application/vnd.databricks.v1+cell": {
     "cellMetadata": {},
     "inputWidgets": {},
     "nuid": "130b37eb-4b68-48a6-b3fb-289dae36faaf",
     "showTitle": false,
     "title": "--i18n-be36835e-e871-4d95-a546-004b0c36031f"
    }
   },
   "source": [
    "\n",
    "\n",
    "Now to access functions defined in the **`numpy`** library once imported, you write **`numpy.function_name(arguments)`**.\n",
    "\n",
    "Let's see this for the square root function which is defined in numpy as **`sqrt(arguments)`**."
   ]
  },
  {
   "cell_type": "code",
   "execution_count": 0,
   "metadata": {
    "application/vnd.databricks.v1+cell": {
     "cellMetadata": {
      "byteLimit": 2048000,
      "rowLimit": 10000
     },
     "inputWidgets": {},
     "nuid": "76e6e49f-75c6-439c-ac76-471d974d594f",
     "showTitle": false,
     "title": ""
    }
   },
   "outputs": [
    {
     "output_type": "stream",
     "name": "stdout",
     "output_type": "stream",
     "text": [
      "Out[2]: 2.0"
     ]
    }
   ],
   "source": [
    "numpy.sqrt(4.0)"
   ]
  },
  {
   "cell_type": "markdown",
   "metadata": {
    "application/vnd.databricks.v1+cell": {
     "cellMetadata": {},
     "inputWidgets": {},
     "nuid": "a014fc3f-b212-4100-a4d9-f648559e2611",
     "showTitle": false,
     "title": "--i18n-cad7f412-9c0a-4bb6-9808-5e94bb9fca43"
    }
   },
   "source": [
    "\n",
    "\n",
    "We can create an alias when importing the library as well."
   ]
  },
  {
   "cell_type": "code",
   "execution_count": 0,
   "metadata": {
    "application/vnd.databricks.v1+cell": {
     "cellMetadata": {
      "byteLimit": 2048000,
      "rowLimit": 10000
     },
     "inputWidgets": {},
     "nuid": "8b9cc843-9d66-478f-95ae-9388b6583694",
     "showTitle": false,
     "title": ""
    }
   },
   "outputs": [
    {
     "output_type": "stream",
     "name": "stdout",
     "output_type": "stream",
     "text": [
      "Out[3]: 2.0"
     ]
    }
   ],
   "source": [
    "import numpy as np\n",
    "\n",
    "np.sqrt(4.0)"
   ]
  },
  {
   "cell_type": "markdown",
   "metadata": {
    "application/vnd.databricks.v1+cell": {
     "cellMetadata": {},
     "inputWidgets": {},
     "nuid": "6a7578da-50c4-4bb6-9c4c-63e0e4aa147c",
     "showTitle": false,
     "title": "--i18n-1df20310-0c7a-4315-a514-fcdf70bddcd9"
    }
   },
   "source": [
    "\n",
    "\n",
    "We can also import specific functions from libraries."
   ]
  },
  {
   "cell_type": "code",
   "execution_count": 0,
   "metadata": {
    "application/vnd.databricks.v1+cell": {
     "cellMetadata": {
      "byteLimit": 2048000,
      "rowLimit": 10000
     },
     "inputWidgets": {},
     "nuid": "102b5b35-613b-4aa8-a420-a61ec361531b",
     "showTitle": false,
     "title": ""
    }
   },
   "outputs": [
    {
     "output_type": "stream",
     "name": "stdout",
     "output_type": "stream",
     "text": [
      "Out[4]: 2.0"
     ]
    }
   ],
   "source": [
    "from numpy import sqrt\n",
    "\n",
    "sqrt(4.0)"
   ]
  },
  {
   "cell_type": "markdown",
   "metadata": {
    "application/vnd.databricks.v1+cell": {
     "cellMetadata": {},
     "inputWidgets": {},
     "nuid": "24ce171e-ad26-4095-be3f-dec05b8a98f4",
     "showTitle": false,
     "title": "--i18n-7ca81733-cafe-43fc-af1a-f6e81ef82cbd"
    }
   },
   "source": [
    "\n",
    "\n",
    "#### `help()`\n",
    "\n",
    "Recall the **`help()`** function that displays documentation for the item passed into it. We can use **`help()`** both on a library and anything defined in that library."
   ]
  },
  {
   "cell_type": "code",
   "execution_count": 0,
   "metadata": {
    "application/vnd.databricks.v1+cell": {
     "cellMetadata": {
      "byteLimit": 2048000,
      "rowLimit": 10000
     },
     "inputWidgets": {},
     "nuid": "7768d87c-142f-4de6-aa52-aa42a50f1793",
     "showTitle": false,
     "title": ""
    }
   },
   "outputs": [
    {
     "output_type": "stream",
     "name": "stdout",
     "output_type": "stream",
     "text": [
      "Help on package numpy:\n\nNAME\n    numpy\n\nDESCRIPTION\n    NumPy\n    =====\n    \n    Provides\n      1. An array object of arbitrary homogeneous items\n      2. Fast mathematical operations over arrays\n      3. Linear Algebra, Fourier Transforms, Random Number Generation\n    \n    How to use the documentation\n    ----------------------------\n    Documentation is available in two forms: docstrings provided\n    with the code, and a loose standing reference guide, available from\n    `the NumPy homepage <https://www.scipy.org>`_.\n    \n    We recommend exploring the docstrings using\n    `IPython <https://ipython.org>`_, an advanced Python shell with\n    TAB-completion and introspection capabilities.  See below for further\n    instructions.\n    \n    The docstring examples assume that `numpy` has been imported as `np`::\n    \n      >>> import numpy as np\n    \n    Code snippets are indicated by three greater-than signs::\n    \n      >>> x = 42\n      >>> x = x + 1\n    \n    Use the built-in ``help`` function to view a function's docstring::\n    \n      >>> help(np.sort)\n      ... # doctest: +SKIP\n    \n    For some objects, ``np.info(obj)`` may provide additional help.  This is\n    particularly true if you see the line \"Help on ufunc object:\" at the top\n    of the help() page.  Ufuncs are implemented in C, not Python, for speed.\n    The native Python help() does not know how to view their help, but our\n    np.info() function does.\n    \n    To search for documents containing a keyword, do::\n    \n      >>> np.lookfor('keyword')\n      ... # doctest: +SKIP\n    \n    General-purpose documents like a glossary and help on the basic concepts\n    of numpy are available under the ``doc`` sub-module::\n    \n      >>> from numpy import doc\n      >>> help(doc)\n      ... # doctest: +SKIP\n    \n    Available subpackages\n    ---------------------\n    doc\n        Topical documentation on broadcasting, indexing, etc.\n    lib\n        Basic functions used by several sub-packages.\n    random\n        Core Random Tools\n    linalg\n        Core Linear Algebra Tools\n    fft\n        Core FFT routines\n    polynomial\n        Polynomial tools\n    testing\n        NumPy testing tools\n    f2py\n        Fortran to Python Interface Generator.\n    distutils\n        Enhancements to distutils with support for\n        Fortran compilers support and more.\n    \n    Utilities\n    ---------\n    test\n        Run numpy unittests\n    show_config\n        Show numpy build configuration\n    dual\n        Overwrite certain functions with high-performance SciPy tools.\n        Note: `numpy.dual` is deprecated.  Use the functions from NumPy or Scipy\n        directly instead of importing them from `numpy.dual`.\n    matlib\n        Make everything matrices.\n    __version__\n        NumPy version string\n    \n    Viewing documentation using IPython\n    -----------------------------------\n    Start IPython with the NumPy profile (``ipython -p numpy``), which will\n    import `numpy` under the alias `np`.  Then, use the ``cpaste`` command to\n    paste examples into the shell.  To see which functions are available in\n    `numpy`, type ``np.<TAB>`` (where ``<TAB>`` refers to the TAB key), or use\n    ``np.*cos*?<ENTER>`` (where ``<ENTER>`` refers to the ENTER key) to narrow\n    down the list.  To view the docstring for a function, use\n    ``np.cos?<ENTER>`` (to view the docstring) and ``np.cos??<ENTER>`` (to view\n    the source code).\n    \n    Copies vs. in-place operation\n    -----------------------------\n    Most of the functions in `numpy` return a copy of the array argument\n    (e.g., `np.sort`).  In-place versions of these functions are often\n    available as array methods, i.e. ``x = np.array([1,2,3]); x.sort()``.\n    Exceptions to this rule are documented.\n\nPACKAGE CONTENTS\n    __config__\n    _distributor_init\n    _globals\n    _pytesttester\n    _version\n    compat (package)\n    conftest\n    core (package)\n    ctypeslib\n    distutils (package)\n    doc (package)\n    dual\n    f2py (package)\n    fft (package)\n    lib (package)\n    linalg (package)\n    ma (package)\n    matlib\n    matrixlib (package)\n    polynomial (package)\n    random (package)\n    setup\n    testing (package)\n    tests (package)\n    typing (package)\n    version\n\nSUBMODULES\n    _mat\n    char\n    emath\n    rec\n\nCLASSES\n    builtins.DeprecationWarning(builtins.Warning)\n        ModuleDeprecationWarning\n    builtins.IndexError(builtins.LookupError)\n        AxisError(builtins.ValueError, builtins.IndexError)\n    builtins.RuntimeError(builtins.Exception)\n        TooHardError\n    builtins.RuntimeWarning(builtins.Warning)\n        ComplexWarning\n    builtins.UserWarning(builtins.Warning)\n        RankWarning\n        VisibleDeprecationWarning\n    builtins.ValueError(builtins.Exception)\n        AxisError(builtins.ValueError, builtins.IndexError)\n    builtins.bytes(builtins.object)\n        bytes_(builtins.bytes, character)\n    builtins.object\n        DataSource\n        MachAr\n        broadcast\n        busdaycalendar\n        dtype\n        finfo\n        flatiter\n        format_parser\n        generic\n            bool_\n            datetime64\n            flexible\n                character\n                    bytes_(builtins.bytes, character)\n                    str_(builtins.str, character)\n                void\n                    record\n            number\n                inexact\n                    complexfloating\n                        complex128(complexfloating, builtins.complex)\n                        complex256\n                        complex64\n                    floating\n                        float128\n                        float16\n                        float32\n                        float64(floating, builtins.float)\n                integer\n                    signedinteger\n                        int16\n                        int32\n                        int64\n                        int8\n                        longlong\n                        timedelta64\n                    unsignedinteger\n                        uint16\n                        uint32\n                        uint64\n                        uint8\n                        ulonglong\n            object_\n        iinfo\n        ndarray\n            chararray\n            matrix\n            memmap\n            recarray\n        ndenumerate\n        ndindex\n        nditer\n        poly1d\n        ufunc\n        vectorize\n    builtins.str(builtins.object)\n        str_(builtins.str, character)\n    contextlib.ContextDecorator(builtins.object)\n        errstate\n    \n    class AxisError(builtins.ValueError, builtins.IndexError)\n     |  AxisError(axis, ndim=None, msg_prefix=None)\n     |  \n     |  Axis supplied was invalid.\n     |  \n     |  Method resolution order:\n     |      AxisError\n     |      builtins.ValueError\n     |      builtins.IndexError\n     |      builtins.LookupError\n     |      builtins.Exception\n     |      builtins.BaseException\n     |      builtins.object\n     |  \n     |  Methods defined here:\n     |  \n     |  __init__(self, axis, ndim=None, msg_prefix=None)\n     |      Initialize self.  See help(type(self)) for accurate signature.\n     |  \n     |  ----------------------------------------------------------------------\n     |  Data descriptors defined here:\n     |  \n     |  __weakref__\n     |      list of weak references to the object (if defined)\n     |  \n     |  ----------------------------------------------------------------------\n     |  Static methods inherited from builtins.ValueError:\n     |  \n     |  __new__(*args, **kwargs) from builtins.type\n     |      Create and return a new object.  See help(type) for accurate signature.\n     |  \n     |  ----------------------------------------------------------------------\n     |  Methods inherited from builtins.BaseException:\n     |  \n     |  __delattr__(self, name, /)\n     |      Implement delattr(self, name).\n     |  \n     |  __getattribute__(self, name, /)\n     |      Return getattr(self, name).\n     |  \n     |  __reduce__(...)\n     |      Helper for pickle.\n     |  \n     |  __repr__(self, /)\n     |      Return repr(self).\n     |  \n     |  __setattr__(self, name, value, /)\n     |      Implement setattr(self, name, value).\n     |  \n     |  __setstate__(...)\n     |  \n     |  __str__(self, /)\n     |      Return str(self).\n     |  \n     |  with_traceback(...)\n     |      Exception.with_traceback(tb) --\n     |      set self.__traceback__ to tb and return self.\n     |  \n     |  ----------------------------------------------------------------------\n     |  Data descriptors inherited from builtins.BaseException:\n     |  \n     |  __cause__\n     |      exception cause\n     |  \n     |  __context__\n     |      exception context\n     |  \n     |  __dict__\n     |  \n     |  __suppress_context__\n     |  \n     |  __traceback__\n     |  \n     |  args\n    \n    Bytes0 = class bytes_(builtins.bytes, character)\n     |  A byte string.\n     |  \n     |  When used in arrays, this type strips trailing null bytes.\n     |  \n     |  :Character code: ``'S'``\n     |  :Alias: `numpy.string_`\n     |  \n     |  Method resolution order:\n     |      bytes_\n     |      builtins.bytes\n     |      character\n     |      flexible\n     |      generic\n     |      builtins.object\n     |  \n     |  Methods defined here:\n     |  \n     |  __eq__(self, value, /)\n     |      Return self==value.\n     |  \n     |  __ge__(self, value, /)\n     |      Return self>=value.\n     |  \n     |  __gt__(self, value, /)\n     |      Return self>value.\n     |  \n     |  __hash__(self, /)\n     |      Return hash(self).\n     |  \n     |  __le__(self, value, /)\n     |      Return self<=value.\n     |  \n     |  __lt__(self, value, /)\n     |      Return self<value.\n     |  \n     |  __ne__(self, value, /)\n     |      Return self!=value.\n     |  \n     |  __repr__(self, /)\n     |      Return repr(self).\n     |  \n     |  __str__(self, /)\n     |      Return str(self).\n     |  \n     |  ----------------------------------------------------------------------\n     |  Static methods defined here:\n     |  \n     |  __new__(*args, **kwargs) from builtins.type\n     |      Create and return a new object.  See help(type) for accurate signature.\n     |  \n     |  ----------------------------------------------------------------------\n     |  Methods inherited from builtins.bytes:\n     |  \n     |  __add__(self, value, /)\n     |      Return self+value.\n     |  \n     |  __contains__(self, key, /)\n     |      Return key in self.\n     |  \n     |  __getattribute__(self, name, /)\n     |      Return getattr(self, name).\n     |  \n     |  __getitem__(self, key, /)\n     |      Return self[key].\n     |  \n     |  __getnewargs__(...)\n     |  \n     |  __iter__(self, /)\n     |      Implement iter(self).\n     |  \n     |  __len__(self, /)\n     |      Return len(self).\n     |  \n     |  __mod__(self, value, /)\n     |      Return self%value.\n     |  \n     |  __mul__(self, value, /)\n     |      Return self*value.\n     |  \n     |  __rmod__(self, value, /)\n     |      Return value%self.\n     |  \n     |  __rmul__(self, value, /)\n     |      Return value*self.\n     |  \n     |  capitalize(...)\n     |      B.capitalize() -> copy of B\n     |      \n     |      Return a copy of B with only its first character capitalized (ASCII)\n     |      and the rest lower-cased.\n     |  \n     |  center(self, width, fillchar=b' ', /)\n     |      Return a centered string of length width.\n     |      \n     |      Padding is done using the specified fill character.\n     |  \n     |  count(...)\n     |      B.count(sub[, start[, end]]) -> int\n     |      \n     |      Return the number of non-overlapping occurrences of subsection sub in\n     |      bytes B[start:end].  Optional arguments start and end are interpreted\n     |      as in slice notation.\n     |  \n     |  decode(self, /, encoding='utf-8', errors='strict')\n     |      Decode the bytes using the codec registered for encoding.\n     |      \n     |      encoding\n     |        The encoding with which to decode the bytes.\n     |      errors\n     |        The error handling scheme to use for the handling of decoding errors.\n     |        The default is 'strict' meaning that decoding errors raise a\n     |        UnicodeDecodeError. Other possible values are 'ignore' and 'replace'\n     |        as well as any other name registered with codecs.register_error that\n     |        can handle UnicodeDecodeErrors.\n     |  \n     |  endswith(...)\n     |      B.endswith(suffix[, start[, end]]) -> bool\n     |      \n     |      Return True if B ends with the specified suffix, False otherwise.\n     |      With optional start, test B beginning at that position.\n     |      With optional end, stop comparing B at that position.\n     |      suffix can also be a tuple of bytes to try.\n     |  \n     |  expandtabs(self, /, tabsize=8)\n     |      Return a copy where all tab characters are expanded using spaces.\n     |      \n     |      If tabsize is not given, a tab size of 8 characters is assumed.\n     |  \n     |  find(...)\n     |      B.find(sub[, start[, end]]) -> int\n     |      \n     |      Return the lowest index in B where subsection sub is found,\n     |      such that sub is contained within B[start,end].  Optional\n     |      arguments start and end are interpreted as in slice notation.\n     |      \n     |      Return -1 on failure.\n     |  \n     |  hex(...)\n     |      Create a str of hexadecimal numbers from a bytes object.\n     |      \n     |        sep\n     |          An optional single character or byte to separate hex bytes.\n     |        bytes_per_sep\n     |          How many bytes between separators.  Positive values count from the\n     |          right, negative values count from the left.\n     |      \n     |      Example:\n     |      >>> value = b'\\xb9\\x01\\xef'\n     |      >>> value.hex()\n     |      'b901ef'\n     |      >>> value.hex(':')\n     |      'b9:01:ef'\n     |      >>> value.hex(':', 2)\n     |      'b9:01ef'\n     |      >>> value.hex(':', -2)\n     |      'b901:ef'\n     |  \n     |  index(...)\n     |      B.index(sub[, start[, end]]) -> int\n     |      \n     |      Return the lowest index in B where subsection sub is found,\n     |      such that sub is contained within B[start,end].  Optional\n     |      arguments start and end are interpreted as in slice notation.\n     |      \n     |      Raises ValueError when the subsection is not found.\n     |  \n     |  isalnum(...)\n     |      B.isalnum() -> bool\n     |      \n     |      Return True if all characters in B are alphanumeric\n     |      and there is at least one character in B, False otherwise.\n     |  \n     |  isalpha(...)\n     |      B.isalpha() -> bool\n     |      \n     |      Return True if all characters in B are alphabetic\n     |      and there is at least one character in B, False otherwise.\n     |  \n     |  isascii(...)\n     |      B.isascii() -> bool\n     |      \n     |      Return True if B is empty or all characters in B are ASCII,\n     |      False otherwise.\n     |  \n     |  isdigit(...)\n     |      B.isdigit() -> bool\n     |      \n     |      Return True if all characters in B are digits\n     |      and there is at least one character in B, False otherwise.\n     |  \n     |  islower(...)\n     |      B.islower() -> bool\n     |      \n     |      Return True if all cased characters in B are lowercase and there is\n     |      at least one cased character in B, False otherwise.\n     |  \n     |  isspace(...)\n     |      B.isspace() -> bool\n     |      \n     |      Return True if all characters in B are whitespace\n     |      and there is at least one character in B, False otherwise.\n     |  \n     |  istitle(...)\n     |      B.istitle() -> bool\n     |      \n     |      Return True if B is a titlecased string and there is at least one\n     |      character in B, i.e. uppercase characters may only follow uncased\n     |      characters and lowercase characters only cased ones. Return False\n     |      otherwise.\n     |  \n     |  isupper(...)\n     |      B.isupper() -> bool\n     |      \n     |      Return True if all cased characters in B are uppercase and there is\n     |      at least one cased character in B, False otherwise.\n     |  \n     |  join(self, iterable_of_bytes, /)\n     |      Concatenate any number of bytes objects.\n     |      \n     |      The bytes whose method is called is inserted in between each pair.\n     |      \n     |      The result is returned as a new bytes object.\n     |      \n     |      Example: b'.'.join([b'ab', b'pq', b'rs']) -> b'ab.pq.rs'.\n     |  \n     |  ljust(self, width, fillchar=b' ', /)\n     |      Return a left-justified string of length width.\n     |      \n     |      Padding is done using the specified fill character.\n     |  \n     |  lower(...)\n     |      B.lower() -> copy of B\n     |      \n     |      Return a copy of B with all ASCII characters converted to lowercase.\n     |  \n     |  lstrip(self, bytes=None, /)\n     |      Strip leading bytes contained in the argument.\n     |      \n     |      If the argument is omitted or None, strip leading  ASCII whitespace.\n     |  \n     |  partition(self, sep, /)\n     |      Partition the bytes into three parts using the given separator.\n     |      \n     |      This will search for the separator sep in the bytes. If the separator is found,\n     |      returns a 3-tuple containing the part before the separator, the separator\n     |      itself, and the part after it.\n     |      \n     |      If the separator is not found, returns a 3-tuple containing the original bytes\n     |      object and two empty bytes objects.\n     |  \n     |  removeprefix(self, prefix, /)\n     |      Return a bytes object with the given prefix string removed if present.\n     |      \n     |      If the bytes starts with the prefix string, return bytes[len(prefix):].\n     |      Otherwise, return a copy of the original bytes.\n     |  \n     |  removesuffix(self, suffix, /)\n     |      Return a bytes object with the given suffix string removed if present.\n     |      \n     |      If the bytes ends with the suffix string and that suffix is not empty,\n     |      return bytes[:-len(prefix)].  Otherwise, return a copy of the original\n     |      bytes.\n     |  \n     |  replace(self, old, new, count=-1, /)\n     |      Return a copy with all occurrences of substring old replaced by new.\n     |      \n     |        count\n     |          Maximum number of occurrences to replace.\n     |          -1 (the default value) means replace all occurrences.\n     |      \n     |      If the optional argument count is given, only the first count occurrences are\n     |      replaced.\n     |  \n     |  rfind(...)\n     |      B.rfind(sub[, start[, end]]) -> int\n     |      \n     |      Return the highest index in B where subsection sub is found,\n     |      such that sub is contained within B[start,end].  Optional\n     |      arguments start and end are interpreted as in slice notation.\n     |      \n     |      Return -1 on failure.\n     |  \n     |  rindex(...)\n     |      B.rindex(sub[, start[, end]]) -> int\n     |      \n     |      Return the highest index in B where subsection sub is found,\n     |      such that sub is contained within B[start,end].  Optional\n     |      arguments start and end are interpreted as in slice notation.\n     |      \n     |      Raise ValueError when the subsection is not found.\n     |  \n     |  rjust(self, width, fillchar=b' ', /)\n     |      Return a right-justified string of length width.\n     |      \n     |      Padding is done using the specified fill character.\n     |  \n     |  rpartition(self, sep, /)\n     |      Partition the bytes into three parts using the given separator.\n     |      \n     |      This will search for the separator sep in the bytes, starting at the end. If\n     |      the separator is found, returns a 3-tuple containing the part before the\n     |      separator, the separator itself, and the part after it.\n     |      \n     |      If the separator is not found, returns a 3-tuple containing two empty bytes\n     |      objects and the original bytes object.\n     |  \n     |  rsplit(self, /, sep=None, maxsplit=-1)\n     |      Return a list of the sections in the bytes, using sep as the delimiter.\n     |      \n     |        sep\n     |          The delimiter according which to split the bytes.\n     |          None (the default value) means split on ASCII whitespace characters\n     |          (space, tab, return, newline, formfeed, vertical tab).\n     |        maxsplit\n     |          Maximum number of splits to do.\n     |          -1 (the default value) means no limit.\n     |      \n     |      Splitting is done starting at the end of the bytes and working to the front.\n     |  \n     |  rstrip(self, bytes=None, /)\n     |      Strip trailing bytes contained in the argument.\n     |      \n     |      If the argument is omitted or None, strip trailing ASCII whitespace.\n     |  \n     |  split(self, /, sep=None, maxsplit=-1)\n     |      Return a list of the sections in the bytes, using sep as the delimiter.\n     |      \n     |      sep\n     |        The delimiter according which to split the bytes.\n     |        None (the default value) means split on ASCII whitespace characters\n     |        (space, tab, return, newline, formfeed, vertical tab).\n     |      maxsplit\n     |        Maximum number of splits to do.\n     |        -1 (the default value) means no limit.\n     |  \n     |  splitlines(self, /, keepends=False)\n     |      Return a list of the lines in the bytes, breaking at line boundaries.\n     |      \n     |      Line breaks are not included in the resulting list unless keepends is given and\n     |      true.\n     |  \n     |  startswith(...)\n     |      B.startswith(prefix[, start[, end]]) -> bool\n     |      \n     |      Return True if B starts with the specified prefix, False otherwise.\n     |      With optional start, test B beginning at that position.\n     |      With optional end, stop comparing B at that position.\n     |      prefix can also be a tuple of bytes to try.\n     |  \n     |  strip(self, bytes=None, /)\n     |      Strip leading and trailing bytes contained in the argument.\n     |      \n     |      If the argument is omitted or None, strip leading and trailing ASCII whitespace.\n     |  \n     |  swapcase(...)\n     |      B.swapcase() -> copy of B\n     |      \n     |      Return a copy of B with uppercase ASCII characters converted\n     |      to lowercase ASCII and vice versa.\n     |  \n     |  title(...)\n     |      B.title() -> copy of B\n     |      \n     |      Return a titlecased version of B, i.e. ASCII words start with uppercase\n     |      characters, all remaining cased characters have lowercase.\n     |  \n     |  translate(self, table, /, delete=b'')\n     |      Return a copy with each character mapped by the given translation table.\n     |      \n     |        table\n     |          Translation table, which must be a bytes object of length 256.\n     |      \n     |      All characters occurring in the optional argument delete are removed.\n     |      The remaining characters are mapped through the given translation table.\n     |  \n     |  upper(...)\n     |      B.upper() -> copy of B\n     |      \n     |      Return a copy of B with all ASCII characters converted to uppercase.\n     |  \n     |  zfill(self, width, /)\n     |      Pad a numeric string with zeros on the left, to fill a field of the given width.\n     |      \n     |      The original string is never truncated.\n     |  \n     |  ----------------------------------------------------------------------\n     |  Class methods inherited from builtins.bytes:\n     |  \n     |  fromhex(string, /) from builtins.type\n     |      Create a bytes object from a string of hexadecimal numbers.\n     |      \n     |      Spaces between two numbers are accepted.\n     |      Example: bytes.fromhex('B9 01EF') -> b'\\\\xb9\\\\x01\\\\xef'.\n     |  \n     |  ----------------------------------------------------------------------\n     |  Static methods inherited from builtins.bytes:\n     |  \n     |  maketrans(frm, to, /)\n     |      Return a translation table useable for the bytes or bytearray translate method.\n     |      \n     |      The returned table will be one where each byte in frm is mapped to the byte at\n     |      the same position in to.\n     |      \n     |      The bytes objects frm and to must be of the same length.\n     |  \n     |  ----------------------------------------------------------------------\n     |  Methods inherited from generic:\n     |  \n     |  __abs__(self, /)\n     |      abs(self)\n     |  \n     |  __and__(self, value, /)\n     |      Return self&value.\n     |  \n     |  __array__(...)\n     |      sc.__array__(dtype) return 0-dim array from scalar with specified dtype\n     |  \n     |  __array_wrap__(...)\n     |      sc.__array_wrap__(obj) return scalar from array\n     |  \n     |  __bool__(self, /)\n     |      True if self else False\n     |  \n     |  __copy__(...)\n     |  \n     |  __deepcopy__(...)\n     |  \n     |  __divmod__(self, value, /)\n     |      Return divmod(self, value).\n     |  \n     |  __float__(self, /)\n     |\n\n*** WARNING: max output size exceeded, skipping output. ***\n\nrray is created via the default\n            ``out=None``, locations within it where the condition is False will\n            remain uninitialized.\n        **kwargs\n            For other keyword-only arguments, see the\n            :ref:`ufunc docs <ufuncs.kwargs>`.\n        \n        Returns\n        -------\n        result : ndarray of bool\n            Output array, or reference to `out` if that was supplied.\n            This is a scalar if `x` is a scalar.\n        \n        Examples\n        --------\n        >>> np.signbit(-1.2)\n        True\n        >>> np.signbit(np.array([1, -2.3, 2.1]))\n        array([False,  True, False])\n    \n    sin = <ufunc 'sin'>\n        sin(x, /, out=None, *, where=True, casting='same_kind', order='K', dtype=None, subok=True[, signature, extobj])\n        \n        Trigonometric sine, element-wise.\n        \n        Parameters\n        ----------\n        x : array_like\n            Angle, in radians (:math:`2 \\pi` rad equals 360 degrees).\n        out : ndarray, None, or tuple of ndarray and None, optional\n            A location into which the result is stored. If provided, it must have\n            a shape that the inputs broadcast to. If not provided or None,\n            a freshly-allocated array is returned. A tuple (possible only as a\n            keyword argument) must have length equal to the number of outputs.\n        where : array_like, optional\n            This condition is broadcast over the input. At locations where the\n            condition is True, the `out` array will be set to the ufunc result.\n            Elsewhere, the `out` array will retain its original value.\n            Note that if an uninitialized `out` array is created via the default\n            ``out=None``, locations within it where the condition is False will\n            remain uninitialized.\n        **kwargs\n            For other keyword-only arguments, see the\n            :ref:`ufunc docs <ufuncs.kwargs>`.\n        \n        Returns\n        -------\n        y : array_like\n            The sine of each element of x.\n            This is a scalar if `x` is a scalar.\n        \n        See Also\n        --------\n        arcsin, sinh, cos\n        \n        Notes\n        -----\n        The sine is one of the fundamental functions of trigonometry (the\n        mathematical study of triangles).  Consider a circle of radius 1\n        centered on the origin.  A ray comes in from the :math:`+x` axis, makes\n        an angle at the origin (measured counter-clockwise from that axis), and\n        departs from the origin.  The :math:`y` coordinate of the outgoing\n        ray's intersection with the unit circle is the sine of that angle.  It\n        ranges from -1 for :math:`x=3\\pi / 2` to +1 for :math:`\\pi / 2.`  The\n        function has zeroes where the angle is a multiple of :math:`\\pi`.\n        Sines of angles between :math:`\\pi` and :math:`2\\pi` are negative.\n        The numerous properties of the sine and related functions are included\n        in any standard trigonometry text.\n        \n        Examples\n        --------\n        Print sine of one angle:\n        \n        >>> np.sin(np.pi/2.)\n        1.0\n        \n        Print sines of an array of angles given in degrees:\n        \n        >>> np.sin(np.array((0., 30., 45., 60., 90.)) * np.pi / 180. )\n        array([ 0.        ,  0.5       ,  0.70710678,  0.8660254 ,  1.        ])\n        \n        Plot the sine function:\n        \n        >>> import matplotlib.pylab as plt\n        >>> x = np.linspace(-np.pi, np.pi, 201)\n        >>> plt.plot(x, np.sin(x))\n        >>> plt.xlabel('Angle [rad]')\n        >>> plt.ylabel('sin(x)')\n        >>> plt.axis('tight')\n        >>> plt.show()\n    \n    sinh = <ufunc 'sinh'>\n        sinh(x, /, out=None, *, where=True, casting='same_kind', order='K', dtype=None, subok=True[, signature, extobj])\n        \n        Hyperbolic sine, element-wise.\n        \n        Equivalent to ``1/2 * (np.exp(x) - np.exp(-x))`` or\n        ``-1j * np.sin(1j*x)``.\n        \n        Parameters\n        ----------\n        x : array_like\n            Input array.\n        out : ndarray, None, or tuple of ndarray and None, optional\n            A location into which the result is stored. If provided, it must have\n            a shape that the inputs broadcast to. If not provided or None,\n            a freshly-allocated array is returned. A tuple (possible only as a\n            keyword argument) must have length equal to the number of outputs.\n        where : array_like, optional\n            This condition is broadcast over the input. At locations where the\n            condition is True, the `out` array will be set to the ufunc result.\n            Elsewhere, the `out` array will retain its original value.\n            Note that if an uninitialized `out` array is created via the default\n            ``out=None``, locations within it where the condition is False will\n            remain uninitialized.\n        **kwargs\n            For other keyword-only arguments, see the\n            :ref:`ufunc docs <ufuncs.kwargs>`.\n        \n        Returns\n        -------\n        y : ndarray\n            The corresponding hyperbolic sine values.\n            This is a scalar if `x` is a scalar.\n        \n        Notes\n        -----\n        If `out` is provided, the function writes the result into it,\n        and returns a reference to `out`.  (See Examples)\n        \n        References\n        ----------\n        M. Abramowitz and I. A. Stegun, Handbook of Mathematical Functions.\n        New York, NY: Dover, 1972, pg. 83.\n        \n        Examples\n        --------\n        >>> np.sinh(0)\n        0.0\n        >>> np.sinh(np.pi*1j/2)\n        1j\n        >>> np.sinh(np.pi*1j) # (exact value is 0)\n        1.2246063538223773e-016j\n        >>> # Discrepancy due to vagaries of floating point arithmetic.\n        \n        >>> # Example of providing the optional output parameter\n        >>> out1 = np.array([0], dtype='d')\n        >>> out2 = np.sinh([0.1], out1)\n        >>> out2 is out1\n        True\n        \n        >>> # Example of ValueError due to provision of shape mis-matched `out`\n        >>> np.sinh(np.zeros((3,3)),np.zeros((2,2)))\n        Traceback (most recent call last):\n          File \"<stdin>\", line 1, in <module>\n        ValueError: operands could not be broadcast together with shapes (3,3) (2,2)\n    \n    spacing = <ufunc 'spacing'>\n        spacing(x, /, out=None, *, where=True, casting='same_kind', order='K', dtype=None, subok=True[, signature, extobj])\n        \n        Return the distance between x and the nearest adjacent number.\n        \n        Parameters\n        ----------\n        x : array_like\n            Values to find the spacing of.\n        out : ndarray, None, or tuple of ndarray and None, optional\n            A location into which the result is stored. If provided, it must have\n            a shape that the inputs broadcast to. If not provided or None,\n            a freshly-allocated array is returned. A tuple (possible only as a\n            keyword argument) must have length equal to the number of outputs.\n        where : array_like, optional\n            This condition is broadcast over the input. At locations where the\n            condition is True, the `out` array will be set to the ufunc result.\n            Elsewhere, the `out` array will retain its original value.\n            Note that if an uninitialized `out` array is created via the default\n            ``out=None``, locations within it where the condition is False will\n            remain uninitialized.\n        **kwargs\n            For other keyword-only arguments, see the\n            :ref:`ufunc docs <ufuncs.kwargs>`.\n        \n        Returns\n        -------\n        out : ndarray or scalar\n            The spacing of values of `x`.\n            This is a scalar if `x` is a scalar.\n        \n        Notes\n        -----\n        It can be considered as a generalization of EPS:\n        ``spacing(np.float64(1)) == np.finfo(np.float64).eps``, and there\n        should not be any representable number between ``x + spacing(x)`` and\n        x for any finite x.\n        \n        Spacing of +- inf and NaN is NaN.\n        \n        Examples\n        --------\n        >>> np.spacing(1) == np.finfo(np.float64).eps\n        True\n    \n    sqrt = <ufunc 'sqrt'>\n        sqrt(x, /, out=None, *, where=True, casting='same_kind', order='K', dtype=None, subok=True[, signature, extobj])\n        \n        Return the non-negative square-root of an array, element-wise.\n        \n        Parameters\n        ----------\n        x : array_like\n            The values whose square-roots are required.\n        out : ndarray, None, or tuple of ndarray and None, optional\n            A location into which the result is stored. If provided, it must have\n            a shape that the inputs broadcast to. If not provided or None,\n            a freshly-allocated array is returned. A tuple (possible only as a\n            keyword argument) must have length equal to the number of outputs.\n        where : array_like, optional\n            This condition is broadcast over the input. At locations where the\n            condition is True, the `out` array will be set to the ufunc result.\n            Elsewhere, the `out` array will retain its original value.\n            Note that if an uninitialized `out` array is created via the default\n            ``out=None``, locations within it where the condition is False will\n            remain uninitialized.\n        **kwargs\n            For other keyword-only arguments, see the\n            :ref:`ufunc docs <ufuncs.kwargs>`.\n        \n        Returns\n        -------\n        y : ndarray\n            An array of the same shape as `x`, containing the positive\n            square-root of each element in `x`.  If any element in `x` is\n            complex, a complex array is returned (and the square-roots of\n            negative reals are calculated).  If all of the elements in `x`\n            are real, so is `y`, with negative elements returning ``nan``.\n            If `out` was provided, `y` is a reference to it.\n            This is a scalar if `x` is a scalar.\n        \n        See Also\n        --------\n        lib.scimath.sqrt\n            A version which returns complex numbers when given negative reals.\n        \n        Notes\n        -----\n        *sqrt* has--consistent with common convention--as its branch cut the\n        real \"interval\" [`-inf`, 0), and is continuous from above on it.\n        A branch cut is a curve in the complex plane across which a given\n        complex function fails to be continuous.\n        \n        Examples\n        --------\n        >>> np.sqrt([1,4,9])\n        array([ 1.,  2.,  3.])\n        \n        >>> np.sqrt([4, -1, -3+4J])\n        array([ 2.+0.j,  0.+1.j,  1.+2.j])\n        \n        >>> np.sqrt([4, -1, np.inf])\n        array([ 2., nan, inf])\n    \n    square = <ufunc 'square'>\n        square(x, /, out=None, *, where=True, casting='same_kind', order='K', dtype=None, subok=True[, signature, extobj])\n        \n        Return the element-wise square of the input.\n        \n        Parameters\n        ----------\n        x : array_like\n            Input data.\n        out : ndarray, None, or tuple of ndarray and None, optional\n            A location into which the result is stored. If provided, it must have\n            a shape that the inputs broadcast to. If not provided or None,\n            a freshly-allocated array is returned. A tuple (possible only as a\n            keyword argument) must have length equal to the number of outputs.\n        where : array_like, optional\n            This condition is broadcast over the input. At locations where the\n            condition is True, the `out` array will be set to the ufunc result.\n            Elsewhere, the `out` array will retain its original value.\n            Note that if an uninitialized `out` array is created via the default\n            ``out=None``, locations within it where the condition is False will\n            remain uninitialized.\n        **kwargs\n            For other keyword-only arguments, see the\n            :ref:`ufunc docs <ufuncs.kwargs>`.\n        \n        Returns\n        -------\n        out : ndarray or scalar\n            Element-wise `x*x`, of the same shape and dtype as `x`.\n            This is a scalar if `x` is a scalar.\n        \n        See Also\n        --------\n        numpy.linalg.matrix_power\n        sqrt\n        power\n        \n        Examples\n        --------\n        >>> np.square([-1j, 1])\n        array([-1.-0.j,  1.+0.j])\n    \n    subtract = <ufunc 'subtract'>\n        subtract(x1, x2, /, out=None, *, where=True, casting='same_kind', order='K', dtype=None, subok=True[, signature, extobj])\n        \n        Subtract arguments, element-wise.\n        \n        Parameters\n        ----------\n        x1, x2 : array_like\n            The arrays to be subtracted from each other.\n            If ``x1.shape != x2.shape``, they must be broadcastable to a common\n            shape (which becomes the shape of the output).\n        out : ndarray, None, or tuple of ndarray and None, optional\n            A location into which the result is stored. If provided, it must have\n            a shape that the inputs broadcast to. If not provided or None,\n            a freshly-allocated array is returned. A tuple (possible only as a\n            keyword argument) must have length equal to the number of outputs.\n        where : array_like, optional\n            This condition is broadcast over the input. At locations where the\n            condition is True, the `out` array will be set to the ufunc result.\n            Elsewhere, the `out` array will retain its original value.\n            Note that if an uninitialized `out` array is created via the default\n            ``out=None``, locations within it where the condition is False will\n            remain uninitialized.\n        **kwargs\n            For other keyword-only arguments, see the\n            :ref:`ufunc docs <ufuncs.kwargs>`.\n        \n        Returns\n        -------\n        y : ndarray\n            The difference of `x1` and `x2`, element-wise.\n            This is a scalar if both `x1` and `x2` are scalars.\n        \n        Notes\n        -----\n        Equivalent to ``x1 - x2`` in terms of array broadcasting.\n        \n        Examples\n        --------\n        >>> np.subtract(1.0, 4.0)\n        -3.0\n        \n        >>> x1 = np.arange(9.0).reshape((3, 3))\n        >>> x2 = np.arange(3.0)\n        >>> np.subtract(x1, x2)\n        array([[ 0.,  0.,  0.],\n               [ 3.,  3.,  3.],\n               [ 6.,  6.,  6.]])\n        \n        The ``-`` operator can be used as a shorthand for ``np.subtract`` on\n        ndarrays.\n        \n        >>> x1 = np.arange(9.0).reshape((3, 3))\n        >>> x2 = np.arange(3.0)\n        >>> x1 - x2\n        array([[0., 0., 0.],\n               [3., 3., 3.],\n               [6., 6., 6.]])\n    \n    tan = <ufunc 'tan'>\n        tan(x, /, out=None, *, where=True, casting='same_kind', order='K', dtype=None, subok=True[, signature, extobj])\n        \n        Compute tangent element-wise.\n        \n        Equivalent to ``np.sin(x)/np.cos(x)`` element-wise.\n        \n        Parameters\n        ----------\n        x : array_like\n            Input array.\n        out : ndarray, None, or tuple of ndarray and None, optional\n            A location into which the result is stored. If provided, it must have\n            a shape that the inputs broadcast to. If not provided or None,\n            a freshly-allocated array is returned. A tuple (possible only as a\n            keyword argument) must have length equal to the number of outputs.\n        where : array_like, optional\n            This condition is broadcast over the input. At locations where the\n            condition is True, the `out` array will be set to the ufunc result.\n            Elsewhere, the `out` array will retain its original value.\n            Note that if an uninitialized `out` array is created via the default\n            ``out=None``, locations within it where the condition is False will\n            remain uninitialized.\n        **kwargs\n            For other keyword-only arguments, see the\n            :ref:`ufunc docs <ufuncs.kwargs>`.\n        \n        Returns\n        -------\n        y : ndarray\n            The corresponding tangent values.\n            This is a scalar if `x` is a scalar.\n        \n        Notes\n        -----\n        If `out` is provided, the function writes the result into it,\n        and returns a reference to `out`.  (See Examples)\n        \n        References\n        ----------\n        M. Abramowitz and I. A. Stegun, Handbook of Mathematical Functions.\n        New York, NY: Dover, 1972.\n        \n        Examples\n        --------\n        >>> from math import pi\n        >>> np.tan(np.array([-pi,pi/2,pi]))\n        array([  1.22460635e-16,   1.63317787e+16,  -1.22460635e-16])\n        >>>\n        >>> # Example of providing the optional output parameter illustrating\n        >>> # that what is returned is a reference to said parameter\n        >>> out1 = np.array([0], dtype='d')\n        >>> out2 = np.cos([0.1], out1)\n        >>> out2 is out1\n        True\n        >>>\n        >>> # Example of ValueError due to provision of shape mis-matched `out`\n        >>> np.cos(np.zeros((3,3)),np.zeros((2,2)))\n        Traceback (most recent call last):\n          File \"<stdin>\", line 1, in <module>\n        ValueError: operands could not be broadcast together with shapes (3,3) (2,2)\n    \n    tanh = <ufunc 'tanh'>\n        tanh(x, /, out=None, *, where=True, casting='same_kind', order='K', dtype=None, subok=True[, signature, extobj])\n        \n        Compute hyperbolic tangent element-wise.\n        \n        Equivalent to ``np.sinh(x)/np.cosh(x)`` or ``-1j * np.tan(1j*x)``.\n        \n        Parameters\n        ----------\n        x : array_like\n            Input array.\n        out : ndarray, None, or tuple of ndarray and None, optional\n            A location into which the result is stored. If provided, it must have\n            a shape that the inputs broadcast to. If not provided or None,\n            a freshly-allocated array is returned. A tuple (possible only as a\n            keyword argument) must have length equal to the number of outputs.\n        where : array_like, optional\n            This condition is broadcast over the input. At locations where the\n            condition is True, the `out` array will be set to the ufunc result.\n            Elsewhere, the `out` array will retain its original value.\n            Note that if an uninitialized `out` array is created via the default\n            ``out=None``, locations within it where the condition is False will\n            remain uninitialized.\n        **kwargs\n            For other keyword-only arguments, see the\n            :ref:`ufunc docs <ufuncs.kwargs>`.\n        \n        Returns\n        -------\n        y : ndarray\n            The corresponding hyperbolic tangent values.\n            This is a scalar if `x` is a scalar.\n        \n        Notes\n        -----\n        If `out` is provided, the function writes the result into it,\n        and returns a reference to `out`.  (See Examples)\n        \n        References\n        ----------\n        .. [1] M. Abramowitz and I. A. Stegun, Handbook of Mathematical Functions.\n               New York, NY: Dover, 1972, pg. 83.\n               http://www.math.sfu.ca/~cbm/aands/\n        \n        .. [2] Wikipedia, \"Hyperbolic function\",\n               https://en.wikipedia.org/wiki/Hyperbolic_function\n        \n        Examples\n        --------\n        >>> np.tanh((0, np.pi*1j, np.pi*1j/2))\n        array([ 0. +0.00000000e+00j,  0. -1.22460635e-16j,  0. +1.63317787e+16j])\n        \n        >>> # Example of providing the optional output parameter illustrating\n        >>> # that what is returned is a reference to said parameter\n        >>> out1 = np.array([0], dtype='d')\n        >>> out2 = np.tanh([0.1], out1)\n        >>> out2 is out1\n        True\n        \n        >>> # Example of ValueError due to provision of shape mis-matched `out`\n        >>> np.tanh(np.zeros((3,3)),np.zeros((2,2)))\n        Traceback (most recent call last):\n          File \"<stdin>\", line 1, in <module>\n        ValueError: operands could not be broadcast together with shapes (3,3) (2,2)\n    \n    tracemalloc_domain = 389047\n    true_divide = <ufunc 'true_divide'>\n        true_divide(x1, x2, /, out=None, *, where=True, casting='same_kind', order='K', dtype=None, subok=True[, signature, extobj])\n        \n        Returns a true division of the inputs, element-wise.\n        \n        Instead of the Python traditional 'floor division', this returns a true\n        division.  True division adjusts the output type to present the best\n        answer, regardless of input types.\n        \n        Parameters\n        ----------\n        x1 : array_like\n            Dividend array.\n        x2 : array_like\n            Divisor array.\n            If ``x1.shape != x2.shape``, they must be broadcastable to a common\n            shape (which becomes the shape of the output).\n        out : ndarray, None, or tuple of ndarray and None, optional\n            A location into which the result is stored. If provided, it must have\n            a shape that the inputs broadcast to. If not provided or None,\n            a freshly-allocated array is returned. A tuple (possible only as a\n            keyword argument) must have length equal to the number of outputs.\n        where : array_like, optional\n            This condition is broadcast over the input. At locations where the\n            condition is True, the `out` array will be set to the ufunc result.\n            Elsewhere, the `out` array will retain its original value.\n            Note that if an uninitialized `out` array is created via the default\n            ``out=None``, locations within it where the condition is False will\n            remain uninitialized.\n        **kwargs\n            For other keyword-only arguments, see the\n            :ref:`ufunc docs <ufuncs.kwargs>`.\n        \n        Returns\n        -------\n        out : ndarray or scalar\n            This is a scalar if both `x1` and `x2` are scalars.\n        \n        Notes\n        -----\n        In Python, ``//`` is the floor division operator and ``/`` the\n        true division operator.  The ``true_divide(x1, x2)`` function is\n        equivalent to true division in Python.\n        \n        Examples\n        --------\n        >>> x = np.arange(5)\n        >>> np.true_divide(x, 4)\n        array([ 0.  ,  0.25,  0.5 ,  0.75,  1.  ])\n        \n        >>> x/4\n        array([ 0.  ,  0.25,  0.5 ,  0.75,  1.  ])\n        \n        >>> x//4\n        array([0, 0, 0, 0, 1])\n        \n        The ``/`` operator can be used as a shorthand for ``np.true_divide`` on\n        ndarrays.\n        \n        >>> x = np.arange(5)\n        >>> x / 4\n        array([0.  , 0.25, 0.5 , 0.75, 1.  ])\n    \n    trunc = <ufunc 'trunc'>\n        trunc(x, /, out=None, *, where=True, casting='same_kind', order='K', dtype=None, subok=True[, signature, extobj])\n        \n        Return the truncated value of the input, element-wise.\n        \n        The truncated value of the scalar `x` is the nearest integer `i` which\n        is closer to zero than `x` is. In short, the fractional part of the\n        signed number `x` is discarded.\n        \n        Parameters\n        ----------\n        x : array_like\n            Input data.\n        out : ndarray, None, or tuple of ndarray and None, optional\n            A location into which the result is stored. If provided, it must have\n            a shape that the inputs broadcast to. If not provided or None,\n            a freshly-allocated array is returned. A tuple (possible only as a\n            keyword argument) must have length equal to the number of outputs.\n        where : array_like, optional\n            This condition is broadcast over the input. At locations where the\n            condition is True, the `out` array will be set to the ufunc result.\n            Elsewhere, the `out` array will retain its original value.\n            Note that if an uninitialized `out` array is created via the default\n            ``out=None``, locations within it where the condition is False will\n            remain uninitialized.\n        **kwargs\n            For other keyword-only arguments, see the\n            :ref:`ufunc docs <ufuncs.kwargs>`.\n        \n        Returns\n        -------\n        y : ndarray or scalar\n            The truncated value of each element in `x`.\n            This is a scalar if `x` is a scalar.\n        \n        See Also\n        --------\n        ceil, floor, rint, fix\n        \n        Notes\n        -----\n        .. versionadded:: 1.3.0\n        \n        Examples\n        --------\n        >>> a = np.array([-1.7, -1.5, -0.2, 0.2, 1.5, 1.7, 2.0])\n        >>> np.trunc(a)\n        array([-1., -1., -0.,  0.,  1.,  1.,  2.])\n    \n    typecodes = {'All': '?bhilqpBHILQPefdgFDGSUVOMm', 'AllFloat': 'efdgFDG...\n\nVERSION\n    1.21.5\n\nFILE\n    /databricks/python/lib/python3.9/site-packages/numpy/__init__.py\n\n\n"
     ]
    }
   ],
   "source": [
    "help(np)"
   ]
  },
  {
   "cell_type": "code",
   "execution_count": 0,
   "metadata": {
    "application/vnd.databricks.v1+cell": {
     "cellMetadata": {
      "byteLimit": 2048000,
      "rowLimit": 10000
     },
     "inputWidgets": {},
     "nuid": "a4fa2404-6c00-45f9-8d46-9203065080c0",
     "showTitle": false,
     "title": ""
    }
   },
   "outputs": [
    {
     "output_type": "stream",
     "name": "stdout",
     "output_type": "stream",
     "text": [
      "Help on ufunc:\n\nsqrt = <ufunc 'sqrt'>\n    sqrt(x, /, out=None, *, where=True, casting='same_kind', order='K', dtype=None, subok=True[, signature, extobj])\n    \n    Return the non-negative square-root of an array, element-wise.\n    \n    Parameters\n    ----------\n    x : array_like\n        The values whose square-roots are required.\n    out : ndarray, None, or tuple of ndarray and None, optional\n        A location into which the result is stored. If provided, it must have\n        a shape that the inputs broadcast to. If not provided or None,\n        a freshly-allocated array is returned. A tuple (possible only as a\n        keyword argument) must have length equal to the number of outputs.\n    where : array_like, optional\n        This condition is broadcast over the input. At locations where the\n        condition is True, the `out` array will be set to the ufunc result.\n        Elsewhere, the `out` array will retain its original value.\n        Note that if an uninitialized `out` array is created via the default\n        ``out=None``, locations within it where the condition is False will\n        remain uninitialized.\n    **kwargs\n        For other keyword-only arguments, see the\n        :ref:`ufunc docs <ufuncs.kwargs>`.\n    \n    Returns\n    -------\n    y : ndarray\n        An array of the same shape as `x`, containing the positive\n        square-root of each element in `x`.  If any element in `x` is\n        complex, a complex array is returned (and the square-roots of\n        negative reals are calculated).  If all of the elements in `x`\n        are real, so is `y`, with negative elements returning ``nan``.\n        If `out` was provided, `y` is a reference to it.\n        This is a scalar if `x` is a scalar.\n    \n    See Also\n    --------\n    lib.scimath.sqrt\n        A version which returns complex numbers when given negative reals.\n    \n    Notes\n    -----\n    *sqrt* has--consistent with common convention--as its branch cut the\n    real \"interval\" [`-inf`, 0), and is continuous from above on it.\n    A branch cut is a curve in the complex plane across which a given\n    complex function fails to be continuous.\n    \n    Examples\n    --------\n    >>> np.sqrt([1,4,9])\n    array([ 1.,  2.,  3.])\n    \n    >>> np.sqrt([4, -1, -3+4J])\n    array([ 2.+0.j,  0.+1.j,  1.+2.j])\n    \n    >>> np.sqrt([4, -1, np.inf])\n    array([ 2., nan, inf])\n\n"
     ]
    }
   ],
   "source": [
    "help(np.sqrt)"
   ]
  },
  {
   "cell_type": "markdown",
   "metadata": {
    "application/vnd.databricks.v1+cell": {
     "cellMetadata": {},
     "inputWidgets": {},
     "nuid": "2395dd2d-9820-42ba-b508-b75bb7d88924",
     "showTitle": false,
     "title": "--i18n-017e2ccc-17b6-4711-a356-a7895414a943"
    }
   },
   "source": [
    "\n",
    "\n",
    "Note that while creating a library is outside the scope of this introductory course, all of the functions and classes they define are defined in the same way we have seen."
   ]
  },
  {
   "cell_type": "markdown",
   "metadata": {
    "application/vnd.databricks.v1+cell": {
     "cellMetadata": {},
     "inputWidgets": {},
     "nuid": "706ebab9-b9fa-4ae9-a341-d5f1236b545e",
     "showTitle": false,
     "title": ""
    }
   },
   "source": [
    "&copy; 2023 Databricks, Inc. All rights reserved.<br/>\n",
    "Apache, Apache Spark, Spark and the Spark logo are trademarks of the <a href=\"https://www.apache.org/\">Apache Software Foundation</a>.<br/>\n",
    "<br/>\n",
    "<a href=\"https://databricks.com/privacy-policy\">Privacy Policy</a> | <a href=\"https://databricks.com/terms-of-use\">Terms of Use</a> | <a href=\"https://help.databricks.com/\">Support</a>"
   ]
  }
 ],
 "metadata": {
  "application/vnd.databricks.v1+notebook": {
   "dashboards": [],
   "environmentMetadata": null,
   "language": "python",
   "notebookMetadata": {
    "pythonIndentUnit": 2
   },
   "notebookName": "ITP 09 - Libraries",
   "widgets": {}
  }
 },
 "nbformat": 4,
 "nbformat_minor": 0
}

{
 "cells": [
  {
   "cell_type": "markdown",
   "metadata": {
    "application/vnd.databricks.v1+cell": {
     "cellMetadata": {},
     "inputWidgets": {},
     "nuid": "d317e124-c19b-4ac8-ac16-ea950ff61b72",
     "showTitle": false,
     "title": ""
    }
   },
   "source": [
    "\n",
    "<div style=\"text-align: center; line-height: 0; padding-top: 9px;\">\n",
    "  <img src=\"https://databricks.com/wp-content/uploads/2018/03/db-academy-rgb-1200px.png\" alt=\"Databricks Learning\" style=\"width: 600px\">\n",
    "</div>"
   ]
  },
  {
   "cell_type": "markdown",
   "metadata": {
    "application/vnd.databricks.v1+cell": {
     "cellMetadata": {},
     "inputWidgets": {},
     "nuid": "7ff4bb4d-fe25-4709-ad44-9abef28fd8fb",
     "showTitle": false,
     "title": "--i18n-3a4f1c43-9316-4e40-91a0-2e61ae23c8a4"
    }
   },
   "source": [
    "\n",
    "\n",
    "# Pandas\n",
    "\n",
    "**<a href=\"https://pandas.pydata.org/pandas-docs/stable/reference/index.html\" target=\"_blank\">Pandas</a>** is a popular Python library among data scientists with high performing, easy-to-use data structures and data analysis tools.\n",
    "\n",
    "## ![Spark Logo Tiny](https://files.training.databricks.com/images/105/logo_spark_tiny.png) In this lesson you:<br>\n",
    "* Explain what **`pandas`** is and why it's so popular\n",
    "* Create and manipulate **`pandas`** **`DataFrame`** and **`Series`**\n",
    "* Perform operations on **`pandas`** objects\n",
    "\n",
    "First, let us import **`pandas`** with the alias **`pd`** so we can refer to the library without having to type **`pandas`** out each time. **`pandas`** is pre-installed on Databricks."
   ]
  },
  {
   "cell_type": "code",
   "execution_count": 0,
   "metadata": {
    "application/vnd.databricks.v1+cell": {
     "cellMetadata": {
      "byteLimit": 2048000,
      "rowLimit": 10000
     },
     "inputWidgets": {},
     "nuid": "c046522d-65a1-46f6-9240-a15813a2ac90",
     "showTitle": false,
     "title": ""
    }
   },
   "outputs": [
    {
     "output_type": "display_data",
     "data": {
      "application/vnd.databricks.v1+bamboolib_hint": "{\"pd.DataFrames\": [], \"version\": \"0.0.1\"}",
      "text/plain": []
     },
     "metadata": {},
     "output_type": "display_data"
    }
   ],
   "source": [
    "import pandas as pd"
   ]
  },
  {
   "cell_type": "markdown",
   "metadata": {
    "application/vnd.databricks.v1+cell": {
     "cellMetadata": {},
     "inputWidgets": {},
     "nuid": "99f13363-a315-4f69-9454-439d60207aef",
     "showTitle": false,
     "title": "--i18n-23d65c0c-d3f7-4e13-a0ee-f82272eb4daa"
    }
   },
   "source": [
    "\n",
    "\n",
    "#### Why `pandas`?\n",
    "\n",
    "* More and more, data is leading decision making.\n",
    "* Excel is great but what if...\n",
    "  - You want to automate your analysis so it re-runs on new data each day?\n",
    "  - You want to build a code base to share with your colleagues?\n",
    "  - You want more robust analyses to feed a business decision?\n",
    "  - You want to do machine learning?\n",
    "* **`pandas`** is one of the core libraries used by data analysts and data scientists in Python."
   ]
  },
  {
   "cell_type": "markdown",
   "metadata": {
    "application/vnd.databricks.v1+cell": {
     "cellMetadata": {},
     "inputWidgets": {},
     "nuid": "4541f0ea-19de-4750-a177-df18cf990bc1",
     "showTitle": false,
     "title": "--i18n-68744e01-4fc2-4282-9fae-bf6898d0c264"
    }
   },
   "source": [
    "\n",
    "\n",
    "## `DataFrame`\n",
    "\n",
    "We have seen how different data types provide different kinds of data and functionality. \n",
    "\n",
    "**`pandas` is a library that provides data types and functions that allows us to do rigorous, programmatic data analysis.** \n",
    "- The core **`pandas`** data type is called a **`DataFrame`**.\n",
    "\n",
    "A [**DataFrame**](https://pandas.pydata.org/docs/reference/api/pandas.DataFrame.html) is a two dimensional table of named rows and columns, similar to a SQL table. \n",
    "\n",
    "- The **`DataFrame`** class has a **`data`** attribute for the data in the table that we have to define when we instantiate a **`DataFrame`** object.\n",
    "\n",
    "Let's say we want to make the following table into a **`DataFrame`**:\n",
    "\n",
    "| Name    | Age | Job|\n",
    "| ----------- | ----------- | ----------- | \n",
    "| John   | 30    | Journalist |\n",
    "| Mary    | 30       | Programmer |\n",
    "| Abe     | 40       | Chef |\n",
    "\n",
    "One way to do this is to create a list of lists where each list in the list represents a row of data:"
   ]
  },
  {
   "cell_type": "code",
   "execution_count": 0,
   "metadata": {
    "application/vnd.databricks.v1+cell": {
     "cellMetadata": {
      "byteLimit": 2048000,
      "rowLimit": 10000
     },
     "inputWidgets": {},
     "nuid": "38bb42aa-dd1e-4c4f-9021-88c102d0ff28",
     "showTitle": false,
     "title": ""
    }
   },
   "outputs": [
    {
     "output_type": "display_data",
     "data": {
      "text/html": [
       "<div>\n",
       "<style scoped>\n",
       "    .dataframe tbody tr th:only-of-type {\n",
       "        vertical-align: middle;\n",
       "    }\n",
       "\n",
       "    .dataframe tbody tr th {\n",
       "        vertical-align: top;\n",
       "    }\n",
       "\n",
       "    .dataframe thead th {\n",
       "        text-align: right;\n",
       "    }\n",
       "</style>\n",
       "<table border=\"1\" class=\"dataframe\">\n",
       "  <thead>\n",
       "    <tr style=\"text-align: right;\">\n",
       "      <th></th>\n",
       "      <th>0</th>\n",
       "      <th>1</th>\n",
       "      <th>2</th>\n",
       "    </tr>\n",
       "  </thead>\n",
       "  <tbody>\n",
       "    <tr>\n",
       "      <th>0</th>\n",
       "      <td>John</td>\n",
       "      <td>30</td>\n",
       "      <td>Journalist</td>\n",
       "    </tr>\n",
       "    <tr>\n",
       "      <th>1</th>\n",
       "      <td>Mary</td>\n",
       "      <td>30</td>\n",
       "      <td>Programmer</td>\n",
       "    </tr>\n",
       "    <tr>\n",
       "      <th>2</th>\n",
       "      <td>Abe</td>\n",
       "      <td>40</td>\n",
       "      <td>Chef</td>\n",
       "    </tr>\n",
       "  </tbody>\n",
       "</table>\n",
       "</div>"
      ]
     },
     "metadata": {
      "application/vnd.databricks.v1+output": {
       "addedWidgets": {},
       "arguments": {},
       "data": "<div>\n<style scoped>\n    .dataframe tbody tr th:only-of-type {\n        vertical-align: middle;\n    }\n\n    .dataframe tbody tr th {\n        vertical-align: top;\n    }\n\n    .dataframe thead th {\n        text-align: right;\n    }\n</style>\n<table border=\"1\" class=\"dataframe\">\n  <thead>\n    <tr style=\"text-align: right;\">\n      <th></th>\n      <th>0</th>\n      <th>1</th>\n      <th>2</th>\n    </tr>\n  </thead>\n  <tbody>\n    <tr>\n      <th>0</th>\n      <td>John</td>\n      <td>30</td>\n      <td>Journalist</td>\n    </tr>\n    <tr>\n      <th>1</th>\n      <td>Mary</td>\n      <td>30</td>\n      <td>Programmer</td>\n    </tr>\n    <tr>\n      <th>2</th>\n      <td>Abe</td>\n      <td>40</td>\n      <td>Chef</td>\n    </tr>\n  </tbody>\n</table>\n</div>",
       "datasetInfos": [],
       "metadata": {},
       "removedWidgets": [],
       "textData": null,
       "type": "htmlSandbox"
      }
     },
     "output_type": "display_data"
    }
   ],
   "source": [
    "data = [[\"John\", 30, \"Journalist\"], [\"Mary\", 30, \"Programmer\"], [\"Abe\", 40, \"Chef\"]]\n",
    "\n",
    "df = pd.DataFrame(data=data)\n",
    "df"
   ]
  },
  {
   "cell_type": "markdown",
   "metadata": {
    "application/vnd.databricks.v1+cell": {
     "cellMetadata": {},
     "inputWidgets": {},
     "nuid": "1f546eae-8048-4c88-bc18-c774ab38b4f1",
     "showTitle": false,
     "title": "--i18n-1d5a9079-ead2-423c-b071-2782dd951a56"
    }
   },
   "source": [
    "\n",
    "As you can see, we have a list of lists called **\"data\"** where each inner list represents a row of data with three elements specifying a name, age, and job title. We then instantiate a **`DataFrame`** based on that data.\n",
    "\n",
    "Recall that we create an object of a custom class like **`object = Class()`**. Since **`DataFrame`** is defined in **`pandas`** we use **`pd.DataFrame()`**."
   ]
  },
  {
   "cell_type": "markdown",
   "metadata": {
    "application/vnd.databricks.v1+cell": {
     "cellMetadata": {},
     "inputWidgets": {},
     "nuid": "e8743518-febe-423c-83ad-8a69eb899822",
     "showTitle": false,
     "title": "--i18n-75f28ee2-cedb-477e-ad86-bf4684cff899"
    }
   },
   "source": [
    "\n",
    "\n",
    "### Adding Column Names\n",
    "\n",
    "The 0, 1, 2 column names above are default values. To specify the column names we want, **`DataFrame`** has another attribute: **`columns`**"
   ]
  },
  {
   "cell_type": "code",
   "execution_count": 0,
   "metadata": {
    "application/vnd.databricks.v1+cell": {
     "cellMetadata": {
      "byteLimit": 2048000,
      "rowLimit": 10000
     },
     "inputWidgets": {},
     "nuid": "5d2d351f-0953-4770-8571-3167901a49a8",
     "showTitle": false,
     "title": ""
    }
   },
   "outputs": [
    {
     "output_type": "display_data",
     "data": {
      "text/html": [
       "<div>\n",
       "<style scoped>\n",
       "    .dataframe tbody tr th:only-of-type {\n",
       "        vertical-align: middle;\n",
       "    }\n",
       "\n",
       "    .dataframe tbody tr th {\n",
       "        vertical-align: top;\n",
       "    }\n",
       "\n",
       "    .dataframe thead th {\n",
       "        text-align: right;\n",
       "    }\n",
       "</style>\n",
       "<table border=\"1\" class=\"dataframe\">\n",
       "  <thead>\n",
       "    <tr style=\"text-align: right;\">\n",
       "      <th></th>\n",
       "      <th>Name</th>\n",
       "      <th>Age</th>\n",
       "      <th>Job</th>\n",
       "    </tr>\n",
       "  </thead>\n",
       "  <tbody>\n",
       "    <tr>\n",
       "      <th>0</th>\n",
       "      <td>John</td>\n",
       "      <td>30</td>\n",
       "      <td>Journalist</td>\n",
       "    </tr>\n",
       "    <tr>\n",
       "      <th>1</th>\n",
       "      <td>Mary</td>\n",
       "      <td>30</td>\n",
       "      <td>Programmer</td>\n",
       "    </tr>\n",
       "    <tr>\n",
       "      <th>2</th>\n",
       "      <td>Abe</td>\n",
       "      <td>40</td>\n",
       "      <td>Chef</td>\n",
       "    </tr>\n",
       "  </tbody>\n",
       "</table>\n",
       "</div>"
      ]
     },
     "metadata": {
      "application/vnd.databricks.v1+output": {
       "addedWidgets": {},
       "arguments": {},
       "data": "<div>\n<style scoped>\n    .dataframe tbody tr th:only-of-type {\n        vertical-align: middle;\n    }\n\n    .dataframe tbody tr th {\n        vertical-align: top;\n    }\n\n    .dataframe thead th {\n        text-align: right;\n    }\n</style>\n<table border=\"1\" class=\"dataframe\">\n  <thead>\n    <tr style=\"text-align: right;\">\n      <th></th>\n      <th>Name</th>\n      <th>Age</th>\n      <th>Job</th>\n    </tr>\n  </thead>\n  <tbody>\n    <tr>\n      <th>0</th>\n      <td>John</td>\n      <td>30</td>\n      <td>Journalist</td>\n    </tr>\n    <tr>\n      <th>1</th>\n      <td>Mary</td>\n      <td>30</td>\n      <td>Programmer</td>\n    </tr>\n    <tr>\n      <th>2</th>\n      <td>Abe</td>\n      <td>40</td>\n      <td>Chef</td>\n    </tr>\n  </tbody>\n</table>\n</div>",
       "datasetInfos": [],
       "metadata": {},
       "removedWidgets": [],
       "textData": null,
       "type": "htmlSandbox"
      }
     },
     "output_type": "display_data"
    }
   ],
   "source": [
    "cols = [\"Name\", \"Age\", \"Job\"]\n",
    "df = pd.DataFrame(data=data, columns=cols)\n",
    "df"
   ]
  },
  {
   "cell_type": "markdown",
   "metadata": {
    "application/vnd.databricks.v1+cell": {
     "cellMetadata": {},
     "inputWidgets": {},
     "nuid": "3f3896ea-3b4b-4082-955e-a97f2bd2f72a",
     "showTitle": false,
     "title": "--i18n-12dcbd4f-2636-41b1-a103-88b1a7325494"
    }
   },
   "source": [
    "\n",
    "\n",
    "## `Series`\n",
    "\n",
    "The other main data type that **`pandas`** provides is the [**Series**](https://pandas.pydata.org/docs/reference/api/pandas.Series.html).\n",
    "\n",
    "A **`Series`** is just one column of the **`DataFrame`**.\n",
    "\n",
    "We can select a **`Series`** in two ways:\n",
    "\n",
    "1. **`df[\"column_name\"]`**\n",
    "2. **`df.column_name`**\n",
    "\n",
    "Let's select the **`Age`** column below:"
   ]
  },
  {
   "cell_type": "code",
   "execution_count": 0,
   "metadata": {
    "application/vnd.databricks.v1+cell": {
     "cellMetadata": {
      "byteLimit": 2048000,
      "rowLimit": 10000
     },
     "inputWidgets": {},
     "nuid": "44045c4a-25eb-4ae4-a5a6-90b1734bef47",
     "showTitle": false,
     "title": ""
    }
   },
   "outputs": [
    {
     "output_type": "stream",
     "name": "stdout",
     "output_type": "stream",
     "text": [
      "Out[4]: 0    30\n1    30\n2    40\nName: Age, dtype: int64"
     ]
    }
   ],
   "source": [
    "df[\"Age\"]"
   ]
  },
  {
   "cell_type": "code",
   "execution_count": 0,
   "metadata": {
    "application/vnd.databricks.v1+cell": {
     "cellMetadata": {
      "byteLimit": 2048000,
      "rowLimit": 10000
     },
     "inputWidgets": {},
     "nuid": "a2050b0b-61aa-4f36-8591-c2040b578a11",
     "showTitle": false,
     "title": ""
    }
   },
   "outputs": [
    {
     "output_type": "stream",
     "name": "stdout",
     "output_type": "stream",
     "text": [
      "Out[5]: 0    30\n1    30\n2    40\nName: Age, dtype: int64"
     ]
    }
   ],
   "source": [
    "df.Age"
   ]
  },
  {
   "cell_type": "markdown",
   "metadata": {
    "application/vnd.databricks.v1+cell": {
     "cellMetadata": {},
     "inputWidgets": {},
     "nuid": "c494aa05-2dd2-4fc5-ac6e-78430a4db60e",
     "showTitle": false,
     "title": "--i18n-46985f3d-66e6-4bb3-b305-10e2db222867"
    }
   },
   "source": [
    "\n",
    "Here we see two approaches:\n",
    "* indexing (normally associated with lists), and \n",
    "* attribute reference\n",
    "\n",
    "These operations have implementations in DataFrames to simplify searching and matching of columns. It is preferred to use **`df[\"column_name\"]`** to access a column, because the **`df.column_name`** notation does not work well when there are spaces in the column names."
   ]
  },
  {
   "cell_type": "markdown",
   "metadata": {
    "application/vnd.databricks.v1+cell": {
     "cellMetadata": {},
     "inputWidgets": {},
     "nuid": "fc58bff2-e4ae-4383-89e3-0688223099d9",
     "showTitle": false,
     "title": "--i18n-a0b445c2-3e9a-4814-b4c9-249a7d2dabeb"
    }
   },
   "source": [
    "\n",
    "\n",
    "## dtypes\n",
    "\n",
    "If you look at the **`Series`** object above you can see **`dtype: int64`**. \n",
    "\n",
    "In **`pandas`** *dtypes*, which is an abbreviation for data types, refers to the type of the values in the column. \n",
    "\n",
    "We will next look at some of the methods and functionality that **`DataFrame`** and **`Series`** provide, but much like how object types determine what you can do with them, the [**dtype**](https://pandas.pydata.org/docs/reference/api/pandas.DataFrame.dtypes.html) of a column determines what functionality we can do with it.\n",
    "\n",
    "For example, we can take the average of a numeric column, but not a non-numeric one. \n",
    "\n",
    "The **`dtypes`** of columns are specific to **`pandas`**, but the most common ones are very similar to the built-in Python types:\n",
    "\n",
    "1. **`object`** is just text, which is similar to strings\n",
    "2. **`int64`** are integers\n",
    "3. **`float64`** are float\n",
    "4. **`bool`** are boolean\n",
    "\n",
    "\n",
    "We can view the **`dtypes`** of every column in our **`DataFrame`** by accessing its **`dtypes`** attribute:"
   ]
  },
  {
   "cell_type": "markdown",
   "metadata": {
    "application/vnd.databricks.v1+cell": {
     "cellMetadata": {},
     "inputWidgets": {},
     "nuid": "ca617fa4-2f65-4432-9733-f24f2ff647e4",
     "showTitle": false,
     "title": "--i18n-b129d939-a308-4682-b818-33498bf83f87"
    }
   },
   "source": [
    "\n",
    "\n",
    "## `Series` Operations\n",
    "\n",
    "We can use operations on **`Series`** of a certain dtype that are similar to the operations we can do with the dtype's similar built-in counterpart. \n",
    "\n",
    "These operations act element-wise. \n",
    "\n",
    "For example, we can add **`int64`** **`Series`** similarly to how we can add integer values in Python."
   ]
  },
  {
   "cell_type": "code",
   "execution_count": 0,
   "metadata": {
    "application/vnd.databricks.v1+cell": {
     "cellMetadata": {
      "byteLimit": 2048000,
      "rowLimit": 10000
     },
     "inputWidgets": {},
     "nuid": "22282ae8-4e85-4255-99bf-823d8e4e61b6",
     "showTitle": false,
     "title": ""
    }
   },
   "outputs": [
    {
     "output_type": "stream",
     "name": "stdout",
     "output_type": "stream",
     "text": [
      "Out[6]: 0    60\n1    60\n2    80\nName: Age, dtype: int64"
     ]
    }
   ],
   "source": [
    "df[\"Age\"] + df[\"Age\"]"
   ]
  },
  {
   "cell_type": "markdown",
   "metadata": {
    "application/vnd.databricks.v1+cell": {
     "cellMetadata": {},
     "inputWidgets": {},
     "nuid": "84c59e6a-8356-4e4a-b4da-7c876c943cfa",
     "showTitle": false,
     "title": "--i18n-eab93237-f960-44fe-9840-6d82497b1e29"
    }
   },
   "source": [
    "\n",
    "\n",
    "We can use all basic integer operations here:"
   ]
  },
  {
   "cell_type": "code",
   "execution_count": 0,
   "metadata": {
    "application/vnd.databricks.v1+cell": {
     "cellMetadata": {
      "byteLimit": 2048000,
      "rowLimit": 10000
     },
     "inputWidgets": {},
     "nuid": "b761bfc8-ce23-41b7-a242-6ab8a2b12f71",
     "showTitle": false,
     "title": ""
    }
   },
   "outputs": [
    {
     "output_type": "stream",
     "name": "stdout",
     "output_type": "stream",
     "text": [
      "Out[7]: 0     89\n1     89\n2    119\nName: Age, dtype: int64"
     ]
    }
   ],
   "source": [
    "df[\"Age\"] * 3 - 1 "
   ]
  },
  {
   "cell_type": "markdown",
   "metadata": {
    "application/vnd.databricks.v1+cell": {
     "cellMetadata": {},
     "inputWidgets": {},
     "nuid": "7b2a0ff4-a112-4e55-8c1a-de942da7e8c9",
     "showTitle": false,
     "title": "--i18n-e6713871-d93a-4b68-ae8f-a08d14e871c0"
    }
   },
   "source": [
    "\n",
    "\n",
    "#### Selecting a value from a **`Series`**\n",
    "\n",
    "Sometimes we will want to pull out a value in a **`Series`**. We can index into a **`Series`** similar to how we index into a list to pull out values:"
   ]
  },
  {
   "cell_type": "code",
   "execution_count": 0,
   "metadata": {
    "application/vnd.databricks.v1+cell": {
     "cellMetadata": {
      "byteLimit": 2048000,
      "rowLimit": 10000
     },
     "inputWidgets": {},
     "nuid": "e7d618bd-e4b3-473d-a338-682d4e4974cc",
     "showTitle": false,
     "title": ""
    }
   },
   "outputs": [
    {
     "output_type": "stream",
     "name": "stdout",
     "output_type": "stream",
     "text": [
      "Out[8]: 30"
     ]
    }
   ],
   "source": [
    "df[\"Age\"][0]"
   ]
  },
  {
   "cell_type": "markdown",
   "metadata": {
    "application/vnd.databricks.v1+cell": {
     "cellMetadata": {},
     "inputWidgets": {},
     "nuid": "1b99b298-18b2-4c84-b89d-9a5dfc9e0e76",
     "showTitle": false,
     "title": "--i18n-1ce3e63c-3e11-4b0a-8078-b6584146c9e5"
    }
   },
   "source": [
    "\n",
    "\n",
    "## Selecting a Subset of Columns\n",
    "\n",
    "We have seen how to select a given column as a **`Series`**.\n",
    "\n",
    "We can also select a subset of columns as a **`DataFrame`**.\n",
    "\n",
    "We can select a subset of columns like this:\n",
    "\n",
    "**`df[[col_1, col_2, col_3, ...]]`**\n",
    "\n",
    "Let's select only the Name and Age columns:"
   ]
  },
  {
   "cell_type": "code",
   "execution_count": 0,
   "metadata": {
    "application/vnd.databricks.v1+cell": {
     "cellMetadata": {
      "byteLimit": 2048000,
      "rowLimit": 10000
     },
     "inputWidgets": {},
     "nuid": "f5227aa5-8da9-441f-bded-03ac5f305687",
     "showTitle": false,
     "title": ""
    }
   },
   "outputs": [
    {
     "output_type": "display_data",
     "data": {
      "text/html": [
       "<div>\n",
       "<style scoped>\n",
       "    .dataframe tbody tr th:only-of-type {\n",
       "        vertical-align: middle;\n",
       "    }\n",
       "\n",
       "    .dataframe tbody tr th {\n",
       "        vertical-align: top;\n",
       "    }\n",
       "\n",
       "    .dataframe thead th {\n",
       "        text-align: right;\n",
       "    }\n",
       "</style>\n",
       "<table border=\"1\" class=\"dataframe\">\n",
       "  <thead>\n",
       "    <tr style=\"text-align: right;\">\n",
       "      <th></th>\n",
       "      <th>Name</th>\n",
       "      <th>Age</th>\n",
       "    </tr>\n",
       "  </thead>\n",
       "  <tbody>\n",
       "    <tr>\n",
       "      <th>0</th>\n",
       "      <td>John</td>\n",
       "      <td>30</td>\n",
       "    </tr>\n",
       "    <tr>\n",
       "      <th>1</th>\n",
       "      <td>Mary</td>\n",
       "      <td>30</td>\n",
       "    </tr>\n",
       "    <tr>\n",
       "      <th>2</th>\n",
       "      <td>Abe</td>\n",
       "      <td>40</td>\n",
       "    </tr>\n",
       "  </tbody>\n",
       "</table>\n",
       "</div>"
      ]
     },
     "metadata": {
      "application/vnd.databricks.v1+output": {
       "addedWidgets": {},
       "arguments": {},
       "data": "<div>\n<style scoped>\n    .dataframe tbody tr th:only-of-type {\n        vertical-align: middle;\n    }\n\n    .dataframe tbody tr th {\n        vertical-align: top;\n    }\n\n    .dataframe thead th {\n        text-align: right;\n    }\n</style>\n<table border=\"1\" class=\"dataframe\">\n  <thead>\n    <tr style=\"text-align: right;\">\n      <th></th>\n      <th>Name</th>\n      <th>Age</th>\n    </tr>\n  </thead>\n  <tbody>\n    <tr>\n      <th>0</th>\n      <td>John</td>\n      <td>30</td>\n    </tr>\n    <tr>\n      <th>1</th>\n      <td>Mary</td>\n      <td>30</td>\n    </tr>\n    <tr>\n      <th>2</th>\n      <td>Abe</td>\n      <td>40</td>\n    </tr>\n  </tbody>\n</table>\n</div>",
       "datasetInfos": [],
       "metadata": {},
       "removedWidgets": [],
       "textData": null,
       "type": "htmlSandbox"
      }
     },
     "output_type": "display_data"
    }
   ],
   "source": [
    "df[[\"Name\", \"Age\"]]"
   ]
  },
  {
   "cell_type": "markdown",
   "metadata": {
    "application/vnd.databricks.v1+cell": {
     "cellMetadata": {},
     "inputWidgets": {},
     "nuid": "d2f5ee70-bb3e-4575-bca9-ee3bbc919ece",
     "showTitle": false,
     "title": "--i18n-aa4841de-9544-11ee-b9d1-0242ac120002"
    }
   },
   "source": [
    "\n",
    "## Mutability of DataFrame objects\n",
    "\n",
    "When performing operations that modify a DataFrame, a new object is returned by default, leaving the original intact. Consider the following operation."
   ]
  },
  {
   "cell_type": "code",
   "execution_count": 0,
   "metadata": {
    "application/vnd.databricks.v1+cell": {
     "cellMetadata": {
      "byteLimit": 2048000,
      "rowLimit": 10000
     },
     "inputWidgets": {},
     "nuid": "6bd925bb-c125-4d0d-9df5-ffebfb90ebc2",
     "showTitle": false,
     "title": ""
    }
   },
   "outputs": [
    {
     "output_type": "display_data",
     "data": {
      "text/html": [
       "<div>\n",
       "<style scoped>\n",
       "    .dataframe tbody tr th:only-of-type {\n",
       "        vertical-align: middle;\n",
       "    }\n",
       "\n",
       "    .dataframe tbody tr th {\n",
       "        vertical-align: top;\n",
       "    }\n",
       "\n",
       "    .dataframe thead th {\n",
       "        text-align: right;\n",
       "    }\n",
       "</style>\n",
       "<table border=\"1\" class=\"dataframe\">\n",
       "  <thead>\n",
       "    <tr style=\"text-align: right;\">\n",
       "      <th></th>\n",
       "      <th>Name</th>\n",
       "      <th>Job</th>\n",
       "    </tr>\n",
       "  </thead>\n",
       "  <tbody>\n",
       "    <tr>\n",
       "      <th>0</th>\n",
       "      <td>John</td>\n",
       "      <td>Journalist</td>\n",
       "    </tr>\n",
       "    <tr>\n",
       "      <th>1</th>\n",
       "      <td>Mary</td>\n",
       "      <td>Programmer</td>\n",
       "    </tr>\n",
       "    <tr>\n",
       "      <th>2</th>\n",
       "      <td>Abe</td>\n",
       "      <td>Chef</td>\n",
       "    </tr>\n",
       "  </tbody>\n",
       "</table>\n",
       "</div>"
      ]
     },
     "metadata": {
      "application/vnd.databricks.v1+output": {
       "addedWidgets": {},
       "arguments": {},
       "data": "<div>\n<style scoped>\n    .dataframe tbody tr th:only-of-type {\n        vertical-align: middle;\n    }\n\n    .dataframe tbody tr th {\n        vertical-align: top;\n    }\n\n    .dataframe thead th {\n        text-align: right;\n    }\n</style>\n<table border=\"1\" class=\"dataframe\">\n  <thead>\n    <tr style=\"text-align: right;\">\n      <th></th>\n      <th>Name</th>\n      <th>Job</th>\n    </tr>\n  </thead>\n  <tbody>\n    <tr>\n      <th>0</th>\n      <td>John</td>\n      <td>Journalist</td>\n    </tr>\n    <tr>\n      <th>1</th>\n      <td>Mary</td>\n      <td>Programmer</td>\n    </tr>\n    <tr>\n      <th>2</th>\n      <td>Abe</td>\n      <td>Chef</td>\n    </tr>\n  </tbody>\n</table>\n</div>",
       "datasetInfos": [],
       "metadata": {},
       "removedWidgets": [],
       "textData": null,
       "type": "htmlSandbox"
      }
     },
     "output_type": "display_data"
    }
   ],
   "source": [
    "df.drop(\"Age\", axis=1)"
   ]
  },
  {
   "cell_type": "markdown",
   "metadata": {
    "application/vnd.databricks.v1+cell": {
     "cellMetadata": {},
     "inputWidgets": {},
     "nuid": "e1a363f9-c064-47e7-b68b-c96dd656fbe3",
     "showTitle": false,
     "title": "--i18n-aa484468-9544-11ee-b9d1-0242ac120002"
    }
   },
   "source": [
    "\n",
    "Here, we're dropping the **`Age`** column and displaying the result. This result is a new object that is promptly forgotten since we haven't stored it in a variable for later use, using a pattern like **`new_df = df.drop(...)`**.\n",
    "\n",
    "The following proves the original DataFrame **`df`** has not been modified."
   ]
  },
  {
   "cell_type": "code",
   "execution_count": 0,
   "metadata": {
    "application/vnd.databricks.v1+cell": {
     "cellMetadata": {
      "byteLimit": 2048000,
      "rowLimit": 10000
     },
     "inputWidgets": {},
     "nuid": "154d8637-763b-4612-b891-6ec0e2fd820e",
     "showTitle": false,
     "title": ""
    }
   },
   "outputs": [
    {
     "output_type": "display_data",
     "data": {
      "text/html": [
       "<div>\n",
       "<style scoped>\n",
       "    .dataframe tbody tr th:only-of-type {\n",
       "        vertical-align: middle;\n",
       "    }\n",
       "\n",
       "    .dataframe tbody tr th {\n",
       "        vertical-align: top;\n",
       "    }\n",
       "\n",
       "    .dataframe thead th {\n",
       "        text-align: right;\n",
       "    }\n",
       "</style>\n",
       "<table border=\"1\" class=\"dataframe\">\n",
       "  <thead>\n",
       "    <tr style=\"text-align: right;\">\n",
       "      <th></th>\n",
       "      <th>Name</th>\n",
       "      <th>Age</th>\n",
       "      <th>Job</th>\n",
       "    </tr>\n",
       "  </thead>\n",
       "  <tbody>\n",
       "    <tr>\n",
       "      <th>0</th>\n",
       "      <td>John</td>\n",
       "      <td>30</td>\n",
       "      <td>Journalist</td>\n",
       "    </tr>\n",
       "    <tr>\n",
       "      <th>1</th>\n",
       "      <td>Mary</td>\n",
       "      <td>30</td>\n",
       "      <td>Programmer</td>\n",
       "    </tr>\n",
       "    <tr>\n",
       "      <th>2</th>\n",
       "      <td>Abe</td>\n",
       "      <td>40</td>\n",
       "      <td>Chef</td>\n",
       "    </tr>\n",
       "  </tbody>\n",
       "</table>\n",
       "</div>"
      ]
     },
     "metadata": {
      "application/vnd.databricks.v1+output": {
       "addedWidgets": {},
       "arguments": {},
       "data": "<div>\n<style scoped>\n    .dataframe tbody tr th:only-of-type {\n        vertical-align: middle;\n    }\n\n    .dataframe tbody tr th {\n        vertical-align: top;\n    }\n\n    .dataframe thead th {\n        text-align: right;\n    }\n</style>\n<table border=\"1\" class=\"dataframe\">\n  <thead>\n    <tr style=\"text-align: right;\">\n      <th></th>\n      <th>Name</th>\n      <th>Age</th>\n      <th>Job</th>\n    </tr>\n  </thead>\n  <tbody>\n    <tr>\n      <th>0</th>\n      <td>John</td>\n      <td>30</td>\n      <td>Journalist</td>\n    </tr>\n    <tr>\n      <th>1</th>\n      <td>Mary</td>\n      <td>30</td>\n      <td>Programmer</td>\n    </tr>\n    <tr>\n      <th>2</th>\n      <td>Abe</td>\n      <td>40</td>\n      <td>Chef</td>\n    </tr>\n  </tbody>\n</table>\n</div>",
       "datasetInfos": [],
       "metadata": {},
       "removedWidgets": [],
       "textData": null,
       "type": "htmlSandbox"
      }
     },
     "output_type": "display_data"
    }
   ],
   "source": [
    "df"
   ]
  },
  {
   "cell_type": "markdown",
   "metadata": {
    "application/vnd.databricks.v1+cell": {
     "cellMetadata": {},
     "inputWidgets": {},
     "nuid": "a22a741b-ee80-4741-9afe-48e191f9558c",
     "showTitle": false,
     "title": "--i18n-aa4845b2-9544-11ee-b9d1-0242ac120002"
    }
   },
   "source": [
    "\n",
    "This behavior is generally desirable since it makes coding and maintaining complex pipelines easier. However, sometimes it's convenient to modify the DataFrame in place, which can be done using the **`inplace`** parameter as follows."
   ]
  },
  {
   "cell_type": "code",
   "execution_count": 0,
   "metadata": {
    "application/vnd.databricks.v1+cell": {
     "cellMetadata": {
      "byteLimit": 2048000,
      "rowLimit": 10000
     },
     "inputWidgets": {},
     "nuid": "1986c88e-ac2c-4ffd-ba1d-a058c377e9d2",
     "showTitle": false,
     "title": ""
    }
   },
   "outputs": [],
   "source": [
    "df.drop(\"Age\", axis=1, inplace=True)"
   ]
  },
  {
   "cell_type": "markdown",
   "metadata": {
    "application/vnd.databricks.v1+cell": {
     "cellMetadata": {},
     "inputWidgets": {},
     "nuid": "6b5a34e2-c042-49ea-917f-50f79a7c1653",
     "showTitle": false,
     "title": "--i18n-aa4846d4-9544-11ee-b9d1-0242ac120002"
    }
   },
   "source": [
    "In this instance, no new object has been returned. Let's demonstrate that the result has been applied to the original DataFrame."
   ]
  },
  {
   "cell_type": "code",
   "execution_count": 0,
   "metadata": {
    "application/vnd.databricks.v1+cell": {
     "cellMetadata": {
      "byteLimit": 2048000,
      "rowLimit": 10000
     },
     "inputWidgets": {},
     "nuid": "3b4ace4e-4b38-4a03-842b-e30b9491bad7",
     "showTitle": false,
     "title": ""
    }
   },
   "outputs": [
    {
     "output_type": "display_data",
     "data": {
      "text/html": [
       "<div>\n",
       "<style scoped>\n",
       "    .dataframe tbody tr th:only-of-type {\n",
       "        vertical-align: middle;\n",
       "    }\n",
       "\n",
       "    .dataframe tbody tr th {\n",
       "        vertical-align: top;\n",
       "    }\n",
       "\n",
       "    .dataframe thead th {\n",
       "        text-align: right;\n",
       "    }\n",
       "</style>\n",
       "<table border=\"1\" class=\"dataframe\">\n",
       "  <thead>\n",
       "    <tr style=\"text-align: right;\">\n",
       "      <th></th>\n",
       "      <th>Name</th>\n",
       "      <th>Job</th>\n",
       "    </tr>\n",
       "  </thead>\n",
       "  <tbody>\n",
       "    <tr>\n",
       "      <th>0</th>\n",
       "      <td>John</td>\n",
       "      <td>Journalist</td>\n",
       "    </tr>\n",
       "    <tr>\n",
       "      <th>1</th>\n",
       "      <td>Mary</td>\n",
       "      <td>Programmer</td>\n",
       "    </tr>\n",
       "    <tr>\n",
       "      <th>2</th>\n",
       "      <td>Abe</td>\n",
       "      <td>Chef</td>\n",
       "    </tr>\n",
       "  </tbody>\n",
       "</table>\n",
       "</div>"
      ]
     },
     "metadata": {
      "application/vnd.databricks.v1+output": {
       "addedWidgets": {},
       "arguments": {},
       "data": "<div>\n<style scoped>\n    .dataframe tbody tr th:only-of-type {\n        vertical-align: middle;\n    }\n\n    .dataframe tbody tr th {\n        vertical-align: top;\n    }\n\n    .dataframe thead th {\n        text-align: right;\n    }\n</style>\n<table border=\"1\" class=\"dataframe\">\n  <thead>\n    <tr style=\"text-align: right;\">\n      <th></th>\n      <th>Name</th>\n      <th>Job</th>\n    </tr>\n  </thead>\n  <tbody>\n    <tr>\n      <th>0</th>\n      <td>John</td>\n      <td>Journalist</td>\n    </tr>\n    <tr>\n      <th>1</th>\n      <td>Mary</td>\n      <td>Programmer</td>\n    </tr>\n    <tr>\n      <th>2</th>\n      <td>Abe</td>\n      <td>Chef</td>\n    </tr>\n  </tbody>\n</table>\n</div>",
       "datasetInfos": [],
       "metadata": {},
       "removedWidgets": [],
       "textData": null,
       "type": "htmlSandbox"
      }
     },
     "output_type": "display_data"
    }
   ],
   "source": [
    "df"
   ]
  },
  {
   "cell_type": "markdown",
   "metadata": {
    "application/vnd.databricks.v1+cell": {
     "cellMetadata": {},
     "inputWidgets": {},
     "nuid": "ab49ae97-075d-487b-9798-631bf0289491",
     "showTitle": false,
     "title": ""
    }
   },
   "source": [
    "&copy; 2023 Databricks, Inc. All rights reserved.<br/>\n",
    "Apache, Apache Spark, Spark and the Spark logo are trademarks of the <a href=\"https://www.apache.org/\">Apache Software Foundation</a>.<br/>\n",
    "<br/>\n",
    "<a href=\"https://databricks.com/privacy-policy\">Privacy Policy</a> | <a href=\"https://databricks.com/terms-of-use\">Terms of Use</a> | <a href=\"https://help.databricks.com/\">Support</a>"
   ]
  }
 ],
 "metadata": {
  "application/vnd.databricks.v1+notebook": {
   "dashboards": [],
   "environmentMetadata": null,
   "language": "python",
   "notebookMetadata": {
    "pythonIndentUnit": 2
   },
   "notebookName": "ITP 10 - Pandas Overview",
   "widgets": {}
  }
 },
 "nbformat": 4,
 "nbformat_minor": 0
}

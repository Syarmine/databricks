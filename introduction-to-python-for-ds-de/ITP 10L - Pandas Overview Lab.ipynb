{
 "cells": [
  {
   "cell_type": "markdown",
   "metadata": {
    "application/vnd.databricks.v1+cell": {
     "cellMetadata": {},
     "inputWidgets": {},
     "nuid": "b07f0ccb-11d2-4ce8-9567-96926db3729e",
     "showTitle": false,
     "title": ""
    }
   },
   "source": [
    "\n",
    "<div style=\"text-align: center; line-height: 0; padding-top: 9px;\">\n",
    "  <img src=\"https://databricks.com/wp-content/uploads/2018/03/db-academy-rgb-1200px.png\" alt=\"Databricks Learning\" style=\"width: 600px\">\n",
    "</div>"
   ]
  },
  {
   "cell_type": "markdown",
   "metadata": {
    "application/vnd.databricks.v1+cell": {
     "cellMetadata": {},
     "inputWidgets": {},
     "nuid": "401faffe-24ab-4d44-b2b3-f37e2463d839",
     "showTitle": false,
     "title": "--i18n-a951a3d5-c3dd-47f3-baf8-5ac6e51da1b8"
    }
   },
   "source": [
    "\n",
    "\n",
    "# Pandas Lab\n",
    "\n",
    "In this lab, you will use <a href=\"https://pandas.pydata.org/docs/\" target=\"_blank\">pandas</a> for basic data manipulation."
   ]
  },
  {
   "cell_type": "markdown",
   "metadata": {
    "application/vnd.databricks.v1+cell": {
     "cellMetadata": {},
     "inputWidgets": {},
     "nuid": "1a774ca1-e2fb-4c15-b198-3522aaa70d9c",
     "showTitle": false,
     "title": "--i18n-1eff4d5c-13cc-431f-9c45-e8d1ecb66998"
    }
   },
   "source": [
    "\n",
    " \n",
    "#### Problem 1: Create a `DataFrame`\n",
    "\n",
    "Create the a **`DataFrame`** called **`df`** representing the table below of dogs. The data is included below.\n",
    "\n",
    "| Name    | Age | Breed| \n",
    "| ----------- | ----------- | ----------- | \n",
    "| Buddy   | 3    | Australian Shepherd |\n",
    "| Harley    | 10       | Labrador |\n",
    "| Luna     | 2       | Golden Retriever | \n",
    "| Bailey | 8 | Chihuahua |"
   ]
  },
  {
   "cell_type": "code",
   "execution_count": 0,
   "metadata": {
    "application/vnd.databricks.v1+cell": {
     "cellMetadata": {
      "byteLimit": 2048000,
      "rowLimit": 10000
     },
     "inputWidgets": {},
     "nuid": "cd625bcb-10bb-4064-97ff-8d0c94d85da7",
     "showTitle": false,
     "title": ""
    }
   },
   "outputs": [
    {
     "output_type": "display_data",
     "data": {
      "application/vnd.databricks.v1+bamboolib_hint": "{\"pd.DataFrames\": [], \"version\": \"0.0.1\"}",
      "text/plain": []
     },
     "metadata": {},
     "output_type": "display_data"
    }
   ],
   "source": [
    "import pandas as pd"
   ]
  },
  {
   "cell_type": "code",
   "execution_count": 0,
   "metadata": {
    "application/vnd.databricks.v1+cell": {
     "cellMetadata": {
      "byteLimit": 2048000,
      "rowLimit": 10000
     },
     "inputWidgets": {},
     "nuid": "3bb18ecc-aaf0-410d-be94-e51c9f8f4260",
     "showTitle": false,
     "title": ""
    }
   },
   "outputs": [
    {
     "output_type": "display_data",
     "data": {
      "text/html": [
       "<div>\n",
       "<style scoped>\n",
       "    .dataframe tbody tr th:only-of-type {\n",
       "        vertical-align: middle;\n",
       "    }\n",
       "\n",
       "    .dataframe tbody tr th {\n",
       "        vertical-align: top;\n",
       "    }\n",
       "\n",
       "    .dataframe thead th {\n",
       "        text-align: right;\n",
       "    }\n",
       "</style>\n",
       "<table border=\"1\" class=\"dataframe\">\n",
       "  <thead>\n",
       "    <tr style=\"text-align: right;\">\n",
       "      <th></th>\n",
       "      <th>Name</th>\n",
       "      <th>Age</th>\n",
       "      <th>Breed</th>\n",
       "    </tr>\n",
       "  </thead>\n",
       "  <tbody>\n",
       "    <tr>\n",
       "      <th>0</th>\n",
       "      <td>Buddy</td>\n",
       "      <td>3</td>\n",
       "      <td>Australian Shepherd</td>\n",
       "    </tr>\n",
       "    <tr>\n",
       "      <th>1</th>\n",
       "      <td>Harley</td>\n",
       "      <td>10</td>\n",
       "      <td>Labrador</td>\n",
       "    </tr>\n",
       "    <tr>\n",
       "      <th>2</th>\n",
       "      <td>Luna</td>\n",
       "      <td>2</td>\n",
       "      <td>Golden Retriever</td>\n",
       "    </tr>\n",
       "    <tr>\n",
       "      <th>3</th>\n",
       "      <td>Bailey</td>\n",
       "      <td>8</td>\n",
       "      <td>Chihuahua</td>\n",
       "    </tr>\n",
       "  </tbody>\n",
       "</table>\n",
       "</div>"
      ]
     },
     "metadata": {
      "application/vnd.databricks.v1+output": {
       "addedWidgets": {},
       "arguments": {},
       "data": "<div>\n<style scoped>\n    .dataframe tbody tr th:only-of-type {\n        vertical-align: middle;\n    }\n\n    .dataframe tbody tr th {\n        vertical-align: top;\n    }\n\n    .dataframe thead th {\n        text-align: right;\n    }\n</style>\n<table border=\"1\" class=\"dataframe\">\n  <thead>\n    <tr style=\"text-align: right;\">\n      <th></th>\n      <th>Name</th>\n      <th>Age</th>\n      <th>Breed</th>\n    </tr>\n  </thead>\n  <tbody>\n    <tr>\n      <th>0</th>\n      <td>Buddy</td>\n      <td>3</td>\n      <td>Australian Shepherd</td>\n    </tr>\n    <tr>\n      <th>1</th>\n      <td>Harley</td>\n      <td>10</td>\n      <td>Labrador</td>\n    </tr>\n    <tr>\n      <th>2</th>\n      <td>Luna</td>\n      <td>2</td>\n      <td>Golden Retriever</td>\n    </tr>\n    <tr>\n      <th>3</th>\n      <td>Bailey</td>\n      <td>8</td>\n      <td>Chihuahua</td>\n    </tr>\n  </tbody>\n</table>\n</div>",
       "datasetInfos": [],
       "metadata": {},
       "removedWidgets": [],
       "textData": null,
       "type": "htmlSandbox"
      }
     },
     "output_type": "display_data"
    }
   ],
   "source": [
    "# TODO\n",
    "data = [[\"Buddy\", 3, \"Australian Shepherd\"], [\"Harley\", 10, \"Labrador\"], [\"Luna\", 2, \"Golden Retriever\"], [\"Bailey\", 8, \"Chihuahua\"]]\n",
    "column_names = [\"Name\", \"Age\", \"Breed\"]\n",
    "\n",
    "df = pd.DataFrame(data=data, columns=column_names)\n",
    "df"
   ]
  },
  {
   "cell_type": "markdown",
   "metadata": {
    "application/vnd.databricks.v1+cell": {
     "cellMetadata": {},
     "inputWidgets": {},
     "nuid": "aec249c7-f8f8-4fc7-931d-ead11a4399ff",
     "showTitle": false,
     "title": "--i18n-73936461-b0a9-47d0-b13c-8dec39331fdb"
    }
   },
   "source": [
    "\n",
    "\n",
    "<button onclick=\"myFunction2()\" >Click for Hint</button>\n",
    "\n",
    "<div id=\"myDIV2\" style=\"display: none;\">\n",
    "  Remember to specify the data and columns attributes\n",
    "</div>\n",
    "<script>\n",
    "function myFunction2() {\n",
    "  var x = document.getElementById(\"myDIV2\");\n",
    "  if (x.style.display === \"none\") {\n",
    "    x.style.display = \"block\";\n",
    "  } else {\n",
    "    x.style.display = \"none\";\n",
    "  }\n",
    "}\n",
    "</script>"
   ]
  },
  {
   "cell_type": "markdown",
   "metadata": {
    "application/vnd.databricks.v1+cell": {
     "cellMetadata": {},
     "inputWidgets": {},
     "nuid": "f915d619-c1f2-4645-be8d-25b3604ed132",
     "showTitle": false,
     "title": "--i18n-e287fd23-3bce-450c-9804-35dd232d0e00"
    }
   },
   "source": [
    "\n",
    "\n",
    "**Check your work by running the cell below**"
   ]
  },
  {
   "cell_type": "code",
   "execution_count": 0,
   "metadata": {
    "application/vnd.databricks.v1+cell": {
     "cellMetadata": {
      "byteLimit": 2048000,
      "rowLimit": 10000
     },
     "inputWidgets": {},
     "nuid": "ba613652-8c9e-47c4-8bd3-c622a0fd7ba1",
     "showTitle": false,
     "title": ""
    }
   },
   "outputs": [
    {
     "output_type": "stream",
     "name": "stdout",
     "output_type": "stream",
     "text": [
      "Test passed!\n"
     ]
    }
   ],
   "source": [
    "assert (df.columns == [\"Name\", \"Age\", \"Breed\"]).all(), \"The columns are named incorrectly\"\n",
    "assert [df.iloc[0][x] for x in [\"Name\", \"Age\", \"Breed\"]] == [\"Buddy\", 3, \"Australian Shepherd\"], \"First row defined incorrectly\"\n",
    "assert [df.iloc[1][x] for x in [\"Name\", \"Age\", \"Breed\"]] == [\"Harley\", 10, \"Labrador\"], \"Second row defined incorrectly\"\n",
    "assert [df.iloc[2][x] for x in [\"Name\", \"Age\", \"Breed\"]] == [\"Luna\", 2, \"Golden Retriever\"], \"Third row defined incorrectly\"\n",
    "assert [df.iloc[3][x] for x in [\"Name\", \"Age\", \"Breed\"]] == [\"Bailey\", 8, \"Chihuahua\"], \"Fourth row defined incorrectly\"\n",
    "print(\"Test passed!\")"
   ]
  },
  {
   "cell_type": "markdown",
   "metadata": {
    "application/vnd.databricks.v1+cell": {
     "cellMetadata": {},
     "inputWidgets": {},
     "nuid": "85c7d5d7-c0be-4e16-b511-2c9472133a78",
     "showTitle": false,
     "title": "--i18n-4a340577-c141-4e6f-8145-031dfa879b32"
    }
   },
   "source": [
    "\n",
    "\n",
    "#### Problem 2: What are the `dtypes`?\n",
    "\n",
    "Print out the **`dtypes`** attribute of your DataFrame to see the types of each column."
   ]
  },
  {
   "cell_type": "code",
   "execution_count": 0,
   "metadata": {
    "application/vnd.databricks.v1+cell": {
     "cellMetadata": {
      "byteLimit": 2048000,
      "rowLimit": 10000
     },
     "inputWidgets": {},
     "nuid": "f4b73ee7-b819-49ba-bfe6-7f27ceb49a88",
     "showTitle": false,
     "title": ""
    }
   },
   "outputs": [
    {
     "output_type": "stream",
     "name": "stdout",
     "output_type": "stream",
     "text": [
      "Out[10]: Name     object\nAge       int64\nBreed    object\ndtype: object"
     ]
    }
   ],
   "source": [
    "# TODO\n",
    "df.dtypes"
   ]
  },
  {
   "cell_type": "markdown",
   "metadata": {
    "application/vnd.databricks.v1+cell": {
     "cellMetadata": {},
     "inputWidgets": {},
     "nuid": "515f69d9-12cf-4516-878e-8bd0d2e407ca",
     "showTitle": false,
     "title": "--i18n-be17630c-8f3a-4b0f-bd2a-3ffa71e8cc39"
    }
   },
   "source": [
    "\n",
    "\n",
    "<button onclick=\"myFunction2()\" >Click for Hint</button>\n",
    "\n",
    "<div id=\"myDIV2\" style=\"display: none;\">\n",
    "  Remember we access attributes like this: object.attribute\n",
    "</div>\n",
    "<script>\n",
    "function myFunction2() {\n",
    "  var x = document.getElementById(\"myDIV2\");\n",
    "  if (x.style.display === \"none\") {\n",
    "    x.style.display = \"block\";\n",
    "  } else {\n",
    "    x.style.display = \"none\";\n",
    "  }\n",
    "}\n",
    "</script>"
   ]
  },
  {
   "cell_type": "markdown",
   "metadata": {
    "application/vnd.databricks.v1+cell": {
     "cellMetadata": {},
     "inputWidgets": {},
     "nuid": "3381455e-c45a-411b-b972-eccc88089808",
     "showTitle": false,
     "title": "--i18n-80828ff9-7279-4648-8d21-c11dbe9586fb"
    }
   },
   "source": [
    "\n",
    "\n",
    "#### Problem 3: Subset of Columns\n",
    "\n",
    "Select only the **`Name`** and **`Age`** columns, assigning to the new variable **`name_age_df`**."
   ]
  },
  {
   "cell_type": "code",
   "execution_count": 0,
   "metadata": {
    "application/vnd.databricks.v1+cell": {
     "cellMetadata": {
      "byteLimit": 2048000,
      "rowLimit": 10000
     },
     "inputWidgets": {},
     "nuid": "66614892-38da-4e6e-8e18-defffee3a80b",
     "showTitle": false,
     "title": ""
    }
   },
   "outputs": [
    {
     "output_type": "display_data",
     "data": {
      "text/html": [
       "<div>\n",
       "<style scoped>\n",
       "    .dataframe tbody tr th:only-of-type {\n",
       "        vertical-align: middle;\n",
       "    }\n",
       "\n",
       "    .dataframe tbody tr th {\n",
       "        vertical-align: top;\n",
       "    }\n",
       "\n",
       "    .dataframe thead th {\n",
       "        text-align: right;\n",
       "    }\n",
       "</style>\n",
       "<table border=\"1\" class=\"dataframe\">\n",
       "  <thead>\n",
       "    <tr style=\"text-align: right;\">\n",
       "      <th></th>\n",
       "      <th>Name</th>\n",
       "      <th>Age</th>\n",
       "    </tr>\n",
       "  </thead>\n",
       "  <tbody>\n",
       "    <tr>\n",
       "      <th>0</th>\n",
       "      <td>Buddy</td>\n",
       "      <td>3</td>\n",
       "    </tr>\n",
       "    <tr>\n",
       "      <th>1</th>\n",
       "      <td>Harley</td>\n",
       "      <td>10</td>\n",
       "    </tr>\n",
       "    <tr>\n",
       "      <th>2</th>\n",
       "      <td>Luna</td>\n",
       "      <td>2</td>\n",
       "    </tr>\n",
       "    <tr>\n",
       "      <th>3</th>\n",
       "      <td>Bailey</td>\n",
       "      <td>8</td>\n",
       "    </tr>\n",
       "  </tbody>\n",
       "</table>\n",
       "</div>"
      ]
     },
     "metadata": {
      "application/vnd.databricks.v1+output": {
       "addedWidgets": {},
       "arguments": {},
       "data": "<div>\n<style scoped>\n    .dataframe tbody tr th:only-of-type {\n        vertical-align: middle;\n    }\n\n    .dataframe tbody tr th {\n        vertical-align: top;\n    }\n\n    .dataframe thead th {\n        text-align: right;\n    }\n</style>\n<table border=\"1\" class=\"dataframe\">\n  <thead>\n    <tr style=\"text-align: right;\">\n      <th></th>\n      <th>Name</th>\n      <th>Age</th>\n    </tr>\n  </thead>\n  <tbody>\n    <tr>\n      <th>0</th>\n      <td>Buddy</td>\n      <td>3</td>\n    </tr>\n    <tr>\n      <th>1</th>\n      <td>Harley</td>\n      <td>10</td>\n    </tr>\n    <tr>\n      <th>2</th>\n      <td>Luna</td>\n      <td>2</td>\n    </tr>\n    <tr>\n      <th>3</th>\n      <td>Bailey</td>\n      <td>8</td>\n    </tr>\n  </tbody>\n</table>\n</div>",
       "datasetInfos": [],
       "metadata": {},
       "removedWidgets": [],
       "textData": null,
       "type": "htmlSandbox"
      }
     },
     "output_type": "display_data"
    }
   ],
   "source": [
    "# TODO\n",
    "name_age_df = df[[\"Name\", \"Age\"]]\n",
    "name_age_df"
   ]
  },
  {
   "cell_type": "markdown",
   "metadata": {
    "application/vnd.databricks.v1+cell": {
     "cellMetadata": {},
     "inputWidgets": {},
     "nuid": "65cdcda7-8a8b-46a5-9e8b-738f42ece102",
     "showTitle": false,
     "title": "--i18n-430aef6a-de3d-4e81-9d4d-edc70c652b0b"
    }
   },
   "source": [
    "\n",
    "\n",
    "**Check your work by running the cell below**\n",
    "\n",
    "The assert below uses [**iloc**](https://pandas.pydata.org/docs/reference/api/pandas.DataFrame.iloc.html) to do integer-location based indexing for selection by position."
   ]
  },
  {
   "cell_type": "code",
   "execution_count": 0,
   "metadata": {
    "application/vnd.databricks.v1+cell": {
     "cellMetadata": {
      "byteLimit": 2048000,
      "rowLimit": 10000
     },
     "inputWidgets": {},
     "nuid": "e0e172d3-cc53-46d9-a87d-0588b9273969",
     "showTitle": false,
     "title": ""
    }
   },
   "outputs": [
    {
     "output_type": "stream",
     "name": "stdout",
     "output_type": "stream",
     "text": [
      "Test passed!\n"
     ]
    }
   ],
   "source": [
    "assert (name_age_df.columns == [\"Name\", \"Age\"]).all(), \"The columns are named incorrectly\"\n",
    "assert name_age_df.shape == (4, 2), \"There are not the right number of rows or columns\"\n",
    "assert [name_age_df.iloc[0][x] for x in [\"Name\", \"Age\"]] == [\"Buddy\", 3], \"First row defined incorrectly\"\n",
    "assert [name_age_df.iloc[1][x] for x in [\"Name\", \"Age\"]] == [\"Harley\", 10], \"Second row defined incorrectly\"\n",
    "assert [name_age_df.iloc[2][x] for x in [\"Name\", \"Age\"]] == [\"Luna\", 2], \"Third row defined incorrectly\"\n",
    "assert [name_age_df.iloc[3][x] for x in [\"Name\", \"Age\"]] == [\"Bailey\", 8], \"Fourth row defined incorrectly\"\n",
    "print(\"Test passed!\")"
   ]
  },
  {
   "cell_type": "markdown",
   "metadata": {
    "application/vnd.databricks.v1+cell": {
     "cellMetadata": {},
     "inputWidgets": {},
     "nuid": "f574e3f4-b9b0-470e-afae-e7587bd5a860",
     "showTitle": false,
     "title": "--i18n-c99a51f7-7d44-4354-955e-5c338b1ae957"
    }
   },
   "source": [
    "\n",
    " \n",
    "#### Problem 4: Create a New Column\n",
    "\n",
    "Let's assume one year in dog years is equal to 7 years in human years. Create a new column called **`Human Age`** in our **`df`** that takes the dog's age and multiples it by 7."
   ]
  },
  {
   "cell_type": "code",
   "execution_count": 0,
   "metadata": {
    "application/vnd.databricks.v1+cell": {
     "cellMetadata": {
      "byteLimit": 2048000,
      "rowLimit": 10000
     },
     "inputWidgets": {},
     "nuid": "a17c501c-1204-440f-bcb0-6d282ca31b6a",
     "showTitle": false,
     "title": ""
    }
   },
   "outputs": [],
   "source": [
    "# TODO\n",
    "df[\"Human Age\"] = df[\"Age\"] * 7"
   ]
  },
  {
   "cell_type": "markdown",
   "metadata": {
    "application/vnd.databricks.v1+cell": {
     "cellMetadata": {},
     "inputWidgets": {},
     "nuid": "830b35e5-b6b0-43e1-be1f-2d7930b7f2e4",
     "showTitle": false,
     "title": "--i18n-a57f04d2-d9d2-4391-95c2-41311385e754"
    }
   },
   "source": [
    "\n",
    "\n",
    "**Check your work by running the cell below**"
   ]
  },
  {
   "cell_type": "code",
   "execution_count": 0,
   "metadata": {
    "application/vnd.databricks.v1+cell": {
     "cellMetadata": {
      "byteLimit": 2048000,
      "rowLimit": 10000
     },
     "inputWidgets": {},
     "nuid": "761e5803-8f38-4ade-8c63-2c4cc6b2d150",
     "showTitle": false,
     "title": ""
    }
   },
   "outputs": [
    {
     "output_type": "stream",
     "name": "stdout",
     "output_type": "stream",
     "text": [
      "Test passed!\n"
     ]
    }
   ],
   "source": [
    "assert df.shape == (4, 4), \"There are not the correct number of rows or columns\"\n",
    "assert (df.columns == [\"Name\", \"Age\", \"Breed\", \"Human Age\"]).all(), \"The columns are named incorrectly\"\n",
    "assert [df.iloc[0][x] for x in [\"Name\", \"Age\", \"Breed\", \"Human Age\"]] == [\"Buddy\", 3, \"Australian Shepherd\", 21], \"First row defined incorrectly\"\n",
    "assert [df.iloc[1][x] for x in [\"Name\", \"Age\", \"Breed\", \"Human Age\"]] == [\"Harley\", 10, \"Labrador\", 70], \"Second row defined incorrectly\"\n",
    "assert [df.iloc[2][x] for x in [\"Name\", \"Age\", \"Breed\", \"Human Age\"]] == [\"Luna\", 2, \"Golden Retriever\", 14], \"Third row defined incorrectly\"\n",
    "assert [df.iloc[3][x] for x in [\"Name\", \"Age\", \"Breed\", \"Human Age\"]] == [\"Bailey\", 8, \"Chihuahua\", 56], \"Fourth row defined incorrectly\"\n",
    "print(\"Test passed!\")"
   ]
  },
  {
   "cell_type": "markdown",
   "metadata": {
    "application/vnd.databricks.v1+cell": {
     "cellMetadata": {},
     "inputWidgets": {},
     "nuid": "a91e0be2-6c9d-45c5-a24f-2325b4106ebd",
     "showTitle": false,
     "title": "--i18n-9b3bf30d-b799-4d63-9096-fef33ffb9203"
    }
   },
   "source": [
    "\n",
    "\n",
    "#### Problem 5: Extract a value\n",
    "\n",
    "Programmatically extract Buddy's **`Breed`** from the DataFrame and assign it to the given **`breed`** variable."
   ]
  },
  {
   "cell_type": "code",
   "execution_count": 0,
   "metadata": {
    "application/vnd.databricks.v1+cell": {
     "cellMetadata": {
      "byteLimit": 2048000,
      "rowLimit": 10000
     },
     "inputWidgets": {},
     "nuid": "f6b4bf7d-5a70-4bb6-928f-7a61fe1be954",
     "showTitle": false,
     "title": ""
    }
   },
   "outputs": [
    {
     "output_type": "stream",
     "name": "stdout",
     "output_type": "stream",
     "text": [
      "Out[24]: 'Australian Shepherd'"
     ]
    }
   ],
   "source": [
    "# TODO\n",
    "breed = df[df[\"Name\"] == \"Buddy\"][\"Breed\"][0]\n",
    "breed "
   ]
  },
  {
   "cell_type": "markdown",
   "metadata": {
    "application/vnd.databricks.v1+cell": {
     "cellMetadata": {},
     "inputWidgets": {},
     "nuid": "9b95768f-c12a-496a-8b63-c76c4eb40111",
     "showTitle": false,
     "title": "--i18n-86d48db8-6cdd-4c7b-93af-f638b9c9cd3a"
    }
   },
   "source": [
    "\n",
    " \n",
    "**Check your work by running the cell below**"
   ]
  },
  {
   "cell_type": "code",
   "execution_count": 0,
   "metadata": {
    "application/vnd.databricks.v1+cell": {
     "cellMetadata": {
      "byteLimit": 2048000,
      "rowLimit": 10000
     },
     "inputWidgets": {},
     "nuid": "34eac57a-d88e-48e4-9232-886c5acbb4ad",
     "showTitle": false,
     "title": ""
    }
   },
   "outputs": [
    {
     "output_type": "stream",
     "name": "stdout",
     "output_type": "stream",
     "text": [
      "Test passed!\n"
     ]
    }
   ],
   "source": [
    "assert breed == \"Australian Shepherd\", \"Breed is not defined correctly\"\n",
    "print(\"Test passed!\")"
   ]
  },
  {
   "cell_type": "markdown",
   "metadata": {
    "application/vnd.databricks.v1+cell": {
     "cellMetadata": {},
     "inputWidgets": {},
     "nuid": "17a134f9-1e1d-46ab-98db-4d9bf9374e17",
     "showTitle": false,
     "title": ""
    }
   },
   "source": [
    "&copy; 2023 Databricks, Inc. All rights reserved.<br/>\n",
    "Apache, Apache Spark, Spark and the Spark logo are trademarks of the <a href=\"https://www.apache.org/\">Apache Software Foundation</a>.<br/>\n",
    "<br/>\n",
    "<a href=\"https://databricks.com/privacy-policy\">Privacy Policy</a> | <a href=\"https://databricks.com/terms-of-use\">Terms of Use</a> | <a href=\"https://help.databricks.com/\">Support</a>"
   ]
  }
 ],
 "metadata": {
  "application/vnd.databricks.v1+notebook": {
   "dashboards": [],
   "environmentMetadata": null,
   "language": "python",
   "notebookMetadata": {
    "pythonIndentUnit": 4
   },
   "notebookName": "ITP 10L - Pandas Overview Lab",
   "widgets": {}
  }
 },
 "nbformat": 4,
 "nbformat_minor": 0
}

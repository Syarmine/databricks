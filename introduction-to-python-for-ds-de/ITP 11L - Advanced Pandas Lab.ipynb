{
 "cells": [
  {
   "cell_type": "markdown",
   "metadata": {
    "application/vnd.databricks.v1+cell": {
     "cellMetadata": {},
     "inputWidgets": {},
     "nuid": "3c9341d4-cc79-41e5-ad19-59e03582b2fe",
     "showTitle": false,
     "title": ""
    }
   },
   "source": [
    "\n",
    "<div style=\"text-align: center; line-height: 0; padding-top: 9px;\">\n",
    "  <img src=\"https://databricks.com/wp-content/uploads/2018/03/db-academy-rgb-1200px.png\" alt=\"Databricks Learning\" style=\"width: 600px\">\n",
    "</div>"
   ]
  },
  {
   "cell_type": "markdown",
   "metadata": {
    "application/vnd.databricks.v1+cell": {
     "cellMetadata": {},
     "inputWidgets": {},
     "nuid": "8ac380d2-337e-4963-bc88-f64e5f735f7e",
     "showTitle": false,
     "title": "--i18n-1736b729-f36e-45fe-9340-bef22ff58167"
    }
   },
   "source": [
    "\n",
    "\n",
    "# Advanced Pandas Lab\n",
    "\n",
    "In this lab, we will answer the question: What regions in the US has the highest average total volume of organic avocado sales in 2018?"
   ]
  },
  {
   "cell_type": "code",
   "execution_count": 0,
   "metadata": {
    "application/vnd.databricks.v1+cell": {
     "cellMetadata": {
      "byteLimit": 2048000,
      "rowLimit": 10000
     },
     "inputWidgets": {},
     "nuid": "74f5749a-c2dd-49fa-85ec-ae9bcd2f56af",
     "showTitle": false,
     "title": ""
    }
   },
   "outputs": [
    {
     "output_type": "stream",
     "name": "stdout",
     "output_type": "stream",
     "text": [
      "\u001B[43mNote: you may need to restart the kernel using dbutils.library.restartPython() to use updated packages.\u001B[0m\n\u001B[43mNote: you may need to restart the kernel using dbutils.library.restartPython() to use updated packages.\u001B[0m\n"
     ]
    },
    {
     "output_type": "stream",
     "name": "stdout",
     "output_type": "stream",
     "text": [
      "Resetting the learning environment:\n| dropping the schema \"syarmineshah_gx5q_da_inpy\"...(1 seconds)\n| removing the working directory \"dbfs:/mnt/dbacademy-users/syarmineshah@yahoo.com/introduction-to-python-for-data-science-and-data-engineering\"...(0 seconds)\n\nSkipping install of existing datasets to \"dbfs:/mnt/dbacademy-datasets/introduction-to-python-for-data-science-and-data-engineering/v01\"\n\nValidating the locally installed datasets:\n| listing local files...(0 seconds)\n| validation completed...(0 seconds total)\n\nCreating & using the schema \"syarmineshah_gx5q_da_inpy\" in the catalog \"spark_catalog\"...(1 seconds)\n\nPredefined tables in \"syarmineshah_gx5q_da_inpy\":\n| -none-\n\nPredefined paths variables:\n| DA.paths.working_dir: dbfs:/mnt/dbacademy-users/syarmineshah@yahoo.com/introduction-to-python-for-data-science-and-data-engineering\n| DA.paths.user_db:     dbfs:/mnt/dbacademy-users/syarmineshah@yahoo.com/introduction-to-python-for-data-science-and-data-engineering/database.db\n| DA.paths.datasets:    dbfs:/mnt/dbacademy-datasets/introduction-to-python-for-data-science-and-data-engineering/v01\n\nSetup completed (5 seconds)\n"
     ]
    }
   ],
   "source": [
    "%run \"../Includes/Classroom-Setup\""
   ]
  },
  {
   "cell_type": "markdown",
   "metadata": {
    "application/vnd.databricks.v1+cell": {
     "cellMetadata": {},
     "inputWidgets": {},
     "nuid": "58ea2a44-9e9f-4fa1-acd2-13228045c74c",
     "showTitle": false,
     "title": "--i18n-e460c1e8-54fb-4175-9482-ac1ee5be0945"
    }
   },
   "source": [
    "\n",
    "\n",
    "First, let's import pandas"
   ]
  },
  {
   "cell_type": "code",
   "execution_count": 0,
   "metadata": {
    "application/vnd.databricks.v1+cell": {
     "cellMetadata": {
      "byteLimit": 2048000,
      "rowLimit": 10000
     },
     "inputWidgets": {},
     "nuid": "6ea25897-5551-47fb-9177-c1e24964ba88",
     "showTitle": false,
     "title": ""
    }
   },
   "outputs": [
    {
     "output_type": "stream",
     "name": "stdout",
     "output_type": "stream",
     "text": [
      "\u001B[43mNote: you may need to restart the kernel using dbutils.library.restartPython() to use updated packages.\u001B[0m\nRequirement already satisfied: kagglehub in /local_disk0/.ephemeral_nfs/envs/pythonEnv-29f64244-e5ad-4449-801d-9fe04f723cda/lib/python3.10/site-packages (0.3.1)\nRequirement already satisfied: tqdm in /local_disk0/.ephemeral_nfs/envs/pythonEnv-29f64244-e5ad-4449-801d-9fe04f723cda/lib/python3.10/site-packages (from kagglehub) (4.66.5)\nRequirement already satisfied: packaging in /databricks/python3/lib/python3.10/site-packages (from kagglehub) (21.3)\nRequirement already satisfied: requests in /databricks/python3/lib/python3.10/site-packages (from kagglehub) (2.28.1)\nRequirement already satisfied: pyparsing!=3.0.5,>=2.0.2 in /databricks/python3/lib/python3.10/site-packages (from packaging->kagglehub) (3.0.9)\nRequirement already satisfied: certifi>=2017.4.17 in /databricks/python3/lib/python3.10/site-packages (from requests->kagglehub) (2022.9.14)\nRequirement already satisfied: charset-normalizer<3,>=2 in /databricks/python3/lib/python3.10/site-packages (from requests->kagglehub) (2.0.4)\nRequirement already satisfied: idna<4,>=2.5 in /databricks/python3/lib/python3.10/site-packages (from requests->kagglehub) (3.3)\nRequirement already satisfied: urllib3<1.27,>=1.21.1 in /databricks/python3/lib/python3.10/site-packages (from requests->kagglehub) (1.26.11)\n\u001B[43mNote: you may need to restart the kernel using dbutils.library.restartPython() to use updated packages.\u001B[0m\n"
     ]
    }
   ],
   "source": [
    "%pip install kagglehub\n",
    "import pandas as pd\n",
    "import kagglehub\n",
    "import os"
   ]
  },
  {
   "cell_type": "markdown",
   "metadata": {
    "application/vnd.databricks.v1+cell": {
     "cellMetadata": {},
     "inputWidgets": {},
     "nuid": "6ef7e3ed-c473-4657-a33d-d415572174f0",
     "showTitle": false,
     "title": "--i18n-77f86875-8f35-4c68-a04c-1f99482cc0ce"
    }
   },
   "source": [
    "\n",
    "\n",
    "## Read CSV\n",
    "\n",
    "To determine the regions with the highest total volume of average organic avocado sales, we will use the [avocado prices](https://www.kaggle.com/datasets/neuromusic/avocado-prices) dataset. \n",
    "\n",
    "We have provided the code to read in the data."
   ]
  },
  {
   "cell_type": "code",
   "execution_count": 0,
   "metadata": {
    "application/vnd.databricks.v1+cell": {
     "cellMetadata": {
      "byteLimit": 2048000,
      "rowLimit": 10000
     },
     "inputWidgets": {},
     "nuid": "91569910-dc04-483c-9fb5-5f68a46a7a97",
     "showTitle": false,
     "title": ""
    }
   },
   "outputs": [
    {
     "output_type": "stream",
     "name": "stdout",
     "output_type": "stream",
     "text": [
      "['avocado.csv']\n"
     ]
    }
   ],
   "source": [
    "# adjust data import and read due to update on file source\n",
    "path = kagglehub.dataset_download(\"neuromusic/avocado-prices\")\n",
    "print(os.listdir(path))\n",
    "file_name = 'avocado.csv'\n",
    "file_path = os.path.join(path, file_name)\n",
    "\n",
    "df = pd.read_csv(file_path).drop(\"Unnamed: 0\", axis=1) # drop unnamed index column from data"
   ]
  },
  {
   "cell_type": "markdown",
   "metadata": {
    "application/vnd.databricks.v1+cell": {
     "cellMetadata": {},
     "inputWidgets": {},
     "nuid": "f0b2aeb3-cfae-4157-ba5f-8994cda3c0dc",
     "showTitle": false,
     "title": "--i18n-c6d6129e-db7a-41e5-a14d-077dc501de1d"
    }
   },
   "source": [
    "\n",
    "\n",
    "## Problem 1: Data Analysis\n",
    "\n",
    "Now that you have the DataFrame, you're ready to start doing some analysis. Remember the goal is to determine which regions of the US had the highest average total volume of organic avocado sales in 2018. \n",
    "\n",
    "Filter for on the **`type`** and **`year`** to find organic sales in 2018, and assign the result to **`filtered_df`**."
   ]
  },
  {
   "cell_type": "code",
   "execution_count": 0,
   "metadata": {
    "application/vnd.databricks.v1+cell": {
     "cellMetadata": {
      "byteLimit": 2048000,
      "rowLimit": 10000
     },
     "inputWidgets": {},
     "nuid": "ef4cfac6-a144-4588-a23c-d96b9d7c5751",
     "showTitle": false,
     "title": ""
    }
   },
   "outputs": [
    {
     "output_type": "execute_result",
     "data": {
      "text/html": [
       "<div>\n",
       "<style scoped>\n",
       "    .dataframe tbody tr th:only-of-type {\n",
       "        vertical-align: middle;\n",
       "    }\n",
       "\n",
       "    .dataframe tbody tr th {\n",
       "        vertical-align: top;\n",
       "    }\n",
       "\n",
       "    .dataframe thead th {\n",
       "        text-align: right;\n",
       "    }\n",
       "</style>\n",
       "<table border=\"1\" class=\"dataframe\">\n",
       "  <thead>\n",
       "    <tr style=\"text-align: right;\">\n",
       "      <th></th>\n",
       "      <th>Date</th>\n",
       "      <th>AveragePrice</th>\n",
       "      <th>Total Volume</th>\n",
       "      <th>4046</th>\n",
       "      <th>4225</th>\n",
       "      <th>4770</th>\n",
       "      <th>Total Bags</th>\n",
       "      <th>Small Bags</th>\n",
       "      <th>Large Bags</th>\n",
       "      <th>XLarge Bags</th>\n",
       "      <th>type</th>\n",
       "      <th>year</th>\n",
       "      <th>region</th>\n",
       "    </tr>\n",
       "  </thead>\n",
       "  <tbody>\n",
       "    <tr>\n",
       "      <th>17601</th>\n",
       "      <td>2018-03-25</td>\n",
       "      <td>1.71</td>\n",
       "      <td>2321.82</td>\n",
       "      <td>42.95</td>\n",
       "      <td>272.41</td>\n",
       "      <td>0.00</td>\n",
       "      <td>2006.46</td>\n",
       "      <td>1996.46</td>\n",
       "      <td>10.00</td>\n",
       "      <td>0.0</td>\n",
       "      <td>organic</td>\n",
       "      <td>2018</td>\n",
       "      <td>Albany</td>\n",
       "    </tr>\n",
       "    <tr>\n",
       "      <th>17602</th>\n",
       "      <td>2018-03-18</td>\n",
       "      <td>1.66</td>\n",
       "      <td>3154.45</td>\n",
       "      <td>275.89</td>\n",
       "      <td>297.96</td>\n",
       "      <td>0.00</td>\n",
       "      <td>2580.60</td>\n",
       "      <td>2577.27</td>\n",
       "      <td>3.33</td>\n",
       "      <td>0.0</td>\n",
       "      <td>organic</td>\n",
       "      <td>2018</td>\n",
       "      <td>Albany</td>\n",
       "    </tr>\n",
       "    <tr>\n",
       "      <th>17603</th>\n",
       "      <td>2018-03-11</td>\n",
       "      <td>1.68</td>\n",
       "      <td>2570.52</td>\n",
       "      <td>131.67</td>\n",
       "      <td>229.56</td>\n",
       "      <td>0.00</td>\n",
       "      <td>2209.29</td>\n",
       "      <td>2209.29</td>\n",
       "      <td>0.00</td>\n",
       "      <td>0.0</td>\n",
       "      <td>organic</td>\n",
       "      <td>2018</td>\n",
       "      <td>Albany</td>\n",
       "    </tr>\n",
       "    <tr>\n",
       "      <th>17604</th>\n",
       "      <td>2018-03-04</td>\n",
       "      <td>1.48</td>\n",
       "      <td>3851.30</td>\n",
       "      <td>311.55</td>\n",
       "      <td>296.77</td>\n",
       "      <td>0.00</td>\n",
       "      <td>3242.98</td>\n",
       "      <td>3239.65</td>\n",
       "      <td>3.33</td>\n",
       "      <td>0.0</td>\n",
       "      <td>organic</td>\n",
       "      <td>2018</td>\n",
       "      <td>Albany</td>\n",
       "    </tr>\n",
       "    <tr>\n",
       "      <th>17605</th>\n",
       "      <td>2018-02-25</td>\n",
       "      <td>1.56</td>\n",
       "      <td>5356.63</td>\n",
       "      <td>816.56</td>\n",
       "      <td>532.59</td>\n",
       "      <td>0.00</td>\n",
       "      <td>4007.48</td>\n",
       "      <td>4007.48</td>\n",
       "      <td>0.00</td>\n",
       "      <td>0.0</td>\n",
       "      <td>organic</td>\n",
       "      <td>2018</td>\n",
       "      <td>Albany</td>\n",
       "    </tr>\n",
       "    <tr>\n",
       "      <th>...</th>\n",
       "      <td>...</td>\n",
       "      <td>...</td>\n",
       "      <td>...</td>\n",
       "      <td>...</td>\n",
       "      <td>...</td>\n",
       "      <td>...</td>\n",
       "      <td>...</td>\n",
       "      <td>...</td>\n",
       "      <td>...</td>\n",
       "      <td>...</td>\n",
       "      <td>...</td>\n",
       "      <td>...</td>\n",
       "      <td>...</td>\n",
       "    </tr>\n",
       "    <tr>\n",
       "      <th>18244</th>\n",
       "      <td>2018-02-04</td>\n",
       "      <td>1.63</td>\n",
       "      <td>17074.83</td>\n",
       "      <td>2046.96</td>\n",
       "      <td>1529.20</td>\n",
       "      <td>0.00</td>\n",
       "      <td>13498.67</td>\n",
       "      <td>13066.82</td>\n",
       "      <td>431.85</td>\n",
       "      <td>0.0</td>\n",
       "      <td>organic</td>\n",
       "      <td>2018</td>\n",
       "      <td>WestTexNewMexico</td>\n",
       "    </tr>\n",
       "    <tr>\n",
       "      <th>18245</th>\n",
       "      <td>2018-01-28</td>\n",
       "      <td>1.71</td>\n",
       "      <td>13888.04</td>\n",
       "      <td>1191.70</td>\n",
       "      <td>3431.50</td>\n",
       "      <td>0.00</td>\n",
       "      <td>9264.84</td>\n",
       "      <td>8940.04</td>\n",
       "      <td>324.80</td>\n",
       "      <td>0.0</td>\n",
       "      <td>organic</td>\n",
       "      <td>2018</td>\n",
       "      <td>WestTexNewMexico</td>\n",
       "    </tr>\n",
       "    <tr>\n",
       "      <th>18246</th>\n",
       "      <td>2018-01-21</td>\n",
       "      <td>1.87</td>\n",
       "      <td>13766.76</td>\n",
       "      <td>1191.92</td>\n",
       "      <td>2452.79</td>\n",
       "      <td>727.94</td>\n",
       "      <td>9394.11</td>\n",
       "      <td>9351.80</td>\n",
       "      <td>42.31</td>\n",
       "      <td>0.0</td>\n",
       "      <td>organic</td>\n",
       "      <td>2018</td>\n",
       "      <td>WestTexNewMexico</td>\n",
       "    </tr>\n",
       "    <tr>\n",
       "      <th>18247</th>\n",
       "      <td>2018-01-14</td>\n",
       "      <td>1.93</td>\n",
       "      <td>16205.22</td>\n",
       "      <td>1527.63</td>\n",
       "      <td>2981.04</td>\n",
       "      <td>727.01</td>\n",
       "      <td>10969.54</td>\n",
       "      <td>10919.54</td>\n",
       "      <td>50.00</td>\n",
       "      <td>0.0</td>\n",
       "      <td>organic</td>\n",
       "      <td>2018</td>\n",
       "      <td>WestTexNewMexico</td>\n",
       "    </tr>\n",
       "    <tr>\n",
       "      <th>18248</th>\n",
       "      <td>2018-01-07</td>\n",
       "      <td>1.62</td>\n",
       "      <td>17489.58</td>\n",
       "      <td>2894.77</td>\n",
       "      <td>2356.13</td>\n",
       "      <td>224.53</td>\n",
       "      <td>12014.15</td>\n",
       "      <td>11988.14</td>\n",
       "      <td>26.01</td>\n",
       "      <td>0.0</td>\n",
       "      <td>organic</td>\n",
       "      <td>2018</td>\n",
       "      <td>WestTexNewMexico</td>\n",
       "    </tr>\n",
       "  </tbody>\n",
       "</table>\n",
       "<p>648 rows × 13 columns</p>\n",
       "</div>"
      ],
      "text/plain": [
       "             Date  AveragePrice  Total Volume  ...     type  year            region\n",
       "17601  2018-03-25          1.71       2321.82  ...  organic  2018            Albany\n",
       "17602  2018-03-18          1.66       3154.45  ...  organic  2018            Albany\n",
       "17603  2018-03-11          1.68       2570.52  ...  organic  2018            Albany\n",
       "17604  2018-03-04          1.48       3851.30  ...  organic  2018            Albany\n",
       "17605  2018-02-25          1.56       5356.63  ...  organic  2018            Albany\n",
       "...           ...           ...           ...  ...      ...   ...               ...\n",
       "18244  2018-02-04          1.63      17074.83  ...  organic  2018  WestTexNewMexico\n",
       "18245  2018-01-28          1.71      13888.04  ...  organic  2018  WestTexNewMexico\n",
       "18246  2018-01-21          1.87      13766.76  ...  organic  2018  WestTexNewMexico\n",
       "18247  2018-01-14          1.93      16205.22  ...  organic  2018  WestTexNewMexico\n",
       "18248  2018-01-07          1.62      17489.58  ...  organic  2018  WestTexNewMexico\n",
       "\n",
       "[648 rows x 13 columns]"
      ]
     },
     "execution_count": 25,
     "metadata": {},
     "output_type": "execute_result"
    }
   ],
   "source": [
    "# TODO\n",
    "filtered_df = df[(df[\"type\"] == \"organic\") & (df[\"year\"] == 2018)]\n",
    "filtered_df"
   ]
  },
  {
   "cell_type": "markdown",
   "metadata": {
    "application/vnd.databricks.v1+cell": {
     "cellMetadata": {},
     "inputWidgets": {},
     "nuid": "921c2945-a0d3-4cc1-8c31-10f9b6243876",
     "showTitle": false,
     "title": "--i18n-bf6590ba-46e2-4cf7-aecb-405818023d33"
    }
   },
   "source": [
    "\n",
    "\n",
    "<button onclick=\"myFunction2()\" >Click for Hint</button>\n",
    "\n",
    "<div id=\"myDIV2\" style=\"display: none;\">\n",
    "  Remember to use & for the and operator when creating the boolean array. df[(bool_array) & (bool_array)]\n",
    "</div>\n",
    "<script>\n",
    "function myFunction2() {\n",
    "  var x = document.getElementById(\"myDIV2\");\n",
    "  if (x.style.display === \"none\") {\n",
    "    x.style.display = \"block\";\n",
    "  } else {\n",
    "    x.style.display = \"none\";\n",
    "  }\n",
    "}\n",
    "</script>"
   ]
  },
  {
   "cell_type": "code",
   "execution_count": 0,
   "metadata": {
    "application/vnd.databricks.v1+cell": {
     "cellMetadata": {
      "byteLimit": 2048000,
      "rowLimit": 10000
     },
     "inputWidgets": {},
     "nuid": "3a681b51-e103-4612-a702-61d36ec68836",
     "showTitle": false,
     "title": ""
    }
   },
   "outputs": [
    {
     "output_type": "stream",
     "name": "stdout",
     "output_type": "stream",
     "text": [
      "Test passed!\n"
     ]
    }
   ],
   "source": [
    "assert filtered_df.shape == (648, 13), \"There are not the correct number of rows or columns\"\n",
    "assert filtered_df[\"year\"].min() == 2018, \"Only look at 2018 data\"\n",
    "assert len(filtered_df[filtered_df[\"type\"] == \"conventional\"]) == 0, \"There should be no rows about non-organic avocado sales\"\n",
    "print(\"Test passed!\")"
   ]
  },
  {
   "cell_type": "markdown",
   "metadata": {
    "application/vnd.databricks.v1+cell": {
     "cellMetadata": {},
     "inputWidgets": {},
     "nuid": "0bae2a67-8bfe-4194-bc9f-a54b9a475920",
     "showTitle": false,
     "title": "--i18n-7555f96b-93e7-414a-9064-b0827ecaf1e6"
    }
   },
   "source": [
    "\n",
    "\n",
    "## Problem 2: Find the Regions\n",
    "\n",
    "Now, use **`filtered_df`** to determine the top 10 region with the highest average total volume of organic avocado sales in 2018. \n",
    "* To do this, create a DataFrame using **`filtered_df`** where each row consists of a **`region`** and the mean **`Total Volume`** of organic avocados for that region. \n",
    "* Sort that DataFrame in descending order, and keep the first 10 rows \n",
    "* Assign the output to the **`final_df`** variable"
   ]
  },
  {
   "cell_type": "code",
   "execution_count": 0,
   "metadata": {
    "application/vnd.databricks.v1+cell": {
     "cellMetadata": {
      "byteLimit": 2048000,
      "rowLimit": 10000
     },
     "inputWidgets": {},
     "nuid": "75eec8a5-c331-48fa-8c3e-1f15b11a0c3f",
     "showTitle": false,
     "title": ""
    }
   },
   "outputs": [
    {
     "output_type": "execute_result",
     "data": {
      "text/html": [
       "<div>\n",
       "<style scoped>\n",
       "    .dataframe tbody tr th:only-of-type {\n",
       "        vertical-align: middle;\n",
       "    }\n",
       "\n",
       "    .dataframe tbody tr th {\n",
       "        vertical-align: top;\n",
       "    }\n",
       "\n",
       "    .dataframe thead th {\n",
       "        text-align: right;\n",
       "    }\n",
       "</style>\n",
       "<table border=\"1\" class=\"dataframe\">\n",
       "  <thead>\n",
       "    <tr style=\"text-align: right;\">\n",
       "      <th></th>\n",
       "      <th>Total Volume</th>\n",
       "    </tr>\n",
       "    <tr>\n",
       "      <th>region</th>\n",
       "      <th></th>\n",
       "    </tr>\n",
       "  </thead>\n",
       "  <tbody>\n",
       "    <tr>\n",
       "      <th>TotalUS</th>\n",
       "      <td>1.510488e+06</td>\n",
       "    </tr>\n",
       "    <tr>\n",
       "      <th>Northeast</th>\n",
       "      <td>3.393384e+05</td>\n",
       "    </tr>\n",
       "    <tr>\n",
       "      <th>West</th>\n",
       "      <td>2.549791e+05</td>\n",
       "    </tr>\n",
       "    <tr>\n",
       "      <th>GreatLakes</th>\n",
       "      <td>2.206710e+05</td>\n",
       "    </tr>\n",
       "    <tr>\n",
       "      <th>California</th>\n",
       "      <td>1.914802e+05</td>\n",
       "    </tr>\n",
       "    <tr>\n",
       "      <th>Midsouth</th>\n",
       "      <td>1.829353e+05</td>\n",
       "    </tr>\n",
       "    <tr>\n",
       "      <th>SouthCentral</th>\n",
       "      <td>1.430854e+05</td>\n",
       "    </tr>\n",
       "    <tr>\n",
       "      <th>NewYork</th>\n",
       "      <td>1.389604e+05</td>\n",
       "    </tr>\n",
       "    <tr>\n",
       "      <th>Southeast</th>\n",
       "      <td>1.096506e+05</td>\n",
       "    </tr>\n",
       "    <tr>\n",
       "      <th>LosAngeles</th>\n",
       "      <td>1.026283e+05</td>\n",
       "    </tr>\n",
       "  </tbody>\n",
       "</table>\n",
       "</div>"
      ],
      "text/plain": [
       "              Total Volume\n",
       "region                    \n",
       "TotalUS       1.510488e+06\n",
       "Northeast     3.393384e+05\n",
       "West          2.549791e+05\n",
       "GreatLakes    2.206710e+05\n",
       "California    1.914802e+05\n",
       "Midsouth      1.829353e+05\n",
       "SouthCentral  1.430854e+05\n",
       "NewYork       1.389604e+05\n",
       "Southeast     1.096506e+05\n",
       "LosAngeles    1.026283e+05"
      ]
     },
     "execution_count": 27,
     "metadata": {},
     "output_type": "execute_result"
    }
   ],
   "source": [
    "# ANSWER\n",
    "final_df = filtered_df.groupby([\"region\"])[[\"Total Volume\"]].mean().sort_values([\"Total Volume\"], ascending=False).head(10)\n",
    "final_df"
   ]
  },
  {
   "cell_type": "code",
   "execution_count": 0,
   "metadata": {
    "application/vnd.databricks.v1+cell": {
     "cellMetadata": {
      "byteLimit": 2048000,
      "rowLimit": 10000
     },
     "inputWidgets": {},
     "nuid": "ef88c018-ee00-4781-a68b-4763ee395dbb",
     "showTitle": false,
     "title": ""
    }
   },
   "outputs": [
    {
     "output_type": "stream",
     "name": "stdout",
     "output_type": "stream",
     "text": [
      "Test passed!\n"
     ]
    }
   ],
   "source": [
    "testing_df = final_df.reset_index() if final_df.index.name == \"region\" else final_df\n",
    "assert type(testing_df) == pd.DataFrame, \"final_df should be a DataFrame, make sure it is not a Series. If it is a Series, make sure to use [['Total Volume']] instead of ['Total Volume']\"\n",
    "assert (testing_df.columns == [\"region\", \"Total Volume\"]).all(), \"The only columns should be region and Total Volume. Make sure to use reset_index and that region is not currently the index column\"\n",
    "assert len(testing_df) == 10, \"Only return the top 10 rows\"\n",
    "assert testing_df.iloc[0].values[0] == \"TotalUS\", \"TotalUS should be the on the top row\"\n",
    "assert round(testing_df.iloc[0].values[1], 2) == 1510487.83, \"TotalUS should have an average Total Volume of around 1510488\"\n",
    "assert testing_df.iloc[9].values[0] == \"LosAngeles\", \"LosAngeles should be the on the 10th row\"\n",
    "assert round(testing_df.iloc[9].values[1], 2) == 102628.31, \"LosAngeles should have an average Total Volume of around 102628\"\n",
    "print(\"Test passed!\")"
   ]
  },
  {
   "cell_type": "markdown",
   "metadata": {
    "application/vnd.databricks.v1+cell": {
     "cellMetadata": {},
     "inputWidgets": {},
     "nuid": "9526e86a-85b4-446a-a98a-a7ce1985196a",
     "showTitle": false,
     "title": ""
    }
   },
   "source": [
    "&copy; 2023 Databricks, Inc. All rights reserved.<br/>\n",
    "Apache, Apache Spark, Spark and the Spark logo are trademarks of the <a href=\"https://www.apache.org/\">Apache Software Foundation</a>.<br/>\n",
    "<br/>\n",
    "<a href=\"https://databricks.com/privacy-policy\">Privacy Policy</a> | <a href=\"https://databricks.com/terms-of-use\">Terms of Use</a> | <a href=\"https://help.databricks.com/\">Support</a>"
   ]
  }
 ],
 "metadata": {
  "application/vnd.databricks.v1+notebook": {
   "dashboards": [],
   "environmentMetadata": null,
   "language": "python",
   "notebookMetadata": {
    "pythonIndentUnit": 2
   },
   "notebookName": "ITP 11L - Advanced Pandas Lab",
   "widgets": {}
  }
 },
 "nbformat": 4,
 "nbformat_minor": 0
}

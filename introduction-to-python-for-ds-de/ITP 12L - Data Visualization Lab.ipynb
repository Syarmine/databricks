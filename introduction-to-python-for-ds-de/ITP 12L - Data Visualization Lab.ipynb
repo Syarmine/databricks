{
 "cells": [
  {
   "cell_type": "markdown",
   "metadata": {
    "application/vnd.databricks.v1+cell": {
     "cellMetadata": {},
     "inputWidgets": {},
     "nuid": "31ac9fcd-53a7-4f73-a176-fe0432f79c36",
     "showTitle": false,
     "title": ""
    }
   },
   "source": [
    "\n",
    "<div style=\"text-align: center; line-height: 0; padding-top: 9px;\">\n",
    "  <img src=\"https://databricks.com/wp-content/uploads/2018/03/db-academy-rgb-1200px.png\" alt=\"Databricks Learning\" style=\"width: 600px\">\n",
    "</div>"
   ]
  },
  {
   "cell_type": "markdown",
   "metadata": {
    "application/vnd.databricks.v1+cell": {
     "cellMetadata": {},
     "inputWidgets": {},
     "nuid": "7dd08b35-cb9d-4c29-8185-4ee94f03a851",
     "showTitle": false,
     "title": "--i18n-d6c49d6f-2235-4e65-b012-70bf6850330c"
    }
   },
   "source": [
    "\n",
    "\n",
    "# Data Visualization Lab\n",
    "\n",
    "Let's import **`pandas`** and **`seaborn`**, then load the avocado dataset to perform data visualizations/analyses."
   ]
  },
  {
   "cell_type": "code",
   "execution_count": 0,
   "metadata": {
    "application/vnd.databricks.v1+cell": {
     "cellMetadata": {},
     "inputWidgets": {},
     "nuid": "21f9b1b8-1ca6-485d-9eac-7dbbb187ddd5",
     "showTitle": false,
     "title": ""
    }
   },
   "outputs": [],
   "source": [
    "%run \"../Includes/Classroom-Setup\""
   ]
  },
  {
   "cell_type": "code",
   "execution_count": 0,
   "metadata": {
    "application/vnd.databricks.v1+cell": {
     "cellMetadata": {},
     "inputWidgets": {},
     "nuid": "98485ddd-00df-45f5-9ea8-97bacf456c2f",
     "showTitle": false,
     "title": ""
    }
   },
   "outputs": [],
   "source": [
    "import pandas as pd\n",
    "import seaborn as sns\n",
    "\n",
    "# Set seaborn plot size to be easier to read\n",
    "sns.set(rc = {\"figure.figsize\": (15,8)})"
   ]
  },
  {
   "cell_type": "code",
   "execution_count": 0,
   "metadata": {
    "application/vnd.databricks.v1+cell": {
     "cellMetadata": {},
     "inputWidgets": {},
     "nuid": "9c24db26-a696-414b-b0c5-ced0246dc9f1",
     "showTitle": false,
     "title": ""
    }
   },
   "outputs": [],
   "source": [
    "file_path = f\"{DA.paths.datasets}/avocado/avocado.csv\".replace(\"dbfs:\", \"/dbfs\")\n",
    "# Dropping incorrect index column.\n",
    "df = pd.read_csv(file_path).drop(\"Unnamed: 0\", axis=1) \n",
    "df"
   ]
  },
  {
   "cell_type": "markdown",
   "metadata": {
    "application/vnd.databricks.v1+cell": {
     "cellMetadata": {},
     "inputWidgets": {},
     "nuid": "4612c06d-43b8-4e9c-b5b7-45acbba1ae30",
     "showTitle": false,
     "title": "--i18n-faba5cfc-f9cd-4012-845c-117fb3f184fa"
    }
   },
   "source": [
    "\n",
    "\n",
    "## Problem 1: Databricks Plotting\n",
    "\n",
    "Using the built-in plotting feature in Databricks to plot the average **`Total Volume`** per **`year`**.\n",
    "\n",
    "Remember to use **`display(df)`** to access built-in plotting."
   ]
  },
  {
   "cell_type": "code",
   "execution_count": 0,
   "metadata": {
    "application/vnd.databricks.v1+cell": {
     "cellMetadata": {},
     "inputWidgets": {},
     "nuid": "0e212159-18b0-4f26-b88b-79c5d4760ef5",
     "showTitle": false,
     "title": ""
    }
   },
   "outputs": [],
   "source": [
    "# ANSWER\n",
    "display(df)"
   ]
  },
  {
   "cell_type": "markdown",
   "metadata": {
    "application/vnd.databricks.v1+cell": {
     "cellMetadata": {},
     "inputWidgets": {},
     "nuid": "787cd2dc-de79-4177-9023-2d4e9b2760fb",
     "showTitle": false,
     "title": "--i18n-4c4c04ec-8c7c-4dfe-b680-fc6e5e7a254f"
    }
   },
   "source": [
    "\n",
    "\n",
    "<button onclick=\"myFunction2()\" >Click for Hint</button>\n",
    "\n",
    "<div id=\"myDIV2\" style=\"display: none;\">\n",
    "  Select the bar chart, Plot Options, set the aggregate function to average, and put year as key and Total Volume as value. \n",
    "</div>\n",
    "<script>\n",
    "function myFunction2() {\n",
    "  var x = document.getElementById(\"myDIV2\");\n",
    "  if (x.style.display === \"none\") {\n",
    "    x.style.display = \"block\";\n",
    "  } else {\n",
    "    x.style.display = \"none\";\n",
    "  }\n",
    "}\n",
    "</script>"
   ]
  },
  {
   "cell_type": "markdown",
   "metadata": {
    "application/vnd.databricks.v1+cell": {
     "cellMetadata": {},
     "inputWidgets": {},
     "nuid": "322779fd-d081-4f7a-bbf3-993210d962ed",
     "showTitle": false,
     "title": "--i18n-0ee316c5-f8b7-441c-9326-05eb0e4fac6e"
    }
   },
   "source": [
    "\n",
    "\n",
    "## Problem 2: `pandas` plotting\n",
    "\n",
    "Create a histogram of the **`AveragePrice`** of avocados using the pandas **`.hist()`** method."
   ]
  },
  {
   "cell_type": "code",
   "execution_count": 0,
   "metadata": {
    "application/vnd.databricks.v1+cell": {
     "cellMetadata": {},
     "inputWidgets": {},
     "nuid": "65c2bb4e-a0ea-4da8-8675-1d23dcff6d21",
     "showTitle": false,
     "title": ""
    }
   },
   "outputs": [],
   "source": [
    "# ANSWER\n",
    "df[\"AveragePrice\"].hist()"
   ]
  },
  {
   "cell_type": "markdown",
   "metadata": {
    "application/vnd.databricks.v1+cell": {
     "cellMetadata": {},
     "inputWidgets": {},
     "nuid": "cabafdf5-fa81-4c91-974b-03dfd3e1b3bd",
     "showTitle": false,
     "title": "--i18n-da21fa24-e730-4641-ace0-100da86d2c4f"
    }
   },
   "source": [
    "\n",
    "\n",
    "<button onclick=\"myFunction2()\" >Click for Hint</button>\n",
    "\n",
    "<div id=\"myDIV2\" style=\"display: none;\">\n",
    "  Select the column to make a Series. Then call .hist() on the Series for the column.\n",
    "</div>\n",
    "<script>\n",
    "function myFunction2() {\n",
    "  var x = document.getElementById(\"myDIV2\");\n",
    "  if (x.style.display === \"none\") {\n",
    "    x.style.display = \"block\";\n",
    "  } else {\n",
    "    x.style.display = \"none\";\n",
    "  }\n",
    "}\n",
    "</script>"
   ]
  },
  {
   "cell_type": "markdown",
   "metadata": {
    "application/vnd.databricks.v1+cell": {
     "cellMetadata": {},
     "inputWidgets": {},
     "nuid": "972f3732-a970-489e-aada-def1079a9757",
     "showTitle": false,
     "title": "--i18n-00f37c99-64bb-4b48-b73f-f5b69310645a"
    }
   },
   "source": [
    "\n",
    "\n",
    "## Datetime\n",
    "\n",
    "Unfortunately, our **`Date`** column is represented as an object type, when we want it to be a **`datetime`** type so we can do operations based on time (e.g. plot in chronological order instead of lexicographical order).  \n",
    "\n",
    "Luckily, `pandas` provides a function called [to_datetime()](https://pandas.pydata.org/docs/reference/api/pandas.to_datetime.html?highlight=to_datetime#pandas.to_datetime) that takes in a Series and converts the type to **`datetime`**."
   ]
  },
  {
   "cell_type": "code",
   "execution_count": 0,
   "metadata": {
    "application/vnd.databricks.v1+cell": {
     "cellMetadata": {},
     "inputWidgets": {},
     "nuid": "ac9dd3ef-c5aa-4740-bfd4-b3cf0ab33934",
     "showTitle": false,
     "title": ""
    }
   },
   "outputs": [],
   "source": [
    "# Notice the dtype of Date\n",
    "df.dtypes"
   ]
  },
  {
   "cell_type": "code",
   "execution_count": 0,
   "metadata": {
    "application/vnd.databricks.v1+cell": {
     "cellMetadata": {},
     "inputWidgets": {},
     "nuid": "a9d40d78-2f02-4c48-89d8-15b6d21fcfd6",
     "showTitle": false,
     "title": ""
    }
   },
   "outputs": [],
   "source": [
    "df[\"Date\"] = pd.to_datetime(df[\"Date\"])\n",
    "df.dtypes"
   ]
  },
  {
   "cell_type": "markdown",
   "metadata": {
    "application/vnd.databricks.v1+cell": {
     "cellMetadata": {},
     "inputWidgets": {},
     "nuid": "0b0c05f1-9f2d-43d8-9b1b-48bc7cdfaa52",
     "showTitle": false,
     "title": "--i18n-40b4972b-d755-4c4f-ac64-02a57ca8e9f2"
    }
   },
   "source": [
    "\n",
    "\n",
    "## Problem 3: `seaborn` plotting\n",
    "\n",
    "Using **`seaborn`**, which is aliased as **`sns`** from above, create a scatter plot for the Total Volume of organic avocado sales over time for all of the US (e.g. filter on **`region`** for the **`TotalUS`** region & on **`type`** for just **`organic`**). Select **`Date`** as the x-axis."
   ]
  },
  {
   "cell_type": "code",
   "execution_count": 0,
   "metadata": {
    "application/vnd.databricks.v1+cell": {
     "cellMetadata": {},
     "inputWidgets": {},
     "nuid": "ccdfa25f-2a06-46fe-bc9d-d160c929a41a",
     "showTitle": false,
     "title": ""
    }
   },
   "outputs": [],
   "source": [
    "# ANSWER\n",
    "plot_df = df[(df[\"region\"] == \"TotalUS\") & (df[\"type\"] == \"organic\")]\n",
    "sns.scatterplot(data=plot_df, x=\"Date\", y=\"Total Volume\")"
   ]
  },
  {
   "cell_type": "markdown",
   "metadata": {
    "application/vnd.databricks.v1+cell": {
     "cellMetadata": {},
     "inputWidgets": {},
     "nuid": "5abe16b0-a5d5-4596-a5c0-4001eb63a2bb",
     "showTitle": false,
     "title": "--i18n-47287cb5-ea6b-43bd-ac47-f84d5355a1a3"
    }
   },
   "source": [
    "\n",
    "\n",
    "<button onclick=\"myFunction2()\" >Click for Hint</button>\n",
    "\n",
    "<div id=\"myDIV2\" style=\"display: none;\">\n",
    "  Recall the seaborn plot function looks like this: sns.scatterplot(data=, x=, y=). Create a filtered DataFrame to pass to this with the region and type we want.\n",
    "</div>\n",
    "<script>\n",
    "function myFunction2() {\n",
    "  var x = document.getElementById(\"myDIV2\");\n",
    "  if (x.style.display === \"none\") {\n",
    "    x.style.display = \"block\";\n",
    "  } else {\n",
    "    x.style.display = \"none\";\n",
    "  }\n",
    "}\n",
    "</script>"
   ]
  },
  {
   "cell_type": "markdown",
   "metadata": {
    "application/vnd.databricks.v1+cell": {
     "cellMetadata": {},
     "inputWidgets": {},
     "nuid": "33b69f28-f583-4e8b-b10f-7c3c5aaf5ca4",
     "showTitle": false,
     "title": "--i18n-4fd56628-9c66-44a8-9b2d-bad0552fb619"
    }
   },
   "source": [
    "\n",
    "\n",
    "## Problem 4: What about conventional avocados?\n",
    "\n",
    "Create the same scatter plot except with conventional avocados instead of organic ones. What differences do you notice between the two? Notice the axis scales."
   ]
  },
  {
   "cell_type": "code",
   "execution_count": 0,
   "metadata": {
    "application/vnd.databricks.v1+cell": {
     "cellMetadata": {},
     "inputWidgets": {},
     "nuid": "e3390f55-ac53-4342-b9b9-91d65e839db1",
     "showTitle": false,
     "title": ""
    }
   },
   "outputs": [],
   "source": [
    "# ANSWER\n",
    "d = df[(df[\"region\"] == \"TotalUS\") & (df[\"type\"] == \"conventional\")]\n",
    "sns.scatterplot(data=d, x=\"Date\", y=\"Total Volume\")"
   ]
  },
  {
   "cell_type": "markdown",
   "metadata": {
    "application/vnd.databricks.v1+cell": {
     "cellMetadata": {},
     "inputWidgets": {},
     "nuid": "fbb5a118-01fe-4dd2-9e2b-468797b3add8",
     "showTitle": false,
     "title": "--i18n-2e5c4b7b-0b50-41f0-8936-e407defce6dd"
    }
   },
   "source": [
    "\n",
    "\n",
    "<button onclick=\"myFunction2()\" >Click for Hint</button>\n",
    "\n",
    "<div id=\"myDIV2\" style=\"display: none;\">\n",
    "  Use the same code as before but make sure to filter with df[\"type\"] == \"conventional\" this time\n",
    "</div>\n",
    "<script>\n",
    "function myFunction2() {\n",
    "  var x = document.getElementById(\"myDIV2\");\n",
    "  if (x.style.display === \"none\") {\n",
    "    x.style.display = \"block\";\n",
    "  } else {\n",
    "    x.style.display = \"none\";\n",
    "  }\n",
    "}\n",
    "</script>"
   ]
  },
  {
   "cell_type": "markdown",
   "metadata": {
    "application/vnd.databricks.v1+cell": {
     "cellMetadata": {},
     "inputWidgets": {},
     "nuid": "7ddad84c-456c-4996-a66b-185f0f9294ed",
     "showTitle": false,
     "title": ""
    }
   },
   "source": [
    "&copy; 2023 Databricks, Inc. All rights reserved.<br/>\n",
    "Apache, Apache Spark, Spark and the Spark logo are trademarks of the <a href=\"https://www.apache.org/\">Apache Software Foundation</a>.<br/>\n",
    "<br/>\n",
    "<a href=\"https://databricks.com/privacy-policy\">Privacy Policy</a> | <a href=\"https://databricks.com/terms-of-use\">Terms of Use</a> | <a href=\"https://help.databricks.com/\">Support</a>"
   ]
  }
 ],
 "metadata": {
  "application/vnd.databricks.v1+notebook": {
   "dashboards": [],
   "environmentMetadata": null,
   "language": "python",
   "notebookMetadata": {
    "pythonIndentUnit": 2
   },
   "notebookName": "ITP 12L - Data Visualization Lab",
   "widgets": {}
  }
 },
 "nbformat": 4,
 "nbformat_minor": 0
}

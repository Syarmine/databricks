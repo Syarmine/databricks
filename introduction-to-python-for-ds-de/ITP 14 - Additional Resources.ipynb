{
 "cells": [
  {
   "cell_type": "markdown",
   "metadata": {
    "application/vnd.databricks.v1+cell": {
     "cellMetadata": {},
     "inputWidgets": {},
     "nuid": "dd7f555f-afbd-43dd-a4af-a1555a2403dc",
     "showTitle": false,
     "title": ""
    }
   },
   "source": [
    "\n",
    "<div style=\"text-align: center; line-height: 0; padding-top: 9px;\">\n",
    "  <img src=\"https://databricks.com/wp-content/uploads/2018/03/db-academy-rgb-1200px.png\" alt=\"Databricks Learning\" style=\"width: 600px\">\n",
    "</div>"
   ]
  },
  {
   "cell_type": "markdown",
   "metadata": {
    "application/vnd.databricks.v1+cell": {
     "cellMetadata": {},
     "inputWidgets": {},
     "nuid": "25fd6032-cd96-4e4a-a889-03535a7efda5",
     "showTitle": false,
     "title": "--i18n-b727a43d-1c18-45fd-839f-48e76d96acba"
    }
   },
   "source": [
    "\n",
    "\n",
    "# Additional Resources\n",
    "\n",
    "## ![Spark Logo Tiny](https://files.training.databricks.com/images/105/logo_spark_tiny.png) In this lesson you:<br>\n",
    "\n",
    "- Explore additional resources for continuing your python and data science journey"
   ]
  },
  {
   "cell_type": "markdown",
   "metadata": {
    "application/vnd.databricks.v1+cell": {
     "cellMetadata": {},
     "inputWidgets": {},
     "nuid": "13d015dd-5ea4-4f43-bb96-e869bdcfdb66",
     "showTitle": false,
     "title": "--i18n-76e495f5-b60b-40f4-8d17-35fd4c08fe62"
    }
   },
   "source": [
    "\n",
    "\n",
    "### Continuing with Python\n",
    "\n",
    "Congratulations for making it this far! This course just scratched the surface of what's possible with python and data analysis. To continue your journey, take a look at the following resources. [You can also check out more courses by Databricks.](https://academy.databricks.com)\n",
    "\n",
    "For continuing with python:\n",
    "\n",
    "- [Introduction to Computational Thinking and Data Science](https://ocw.mit.edu/courses/6-0002-introduction-to-computational-thinking-and-data-science-fall-2016/) is MIT's introduction programming class. [It also has an accompanying book by John Guttag](https://www.amazon.com/Introduction-Computation-Programming-Using-Python/dp/0262529629/ref=sr_1_1?crid=36AMZ24HWKRMQ1). Both are excellent introductions to python\n",
    "- [Leet Code](https://leetcode.com/) is a great resource for practicing coding problems\n",
    "- [Fluent Python](https://www.oreilly.com/library/view/fluent-python/9781491946237/) by Luciano Ramalho is a good introduction to python suitable for beginners\n",
    "\n",
    "For continuing with data analysis and data science:\n",
    "\n",
    "- [Python for Data Analysis](https://www.oreilly.com/library/view/python-for-data/9781449323592/) was written by Wes McKinney, the developer of `pandas`. It's a great way to deepen your understanding of scientific programming\n",
    "- [fast.ai](https://www.fast.ai/) offers industry standard, free classes that introduce you to neural networks\n",
    "- [Deep Learning for Coders with fastai and PyTorch](https://www.oreilly.com/library/view/deep-learning-for/9781492045519/) is written by Jeremy Howard and Sylvain Gugger, developers of `fastai`\n",
    "- [Kaggle](https://www.kaggle.com/) is an online competition website for data scientists. Highly ranked players never have to worry about finding a job :-)\n",
    "- [Deep Learning with Python](https://www.oreilly.com/library/view/deep-learning-with/9781617296864/) was written by Francois Chollet, the original developer of the `keras` API for the neural network library `tensorflow`"
   ]
  },
  {
   "cell_type": "markdown",
   "metadata": {
    "application/vnd.databricks.v1+cell": {
     "cellMetadata": {},
     "inputWidgets": {},
     "nuid": "94ea5d11-61a7-4273-bc76-de47bacba6cd",
     "showTitle": false,
     "title": ""
    }
   },
   "source": [
    "&copy; 2023 Databricks, Inc. All rights reserved.<br/>\n",
    "Apache, Apache Spark, Spark and the Spark logo are trademarks of the <a href=\"https://www.apache.org/\">Apache Software Foundation</a>.<br/>\n",
    "<br/>\n",
    "<a href=\"https://databricks.com/privacy-policy\">Privacy Policy</a> | <a href=\"https://databricks.com/terms-of-use\">Terms of Use</a> | <a href=\"https://help.databricks.com/\">Support</a>"
   ]
  }
 ],
 "metadata": {
  "application/vnd.databricks.v1+notebook": {
   "dashboards": [],
   "environmentMetadata": null,
   "language": "python",
   "notebookMetadata": {
    "pythonIndentUnit": 2
   },
   "notebookName": "ITP 14 - Additional Resources",
   "widgets": {}
  }
 },
 "nbformat": 4,
 "nbformat_minor": 0
}
